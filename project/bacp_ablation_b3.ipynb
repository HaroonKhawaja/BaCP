{
 "cells": [
  {
   "cell_type": "markdown",
   "id": "f4923879",
   "metadata": {},
   "source": [
    "# BaCP Ablation B3: Supervised vs. Self-Supervised Contrastive Loss Contribution"
   ]
  },
  {
   "cell_type": "code",
   "execution_count": 1,
   "id": "167e615b",
   "metadata": {},
   "outputs": [
    {
     "name": "stderr",
     "output_type": "stream",
     "text": [
      "/home/ubuntu/.local/lib/python3.10/site-packages/tqdm/auto.py:21: TqdmWarning: IProgress not found. Please update jupyter and ipywidgets. See https://ipywidgets.readthedocs.io/en/stable/user_install.html\n",
      "  from .autonotebook import tqdm as notebook_tqdm\n"
     ]
    }
   ],
   "source": [
    "from bacp import BaCPTrainer, BaCPTrainingArguments\n",
    "from trainer import Trainer, TrainingArguments\n",
    "from utils import print_statistics, get_device, get_num_workers, print_dynamic_lambdas_statistics, load_object, save_object\n",
    "from constants import *"
   ]
  },
  {
   "cell_type": "code",
   "execution_count": 2,
   "id": "e2a64972",
   "metadata": {},
   "outputs": [
    {
     "name": "stdout",
     "output_type": "stream",
     "text": [
      "Using device: cuda\n",
      "Using 288 workers\n"
     ]
    }
   ],
   "source": [
    "MODEL_NAME = 'resnet50'\n",
    "MODEL_TASK = 'cifar10'\n",
    "FINETUNED_WEIGHTS = './research/resnet50/cifar10/resnet50_cifar10_baseline.pt'\n",
    "TRAIN = False\n",
    "DEVICE = get_device()\n",
    "NUM_WORKERS = get_num_workers()\n",
    "print(\"Using device:\", DEVICE)\n",
    "print(\"Using\", NUM_WORKERS, \"workers\")"
   ]
  },
  {
   "cell_type": "markdown",
   "id": "5af42d04",
   "metadata": {},
   "source": [
    "## Baseline Check"
   ]
  },
  {
   "cell_type": "code",
   "execution_count": 3,
   "id": "a95fb69a",
   "metadata": {},
   "outputs": [
    {
     "name": "stdout",
     "output_type": "stream",
     "text": [
      "[TRAINER] Image size: 32\n",
      "[TRAINER] Initialized models\n",
      "[TRAINER] Optimizer type w/ learning rate: (sgd, 0.01)\n",
      "[CV DATALOADERS] Loaded cifar10 with splits: ['train', 'validation', 'test']\n",
      "[TRAINER] Data Initialized for model task: cifar10\n",
      "[TRAINER] Batch size: 512\n",
      "[TRAINER] Number of dataloders: 3\n",
      "[TRAINER] Linear scheduler initialized with warmup steps: 830 and total steps: 8300\n",
      "[TRAINER] Pruning not initialized\n",
      "[TRAINER] Saving model to: ./research/resnet50/cifar10/resnet50_cifar10_baseline.pt\n",
      "[TRAINER] Loading weights: ./research/resnet50/cifar10/resnet50_cifar10_baseline.pt\n",
      "[TRAINER] Weights loaded successfully\n",
      "[TRAINER] Model Sparsity: 0.0\n"
     ]
    },
    {
     "name": "stderr",
     "output_type": "stream",
     "text": [
      "                                                           "
     ]
    },
    {
     "name": "stdout",
     "output_type": "stream",
     "text": [
      "\n",
      "============================================================\n",
      "TRAINING STATISTICS SUMMARY\n",
      "============================================================\n",
      "\n",
      "Performance Metrics:\n",
      "------------------------------\n",
      "  Accuracy:     93.02%\n",
      "\n",
      "Model Information:\n",
      "------------------------------\n",
      "  Total Parameters:     23,520,842\n",
      "  Trainable Parameters: 23,520,842\n",
      "\n",
      "Training Configuration:\n",
      "------------------------------\n",
      "  Model:                resnet50\n",
      "  Task:                 cifar10\n",
      "  Learning Type:        baseline\n",
      "  Batch Size:           512\n",
      "  Learning Rate:        0.01\n",
      "  Optimizer:            sgd\n",
      "  Epochs:               100\n",
      "\n",
      "System Information:\n",
      "------------------------------\n",
      "  Device:               cuda\n",
      "  Mixed Precision:      True\n",
      "  Workers:              24\n",
      "\n",
      "============================================================\n"
     ]
    },
    {
     "name": "stderr",
     "output_type": "stream",
     "text": [
      "\r"
     ]
    }
   ],
   "source": [
    "training_args = TrainingArguments(\n",
    "    model_name=MODEL_NAME,\n",
    "    model_task=MODEL_TASK,\n",
    "    batch_size=BATCH_SIZE_CNN,\n",
    "    optimizer_type_and_lr=('sgd', 0.01),\n",
    "    scheduler_type='linear_with_warmup',\n",
    "    epochs=100,\n",
    "    learning_type=\"baseline\",\n",
    "    patience=50,\n",
    "    db=False,\n",
    ")\n",
    "trainer = Trainer(training_args=training_args)\n",
    "metrics = trainer.evaluate()\n",
    "print_statistics(metrics, trainer)"
   ]
  },
  {
   "cell_type": "markdown",
   "id": "ccbec3b7",
   "metadata": {},
   "source": [
    "## BaCP"
   ]
  },
  {
   "cell_type": "code",
   "execution_count": 5,
   "id": "77bb9507",
   "metadata": {},
   "outputs": [
    {
     "name": "stdout",
     "output_type": "stream",
     "text": [
      "================================================================================\n",
      "Disabling self-supervised contrastive loss for this training cycle.\n",
      "================================================================================\n"
     ]
    },
    {
     "name": "stdout",
     "output_type": "stream",
     "text": [
      "[TRAINER] Image size: 32\n",
      "[ERROR] Could not load weights: ./research/resnet50/cifar10/resnet50_cifar10_baseline.pt\n",
      "[ERROR] Attempting partial load\n",
      "[TRAINER] Weights loaded successfully\n",
      "[TRAINER] Initialized BaCP models\n",
      "[TRAINER] Optimizer type w/ learning rate: (sgd, 0.1)\n",
      "[TRAINER] No scheduler initialized\n",
      "[CV DATALOADERS] Loaded cifar10 with splits: ['train', 'validation', 'test']\n",
      "[TRAINER] Data Initialized for model task: cifar10\n",
      "[TRAINER] Batch size: 512\n",
      "[TRAINER] Number of dataloders: 3\n",
      "[TRAINER] Pruning initialized\n",
      "[TRAINER] Pruning type: magnitude_pruning\n",
      "[TRAINER] Target sparsity: 0.95\n",
      "[TRAINER] Sparsity scheduler: cubic\n",
      "[TRAINER] Pruning epochs: 5\n",
      "[TRAINER] Current sparsity: 0.0000\n",
      "[TRAINER] Saving model to: ./research/resnet50/cifar10/resnet50_cifar10_magnitude_pruning_0.95_bacp_pruning_b3.pt\n"
     ]
    },
    {
     "name": "stderr",
     "output_type": "stream",
     "text": [
      "Training Epoch [1/5]:   0%|          | 0/83 [00:00<?, ?it/s]"
     ]
    },
    {
     "name": "stdout",
     "output_type": "stream",
     "text": [
      "\n",
      "[Pruner] Cubic Sparsity ratio increased to 0.464.\n",
      "\n"
     ]
    },
    {
     "name": "stderr",
     "output_type": "stream",
     "text": [
      "                                                                                                                                         \r"
     ]
    },
    {
     "name": "stdout",
     "output_type": "stream",
     "text": [
      "Epoch [1/5]: Avg Total Loss: 7.4489 | Avg PrC Loss: 3.5383 | Avg SnC Loss: 0.0000 | Avg FiC Loss: 3.5503 | Avg CE Loss: 0.3603 | Model Sparsity: 0.4636\n",
      "\n",
      "[BaCP] weights saved!\n"
     ]
    },
    {
     "name": "stderr",
     "output_type": "stream",
     "text": [
      "                                                                                                                                            \r"
     ]
    },
    {
     "name": "stdout",
     "output_type": "stream",
     "text": [
      "Retraining Epoch [1/10]: Avg Total Loss: 6.7209 | Avg PrC Loss: 3.4658 | Avg SnC Loss: 0.0000 | Avg FiC Loss: 3.0877 | Avg CE Loss: 0.1674 | Model Sparsity: 0.4636\n",
      "\n"
     ]
    },
    {
     "name": "stderr",
     "output_type": "stream",
     "text": [
      "                                                                                                                                             \r"
     ]
    },
    {
     "name": "stdout",
     "output_type": "stream",
     "text": [
      "Retraining Epoch [2/10]: Avg Total Loss: 6.5307 | Avg PrC Loss: 3.4501 | Avg SnC Loss: 0.0000 | Avg FiC Loss: 2.9605 | Avg CE Loss: 0.1201 | Model Sparsity: 0.4636\n",
      "\n"
     ]
    },
    {
     "name": "stderr",
     "output_type": "stream",
     "text": [
      "                                                                                                                                             \r"
     ]
    },
    {
     "name": "stdout",
     "output_type": "stream",
     "text": [
      "Retraining Epoch [3/10]: Avg Total Loss: 6.4599 | Avg PrC Loss: 3.4411 | Avg SnC Loss: 0.0000 | Avg FiC Loss: 2.9212 | Avg CE Loss: 0.0976 | Model Sparsity: 0.4636\n",
      "\n"
     ]
    },
    {
     "name": "stderr",
     "output_type": "stream",
     "text": [
      "                                                                                                                                             \r"
     ]
    },
    {
     "name": "stdout",
     "output_type": "stream",
     "text": [
      "Retraining Epoch [4/10]: Avg Total Loss: 6.4121 | Avg PrC Loss: 3.4350 | Avg SnC Loss: 0.0000 | Avg FiC Loss: 2.8933 | Avg CE Loss: 0.0839 | Model Sparsity: 0.4636\n",
      "\n"
     ]
    },
    {
     "name": "stderr",
     "output_type": "stream",
     "text": [
      "                                                                                                                                             \r"
     ]
    },
    {
     "name": "stdout",
     "output_type": "stream",
     "text": [
      "Retraining Epoch [5/10]: Avg Total Loss: 6.3825 | Avg PrC Loss: 3.4301 | Avg SnC Loss: 0.0000 | Avg FiC Loss: 2.8765 | Avg CE Loss: 0.0758 | Model Sparsity: 0.4636\n",
      "\n"
     ]
    },
    {
     "name": "stderr",
     "output_type": "stream",
     "text": [
      "                                                                                                                                             \r"
     ]
    },
    {
     "name": "stdout",
     "output_type": "stream",
     "text": [
      "Retraining Epoch [6/10]: Avg Total Loss: 6.3650 | Avg PrC Loss: 3.4275 | Avg SnC Loss: 0.0000 | Avg FiC Loss: 2.8665 | Avg CE Loss: 0.0709 | Model Sparsity: 0.4636\n",
      "\n"
     ]
    },
    {
     "name": "stderr",
     "output_type": "stream",
     "text": [
      "                                                                                                                                             \r"
     ]
    },
    {
     "name": "stdout",
     "output_type": "stream",
     "text": [
      "Retraining Epoch [7/10]: Avg Total Loss: 6.3566 | Avg PrC Loss: 3.4268 | Avg SnC Loss: 0.0000 | Avg FiC Loss: 2.8615 | Avg CE Loss: 0.0683 | Model Sparsity: 0.4636\n",
      "\n"
     ]
    },
    {
     "name": "stderr",
     "output_type": "stream",
     "text": [
      "                                                                                                                                             \r"
     ]
    },
    {
     "name": "stdout",
     "output_type": "stream",
     "text": [
      "Retraining Epoch [8/10]: Avg Total Loss: 6.3481 | Avg PrC Loss: 3.4243 | Avg SnC Loss: 0.0000 | Avg FiC Loss: 2.8568 | Avg CE Loss: 0.0670 | Model Sparsity: 0.4636\n",
      "\n"
     ]
    },
    {
     "name": "stderr",
     "output_type": "stream",
     "text": [
      "                                                                                                                                             \r"
     ]
    },
    {
     "name": "stdout",
     "output_type": "stream",
     "text": [
      "Retraining Epoch [9/10]: Avg Total Loss: 6.3418 | Avg PrC Loss: 3.4225 | Avg SnC Loss: 0.0000 | Avg FiC Loss: 2.8554 | Avg CE Loss: 0.0639 | Model Sparsity: 0.4636\n",
      "\n"
     ]
    },
    {
     "name": "stderr",
     "output_type": "stream",
     "text": [
      "                                                                                                                                              \r"
     ]
    },
    {
     "name": "stdout",
     "output_type": "stream",
     "text": [
      "Retraining Epoch [10/10]: Avg Total Loss: 6.3366 | Avg PrC Loss: 3.4219 | Avg SnC Loss: 0.0000 | Avg FiC Loss: 2.8512 | Avg CE Loss: 0.0635 | Model Sparsity: 0.4636\n",
      "\n"
     ]
    },
    {
     "name": "stderr",
     "output_type": "stream",
     "text": [
      "Training Epoch [2/5]:   0%|          | 0/83 [00:00<?, ?it/s]"
     ]
    },
    {
     "name": "stdout",
     "output_type": "stream",
     "text": [
      "\n",
      "[Pruner] Cubic Sparsity ratio increased to 0.745.\n",
      "\n"
     ]
    },
    {
     "name": "stderr",
     "output_type": "stream",
     "text": [
      "                                                                                                                                             \r"
     ]
    },
    {
     "name": "stdout",
     "output_type": "stream",
     "text": [
      "Epoch [2/5]: Avg Total Loss: 8.9345 | Avg PrC Loss: 3.4529 | Avg SnC Loss: 2.5663 | Avg FiC Loss: 2.8448 | Avg CE Loss: 0.0705 | Model Sparsity: 0.7448\n",
      "\n",
      "[BaCP] weights saved!\n"
     ]
    },
    {
     "name": "stderr",
     "output_type": "stream",
     "text": [
      "                                                                                                                                                \r"
     ]
    },
    {
     "name": "stdout",
     "output_type": "stream",
     "text": [
      "Retraining Epoch [1/10]: Avg Total Loss: 8.9388 | Avg PrC Loss: 3.4520 | Avg SnC Loss: 2.5696 | Avg FiC Loss: 2.8465 | Avg CE Loss: 0.0706 | Model Sparsity: 0.7448\n",
      "\n",
      "[BaCP] weights saved!\n"
     ]
    },
    {
     "name": "stderr",
     "output_type": "stream",
     "text": [
      "                                                                                                                                                \r"
     ]
    },
    {
     "name": "stdout",
     "output_type": "stream",
     "text": [
      "Retraining Epoch [2/10]: Avg Total Loss: 8.9224 | Avg PrC Loss: 3.4520 | Avg SnC Loss: 2.5635 | Avg FiC Loss: 2.8389 | Avg CE Loss: 0.0681 | Model Sparsity: 0.7448\n",
      "\n"
     ]
    },
    {
     "name": "stderr",
     "output_type": "stream",
     "text": [
      "                                                                                                                                                \r"
     ]
    },
    {
     "name": "stdout",
     "output_type": "stream",
     "text": [
      "Retraining Epoch [3/10]: Avg Total Loss: 8.9128 | Avg PrC Loss: 3.4518 | Avg SnC Loss: 2.5588 | Avg FiC Loss: 2.8361 | Avg CE Loss: 0.0661 | Model Sparsity: 0.7448\n",
      "\n"
     ]
    },
    {
     "name": "stderr",
     "output_type": "stream",
     "text": [
      "                                                                                                                                                \r"
     ]
    },
    {
     "name": "stdout",
     "output_type": "stream",
     "text": [
      "Retraining Epoch [4/10]: Avg Total Loss: 8.9162 | Avg PrC Loss: 3.4503 | Avg SnC Loss: 2.5606 | Avg FiC Loss: 2.8384 | Avg CE Loss: 0.0668 | Model Sparsity: 0.7448\n",
      "\n",
      "[BaCP] weights saved!\n"
     ]
    },
    {
     "name": "stderr",
     "output_type": "stream",
     "text": [
      "                                                                                                                                                \r"
     ]
    },
    {
     "name": "stdout",
     "output_type": "stream",
     "text": [
      "Retraining Epoch [5/10]: Avg Total Loss: 8.9077 | Avg PrC Loss: 3.4499 | Avg SnC Loss: 2.5574 | Avg FiC Loss: 2.8340 | Avg CE Loss: 0.0663 | Model Sparsity: 0.7448\n",
      "\n"
     ]
    },
    {
     "name": "stderr",
     "output_type": "stream",
     "text": [
      "                                                                                                                                                \r"
     ]
    },
    {
     "name": "stdout",
     "output_type": "stream",
     "text": [
      "Retraining Epoch [6/10]: Avg Total Loss: 8.9039 | Avg PrC Loss: 3.4487 | Avg SnC Loss: 2.5566 | Avg FiC Loss: 2.8330 | Avg CE Loss: 0.0657 | Model Sparsity: 0.7448\n",
      "\n"
     ]
    },
    {
     "name": "stderr",
     "output_type": "stream",
     "text": [
      "                                                                                                                                                \r"
     ]
    },
    {
     "name": "stdout",
     "output_type": "stream",
     "text": [
      "Retraining Epoch [7/10]: Avg Total Loss: 8.8910 | Avg PrC Loss: 3.4482 | Avg SnC Loss: 2.5525 | Avg FiC Loss: 2.8274 | Avg CE Loss: 0.0629 | Model Sparsity: 0.7448\n",
      "\n"
     ]
    },
    {
     "name": "stderr",
     "output_type": "stream",
     "text": [
      "                                                                                                                                                \r"
     ]
    },
    {
     "name": "stdout",
     "output_type": "stream",
     "text": [
      "Retraining Epoch [8/10]: Avg Total Loss: 8.9030 | Avg PrC Loss: 3.4492 | Avg SnC Loss: 2.5564 | Avg FiC Loss: 2.8316 | Avg CE Loss: 0.0657 | Model Sparsity: 0.7448\n",
      "\n",
      "[BaCP] weights saved!\n"
     ]
    },
    {
     "name": "stderr",
     "output_type": "stream",
     "text": [
      "                                                                                                                                                \r"
     ]
    },
    {
     "name": "stdout",
     "output_type": "stream",
     "text": [
      "Retraining Epoch [9/10]: Avg Total Loss: 8.9040 | Avg PrC Loss: 3.4491 | Avg SnC Loss: 2.5563 | Avg FiC Loss: 2.8322 | Avg CE Loss: 0.0665 | Model Sparsity: 0.7448\n",
      "\n",
      "[BaCP] weights saved!\n"
     ]
    },
    {
     "name": "stderr",
     "output_type": "stream",
     "text": [
      "                                                                                                                                                 \r"
     ]
    },
    {
     "name": "stdout",
     "output_type": "stream",
     "text": [
      "Retraining Epoch [10/10]: Avg Total Loss: 8.9114 | Avg PrC Loss: 3.4489 | Avg SnC Loss: 2.5600 | Avg FiC Loss: 2.8349 | Avg CE Loss: 0.0676 | Model Sparsity: 0.7448\n",
      "\n",
      "[BaCP] weights saved!\n"
     ]
    },
    {
     "name": "stderr",
     "output_type": "stream",
     "text": [
      "Training Epoch [3/5]:   0%|          | 0/83 [00:00<?, ?it/s]"
     ]
    },
    {
     "name": "stdout",
     "output_type": "stream",
     "text": [
      "\n",
      "[Pruner] Cubic Sparsity ratio increased to 0.889.\n",
      "\n"
     ]
    },
    {
     "name": "stderr",
     "output_type": "stream",
     "text": [
      "                                                                                                                                             \r"
     ]
    },
    {
     "name": "stdout",
     "output_type": "stream",
     "text": [
      "Epoch [3/5]: Avg Total Loss: 11.4688 | Avg PrC Loss: 3.4766 | Avg SnC Loss: 5.0695 | Avg FiC Loss: 2.8410 | Avg CE Loss: 0.0817 | Model Sparsity: 0.8892\n",
      "\n",
      "[BaCP] weights saved!\n"
     ]
    },
    {
     "name": "stderr",
     "output_type": "stream",
     "text": [
      "                                                                                                                                                \r"
     ]
    },
    {
     "name": "stdout",
     "output_type": "stream",
     "text": [
      "Retraining Epoch [1/10]: Avg Total Loss: 11.4526 | Avg PrC Loss: 3.4737 | Avg SnC Loss: 5.0627 | Avg FiC Loss: 2.8378 | Avg CE Loss: 0.0785 | Model Sparsity: 0.8892\n",
      "\n"
     ]
    },
    {
     "name": "stderr",
     "output_type": "stream",
     "text": [
      "                                                                                                                                                \r"
     ]
    },
    {
     "name": "stdout",
     "output_type": "stream",
     "text": [
      "Retraining Epoch [2/10]: Avg Total Loss: 11.4366 | Avg PrC Loss: 3.4734 | Avg SnC Loss: 5.0539 | Avg FiC Loss: 2.8337 | Avg CE Loss: 0.0757 | Model Sparsity: 0.8892\n",
      "\n"
     ]
    },
    {
     "name": "stderr",
     "output_type": "stream",
     "text": [
      "                                                                                                                                                \r"
     ]
    },
    {
     "name": "stdout",
     "output_type": "stream",
     "text": [
      "Retraining Epoch [3/10]: Avg Total Loss: 11.4288 | Avg PrC Loss: 3.4730 | Avg SnC Loss: 5.0499 | Avg FiC Loss: 2.8321 | Avg CE Loss: 0.0738 | Model Sparsity: 0.8892\n",
      "\n"
     ]
    },
    {
     "name": "stderr",
     "output_type": "stream",
     "text": [
      "                                                                                                                                                \r"
     ]
    },
    {
     "name": "stdout",
     "output_type": "stream",
     "text": [
      "Retraining Epoch [4/10]: Avg Total Loss: 11.4218 | Avg PrC Loss: 3.4732 | Avg SnC Loss: 5.0463 | Avg FiC Loss: 2.8301 | Avg CE Loss: 0.0722 | Model Sparsity: 0.8892\n",
      "\n"
     ]
    },
    {
     "name": "stderr",
     "output_type": "stream",
     "text": [
      "                                                                                                                                                \r"
     ]
    },
    {
     "name": "stdout",
     "output_type": "stream",
     "text": [
      "Retraining Epoch [5/10]: Avg Total Loss: 11.4105 | Avg PrC Loss: 3.4722 | Avg SnC Loss: 5.0391 | Avg FiC Loss: 2.8276 | Avg CE Loss: 0.0716 | Model Sparsity: 0.8892\n",
      "\n"
     ]
    },
    {
     "name": "stderr",
     "output_type": "stream",
     "text": [
      "                                                                                                                                                \r"
     ]
    },
    {
     "name": "stdout",
     "output_type": "stream",
     "text": [
      "Retraining Epoch [6/10]: Avg Total Loss: 11.4130 | Avg PrC Loss: 3.4725 | Avg SnC Loss: 5.0408 | Avg FiC Loss: 2.8293 | Avg CE Loss: 0.0705 | Model Sparsity: 0.8892\n",
      "\n",
      "[BaCP] weights saved!\n"
     ]
    },
    {
     "name": "stderr",
     "output_type": "stream",
     "text": [
      "                                                                                                                                                \r"
     ]
    },
    {
     "name": "stdout",
     "output_type": "stream",
     "text": [
      "Retraining Epoch [7/10]: Avg Total Loss: 11.4137 | Avg PrC Loss: 3.4721 | Avg SnC Loss: 5.0405 | Avg FiC Loss: 2.8282 | Avg CE Loss: 0.0729 | Model Sparsity: 0.8892\n",
      "\n",
      "[BaCP] weights saved!\n"
     ]
    },
    {
     "name": "stderr",
     "output_type": "stream",
     "text": [
      "                                                                                                                                                \r"
     ]
    },
    {
     "name": "stdout",
     "output_type": "stream",
     "text": [
      "Retraining Epoch [8/10]: Avg Total Loss: 11.4086 | Avg PrC Loss: 3.4718 | Avg SnC Loss: 5.0391 | Avg FiC Loss: 2.8262 | Avg CE Loss: 0.0715 | Model Sparsity: 0.8892\n",
      "\n"
     ]
    },
    {
     "name": "stderr",
     "output_type": "stream",
     "text": [
      "                                                                                                                                                \r"
     ]
    },
    {
     "name": "stdout",
     "output_type": "stream",
     "text": [
      "Retraining Epoch [9/10]: Avg Total Loss: 11.3982 | Avg PrC Loss: 3.4716 | Avg SnC Loss: 5.0334 | Avg FiC Loss: 2.8238 | Avg CE Loss: 0.0693 | Model Sparsity: 0.8892\n",
      "\n"
     ]
    },
    {
     "name": "stderr",
     "output_type": "stream",
     "text": [
      "                                                                                                                                                 \r"
     ]
    },
    {
     "name": "stdout",
     "output_type": "stream",
     "text": [
      "Retraining Epoch [10/10]: Avg Total Loss: 11.3987 | Avg PrC Loss: 3.4713 | Avg SnC Loss: 5.0323 | Avg FiC Loss: 2.8258 | Avg CE Loss: 0.0693 | Model Sparsity: 0.8892\n",
      "\n",
      "[BaCP] weights saved!\n"
     ]
    },
    {
     "name": "stderr",
     "output_type": "stream",
     "text": [
      "Training Epoch [4/5]:   0%|          | 0/83 [00:00<?, ?it/s]"
     ]
    },
    {
     "name": "stdout",
     "output_type": "stream",
     "text": [
      "\n",
      "[Pruner] Cubic Sparsity ratio increased to 0.942.\n",
      "\n"
     ]
    },
    {
     "name": "stderr",
     "output_type": "stream",
     "text": [
      "                                                                                                                                             \r"
     ]
    },
    {
     "name": "stdout",
     "output_type": "stream",
     "text": [
      "Epoch [4/5]: Avg Total Loss: 13.9411 | Avg PrC Loss: 3.4925 | Avg SnC Loss: 7.5287 | Avg FiC Loss: 2.8355 | Avg CE Loss: 0.0844 | Model Sparsity: 0.9424\n",
      "\n",
      "[BaCP] weights saved!\n"
     ]
    },
    {
     "name": "stderr",
     "output_type": "stream",
     "text": [
      "                                                                                                                                                \r"
     ]
    },
    {
     "name": "stdout",
     "output_type": "stream",
     "text": [
      "Retraining Epoch [1/10]: Avg Total Loss: 13.9150 | Avg PrC Loss: 3.4925 | Avg SnC Loss: 7.5112 | Avg FiC Loss: 2.8308 | Avg CE Loss: 0.0804 | Model Sparsity: 0.9424\n",
      "\n"
     ]
    },
    {
     "name": "stderr",
     "output_type": "stream",
     "text": [
      "                                                                                                                                                \r"
     ]
    },
    {
     "name": "stdout",
     "output_type": "stream",
     "text": [
      "Retraining Epoch [2/10]: Avg Total Loss: 13.9065 | Avg PrC Loss: 3.4904 | Avg SnC Loss: 7.5093 | Avg FiC Loss: 2.8293 | Avg CE Loss: 0.0775 | Model Sparsity: 0.9424\n",
      "\n"
     ]
    },
    {
     "name": "stderr",
     "output_type": "stream",
     "text": [
      "                                                                                                                                                \r"
     ]
    },
    {
     "name": "stdout",
     "output_type": "stream",
     "text": [
      "Retraining Epoch [3/10]: Avg Total Loss: 13.9080 | Avg PrC Loss: 3.4920 | Avg SnC Loss: 7.5076 | Avg FiC Loss: 2.8296 | Avg CE Loss: 0.0787 | Model Sparsity: 0.9424\n",
      "\n",
      "[BaCP] weights saved!\n"
     ]
    },
    {
     "name": "stderr",
     "output_type": "stream",
     "text": [
      "                                                                                                                                                \r"
     ]
    },
    {
     "name": "stdout",
     "output_type": "stream",
     "text": [
      "Retraining Epoch [4/10]: Avg Total Loss: 13.9037 | Avg PrC Loss: 3.4910 | Avg SnC Loss: 7.5073 | Avg FiC Loss: 2.8287 | Avg CE Loss: 0.0767 | Model Sparsity: 0.9424\n",
      "\n"
     ]
    },
    {
     "name": "stderr",
     "output_type": "stream",
     "text": [
      "                                                                                                                                                \r"
     ]
    },
    {
     "name": "stdout",
     "output_type": "stream",
     "text": [
      "Retraining Epoch [5/10]: Avg Total Loss: 13.8945 | Avg PrC Loss: 3.4910 | Avg SnC Loss: 7.4996 | Avg FiC Loss: 2.8280 | Avg CE Loss: 0.0759 | Model Sparsity: 0.9424\n",
      "\n"
     ]
    },
    {
     "name": "stderr",
     "output_type": "stream",
     "text": [
      "                                                                                                                                                \r"
     ]
    },
    {
     "name": "stdout",
     "output_type": "stream",
     "text": [
      "Retraining Epoch [6/10]: Avg Total Loss: 13.8874 | Avg PrC Loss: 3.4902 | Avg SnC Loss: 7.4968 | Avg FiC Loss: 2.8265 | Avg CE Loss: 0.0741 | Model Sparsity: 0.9424\n",
      "\n"
     ]
    },
    {
     "name": "stderr",
     "output_type": "stream",
     "text": [
      "                                                                                                                                                \r"
     ]
    },
    {
     "name": "stdout",
     "output_type": "stream",
     "text": [
      "Retraining Epoch [7/10]: Avg Total Loss: 13.8853 | Avg PrC Loss: 3.4896 | Avg SnC Loss: 7.4950 | Avg FiC Loss: 2.8273 | Avg CE Loss: 0.0734 | Model Sparsity: 0.9424\n",
      "\n"
     ]
    },
    {
     "name": "stderr",
     "output_type": "stream",
     "text": [
      "                                                                                                                                                \r"
     ]
    },
    {
     "name": "stdout",
     "output_type": "stream",
     "text": [
      "Retraining Epoch [8/10]: Avg Total Loss: 13.8812 | Avg PrC Loss: 3.4907 | Avg SnC Loss: 7.4935 | Avg FiC Loss: 2.8244 | Avg CE Loss: 0.0726 | Model Sparsity: 0.9424\n",
      "\n"
     ]
    },
    {
     "name": "stderr",
     "output_type": "stream",
     "text": [
      "                                                                                                                                                \r"
     ]
    },
    {
     "name": "stdout",
     "output_type": "stream",
     "text": [
      "Retraining Epoch [9/10]: Avg Total Loss: 13.8765 | Avg PrC Loss: 3.4907 | Avg SnC Loss: 7.4891 | Avg FiC Loss: 2.8242 | Avg CE Loss: 0.0725 | Model Sparsity: 0.9424\n",
      "\n"
     ]
    },
    {
     "name": "stderr",
     "output_type": "stream",
     "text": [
      "                                                                                                                                                 \r"
     ]
    },
    {
     "name": "stdout",
     "output_type": "stream",
     "text": [
      "Retraining Epoch [10/10]: Avg Total Loss: 13.8773 | Avg PrC Loss: 3.4899 | Avg SnC Loss: 7.4896 | Avg FiC Loss: 2.8254 | Avg CE Loss: 0.0725 | Model Sparsity: 0.9424\n",
      "\n",
      "[BaCP] weights saved!\n"
     ]
    },
    {
     "name": "stderr",
     "output_type": "stream",
     "text": [
      "Training Epoch [5/5]:   0%|          | 0/83 [00:00<?, ?it/s]"
     ]
    },
    {
     "name": "stdout",
     "output_type": "stream",
     "text": [
      "\n",
      "[Pruner] Cubic Sparsity ratio increased to 0.950.\n",
      "\n"
     ]
    },
    {
     "name": "stderr",
     "output_type": "stream",
     "text": [
      "                                                                                                                                             \r"
     ]
    },
    {
     "name": "stdout",
     "output_type": "stream",
     "text": [
      "Epoch [5/5]: Avg Total Loss: 16.3313 | Avg PrC Loss: 3.5078 | Avg SnC Loss: 9.9146 | Avg FiC Loss: 2.8314 | Avg CE Loss: 0.0776 | Model Sparsity: 0.95\n",
      "\n",
      "[BaCP] weights saved!\n"
     ]
    },
    {
     "name": "stderr",
     "output_type": "stream",
     "text": [
      "                                                                                                                                                \r"
     ]
    },
    {
     "name": "stdout",
     "output_type": "stream",
     "text": [
      "Retraining Epoch [1/10]: Avg Total Loss: 16.3395 | Avg PrC Loss: 3.5087 | Avg SnC Loss: 9.9194 | Avg FiC Loss: 2.8309 | Avg CE Loss: 0.0806 | Model Sparsity: 0.95\n",
      "\n",
      "[BaCP] weights saved!\n"
     ]
    },
    {
     "name": "stderr",
     "output_type": "stream",
     "text": [
      "                                                                                                                                                \r"
     ]
    },
    {
     "name": "stdout",
     "output_type": "stream",
     "text": [
      "Retraining Epoch [2/10]: Avg Total Loss: 16.3590 | Avg PrC Loss: 3.5094 | Avg SnC Loss: 9.9330 | Avg FiC Loss: 2.8353 | Avg CE Loss: 0.0812 | Model Sparsity: 0.95\n",
      "\n",
      "[BaCP] weights saved!\n"
     ]
    },
    {
     "name": "stderr",
     "output_type": "stream",
     "text": [
      "                                                                                                                                                \r"
     ]
    },
    {
     "name": "stdout",
     "output_type": "stream",
     "text": [
      "Retraining Epoch [3/10]: Avg Total Loss: 16.3192 | Avg PrC Loss: 3.5081 | Avg SnC Loss: 9.9030 | Avg FiC Loss: 2.8296 | Avg CE Loss: 0.0785 | Model Sparsity: 0.95\n",
      "\n"
     ]
    },
    {
     "name": "stderr",
     "output_type": "stream",
     "text": [
      "                                                                                                                                                \r"
     ]
    },
    {
     "name": "stdout",
     "output_type": "stream",
     "text": [
      "Retraining Epoch [4/10]: Avg Total Loss: 16.3230 | Avg PrC Loss: 3.5099 | Avg SnC Loss: 9.9062 | Avg FiC Loss: 2.8294 | Avg CE Loss: 0.0775 | Model Sparsity: 0.95\n",
      "\n",
      "[BaCP] weights saved!\n"
     ]
    },
    {
     "name": "stderr",
     "output_type": "stream",
     "text": [
      "                                                                                                                                                \r"
     ]
    },
    {
     "name": "stdout",
     "output_type": "stream",
     "text": [
      "Retraining Epoch [5/10]: Avg Total Loss: 16.2829 | Avg PrC Loss: 3.5081 | Avg SnC Loss: 9.8765 | Avg FiC Loss: 2.8245 | Avg CE Loss: 0.0738 | Model Sparsity: 0.95\n",
      "\n"
     ]
    },
    {
     "name": "stderr",
     "output_type": "stream",
     "text": [
      "                                                                                                                                                \r"
     ]
    },
    {
     "name": "stdout",
     "output_type": "stream",
     "text": [
      "Retraining Epoch [6/10]: Avg Total Loss: 16.3041 | Avg PrC Loss: 3.5089 | Avg SnC Loss: 9.8946 | Avg FiC Loss: 2.8258 | Avg CE Loss: 0.0748 | Model Sparsity: 0.95\n",
      "\n",
      "[BaCP] weights saved!\n"
     ]
    },
    {
     "name": "stderr",
     "output_type": "stream",
     "text": [
      "                                                                                                                                                \r"
     ]
    },
    {
     "name": "stdout",
     "output_type": "stream",
     "text": [
      "Retraining Epoch [7/10]: Avg Total Loss: 16.2956 | Avg PrC Loss: 3.5077 | Avg SnC Loss: 9.8879 | Avg FiC Loss: 2.8260 | Avg CE Loss: 0.0740 | Model Sparsity: 0.95\n",
      "\n",
      "[BaCP] weights saved!\n"
     ]
    },
    {
     "name": "stderr",
     "output_type": "stream",
     "text": [
      "                                                                                                                                                \r"
     ]
    },
    {
     "name": "stdout",
     "output_type": "stream",
     "text": [
      "Retraining Epoch [8/10]: Avg Total Loss: 16.2871 | Avg PrC Loss: 3.5076 | Avg SnC Loss: 9.8804 | Avg FiC Loss: 2.8260 | Avg CE Loss: 0.0731 | Model Sparsity: 0.95\n",
      "\n",
      "[BaCP] weights saved!\n"
     ]
    },
    {
     "name": "stderr",
     "output_type": "stream",
     "text": [
      "                                                                                                                                                \r"
     ]
    },
    {
     "name": "stdout",
     "output_type": "stream",
     "text": [
      "Retraining Epoch [9/10]: Avg Total Loss: 16.2892 | Avg PrC Loss: 3.5077 | Avg SnC Loss: 9.8833 | Avg FiC Loss: 2.8258 | Avg CE Loss: 0.0723 | Model Sparsity: 0.95\n",
      "\n",
      "[BaCP] weights saved!\n"
     ]
    },
    {
     "name": "stderr",
     "output_type": "stream",
     "text": [
      "                                                                                                                                                 \r"
     ]
    },
    {
     "name": "stdout",
     "output_type": "stream",
     "text": [
      "Retraining Epoch [10/10]: Avg Total Loss: 16.2875 | Avg PrC Loss: 3.5072 | Avg SnC Loss: 9.8833 | Avg FiC Loss: 2.8247 | Avg CE Loss: 0.0722 | Model Sparsity: 0.95\n",
      "\n",
      "[BaCP] weights saved!\n",
      "[BaCP TRAINER] Mask generated from current model.\n",
      "[TRAINER] Image size: 32\n",
      "[TRAINER] Initialized models\n",
      "[TRAINER] Loading weights: ./research/resnet50/cifar10/resnet50_cifar10_magnitude_pruning_0.95_bacp_pruning_b3.pt\n",
      "[ERROR] Could not load weights: ./research/resnet50/cifar10/resnet50_cifar10_magnitude_pruning_0.95_bacp_pruning_b3.pt\n",
      "[ERROR] Attempting partial load\n",
      "[TRAINER] Weights loaded\n",
      "[TRAINER] Optimizer type w/ learning rate: (adamw, 0.0001)\n",
      "[CV DATALOADERS] Loaded cifar10 with splits: ['train', 'validation', 'test']\n",
      "[TRAINER] Data Initialized for model task: cifar10\n",
      "[TRAINER] Batch size: 512\n",
      "[TRAINER] Number of dataloders: 3\n",
      "[TRAINER] No scheduler initialized\n",
      "[TRAINER] Finetuning initialized\n",
      "[TRAINER] Pruning type: magnitude_pruning\n",
      "[TRAINER] Current sparsity: 0.9500\n",
      "[TRAINER] Saving model to: ./research/resnet50/cifar10/resnet50_cifar10_magnitude_pruning_0.95_bacp_b3_finetune.pt\n",
      "[TRAINER] Training with mixed precision enabled\n",
      "[TRAINER] Initial model sparsity: 0.95\n"
     ]
    },
    {
     "name": "stderr",
     "output_type": "stream",
     "text": [
      "                                                                                                  \r"
     ]
    },
    {
     "name": "stdout",
     "output_type": "stream",
     "text": [
      "Training epoch [1/50]: Avg Loss: 1.0000 | Avg Accuracy: 92.12 | Model Sparsity: 0.95\n",
      "\n",
      "[TRAINER] weights saved!\n"
     ]
    },
    {
     "name": "stderr",
     "output_type": "stream",
     "text": [
      "                                                                                                  \r"
     ]
    },
    {
     "name": "stdout",
     "output_type": "stream",
     "text": [
      "Training epoch [2/50]: Avg Loss: 0.2839 | Avg Accuracy: 93.18 | Model Sparsity: 0.95\n",
      "\n",
      "[TRAINER] weights saved!\n"
     ]
    },
    {
     "name": "stderr",
     "output_type": "stream",
     "text": [
      "                                                                                                  \r"
     ]
    },
    {
     "name": "stdout",
     "output_type": "stream",
     "text": [
      "Training epoch [3/50]: Avg Loss: 0.2119 | Avg Accuracy: 94.13 | Model Sparsity: 0.95\n",
      "\n",
      "[TRAINER] weights saved!\n"
     ]
    },
    {
     "name": "stderr",
     "output_type": "stream",
     "text": [
      "                                                                                                  \r"
     ]
    },
    {
     "name": "stdout",
     "output_type": "stream",
     "text": [
      "Training epoch [4/50]: Avg Loss: 0.1843 | Avg Accuracy: 94.35 | Model Sparsity: 0.95\n",
      "\n",
      "[TRAINER] weights saved!\n"
     ]
    },
    {
     "name": "stderr",
     "output_type": "stream",
     "text": [
      "                                                                                                  \r"
     ]
    },
    {
     "name": "stdout",
     "output_type": "stream",
     "text": [
      "Training epoch [5/50]: Avg Loss: 0.1671 | Avg Accuracy: 94.21 | Model Sparsity: 0.95\n",
      "\n"
     ]
    },
    {
     "name": "stderr",
     "output_type": "stream",
     "text": [
      "                                                                                                  \r"
     ]
    },
    {
     "name": "stdout",
     "output_type": "stream",
     "text": [
      "Training epoch [6/50]: Avg Loss: 0.1541 | Avg Accuracy: 94.61 | Model Sparsity: 0.95\n",
      "\n",
      "[TRAINER] weights saved!\n"
     ]
    },
    {
     "name": "stderr",
     "output_type": "stream",
     "text": [
      "                                                                                                  \r"
     ]
    },
    {
     "name": "stdout",
     "output_type": "stream",
     "text": [
      "Training epoch [7/50]: Avg Loss: 0.1408 | Avg Accuracy: 94.87 | Model Sparsity: 0.95\n",
      "\n",
      "[TRAINER] weights saved!\n"
     ]
    },
    {
     "name": "stderr",
     "output_type": "stream",
     "text": [
      "                                                                                                  \r"
     ]
    },
    {
     "name": "stdout",
     "output_type": "stream",
     "text": [
      "Training epoch [8/50]: Avg Loss: 0.1327 | Avg Accuracy: 94.92 | Model Sparsity: 0.95\n",
      "\n",
      "[TRAINER] weights saved!\n"
     ]
    },
    {
     "name": "stderr",
     "output_type": "stream",
     "text": [
      "                                                                                                  \r"
     ]
    },
    {
     "name": "stdout",
     "output_type": "stream",
     "text": [
      "Training epoch [9/50]: Avg Loss: 0.1249 | Avg Accuracy: 95.08 | Model Sparsity: 0.95\n",
      "\n",
      "[TRAINER] weights saved!\n"
     ]
    },
    {
     "name": "stderr",
     "output_type": "stream",
     "text": [
      "                                                                                                   \r"
     ]
    },
    {
     "name": "stdout",
     "output_type": "stream",
     "text": [
      "Training epoch [10/50]: Avg Loss: 0.1175 | Avg Accuracy: 94.99 | Model Sparsity: 0.95\n",
      "\n"
     ]
    },
    {
     "name": "stderr",
     "output_type": "stream",
     "text": [
      "                                                                                                   \r"
     ]
    },
    {
     "name": "stdout",
     "output_type": "stream",
     "text": [
      "Training epoch [11/50]: Avg Loss: 0.1130 | Avg Accuracy: 94.84 | Model Sparsity: 0.95\n",
      "\n"
     ]
    },
    {
     "name": "stderr",
     "output_type": "stream",
     "text": [
      "                                                                                                   \r"
     ]
    },
    {
     "name": "stdout",
     "output_type": "stream",
     "text": [
      "Training epoch [12/50]: Avg Loss: 0.1079 | Avg Accuracy: 94.98 | Model Sparsity: 0.95\n",
      "\n"
     ]
    },
    {
     "name": "stderr",
     "output_type": "stream",
     "text": [
      "                                                                                                   \r"
     ]
    },
    {
     "name": "stdout",
     "output_type": "stream",
     "text": [
      "Training epoch [13/50]: Avg Loss: 0.0988 | Avg Accuracy: 95.01 | Model Sparsity: 0.95\n",
      "\n"
     ]
    },
    {
     "name": "stderr",
     "output_type": "stream",
     "text": [
      "                                                                                                   \r"
     ]
    },
    {
     "name": "stdout",
     "output_type": "stream",
     "text": [
      "Training epoch [14/50]: Avg Loss: 0.0937 | Avg Accuracy: 95.15 | Model Sparsity: 0.95\n",
      "\n",
      "[TRAINER] weights saved!\n"
     ]
    },
    {
     "name": "stderr",
     "output_type": "stream",
     "text": [
      "                                                                                                   \r"
     ]
    },
    {
     "name": "stdout",
     "output_type": "stream",
     "text": [
      "Training epoch [15/50]: Avg Loss: 0.0893 | Avg Accuracy: 95.35 | Model Sparsity: 0.95\n",
      "\n",
      "[TRAINER] weights saved!\n"
     ]
    },
    {
     "name": "stderr",
     "output_type": "stream",
     "text": [
      "                                                                                                   \r"
     ]
    },
    {
     "name": "stdout",
     "output_type": "stream",
     "text": [
      "Training epoch [16/50]: Avg Loss: 0.0819 | Avg Accuracy: 95.12 | Model Sparsity: 0.95\n",
      "\n"
     ]
    },
    {
     "name": "stderr",
     "output_type": "stream",
     "text": [
      "                                                                                                   \r"
     ]
    },
    {
     "name": "stdout",
     "output_type": "stream",
     "text": [
      "Training epoch [17/50]: Avg Loss: 0.0804 | Avg Accuracy: 95.58 | Model Sparsity: 0.95\n",
      "\n",
      "[TRAINER] weights saved!\n"
     ]
    },
    {
     "name": "stderr",
     "output_type": "stream",
     "text": [
      "                                                                                                   \r"
     ]
    },
    {
     "name": "stdout",
     "output_type": "stream",
     "text": [
      "Training epoch [18/50]: Avg Loss: 0.0767 | Avg Accuracy: 95.19 | Model Sparsity: 0.95\n",
      "\n"
     ]
    },
    {
     "name": "stderr",
     "output_type": "stream",
     "text": [
      "                                                                                                   \r"
     ]
    },
    {
     "name": "stdout",
     "output_type": "stream",
     "text": [
      "Training epoch [19/50]: Avg Loss: 0.0705 | Avg Accuracy: 95.27 | Model Sparsity: 0.95\n",
      "\n"
     ]
    },
    {
     "name": "stderr",
     "output_type": "stream",
     "text": [
      "                                                                                                   \r"
     ]
    },
    {
     "name": "stdout",
     "output_type": "stream",
     "text": [
      "Training epoch [20/50]: Avg Loss: 0.0691 | Avg Accuracy: 94.91 | Model Sparsity: 0.95\n",
      "\n"
     ]
    },
    {
     "name": "stderr",
     "output_type": "stream",
     "text": [
      "                                                                                                   \r"
     ]
    },
    {
     "name": "stdout",
     "output_type": "stream",
     "text": [
      "Training epoch [21/50]: Avg Loss: 0.0662 | Avg Accuracy: 95.10 | Model Sparsity: 0.95\n",
      "\n"
     ]
    },
    {
     "name": "stderr",
     "output_type": "stream",
     "text": [
      "                                                                                                   \r"
     ]
    },
    {
     "name": "stdout",
     "output_type": "stream",
     "text": [
      "Training epoch [22/50]: Avg Loss: 0.0638 | Avg Accuracy: 95.30 | Model Sparsity: 0.95\n",
      "\n"
     ]
    },
    {
     "name": "stderr",
     "output_type": "stream",
     "text": [
      "                                                                                                   \r"
     ]
    },
    {
     "name": "stdout",
     "output_type": "stream",
     "text": [
      "Training epoch [23/50]: Avg Loss: 0.0606 | Avg Accuracy: 95.08 | Model Sparsity: 0.95\n",
      "\n"
     ]
    },
    {
     "name": "stderr",
     "output_type": "stream",
     "text": [
      "                                                                                                   \r"
     ]
    },
    {
     "name": "stdout",
     "output_type": "stream",
     "text": [
      "Training epoch [24/50]: Avg Loss: 0.0572 | Avg Accuracy: 95.20 | Model Sparsity: 0.95\n",
      "\n"
     ]
    },
    {
     "name": "stderr",
     "output_type": "stream",
     "text": [
      "                                                                                                   \r"
     ]
    },
    {
     "name": "stdout",
     "output_type": "stream",
     "text": [
      "Training epoch [25/50]: Avg Loss: 0.0545 | Avg Accuracy: 95.41 | Model Sparsity: 0.95\n",
      "\n"
     ]
    },
    {
     "name": "stderr",
     "output_type": "stream",
     "text": [
      "                                                                                                   \r"
     ]
    },
    {
     "name": "stdout",
     "output_type": "stream",
     "text": [
      "Training epoch [26/50]: Avg Loss: 0.0534 | Avg Accuracy: 95.20 | Model Sparsity: 0.95\n",
      "\n"
     ]
    },
    {
     "name": "stderr",
     "output_type": "stream",
     "text": [
      "                                                                                                   \r"
     ]
    },
    {
     "name": "stdout",
     "output_type": "stream",
     "text": [
      "Training epoch [27/50]: Avg Loss: 0.0486 | Avg Accuracy: 95.58 | Model Sparsity: 0.95\n",
      "\n"
     ]
    },
    {
     "name": "stderr",
     "output_type": "stream",
     "text": [
      "                                                                                                   \r"
     ]
    },
    {
     "name": "stdout",
     "output_type": "stream",
     "text": [
      "Training epoch [28/50]: Avg Loss: 0.0463 | Avg Accuracy: 95.44 | Model Sparsity: 0.95\n",
      "\n"
     ]
    },
    {
     "name": "stderr",
     "output_type": "stream",
     "text": [
      "                                                                                                   \r"
     ]
    },
    {
     "name": "stdout",
     "output_type": "stream",
     "text": [
      "Training epoch [29/50]: Avg Loss: 0.0466 | Avg Accuracy: 95.17 | Model Sparsity: 0.95\n",
      "\n"
     ]
    },
    {
     "name": "stderr",
     "output_type": "stream",
     "text": [
      "                                                                                                   \r"
     ]
    },
    {
     "name": "stdout",
     "output_type": "stream",
     "text": [
      "Training epoch [30/50]: Avg Loss: 0.0426 | Avg Accuracy: 95.62 | Model Sparsity: 0.95\n",
      "\n",
      "[TRAINER] weights saved!\n"
     ]
    },
    {
     "name": "stderr",
     "output_type": "stream",
     "text": [
      "                                                                                                   \r"
     ]
    },
    {
     "name": "stdout",
     "output_type": "stream",
     "text": [
      "Training epoch [31/50]: Avg Loss: 0.0433 | Avg Accuracy: 95.27 | Model Sparsity: 0.95\n",
      "\n"
     ]
    },
    {
     "name": "stderr",
     "output_type": "stream",
     "text": [
      "                                                                                                   \r"
     ]
    },
    {
     "name": "stdout",
     "output_type": "stream",
     "text": [
      "Training epoch [32/50]: Avg Loss: 0.0413 | Avg Accuracy: 95.33 | Model Sparsity: 0.95\n",
      "\n"
     ]
    },
    {
     "name": "stderr",
     "output_type": "stream",
     "text": [
      "                                                                                                   \r"
     ]
    },
    {
     "name": "stdout",
     "output_type": "stream",
     "text": [
      "Training epoch [33/50]: Avg Loss: 0.0393 | Avg Accuracy: 95.42 | Model Sparsity: 0.95\n",
      "\n"
     ]
    },
    {
     "name": "stderr",
     "output_type": "stream",
     "text": [
      "                                                                                                   \r"
     ]
    },
    {
     "name": "stdout",
     "output_type": "stream",
     "text": [
      "Training epoch [34/50]: Avg Loss: 0.0361 | Avg Accuracy: 95.30 | Model Sparsity: 0.95\n",
      "\n"
     ]
    },
    {
     "name": "stderr",
     "output_type": "stream",
     "text": [
      "                                                                                                   \r"
     ]
    },
    {
     "name": "stdout",
     "output_type": "stream",
     "text": [
      "Training epoch [35/50]: Avg Loss: 0.0359 | Avg Accuracy: 95.74 | Model Sparsity: 0.95\n",
      "\n",
      "[TRAINER] weights saved!\n"
     ]
    },
    {
     "name": "stderr",
     "output_type": "stream",
     "text": [
      "                                                                                                   \r"
     ]
    },
    {
     "name": "stdout",
     "output_type": "stream",
     "text": [
      "Training epoch [36/50]: Avg Loss: 0.0333 | Avg Accuracy: 95.62 | Model Sparsity: 0.95\n",
      "\n"
     ]
    },
    {
     "name": "stderr",
     "output_type": "stream",
     "text": [
      "                                                                                                   \r"
     ]
    },
    {
     "name": "stdout",
     "output_type": "stream",
     "text": [
      "Training epoch [37/50]: Avg Loss: 0.0347 | Avg Accuracy: 95.19 | Model Sparsity: 0.95\n",
      "\n"
     ]
    },
    {
     "name": "stderr",
     "output_type": "stream",
     "text": [
      "                                                                                                   \r"
     ]
    },
    {
     "name": "stdout",
     "output_type": "stream",
     "text": [
      "Training epoch [38/50]: Avg Loss: 0.0303 | Avg Accuracy: 95.28 | Model Sparsity: 0.95\n",
      "\n"
     ]
    },
    {
     "name": "stderr",
     "output_type": "stream",
     "text": [
      "                                                                                                   \r"
     ]
    },
    {
     "name": "stdout",
     "output_type": "stream",
     "text": [
      "Training epoch [39/50]: Avg Loss: 0.0301 | Avg Accuracy: 95.20 | Model Sparsity: 0.95\n",
      "\n"
     ]
    },
    {
     "name": "stderr",
     "output_type": "stream",
     "text": [
      "                                                                                                   \r"
     ]
    },
    {
     "name": "stdout",
     "output_type": "stream",
     "text": [
      "Training epoch [40/50]: Avg Loss: 0.0278 | Avg Accuracy: 95.44 | Model Sparsity: 0.95\n",
      "\n"
     ]
    },
    {
     "name": "stderr",
     "output_type": "stream",
     "text": [
      "                                                                                                   \r"
     ]
    },
    {
     "name": "stdout",
     "output_type": "stream",
     "text": [
      "Training epoch [41/50]: Avg Loss: 0.0292 | Avg Accuracy: 95.70 | Model Sparsity: 0.95\n",
      "\n"
     ]
    },
    {
     "name": "stderr",
     "output_type": "stream",
     "text": [
      "                                                                                                   \r"
     ]
    },
    {
     "name": "stdout",
     "output_type": "stream",
     "text": [
      "Training epoch [42/50]: Avg Loss: 0.0282 | Avg Accuracy: 95.16 | Model Sparsity: 0.95\n",
      "\n"
     ]
    },
    {
     "name": "stderr",
     "output_type": "stream",
     "text": [
      "                                                                                                   \r"
     ]
    },
    {
     "name": "stdout",
     "output_type": "stream",
     "text": [
      "Training epoch [43/50]: Avg Loss: 0.0252 | Avg Accuracy: 95.17 | Model Sparsity: 0.95\n",
      "\n"
     ]
    },
    {
     "name": "stderr",
     "output_type": "stream",
     "text": [
      "                                                                                                   \r"
     ]
    },
    {
     "name": "stdout",
     "output_type": "stream",
     "text": [
      "Training epoch [44/50]: Avg Loss: 0.0258 | Avg Accuracy: 95.52 | Model Sparsity: 0.95\n",
      "\n"
     ]
    },
    {
     "name": "stderr",
     "output_type": "stream",
     "text": [
      "                                                                                                   \r"
     ]
    },
    {
     "name": "stdout",
     "output_type": "stream",
     "text": [
      "Training epoch [45/50]: Avg Loss: 0.0235 | Avg Accuracy: 95.38 | Model Sparsity: 0.95\n",
      "\n"
     ]
    },
    {
     "name": "stderr",
     "output_type": "stream",
     "text": [
      "                                                                                                   \r"
     ]
    },
    {
     "name": "stdout",
     "output_type": "stream",
     "text": [
      "Training epoch [46/50]: Avg Loss: 0.0228 | Avg Accuracy: 95.41 | Model Sparsity: 0.95\n",
      "\n"
     ]
    },
    {
     "name": "stderr",
     "output_type": "stream",
     "text": [
      "                                                                                                   \r"
     ]
    },
    {
     "name": "stdout",
     "output_type": "stream",
     "text": [
      "Training epoch [47/50]: Avg Loss: 0.0236 | Avg Accuracy: 95.34 | Model Sparsity: 0.95\n",
      "\n"
     ]
    },
    {
     "name": "stderr",
     "output_type": "stream",
     "text": [
      "                                                                                                   \r"
     ]
    },
    {
     "name": "stdout",
     "output_type": "stream",
     "text": [
      "Training epoch [48/50]: Avg Loss: 0.0205 | Avg Accuracy: 95.33 | Model Sparsity: 0.95\n",
      "\n"
     ]
    },
    {
     "name": "stderr",
     "output_type": "stream",
     "text": [
      "                                                                                                   \r"
     ]
    },
    {
     "name": "stdout",
     "output_type": "stream",
     "text": [
      "Training epoch [49/50]: Avg Loss: 0.0221 | Avg Accuracy: 95.45 | Model Sparsity: 0.95\n",
      "\n"
     ]
    },
    {
     "name": "stderr",
     "output_type": "stream",
     "text": [
      "                                                                                                   \r"
     ]
    },
    {
     "name": "stdout",
     "output_type": "stream",
     "text": [
      "Training epoch [50/50]: Avg Loss: 0.0229 | Avg Accuracy: 95.65 | Model Sparsity: 0.95\n",
      "\n",
      "[TRAINER] Loading weights: ./research/resnet50/cifar10/resnet50_cifar10_magnitude_pruning_0.95_bacp_b3_finetune.pt\n",
      "[TRAINER] Weights loaded successfully\n",
      "[TRAINER] Model Sparsity: 0.95\n"
     ]
    },
    {
     "name": "stderr",
     "output_type": "stream",
     "text": [
      "                                                           \r"
     ]
    },
    {
     "name": "stdout",
     "output_type": "stream",
     "text": [
      "\n",
      "============================================================\n",
      "TRAINING STATISTICS SUMMARY\n",
      "============================================================\n",
      "\n",
      "Performance Metrics:\n",
      "------------------------------\n",
      "  Accuracy:     93.79%\n",
      "\n",
      "Model Information:\n",
      "------------------------------\n",
      "  Total Parameters:     23,520,842\n",
      "  Trainable Parameters: 23,520,842\n",
      "  Model Sparsity:       0.9500 (95.00%)\n",
      "\n",
      "Training Configuration:\n",
      "------------------------------\n",
      "  Model:                resnet50\n",
      "  Task:                 cifar10\n",
      "  Learning Type:        bacp_b3_finetune\n",
      "  Batch Size:           512\n",
      "  Learning Rate:        0.0001\n",
      "  Optimizer:            adamw\n",
      "  Epochs:               50\n",
      "\n",
      "System Information:\n",
      "------------------------------\n",
      "  Device:               cuda\n",
      "  Mixed Precision:      True\n",
      "  Workers:              24\n",
      "\n",
      "============================================================\n",
      "================================================================================\n",
      "Disabling supervised contrastive loss for this training cycle.\n",
      "================================================================================\n",
      "[TRAINER] Image size: 32\n",
      "[ERROR] Could not load weights: ./research/resnet50/cifar10/resnet50_cifar10_baseline.pt\n",
      "[ERROR] Attempting partial load\n",
      "[TRAINER] Weights loaded successfully\n",
      "[TRAINER] Initialized BaCP models\n",
      "[TRAINER] Optimizer type w/ learning rate: (sgd, 0.1)\n",
      "[TRAINER] No scheduler initialized\n",
      "[CV DATALOADERS] Loaded cifar10 with splits: ['train', 'validation', 'test']\n",
      "[TRAINER] Data Initialized for model task: cifar10\n",
      "[TRAINER] Batch size: 512\n",
      "[TRAINER] Number of dataloders: 3\n",
      "[TRAINER] Pruning initialized\n",
      "[TRAINER] Pruning type: magnitude_pruning\n",
      "[TRAINER] Target sparsity: 0.95\n",
      "[TRAINER] Sparsity scheduler: cubic\n",
      "[TRAINER] Pruning epochs: 5\n",
      "[TRAINER] Current sparsity: 0.0000\n",
      "[TRAINER] Saving model to: ./research/resnet50/cifar10/resnet50_cifar10_magnitude_pruning_0.95_bacp_pruning_b3.pt\n"
     ]
    },
    {
     "name": "stderr",
     "output_type": "stream",
     "text": [
      "Training Epoch [1/5]:   0%|          | 0/83 [00:00<?, ?it/s]"
     ]
    },
    {
     "name": "stdout",
     "output_type": "stream",
     "text": [
      "\n",
      "[Pruner] Cubic Sparsity ratio increased to 0.464.\n",
      "\n"
     ]
    },
    {
     "name": "stderr",
     "output_type": "stream",
     "text": [
      "                                                                                                                                         \r"
     ]
    },
    {
     "name": "stdout",
     "output_type": "stream",
     "text": [
      "Epoch [1/5]: Avg Total Loss: 7.4499 | Avg PrC Loss: 3.5481 | Avg SnC Loss: 0.0000 | Avg FiC Loss: 3.5043 | Avg CE Loss: 0.3975 | Model Sparsity: 0.4636\n",
      "\n",
      "[BaCP] weights saved!\n"
     ]
    },
    {
     "name": "stderr",
     "output_type": "stream",
     "text": [
      "                                                                                                                                            \r"
     ]
    },
    {
     "name": "stdout",
     "output_type": "stream",
     "text": [
      "Retraining Epoch [1/10]: Avg Total Loss: 6.7985 | Avg PrC Loss: 3.4719 | Avg SnC Loss: 0.0000 | Avg FiC Loss: 3.1188 | Avg CE Loss: 0.2078 | Model Sparsity: 0.4636\n",
      "\n"
     ]
    },
    {
     "name": "stderr",
     "output_type": "stream",
     "text": [
      "                                                                                                                                            \r"
     ]
    },
    {
     "name": "stdout",
     "output_type": "stream",
     "text": [
      "Retraining Epoch [2/10]: Avg Total Loss: 6.5860 | Avg PrC Loss: 3.4440 | Avg SnC Loss: 0.0000 | Avg FiC Loss: 2.9930 | Avg CE Loss: 0.1490 | Model Sparsity: 0.4636\n",
      "\n"
     ]
    },
    {
     "name": "stderr",
     "output_type": "stream",
     "text": [
      "                                                                                                                                            \r"
     ]
    },
    {
     "name": "stdout",
     "output_type": "stream",
     "text": [
      "Retraining Epoch [3/10]: Avg Total Loss: 6.5020 | Avg PrC Loss: 3.4289 | Avg SnC Loss: 0.0000 | Avg FiC Loss: 2.9548 | Avg CE Loss: 0.1182 | Model Sparsity: 0.4636\n",
      "\n"
     ]
    },
    {
     "name": "stderr",
     "output_type": "stream",
     "text": [
      "                                                                                                                                             \r"
     ]
    },
    {
     "name": "stdout",
     "output_type": "stream",
     "text": [
      "Retraining Epoch [4/10]: Avg Total Loss: 6.4530 | Avg PrC Loss: 3.4211 | Avg SnC Loss: 0.0000 | Avg FiC Loss: 2.9299 | Avg CE Loss: 0.1019 | Model Sparsity: 0.4636\n",
      "\n"
     ]
    },
    {
     "name": "stderr",
     "output_type": "stream",
     "text": [
      "                                                                                                                                             \r"
     ]
    },
    {
     "name": "stdout",
     "output_type": "stream",
     "text": [
      "Retraining Epoch [5/10]: Avg Total Loss: 6.4256 | Avg PrC Loss: 3.4166 | Avg SnC Loss: 0.0000 | Avg FiC Loss: 2.9163 | Avg CE Loss: 0.0926 | Model Sparsity: 0.4636\n",
      "\n"
     ]
    },
    {
     "name": "stderr",
     "output_type": "stream",
     "text": [
      "                                                                                                                                             \r"
     ]
    },
    {
     "name": "stdout",
     "output_type": "stream",
     "text": [
      "Retraining Epoch [6/10]: Avg Total Loss: 6.4052 | Avg PrC Loss: 3.4117 | Avg SnC Loss: 0.0000 | Avg FiC Loss: 2.9069 | Avg CE Loss: 0.0866 | Model Sparsity: 0.4636\n",
      "\n"
     ]
    },
    {
     "name": "stderr",
     "output_type": "stream",
     "text": [
      "                                                                                                                                             \r"
     ]
    },
    {
     "name": "stdout",
     "output_type": "stream",
     "text": [
      "Retraining Epoch [7/10]: Avg Total Loss: 6.3870 | Avg PrC Loss: 3.4081 | Avg SnC Loss: 0.0000 | Avg FiC Loss: 2.8991 | Avg CE Loss: 0.0798 | Model Sparsity: 0.4636\n",
      "\n"
     ]
    },
    {
     "name": "stderr",
     "output_type": "stream",
     "text": [
      "                                                                                                                                             \r"
     ]
    },
    {
     "name": "stdout",
     "output_type": "stream",
     "text": [
      "Retraining Epoch [8/10]: Avg Total Loss: 6.3787 | Avg PrC Loss: 3.4065 | Avg SnC Loss: 0.0000 | Avg FiC Loss: 2.8968 | Avg CE Loss: 0.0755 | Model Sparsity: 0.4636\n",
      "\n"
     ]
    },
    {
     "name": "stderr",
     "output_type": "stream",
     "text": [
      "                                                                                                                                             \r"
     ]
    },
    {
     "name": "stdout",
     "output_type": "stream",
     "text": [
      "Retraining Epoch [9/10]: Avg Total Loss: 6.3715 | Avg PrC Loss: 3.4046 | Avg SnC Loss: 0.0000 | Avg FiC Loss: 2.8933 | Avg CE Loss: 0.0736 | Model Sparsity: 0.4636\n",
      "\n"
     ]
    },
    {
     "name": "stderr",
     "output_type": "stream",
     "text": [
      "                                                                                                                                              \r"
     ]
    },
    {
     "name": "stdout",
     "output_type": "stream",
     "text": [
      "Retraining Epoch [10/10]: Avg Total Loss: 6.3648 | Avg PrC Loss: 3.4037 | Avg SnC Loss: 0.0000 | Avg FiC Loss: 2.8895 | Avg CE Loss: 0.0716 | Model Sparsity: 0.4636\n",
      "\n"
     ]
    },
    {
     "name": "stderr",
     "output_type": "stream",
     "text": [
      "Training Epoch [2/5]:   0%|          | 0/83 [00:00<?, ?it/s]"
     ]
    },
    {
     "name": "stdout",
     "output_type": "stream",
     "text": [
      "\n",
      "[Pruner] Cubic Sparsity ratio increased to 0.745.\n",
      "\n"
     ]
    },
    {
     "name": "stderr",
     "output_type": "stream",
     "text": [
      "                                                                                                                                             \r"
     ]
    },
    {
     "name": "stdout",
     "output_type": "stream",
     "text": [
      "Epoch [2/5]: Avg Total Loss: 8.9871 | Avg PrC Loss: 3.4260 | Avg SnC Loss: 2.6005 | Avg FiC Loss: 2.8852 | Avg CE Loss: 0.0754 | Model Sparsity: 0.7448\n",
      "\n",
      "[BaCP] weights saved!\n"
     ]
    },
    {
     "name": "stderr",
     "output_type": "stream",
     "text": [
      "                                                                                                                                                \r"
     ]
    },
    {
     "name": "stdout",
     "output_type": "stream",
     "text": [
      "Retraining Epoch [1/10]: Avg Total Loss: 8.9914 | Avg PrC Loss: 3.4258 | Avg SnC Loss: 2.6032 | Avg FiC Loss: 2.8849 | Avg CE Loss: 0.0774 | Model Sparsity: 0.7448\n",
      "\n",
      "[BaCP] weights saved!\n"
     ]
    },
    {
     "name": "stderr",
     "output_type": "stream",
     "text": [
      "                                                                                                                                                \r"
     ]
    },
    {
     "name": "stdout",
     "output_type": "stream",
     "text": [
      "Retraining Epoch [2/10]: Avg Total Loss: 8.9830 | Avg PrC Loss: 3.4256 | Avg SnC Loss: 2.5997 | Avg FiC Loss: 2.8827 | Avg CE Loss: 0.0750 | Model Sparsity: 0.7448\n",
      "\n"
     ]
    },
    {
     "name": "stderr",
     "output_type": "stream",
     "text": [
      "                                                                                                                                                \r"
     ]
    },
    {
     "name": "stdout",
     "output_type": "stream",
     "text": [
      "Retraining Epoch [3/10]: Avg Total Loss: 8.9799 | Avg PrC Loss: 3.4247 | Avg SnC Loss: 2.5987 | Avg FiC Loss: 2.8817 | Avg CE Loss: 0.0748 | Model Sparsity: 0.7448\n",
      "\n"
     ]
    },
    {
     "name": "stderr",
     "output_type": "stream",
     "text": [
      "                                                                                                                                                \r"
     ]
    },
    {
     "name": "stdout",
     "output_type": "stream",
     "text": [
      "Retraining Epoch [4/10]: Avg Total Loss: 8.9568 | Avg PrC Loss: 3.4232 | Avg SnC Loss: 2.5902 | Avg FiC Loss: 2.8736 | Avg CE Loss: 0.0697 | Model Sparsity: 0.7448\n",
      "\n"
     ]
    },
    {
     "name": "stderr",
     "output_type": "stream",
     "text": [
      "                                                                                                                                                \r"
     ]
    },
    {
     "name": "stdout",
     "output_type": "stream",
     "text": [
      "Retraining Epoch [5/10]: Avg Total Loss: 8.9539 | Avg PrC Loss: 3.4218 | Avg SnC Loss: 2.5903 | Avg FiC Loss: 2.8729 | Avg CE Loss: 0.0689 | Model Sparsity: 0.7448\n",
      "\n"
     ]
    },
    {
     "name": "stderr",
     "output_type": "stream",
     "text": [
      "                                                                                                                                                \r"
     ]
    },
    {
     "name": "stdout",
     "output_type": "stream",
     "text": [
      "Retraining Epoch [6/10]: Avg Total Loss: 8.9550 | Avg PrC Loss: 3.4221 | Avg SnC Loss: 2.5909 | Avg FiC Loss: 2.8731 | Avg CE Loss: 0.0689 | Model Sparsity: 0.7448\n",
      "\n",
      "[BaCP] weights saved!\n"
     ]
    },
    {
     "name": "stderr",
     "output_type": "stream",
     "text": [
      "                                                                                                                                                \r"
     ]
    },
    {
     "name": "stdout",
     "output_type": "stream",
     "text": [
      "Retraining Epoch [7/10]: Avg Total Loss: 8.9637 | Avg PrC Loss: 3.4229 | Avg SnC Loss: 2.5936 | Avg FiC Loss: 2.8754 | Avg CE Loss: 0.0718 | Model Sparsity: 0.7448\n",
      "\n",
      "[BaCP] weights saved!\n"
     ]
    },
    {
     "name": "stderr",
     "output_type": "stream",
     "text": [
      "                                                                                                                                                \r"
     ]
    },
    {
     "name": "stdout",
     "output_type": "stream",
     "text": [
      "Retraining Epoch [8/10]: Avg Total Loss: 8.9584 | Avg PrC Loss: 3.4217 | Avg SnC Loss: 2.5920 | Avg FiC Loss: 2.8740 | Avg CE Loss: 0.0707 | Model Sparsity: 0.7448\n",
      "\n",
      "[BaCP] weights saved!\n"
     ]
    },
    {
     "name": "stderr",
     "output_type": "stream",
     "text": [
      "                                                                                                                                                \r"
     ]
    },
    {
     "name": "stdout",
     "output_type": "stream",
     "text": [
      "Retraining Epoch [9/10]: Avg Total Loss: 8.9473 | Avg PrC Loss: 3.4209 | Avg SnC Loss: 2.5860 | Avg FiC Loss: 2.8707 | Avg CE Loss: 0.0697 | Model Sparsity: 0.7448\n",
      "\n"
     ]
    },
    {
     "name": "stderr",
     "output_type": "stream",
     "text": [
      "                                                                                                                                                 \r"
     ]
    },
    {
     "name": "stdout",
     "output_type": "stream",
     "text": [
      "Retraining Epoch [10/10]: Avg Total Loss: 8.9460 | Avg PrC Loss: 3.4209 | Avg SnC Loss: 2.5858 | Avg FiC Loss: 2.8701 | Avg CE Loss: 0.0692 | Model Sparsity: 0.7448\n",
      "\n"
     ]
    },
    {
     "name": "stderr",
     "output_type": "stream",
     "text": [
      "Training Epoch [3/5]:   0%|          | 0/83 [00:00<?, ?it/s]"
     ]
    },
    {
     "name": "stdout",
     "output_type": "stream",
     "text": [
      "\n",
      "[Pruner] Cubic Sparsity ratio increased to 0.889.\n",
      "\n"
     ]
    },
    {
     "name": "stderr",
     "output_type": "stream",
     "text": [
      "                                                                                                                                             \r"
     ]
    },
    {
     "name": "stdout",
     "output_type": "stream",
     "text": [
      "Epoch [3/5]: Avg Total Loss: 11.5291 | Avg PrC Loss: 3.4468 | Avg SnC Loss: 5.1111 | Avg FiC Loss: 2.8845 | Avg CE Loss: 0.0866 | Model Sparsity: 0.8892\n",
      "\n",
      "[BaCP] weights saved!\n"
     ]
    },
    {
     "name": "stderr",
     "output_type": "stream",
     "text": [
      "                                                                                                                                                \r"
     ]
    },
    {
     "name": "stdout",
     "output_type": "stream",
     "text": [
      "Retraining Epoch [1/10]: Avg Total Loss: 11.5137 | Avg PrC Loss: 3.4446 | Avg SnC Loss: 5.1035 | Avg FiC Loss: 2.8815 | Avg CE Loss: 0.0841 | Model Sparsity: 0.8892\n",
      "\n"
     ]
    },
    {
     "name": "stderr",
     "output_type": "stream",
     "text": [
      "                                                                                                                                                \r"
     ]
    },
    {
     "name": "stdout",
     "output_type": "stream",
     "text": [
      "Retraining Epoch [2/10]: Avg Total Loss: 11.5056 | Avg PrC Loss: 3.4450 | Avg SnC Loss: 5.0998 | Avg FiC Loss: 2.8789 | Avg CE Loss: 0.0820 | Model Sparsity: 0.8892\n",
      "\n"
     ]
    },
    {
     "name": "stderr",
     "output_type": "stream",
     "text": [
      "                                                                                                                                                \r"
     ]
    },
    {
     "name": "stdout",
     "output_type": "stream",
     "text": [
      "Retraining Epoch [3/10]: Avg Total Loss: 11.4784 | Avg PrC Loss: 3.4427 | Avg SnC Loss: 5.0857 | Avg FiC Loss: 2.8720 | Avg CE Loss: 0.0780 | Model Sparsity: 0.8892\n",
      "\n"
     ]
    },
    {
     "name": "stderr",
     "output_type": "stream",
     "text": [
      "                                                                                                                                                \r"
     ]
    },
    {
     "name": "stdout",
     "output_type": "stream",
     "text": [
      "Retraining Epoch [4/10]: Avg Total Loss: 11.4689 | Avg PrC Loss: 3.4420 | Avg SnC Loss: 5.0802 | Avg FiC Loss: 2.8716 | Avg CE Loss: 0.0751 | Model Sparsity: 0.8892\n",
      "\n"
     ]
    },
    {
     "name": "stderr",
     "output_type": "stream",
     "text": [
      "                                                                                                                                                \r"
     ]
    },
    {
     "name": "stdout",
     "output_type": "stream",
     "text": [
      "Retraining Epoch [5/10]: Avg Total Loss: 11.4678 | Avg PrC Loss: 3.4416 | Avg SnC Loss: 5.0792 | Avg FiC Loss: 2.8711 | Avg CE Loss: 0.0760 | Model Sparsity: 0.8892\n",
      "\n"
     ]
    },
    {
     "name": "stderr",
     "output_type": "stream",
     "text": [
      "                                                                                                                                                \r"
     ]
    },
    {
     "name": "stdout",
     "output_type": "stream",
     "text": [
      "Retraining Epoch [6/10]: Avg Total Loss: 11.4558 | Avg PrC Loss: 3.4413 | Avg SnC Loss: 5.0717 | Avg FiC Loss: 2.8700 | Avg CE Loss: 0.0729 | Model Sparsity: 0.8892\n",
      "\n"
     ]
    },
    {
     "name": "stderr",
     "output_type": "stream",
     "text": [
      "                                                                                                                                                \r"
     ]
    },
    {
     "name": "stdout",
     "output_type": "stream",
     "text": [
      "Retraining Epoch [7/10]: Avg Total Loss: 11.4516 | Avg PrC Loss: 3.4407 | Avg SnC Loss: 5.0706 | Avg FiC Loss: 2.8676 | Avg CE Loss: 0.0727 | Model Sparsity: 0.8892\n",
      "\n"
     ]
    },
    {
     "name": "stderr",
     "output_type": "stream",
     "text": [
      "                                                                                                                                                \r"
     ]
    },
    {
     "name": "stdout",
     "output_type": "stream",
     "text": [
      "Retraining Epoch [8/10]: Avg Total Loss: 11.4488 | Avg PrC Loss: 3.4413 | Avg SnC Loss: 5.0672 | Avg FiC Loss: 2.8661 | Avg CE Loss: 0.0742 | Model Sparsity: 0.8892\n",
      "\n"
     ]
    },
    {
     "name": "stderr",
     "output_type": "stream",
     "text": [
      "                                                                                                                                                \r"
     ]
    },
    {
     "name": "stdout",
     "output_type": "stream",
     "text": [
      "Retraining Epoch [9/10]: Avg Total Loss: 11.4423 | Avg PrC Loss: 3.4411 | Avg SnC Loss: 5.0639 | Avg FiC Loss: 2.8655 | Avg CE Loss: 0.0718 | Model Sparsity: 0.8892\n",
      "\n"
     ]
    },
    {
     "name": "stderr",
     "output_type": "stream",
     "text": [
      "                                                                                                                                                 \r"
     ]
    },
    {
     "name": "stdout",
     "output_type": "stream",
     "text": [
      "Retraining Epoch [10/10]: Avg Total Loss: 11.4485 | Avg PrC Loss: 3.4400 | Avg SnC Loss: 5.0680 | Avg FiC Loss: 2.8671 | Avg CE Loss: 0.0733 | Model Sparsity: 0.8892\n",
      "\n",
      "[BaCP] weights saved!\n"
     ]
    },
    {
     "name": "stderr",
     "output_type": "stream",
     "text": [
      "Training Epoch [4/5]:   1%|          | 1/83 [00:01<01:41,  1.23s/it, Loss=13.9, PrC Loss=3.45, SnC Loss=7.54, FiC Loss=2.86, CE Loss=0.072]"
     ]
    },
    {
     "name": "stdout",
     "output_type": "stream",
     "text": [
      "\n",
      "[Pruner] Cubic Sparsity ratio increased to 0.942.\n",
      "\n"
     ]
    },
    {
     "name": "stderr",
     "output_type": "stream",
     "text": [
      "                                                                                                                                             \r"
     ]
    },
    {
     "name": "stdout",
     "output_type": "stream",
     "text": [
      "Epoch [4/5]: Avg Total Loss: 13.9713 | Avg PrC Loss: 3.4600 | Avg SnC Loss: 7.5453 | Avg FiC Loss: 2.8777 | Avg CE Loss: 0.0883 | Model Sparsity: 0.9424\n",
      "\n",
      "[BaCP] weights saved!\n"
     ]
    },
    {
     "name": "stderr",
     "output_type": "stream",
     "text": [
      "                                                                                                                                                \r"
     ]
    },
    {
     "name": "stdout",
     "output_type": "stream",
     "text": [
      "Retraining Epoch [1/10]: Avg Total Loss: 13.9595 | Avg PrC Loss: 3.4605 | Avg SnC Loss: 7.5382 | Avg FiC Loss: 2.8769 | Avg CE Loss: 0.0840 | Model Sparsity: 0.9424\n",
      "\n"
     ]
    },
    {
     "name": "stderr",
     "output_type": "stream",
     "text": [
      "                                                                                                                                                \r"
     ]
    },
    {
     "name": "stdout",
     "output_type": "stream",
     "text": [
      "Retraining Epoch [2/10]: Avg Total Loss: 13.9349 | Avg PrC Loss: 3.4596 | Avg SnC Loss: 7.5224 | Avg FiC Loss: 2.8724 | Avg CE Loss: 0.0805 | Model Sparsity: 0.9424\n",
      "\n"
     ]
    },
    {
     "name": "stderr",
     "output_type": "stream",
     "text": [
      "                                                                                                                                                \r"
     ]
    },
    {
     "name": "stdout",
     "output_type": "stream",
     "text": [
      "Retraining Epoch [3/10]: Avg Total Loss: 13.9327 | Avg PrC Loss: 3.4597 | Avg SnC Loss: 7.5212 | Avg FiC Loss: 2.8720 | Avg CE Loss: 0.0798 | Model Sparsity: 0.9424\n",
      "\n"
     ]
    },
    {
     "name": "stderr",
     "output_type": "stream",
     "text": [
      "                                                                                                                                                \r"
     ]
    },
    {
     "name": "stdout",
     "output_type": "stream",
     "text": [
      "Retraining Epoch [4/10]: Avg Total Loss: 13.9351 | Avg PrC Loss: 3.4589 | Avg SnC Loss: 7.5242 | Avg FiC Loss: 2.8730 | Avg CE Loss: 0.0791 | Model Sparsity: 0.9424\n",
      "\n",
      "[BaCP] weights saved!\n"
     ]
    },
    {
     "name": "stderr",
     "output_type": "stream",
     "text": [
      "                                                                                                                                                \r"
     ]
    },
    {
     "name": "stdout",
     "output_type": "stream",
     "text": [
      "Retraining Epoch [5/10]: Avg Total Loss: 13.9202 | Avg PrC Loss: 3.4591 | Avg SnC Loss: 7.5149 | Avg FiC Loss: 2.8692 | Avg CE Loss: 0.0770 | Model Sparsity: 0.9424\n",
      "\n"
     ]
    },
    {
     "name": "stderr",
     "output_type": "stream",
     "text": [
      "                                                                                                                                                \r"
     ]
    },
    {
     "name": "stdout",
     "output_type": "stream",
     "text": [
      "Retraining Epoch [6/10]: Avg Total Loss: 13.9134 | Avg PrC Loss: 3.4581 | Avg SnC Loss: 7.5089 | Avg FiC Loss: 2.8693 | Avg CE Loss: 0.0770 | Model Sparsity: 0.9424\n",
      "\n"
     ]
    },
    {
     "name": "stderr",
     "output_type": "stream",
     "text": [
      "                                                                                                                                                \r"
     ]
    },
    {
     "name": "stdout",
     "output_type": "stream",
     "text": [
      "Retraining Epoch [7/10]: Avg Total Loss: 13.9156 | Avg PrC Loss: 3.4586 | Avg SnC Loss: 7.5102 | Avg FiC Loss: 2.8699 | Avg CE Loss: 0.0770 | Model Sparsity: 0.9424\n",
      "\n",
      "[BaCP] weights saved!\n"
     ]
    },
    {
     "name": "stderr",
     "output_type": "stream",
     "text": [
      "                                                                                                                                                \r"
     ]
    },
    {
     "name": "stdout",
     "output_type": "stream",
     "text": [
      "Retraining Epoch [8/10]: Avg Total Loss: 13.8997 | Avg PrC Loss: 3.4583 | Avg SnC Loss: 7.4997 | Avg FiC Loss: 2.8668 | Avg CE Loss: 0.0749 | Model Sparsity: 0.9424\n",
      "\n"
     ]
    },
    {
     "name": "stderr",
     "output_type": "stream",
     "text": [
      "                                                                                                                                                \r"
     ]
    },
    {
     "name": "stdout",
     "output_type": "stream",
     "text": [
      "Retraining Epoch [9/10]: Avg Total Loss: 13.9027 | Avg PrC Loss: 3.4582 | Avg SnC Loss: 7.5024 | Avg FiC Loss: 2.8666 | Avg CE Loss: 0.0754 | Model Sparsity: 0.9424\n",
      "\n",
      "[BaCP] weights saved!\n"
     ]
    },
    {
     "name": "stderr",
     "output_type": "stream",
     "text": [
      "                                                                                                                                                 \r"
     ]
    },
    {
     "name": "stdout",
     "output_type": "stream",
     "text": [
      "Retraining Epoch [10/10]: Avg Total Loss: 13.8997 | Avg PrC Loss: 3.4584 | Avg SnC Loss: 7.5003 | Avg FiC Loss: 2.8670 | Avg CE Loss: 0.0740 | Model Sparsity: 0.9424\n",
      "\n",
      "[BaCP] weights saved!\n"
     ]
    },
    {
     "name": "stderr",
     "output_type": "stream",
     "text": [
      "Training Epoch [5/5]:   0%|          | 0/83 [00:00<?, ?it/s]"
     ]
    },
    {
     "name": "stdout",
     "output_type": "stream",
     "text": [
      "\n",
      "[Pruner] Cubic Sparsity ratio increased to 0.950.\n",
      "\n"
     ]
    },
    {
     "name": "stderr",
     "output_type": "stream",
     "text": [
      "                                                                                                                                             \r"
     ]
    },
    {
     "name": "stdout",
     "output_type": "stream",
     "text": [
      "Epoch [5/5]: Avg Total Loss: 16.3963 | Avg PrC Loss: 3.4758 | Avg SnC Loss: 9.9603 | Avg FiC Loss: 2.8787 | Avg CE Loss: 0.0815 | Model Sparsity: 0.95\n",
      "\n",
      "[BaCP] weights saved!\n"
     ]
    },
    {
     "name": "stderr",
     "output_type": "stream",
     "text": [
      "                                                                                                                                                \r"
     ]
    },
    {
     "name": "stdout",
     "output_type": "stream",
     "text": [
      "Retraining Epoch [1/10]: Avg Total Loss: 16.3873 | Avg PrC Loss: 3.4759 | Avg SnC Loss: 9.9534 | Avg FiC Loss: 2.8761 | Avg CE Loss: 0.0819 | Model Sparsity: 0.95\n",
      "\n"
     ]
    },
    {
     "name": "stderr",
     "output_type": "stream",
     "text": [
      "                                                                                                                                                \r"
     ]
    },
    {
     "name": "stdout",
     "output_type": "stream",
     "text": [
      "Retraining Epoch [2/10]: Avg Total Loss: 16.3928 | Avg PrC Loss: 3.4752 | Avg SnC Loss: 9.9596 | Avg FiC Loss: 2.8765 | Avg CE Loss: 0.0815 | Model Sparsity: 0.95\n",
      "\n",
      "[BaCP] weights saved!\n"
     ]
    },
    {
     "name": "stderr",
     "output_type": "stream",
     "text": [
      "                                                                                                                                                \r"
     ]
    },
    {
     "name": "stdout",
     "output_type": "stream",
     "text": [
      "Retraining Epoch [3/10]: Avg Total Loss: 16.3759 | Avg PrC Loss: 3.4761 | Avg SnC Loss: 9.9457 | Avg FiC Loss: 2.8740 | Avg CE Loss: 0.0801 | Model Sparsity: 0.95\n",
      "\n"
     ]
    },
    {
     "name": "stderr",
     "output_type": "stream",
     "text": [
      "                                                                                                                                                \r"
     ]
    },
    {
     "name": "stdout",
     "output_type": "stream",
     "text": [
      "Retraining Epoch [4/10]: Avg Total Loss: 16.3676 | Avg PrC Loss: 3.4745 | Avg SnC Loss: 9.9407 | Avg FiC Loss: 2.8737 | Avg CE Loss: 0.0786 | Model Sparsity: 0.95\n",
      "\n"
     ]
    },
    {
     "name": "stderr",
     "output_type": "stream",
     "text": [
      "                                                                                                                                                \r"
     ]
    },
    {
     "name": "stdout",
     "output_type": "stream",
     "text": [
      "Retraining Epoch [5/10]: Avg Total Loss: 16.3494 | Avg PrC Loss: 3.4740 | Avg SnC Loss: 9.9270 | Avg FiC Loss: 2.8714 | Avg CE Loss: 0.0770 | Model Sparsity: 0.95\n",
      "\n"
     ]
    },
    {
     "name": "stderr",
     "output_type": "stream",
     "text": [
      "                                                                                                                                                \r"
     ]
    },
    {
     "name": "stdout",
     "output_type": "stream",
     "text": [
      "Retraining Epoch [6/10]: Avg Total Loss: 16.3679 | Avg PrC Loss: 3.4749 | Avg SnC Loss: 9.9420 | Avg FiC Loss: 2.8740 | Avg CE Loss: 0.0771 | Model Sparsity: 0.95\n",
      "\n",
      "[BaCP] weights saved!\n"
     ]
    },
    {
     "name": "stderr",
     "output_type": "stream",
     "text": [
      "                                                                                                                                                \r"
     ]
    },
    {
     "name": "stdout",
     "output_type": "stream",
     "text": [
      "Retraining Epoch [7/10]: Avg Total Loss: 16.3609 | Avg PrC Loss: 3.4738 | Avg SnC Loss: 9.9377 | Avg FiC Loss: 2.8720 | Avg CE Loss: 0.0773 | Model Sparsity: 0.95\n",
      "\n",
      "[BaCP] weights saved!\n"
     ]
    },
    {
     "name": "stderr",
     "output_type": "stream",
     "text": [
      "                                                                                                                                                \r"
     ]
    },
    {
     "name": "stdout",
     "output_type": "stream",
     "text": [
      "Retraining Epoch [8/10]: Avg Total Loss: 16.3454 | Avg PrC Loss: 3.4742 | Avg SnC Loss: 9.9250 | Avg FiC Loss: 2.8706 | Avg CE Loss: 0.0756 | Model Sparsity: 0.95\n",
      "\n"
     ]
    },
    {
     "name": "stderr",
     "output_type": "stream",
     "text": [
      "                                                                                                                                                \r"
     ]
    },
    {
     "name": "stdout",
     "output_type": "stream",
     "text": [
      "Retraining Epoch [9/10]: Avg Total Loss: 16.3492 | Avg PrC Loss: 3.4747 | Avg SnC Loss: 9.9278 | Avg FiC Loss: 2.8711 | Avg CE Loss: 0.0756 | Model Sparsity: 0.95\n",
      "\n",
      "[BaCP] weights saved!\n"
     ]
    },
    {
     "name": "stderr",
     "output_type": "stream",
     "text": [
      "                                                                                                                                                 \r"
     ]
    },
    {
     "name": "stdout",
     "output_type": "stream",
     "text": [
      "Retraining Epoch [10/10]: Avg Total Loss: 16.3415 | Avg PrC Loss: 3.4739 | Avg SnC Loss: 9.9229 | Avg FiC Loss: 2.8696 | Avg CE Loss: 0.0751 | Model Sparsity: 0.95\n",
      "\n",
      "[BaCP TRAINER] Mask generated from current model.\n",
      "[TRAINER] Image size: 32\n",
      "[TRAINER] Initialized models\n",
      "[TRAINER] Loading weights: ./research/resnet50/cifar10/resnet50_cifar10_magnitude_pruning_0.95_bacp_pruning_b3.pt\n",
      "[ERROR] Could not load weights: ./research/resnet50/cifar10/resnet50_cifar10_magnitude_pruning_0.95_bacp_pruning_b3.pt\n",
      "[ERROR] Attempting partial load\n",
      "[TRAINER] Weights loaded\n",
      "[TRAINER] Optimizer type w/ learning rate: (adamw, 0.0001)\n",
      "[CV DATALOADERS] Loaded cifar10 with splits: ['train', 'validation', 'test']\n",
      "[TRAINER] Data Initialized for model task: cifar10\n",
      "[TRAINER] Batch size: 512\n",
      "[TRAINER] Number of dataloders: 3\n",
      "[TRAINER] No scheduler initialized\n",
      "[TRAINER] Finetuning initialized\n",
      "[TRAINER] Pruning type: magnitude_pruning\n",
      "[TRAINER] Current sparsity: 0.9500\n",
      "[TRAINER] Saving model to: ./research/resnet50/cifar10/resnet50_cifar10_magnitude_pruning_0.95_bacp_b3_finetune.pt\n",
      "[TRAINER] Training with mixed precision enabled\n",
      "[TRAINER] Initial model sparsity: 0.95\n"
     ]
    },
    {
     "name": "stderr",
     "output_type": "stream",
     "text": [
      "                                                                                                  \r"
     ]
    },
    {
     "name": "stdout",
     "output_type": "stream",
     "text": [
      "Training epoch [1/50]: Avg Loss: 1.0058 | Avg Accuracy: 91.66 | Model Sparsity: 0.95\n",
      "\n",
      "[TRAINER] weights saved!\n"
     ]
    },
    {
     "name": "stderr",
     "output_type": "stream",
     "text": [
      "                                                                                                  \r"
     ]
    },
    {
     "name": "stdout",
     "output_type": "stream",
     "text": [
      "Training epoch [2/50]: Avg Loss: 0.3058 | Avg Accuracy: 92.68 | Model Sparsity: 0.95\n",
      "\n",
      "[TRAINER] weights saved!\n"
     ]
    },
    {
     "name": "stderr",
     "output_type": "stream",
     "text": [
      "                                                                                                  \r"
     ]
    },
    {
     "name": "stdout",
     "output_type": "stream",
     "text": [
      "Training epoch [3/50]: Avg Loss: 0.2327 | Avg Accuracy: 93.39 | Model Sparsity: 0.95\n",
      "\n",
      "[TRAINER] weights saved!\n"
     ]
    },
    {
     "name": "stderr",
     "output_type": "stream",
     "text": [
      "                                                                                                  \r"
     ]
    },
    {
     "name": "stdout",
     "output_type": "stream",
     "text": [
      "Training epoch [4/50]: Avg Loss: 0.2054 | Avg Accuracy: 94.00 | Model Sparsity: 0.95\n",
      "\n",
      "[TRAINER] weights saved!\n"
     ]
    },
    {
     "name": "stderr",
     "output_type": "stream",
     "text": [
      "                                                                                                  \r"
     ]
    },
    {
     "name": "stdout",
     "output_type": "stream",
     "text": [
      "Training epoch [5/50]: Avg Loss: 0.1864 | Avg Accuracy: 93.69 | Model Sparsity: 0.95\n",
      "\n"
     ]
    },
    {
     "name": "stderr",
     "output_type": "stream",
     "text": [
      "                                                                                                  \r"
     ]
    },
    {
     "name": "stdout",
     "output_type": "stream",
     "text": [
      "Training epoch [6/50]: Avg Loss: 0.1692 | Avg Accuracy: 94.02 | Model Sparsity: 0.95\n",
      "\n",
      "[TRAINER] weights saved!\n"
     ]
    },
    {
     "name": "stderr",
     "output_type": "stream",
     "text": [
      "                                                                                                  \r"
     ]
    },
    {
     "name": "stdout",
     "output_type": "stream",
     "text": [
      "Training epoch [7/50]: Avg Loss: 0.1626 | Avg Accuracy: 94.70 | Model Sparsity: 0.95\n",
      "\n",
      "[TRAINER] weights saved!\n"
     ]
    },
    {
     "name": "stderr",
     "output_type": "stream",
     "text": [
      "                                                                                                  \r"
     ]
    },
    {
     "name": "stdout",
     "output_type": "stream",
     "text": [
      "Training epoch [8/50]: Avg Loss: 0.1484 | Avg Accuracy: 93.89 | Model Sparsity: 0.95\n",
      "\n"
     ]
    },
    {
     "name": "stderr",
     "output_type": "stream",
     "text": [
      "                                                                                                  \r"
     ]
    },
    {
     "name": "stdout",
     "output_type": "stream",
     "text": [
      "Training epoch [9/50]: Avg Loss: 0.1412 | Avg Accuracy: 94.35 | Model Sparsity: 0.95\n",
      "\n"
     ]
    },
    {
     "name": "stderr",
     "output_type": "stream",
     "text": [
      "                                                                                                   \r"
     ]
    },
    {
     "name": "stdout",
     "output_type": "stream",
     "text": [
      "Training epoch [10/50]: Avg Loss: 0.1321 | Avg Accuracy: 94.53 | Model Sparsity: 0.95\n",
      "\n"
     ]
    },
    {
     "name": "stderr",
     "output_type": "stream",
     "text": [
      "                                                                                                   \r"
     ]
    },
    {
     "name": "stdout",
     "output_type": "stream",
     "text": [
      "Training epoch [11/50]: Avg Loss: 0.1246 | Avg Accuracy: 94.71 | Model Sparsity: 0.95\n",
      "\n",
      "[TRAINER] weights saved!\n"
     ]
    },
    {
     "name": "stderr",
     "output_type": "stream",
     "text": [
      "                                                                                                   \r"
     ]
    },
    {
     "name": "stdout",
     "output_type": "stream",
     "text": [
      "Training epoch [12/50]: Avg Loss: 0.1200 | Avg Accuracy: 94.50 | Model Sparsity: 0.95\n",
      "\n"
     ]
    },
    {
     "name": "stderr",
     "output_type": "stream",
     "text": [
      "                                                                                                   \r"
     ]
    },
    {
     "name": "stdout",
     "output_type": "stream",
     "text": [
      "Training epoch [13/50]: Avg Loss: 0.1135 | Avg Accuracy: 94.75 | Model Sparsity: 0.95\n",
      "\n",
      "[TRAINER] weights saved!\n"
     ]
    },
    {
     "name": "stderr",
     "output_type": "stream",
     "text": [
      "                                                                                                   \r"
     ]
    },
    {
     "name": "stdout",
     "output_type": "stream",
     "text": [
      "Training epoch [14/50]: Avg Loss: 0.1126 | Avg Accuracy: 94.92 | Model Sparsity: 0.95\n",
      "\n",
      "[TRAINER] weights saved!\n"
     ]
    },
    {
     "name": "stderr",
     "output_type": "stream",
     "text": [
      "                                                                                                   \r"
     ]
    },
    {
     "name": "stdout",
     "output_type": "stream",
     "text": [
      "Training epoch [15/50]: Avg Loss: 0.1020 | Avg Accuracy: 94.50 | Model Sparsity: 0.95\n",
      "\n"
     ]
    },
    {
     "name": "stderr",
     "output_type": "stream",
     "text": [
      "                                                                                                   \r"
     ]
    },
    {
     "name": "stdout",
     "output_type": "stream",
     "text": [
      "Training epoch [16/50]: Avg Loss: 0.0975 | Avg Accuracy: 94.49 | Model Sparsity: 0.95\n",
      "\n"
     ]
    },
    {
     "name": "stderr",
     "output_type": "stream",
     "text": [
      "                                                                                                   \r"
     ]
    },
    {
     "name": "stdout",
     "output_type": "stream",
     "text": [
      "Training epoch [17/50]: Avg Loss: 0.0934 | Avg Accuracy: 94.59 | Model Sparsity: 0.95\n",
      "\n"
     ]
    },
    {
     "name": "stderr",
     "output_type": "stream",
     "text": [
      "                                                                                                   \r"
     ]
    },
    {
     "name": "stdout",
     "output_type": "stream",
     "text": [
      "Training epoch [18/50]: Avg Loss: 0.0907 | Avg Accuracy: 94.99 | Model Sparsity: 0.95\n",
      "\n",
      "[TRAINER] weights saved!\n"
     ]
    },
    {
     "name": "stderr",
     "output_type": "stream",
     "text": [
      "                                                                                                   \r"
     ]
    },
    {
     "name": "stdout",
     "output_type": "stream",
     "text": [
      "Training epoch [19/50]: Avg Loss: 0.0846 | Avg Accuracy: 94.59 | Model Sparsity: 0.95\n",
      "\n"
     ]
    },
    {
     "name": "stderr",
     "output_type": "stream",
     "text": [
      "                                                                                                   \r"
     ]
    },
    {
     "name": "stdout",
     "output_type": "stream",
     "text": [
      "Training epoch [20/50]: Avg Loss: 0.0821 | Avg Accuracy: 94.88 | Model Sparsity: 0.95\n",
      "\n"
     ]
    },
    {
     "name": "stderr",
     "output_type": "stream",
     "text": [
      "                                                                                                   \r"
     ]
    },
    {
     "name": "stdout",
     "output_type": "stream",
     "text": [
      "Training epoch [21/50]: Avg Loss: 0.0782 | Avg Accuracy: 94.88 | Model Sparsity: 0.95\n",
      "\n"
     ]
    },
    {
     "name": "stderr",
     "output_type": "stream",
     "text": [
      "                                                                                                   \r"
     ]
    },
    {
     "name": "stdout",
     "output_type": "stream",
     "text": [
      "Training epoch [22/50]: Avg Loss: 0.0744 | Avg Accuracy: 94.81 | Model Sparsity: 0.95\n",
      "\n"
     ]
    },
    {
     "name": "stderr",
     "output_type": "stream",
     "text": [
      "                                                                                                   \r"
     ]
    },
    {
     "name": "stdout",
     "output_type": "stream",
     "text": [
      "Training epoch [23/50]: Avg Loss: 0.0720 | Avg Accuracy: 94.92 | Model Sparsity: 0.95\n",
      "\n"
     ]
    },
    {
     "name": "stderr",
     "output_type": "stream",
     "text": [
      "                                                                                                   \r"
     ]
    },
    {
     "name": "stdout",
     "output_type": "stream",
     "text": [
      "Training epoch [24/50]: Avg Loss: 0.0689 | Avg Accuracy: 94.64 | Model Sparsity: 0.95\n",
      "\n"
     ]
    },
    {
     "name": "stderr",
     "output_type": "stream",
     "text": [
      "                                                                                                   \r"
     ]
    },
    {
     "name": "stdout",
     "output_type": "stream",
     "text": [
      "Training epoch [25/50]: Avg Loss: 0.0658 | Avg Accuracy: 94.82 | Model Sparsity: 0.95\n",
      "\n"
     ]
    },
    {
     "name": "stderr",
     "output_type": "stream",
     "text": [
      "                                                                                                   \r"
     ]
    },
    {
     "name": "stdout",
     "output_type": "stream",
     "text": [
      "Training epoch [26/50]: Avg Loss: 0.0625 | Avg Accuracy: 94.81 | Model Sparsity: 0.95\n",
      "\n"
     ]
    },
    {
     "name": "stderr",
     "output_type": "stream",
     "text": [
      "                                                                                                   \r"
     ]
    },
    {
     "name": "stdout",
     "output_type": "stream",
     "text": [
      "Training epoch [27/50]: Avg Loss: 0.0614 | Avg Accuracy: 95.20 | Model Sparsity: 0.95\n",
      "\n",
      "[TRAINER] weights saved!\n"
     ]
    },
    {
     "name": "stderr",
     "output_type": "stream",
     "text": [
      "                                                                                                   \r"
     ]
    },
    {
     "name": "stdout",
     "output_type": "stream",
     "text": [
      "Training epoch [28/50]: Avg Loss: 0.0574 | Avg Accuracy: 94.94 | Model Sparsity: 0.95\n",
      "\n"
     ]
    },
    {
     "name": "stderr",
     "output_type": "stream",
     "text": [
      "                                                                                                   \r"
     ]
    },
    {
     "name": "stdout",
     "output_type": "stream",
     "text": [
      "Training epoch [29/50]: Avg Loss: 0.0540 | Avg Accuracy: 94.70 | Model Sparsity: 0.95\n",
      "\n"
     ]
    },
    {
     "name": "stderr",
     "output_type": "stream",
     "text": [
      "                                                                                                   \r"
     ]
    },
    {
     "name": "stdout",
     "output_type": "stream",
     "text": [
      "Training epoch [30/50]: Avg Loss: 0.0535 | Avg Accuracy: 94.82 | Model Sparsity: 0.95\n",
      "\n"
     ]
    },
    {
     "name": "stderr",
     "output_type": "stream",
     "text": [
      "                                                                                                   \r"
     ]
    },
    {
     "name": "stdout",
     "output_type": "stream",
     "text": [
      "Training epoch [31/50]: Avg Loss: 0.0539 | Avg Accuracy: 94.89 | Model Sparsity: 0.95\n",
      "\n"
     ]
    },
    {
     "name": "stderr",
     "output_type": "stream",
     "text": [
      "                                                                                                   \r"
     ]
    },
    {
     "name": "stdout",
     "output_type": "stream",
     "text": [
      "Training epoch [32/50]: Avg Loss: 0.0456 | Avg Accuracy: 95.12 | Model Sparsity: 0.95\n",
      "\n"
     ]
    },
    {
     "name": "stderr",
     "output_type": "stream",
     "text": [
      "                                                                                                   \r"
     ]
    },
    {
     "name": "stdout",
     "output_type": "stream",
     "text": [
      "Training epoch [33/50]: Avg Loss: 0.0470 | Avg Accuracy: 94.92 | Model Sparsity: 0.95\n",
      "\n"
     ]
    },
    {
     "name": "stderr",
     "output_type": "stream",
     "text": [
      "                                                                                                   \r"
     ]
    },
    {
     "name": "stdout",
     "output_type": "stream",
     "text": [
      "Training epoch [34/50]: Avg Loss: 0.0447 | Avg Accuracy: 94.89 | Model Sparsity: 0.95\n",
      "\n"
     ]
    },
    {
     "name": "stderr",
     "output_type": "stream",
     "text": [
      "                                                                                                   \r"
     ]
    },
    {
     "name": "stdout",
     "output_type": "stream",
     "text": [
      "Training epoch [35/50]: Avg Loss: 0.0448 | Avg Accuracy: 95.34 | Model Sparsity: 0.95\n",
      "\n",
      "[TRAINER] weights saved!\n"
     ]
    },
    {
     "name": "stderr",
     "output_type": "stream",
     "text": [
      "                                                                                                   \r"
     ]
    },
    {
     "name": "stdout",
     "output_type": "stream",
     "text": [
      "Training epoch [36/50]: Avg Loss: 0.0434 | Avg Accuracy: 94.55 | Model Sparsity: 0.95\n",
      "\n"
     ]
    },
    {
     "name": "stderr",
     "output_type": "stream",
     "text": [
      "                                                                                                   \r"
     ]
    },
    {
     "name": "stdout",
     "output_type": "stream",
     "text": [
      "Training epoch [37/50]: Avg Loss: 0.0394 | Avg Accuracy: 94.91 | Model Sparsity: 0.95\n",
      "\n"
     ]
    },
    {
     "name": "stderr",
     "output_type": "stream",
     "text": [
      "                                                                                                   \r"
     ]
    },
    {
     "name": "stdout",
     "output_type": "stream",
     "text": [
      "Training epoch [38/50]: Avg Loss: 0.0393 | Avg Accuracy: 94.99 | Model Sparsity: 0.95\n",
      "\n"
     ]
    },
    {
     "name": "stderr",
     "output_type": "stream",
     "text": [
      "                                                                                                   \r"
     ]
    },
    {
     "name": "stdout",
     "output_type": "stream",
     "text": [
      "Training epoch [39/50]: Avg Loss: 0.0389 | Avg Accuracy: 94.41 | Model Sparsity: 0.95\n",
      "\n"
     ]
    },
    {
     "name": "stderr",
     "output_type": "stream",
     "text": [
      "                                                                                                   \r"
     ]
    },
    {
     "name": "stdout",
     "output_type": "stream",
     "text": [
      "Training epoch [40/50]: Avg Loss: 0.0374 | Avg Accuracy: 94.66 | Model Sparsity: 0.95\n",
      "\n"
     ]
    },
    {
     "name": "stderr",
     "output_type": "stream",
     "text": [
      "                                                                                                   \r"
     ]
    },
    {
     "name": "stdout",
     "output_type": "stream",
     "text": [
      "Training epoch [41/50]: Avg Loss: 0.0347 | Avg Accuracy: 94.89 | Model Sparsity: 0.95\n",
      "\n"
     ]
    },
    {
     "name": "stderr",
     "output_type": "stream",
     "text": [
      "                                                                                                   \r"
     ]
    },
    {
     "name": "stdout",
     "output_type": "stream",
     "text": [
      "Training epoch [42/50]: Avg Loss: 0.0344 | Avg Accuracy: 94.88 | Model Sparsity: 0.95\n",
      "\n"
     ]
    },
    {
     "name": "stderr",
     "output_type": "stream",
     "text": [
      "                                                                                                   \r"
     ]
    },
    {
     "name": "stdout",
     "output_type": "stream",
     "text": [
      "Training epoch [43/50]: Avg Loss: 0.0308 | Avg Accuracy: 94.89 | Model Sparsity: 0.95\n",
      "\n"
     ]
    },
    {
     "name": "stderr",
     "output_type": "stream",
     "text": [
      "                                                                                                   \r"
     ]
    },
    {
     "name": "stdout",
     "output_type": "stream",
     "text": [
      "Training epoch [44/50]: Avg Loss: 0.0317 | Avg Accuracy: 94.89 | Model Sparsity: 0.95\n",
      "\n"
     ]
    },
    {
     "name": "stderr",
     "output_type": "stream",
     "text": [
      "                                                                                                   \r"
     ]
    },
    {
     "name": "stdout",
     "output_type": "stream",
     "text": [
      "Training epoch [45/50]: Avg Loss: 0.0316 | Avg Accuracy: 95.01 | Model Sparsity: 0.95\n",
      "\n"
     ]
    },
    {
     "name": "stderr",
     "output_type": "stream",
     "text": [
      "                                                                                                   \r"
     ]
    },
    {
     "name": "stdout",
     "output_type": "stream",
     "text": [
      "Training epoch [46/50]: Avg Loss: 0.0282 | Avg Accuracy: 94.99 | Model Sparsity: 0.95\n",
      "\n"
     ]
    },
    {
     "name": "stderr",
     "output_type": "stream",
     "text": [
      "                                                                                                   \r"
     ]
    },
    {
     "name": "stdout",
     "output_type": "stream",
     "text": [
      "Training epoch [47/50]: Avg Loss: 0.0286 | Avg Accuracy: 94.88 | Model Sparsity: 0.95\n",
      "\n"
     ]
    },
    {
     "name": "stderr",
     "output_type": "stream",
     "text": [
      "                                                                                                   \r"
     ]
    },
    {
     "name": "stdout",
     "output_type": "stream",
     "text": [
      "Training epoch [48/50]: Avg Loss: 0.0260 | Avg Accuracy: 95.01 | Model Sparsity: 0.95\n",
      "\n"
     ]
    },
    {
     "name": "stderr",
     "output_type": "stream",
     "text": [
      "                                                                                                   \r"
     ]
    },
    {
     "name": "stdout",
     "output_type": "stream",
     "text": [
      "Training epoch [49/50]: Avg Loss: 0.0251 | Avg Accuracy: 94.85 | Model Sparsity: 0.95\n",
      "\n"
     ]
    },
    {
     "name": "stderr",
     "output_type": "stream",
     "text": [
      "                                                                                                   \r"
     ]
    },
    {
     "name": "stdout",
     "output_type": "stream",
     "text": [
      "Training epoch [50/50]: Avg Loss: 0.0257 | Avg Accuracy: 95.17 | Model Sparsity: 0.95\n",
      "\n",
      "[TRAINER] Loading weights: ./research/resnet50/cifar10/resnet50_cifar10_magnitude_pruning_0.95_bacp_b3_finetune.pt\n",
      "[TRAINER] Weights loaded successfully\n",
      "[TRAINER] Model Sparsity: 0.95\n"
     ]
    },
    {
     "name": "stderr",
     "output_type": "stream",
     "text": [
      "                                                           \r"
     ]
    },
    {
     "name": "stdout",
     "output_type": "stream",
     "text": [
      "\n",
      "============================================================\n",
      "TRAINING STATISTICS SUMMARY\n",
      "============================================================\n",
      "\n",
      "Performance Metrics:\n",
      "------------------------------\n",
      "  Accuracy:     92.96%\n",
      "\n",
      "Model Information:\n",
      "------------------------------\n",
      "  Total Parameters:     23,520,842\n",
      "  Trainable Parameters: 23,520,842\n",
      "  Model Sparsity:       0.9500 (95.00%)\n",
      "\n",
      "Training Configuration:\n",
      "------------------------------\n",
      "  Model:                resnet50\n",
      "  Task:                 cifar10\n",
      "  Learning Type:        bacp_b3_finetune\n",
      "  Batch Size:           512\n",
      "  Learning Rate:        0.0001\n",
      "  Optimizer:            adamw\n",
      "  Epochs:               50\n",
      "\n",
      "System Information:\n",
      "------------------------------\n",
      "  Device:               cuda\n",
      "  Mixed Precision:      True\n",
      "  Workers:              24\n",
      "\n",
      "============================================================\n",
      "================================================================================\n",
      "Disabling all contrastive losses for this training cycle.\n",
      "================================================================================\n",
      "[TRAINER] Image size: 32\n",
      "[ERROR] Could not load weights: ./research/resnet50/cifar10/resnet50_cifar10_baseline.pt\n",
      "[ERROR] Attempting partial load\n",
      "[TRAINER] Weights loaded successfully\n",
      "[TRAINER] Initialized BaCP models\n",
      "[TRAINER] Optimizer type w/ learning rate: (sgd, 0.1)\n",
      "[TRAINER] No scheduler initialized\n",
      "[CV DATALOADERS] Loaded cifar10 with splits: ['train', 'validation', 'test']\n",
      "[TRAINER] Data Initialized for model task: cifar10\n",
      "[TRAINER] Batch size: 512\n",
      "[TRAINER] Number of dataloders: 3\n",
      "[TRAINER] Pruning initialized\n",
      "[TRAINER] Pruning type: magnitude_pruning\n",
      "[TRAINER] Target sparsity: 0.95\n",
      "[TRAINER] Sparsity scheduler: cubic\n",
      "[TRAINER] Pruning epochs: 5\n",
      "[TRAINER] Current sparsity: 0.0000\n",
      "[TRAINER] Saving model to: ./research/resnet50/cifar10/resnet50_cifar10_magnitude_pruning_0.95_bacp_pruning_b3.pt\n"
     ]
    },
    {
     "name": "stderr",
     "output_type": "stream",
     "text": [
      "Training Epoch [1/5]:   0%|          | 0/83 [00:00<?, ?it/s]"
     ]
    },
    {
     "name": "stdout",
     "output_type": "stream",
     "text": [
      "\n",
      "[Pruner] Cubic Sparsity ratio increased to 0.464.\n",
      "\n"
     ]
    },
    {
     "name": "stderr",
     "output_type": "stream",
     "text": [
      "                                                                                                                                         \r"
     ]
    },
    {
     "name": "stdout",
     "output_type": "stream",
     "text": [
      "Epoch [1/5]: Avg Total Loss: 7.4784 | Avg PrC Loss: 3.5474 | Avg SnC Loss: 0.0000 | Avg FiC Loss: 3.5647 | Avg CE Loss: 0.3664 | Model Sparsity: 0.4636\n",
      "\n",
      "[BaCP] weights saved!\n"
     ]
    },
    {
     "name": "stderr",
     "output_type": "stream",
     "text": [
      "                                                                                                                                            \r"
     ]
    },
    {
     "name": "stdout",
     "output_type": "stream",
     "text": [
      "Retraining Epoch [1/10]: Avg Total Loss: 6.7864 | Avg PrC Loss: 3.4736 | Avg SnC Loss: 0.0000 | Avg FiC Loss: 3.1298 | Avg CE Loss: 0.1830 | Model Sparsity: 0.4636\n",
      "\n"
     ]
    },
    {
     "name": "stderr",
     "output_type": "stream",
     "text": [
      "                                                                                                                                            \r"
     ]
    },
    {
     "name": "stdout",
     "output_type": "stream",
     "text": [
      "Retraining Epoch [2/10]: Avg Total Loss: 6.5466 | Avg PrC Loss: 3.4530 | Avg SnC Loss: 0.0000 | Avg FiC Loss: 2.9626 | Avg CE Loss: 0.1310 | Model Sparsity: 0.4636\n",
      "\n"
     ]
    },
    {
     "name": "stderr",
     "output_type": "stream",
     "text": [
      "                                                                                                                                             \r"
     ]
    },
    {
     "name": "stdout",
     "output_type": "stream",
     "text": [
      "Retraining Epoch [3/10]: Avg Total Loss: 6.4704 | Avg PrC Loss: 3.4436 | Avg SnC Loss: 0.0000 | Avg FiC Loss: 2.9200 | Avg CE Loss: 0.1068 | Model Sparsity: 0.4636\n",
      "\n"
     ]
    },
    {
     "name": "stderr",
     "output_type": "stream",
     "text": [
      "                                                                                                                                             \r"
     ]
    },
    {
     "name": "stdout",
     "output_type": "stream",
     "text": [
      "Retraining Epoch [4/10]: Avg Total Loss: 6.4148 | Avg PrC Loss: 3.4354 | Avg SnC Loss: 0.0000 | Avg FiC Loss: 2.8877 | Avg CE Loss: 0.0918 | Model Sparsity: 0.4636\n",
      "\n"
     ]
    },
    {
     "name": "stderr",
     "output_type": "stream",
     "text": [
      "                                                                                                                                             \r"
     ]
    },
    {
     "name": "stdout",
     "output_type": "stream",
     "text": [
      "Retraining Epoch [5/10]: Avg Total Loss: 6.3825 | Avg PrC Loss: 3.4294 | Avg SnC Loss: 0.0000 | Avg FiC Loss: 2.8699 | Avg CE Loss: 0.0832 | Model Sparsity: 0.4636\n",
      "\n"
     ]
    },
    {
     "name": "stderr",
     "output_type": "stream",
     "text": [
      "                                                                                                                                             \r"
     ]
    },
    {
     "name": "stdout",
     "output_type": "stream",
     "text": [
      "Retraining Epoch [6/10]: Avg Total Loss: 6.3592 | Avg PrC Loss: 3.4245 | Avg SnC Loss: 0.0000 | Avg FiC Loss: 2.8570 | Avg CE Loss: 0.0777 | Model Sparsity: 0.4636\n",
      "\n"
     ]
    },
    {
     "name": "stderr",
     "output_type": "stream",
     "text": [
      "                                                                                                                                             \r"
     ]
    },
    {
     "name": "stdout",
     "output_type": "stream",
     "text": [
      "Retraining Epoch [7/10]: Avg Total Loss: 6.3465 | Avg PrC Loss: 3.4219 | Avg SnC Loss: 0.0000 | Avg FiC Loss: 2.8516 | Avg CE Loss: 0.0730 | Model Sparsity: 0.4636\n",
      "\n"
     ]
    },
    {
     "name": "stderr",
     "output_type": "stream",
     "text": [
      "                                                                                                                                             \r"
     ]
    },
    {
     "name": "stdout",
     "output_type": "stream",
     "text": [
      "Retraining Epoch [8/10]: Avg Total Loss: 6.3401 | Avg PrC Loss: 3.4198 | Avg SnC Loss: 0.0000 | Avg FiC Loss: 2.8496 | Avg CE Loss: 0.0708 | Model Sparsity: 0.4636\n",
      "\n"
     ]
    },
    {
     "name": "stderr",
     "output_type": "stream",
     "text": [
      "                                                                                                                                             \r"
     ]
    },
    {
     "name": "stdout",
     "output_type": "stream",
     "text": [
      "Retraining Epoch [9/10]: Avg Total Loss: 6.3336 | Avg PrC Loss: 3.4179 | Avg SnC Loss: 0.0000 | Avg FiC Loss: 2.8460 | Avg CE Loss: 0.0697 | Model Sparsity: 0.4636\n",
      "\n"
     ]
    },
    {
     "name": "stderr",
     "output_type": "stream",
     "text": [
      "                                                                                                                                              \r"
     ]
    },
    {
     "name": "stdout",
     "output_type": "stream",
     "text": [
      "Retraining Epoch [10/10]: Avg Total Loss: 6.3248 | Avg PrC Loss: 3.4165 | Avg SnC Loss: 0.0000 | Avg FiC Loss: 2.8404 | Avg CE Loss: 0.0679 | Model Sparsity: 0.4636\n",
      "\n"
     ]
    },
    {
     "name": "stderr",
     "output_type": "stream",
     "text": [
      "Training Epoch [2/5]:   0%|          | 0/83 [00:00<?, ?it/s]"
     ]
    },
    {
     "name": "stdout",
     "output_type": "stream",
     "text": [
      "\n",
      "[Pruner] Cubic Sparsity ratio increased to 0.745.\n",
      "\n"
     ]
    },
    {
     "name": "stderr",
     "output_type": "stream",
     "text": [
      "                                                                                                                                             \r"
     ]
    },
    {
     "name": "stdout",
     "output_type": "stream",
     "text": [
      "Epoch [2/5]: Avg Total Loss: 8.9357 | Avg PrC Loss: 3.4447 | Avg SnC Loss: 2.5819 | Avg FiC Loss: 2.8361 | Avg CE Loss: 0.0731 | Model Sparsity: 0.7448\n",
      "\n",
      "[BaCP] weights saved!\n"
     ]
    },
    {
     "name": "stderr",
     "output_type": "stream",
     "text": [
      "                                                                                                                                                \r"
     ]
    },
    {
     "name": "stdout",
     "output_type": "stream",
     "text": [
      "Retraining Epoch [1/10]: Avg Total Loss: 8.9391 | Avg PrC Loss: 3.4430 | Avg SnC Loss: 2.5853 | Avg FiC Loss: 2.8362 | Avg CE Loss: 0.0746 | Model Sparsity: 0.7448\n",
      "\n",
      "[BaCP] weights saved!\n"
     ]
    },
    {
     "name": "stderr",
     "output_type": "stream",
     "text": [
      "                                                                                                                                                \r"
     ]
    },
    {
     "name": "stdout",
     "output_type": "stream",
     "text": [
      "Retraining Epoch [2/10]: Avg Total Loss: 8.9293 | Avg PrC Loss: 3.4424 | Avg SnC Loss: 2.5811 | Avg FiC Loss: 2.8324 | Avg CE Loss: 0.0733 | Model Sparsity: 0.7448\n",
      "\n"
     ]
    },
    {
     "name": "stderr",
     "output_type": "stream",
     "text": [
      "                                                                                                                                                \r"
     ]
    },
    {
     "name": "stdout",
     "output_type": "stream",
     "text": [
      "Retraining Epoch [3/10]: Avg Total Loss: 8.9156 | Avg PrC Loss: 3.4410 | Avg SnC Loss: 2.5763 | Avg FiC Loss: 2.8275 | Avg CE Loss: 0.0707 | Model Sparsity: 0.7448\n",
      "\n"
     ]
    },
    {
     "name": "stderr",
     "output_type": "stream",
     "text": [
      "                                                                                                                                                \r"
     ]
    },
    {
     "name": "stdout",
     "output_type": "stream",
     "text": [
      "Retraining Epoch [4/10]: Avg Total Loss: 8.9053 | Avg PrC Loss: 3.4402 | Avg SnC Loss: 2.5719 | Avg FiC Loss: 2.8250 | Avg CE Loss: 0.0682 | Model Sparsity: 0.7448\n",
      "\n"
     ]
    },
    {
     "name": "stderr",
     "output_type": "stream",
     "text": [
      "                                                                                                                                                \r"
     ]
    },
    {
     "name": "stdout",
     "output_type": "stream",
     "text": [
      "Retraining Epoch [5/10]: Avg Total Loss: 8.9136 | Avg PrC Loss: 3.4403 | Avg SnC Loss: 2.5770 | Avg FiC Loss: 2.8267 | Avg CE Loss: 0.0696 | Model Sparsity: 0.7448\n",
      "\n",
      "[BaCP] weights saved!\n"
     ]
    },
    {
     "name": "stderr",
     "output_type": "stream",
     "text": [
      "                                                                                                                                                \r"
     ]
    },
    {
     "name": "stdout",
     "output_type": "stream",
     "text": [
      "Retraining Epoch [6/10]: Avg Total Loss: 8.9061 | Avg PrC Loss: 3.4398 | Avg SnC Loss: 2.5736 | Avg FiC Loss: 2.8251 | Avg CE Loss: 0.0677 | Model Sparsity: 0.7448\n",
      "\n",
      "[BaCP] weights saved!\n"
     ]
    },
    {
     "name": "stderr",
     "output_type": "stream",
     "text": [
      "                                                                                                                                                \r"
     ]
    },
    {
     "name": "stdout",
     "output_type": "stream",
     "text": [
      "Retraining Epoch [7/10]: Avg Total Loss: 8.8938 | Avg PrC Loss: 3.4381 | Avg SnC Loss: 2.5686 | Avg FiC Loss: 2.8206 | Avg CE Loss: 0.0665 | Model Sparsity: 0.7448\n",
      "\n"
     ]
    },
    {
     "name": "stderr",
     "output_type": "stream",
     "text": [
      "                                                                                                                                                \r"
     ]
    },
    {
     "name": "stdout",
     "output_type": "stream",
     "text": [
      "Retraining Epoch [8/10]: Avg Total Loss: 8.9010 | Avg PrC Loss: 3.4390 | Avg SnC Loss: 2.5710 | Avg FiC Loss: 2.8221 | Avg CE Loss: 0.0689 | Model Sparsity: 0.7448\n",
      "\n",
      "[BaCP] weights saved!\n"
     ]
    },
    {
     "name": "stderr",
     "output_type": "stream",
     "text": [
      "                                                                                                                                                \r"
     ]
    },
    {
     "name": "stdout",
     "output_type": "stream",
     "text": [
      "Retraining Epoch [9/10]: Avg Total Loss: 8.8947 | Avg PrC Loss: 3.4380 | Avg SnC Loss: 2.5681 | Avg FiC Loss: 2.8200 | Avg CE Loss: 0.0686 | Model Sparsity: 0.7448\n",
      "\n",
      "[BaCP] weights saved!\n"
     ]
    },
    {
     "name": "stderr",
     "output_type": "stream",
     "text": [
      "                                                                                                                                                 \r"
     ]
    },
    {
     "name": "stdout",
     "output_type": "stream",
     "text": [
      "Retraining Epoch [10/10]: Avg Total Loss: 8.8962 | Avg PrC Loss: 3.4373 | Avg SnC Loss: 2.5701 | Avg FiC Loss: 2.8209 | Avg CE Loss: 0.0679 | Model Sparsity: 0.7448\n",
      "\n",
      "[BaCP] weights saved!\n"
     ]
    },
    {
     "name": "stderr",
     "output_type": "stream",
     "text": [
      "Training Epoch [3/5]:   0%|          | 0/83 [00:00<?, ?it/s]"
     ]
    },
    {
     "name": "stdout",
     "output_type": "stream",
     "text": [
      "\n",
      "[Pruner] Cubic Sparsity ratio increased to 0.889.\n",
      "\n"
     ]
    },
    {
     "name": "stderr",
     "output_type": "stream",
     "text": [
      "                                                                                                                                             \r"
     ]
    },
    {
     "name": "stdout",
     "output_type": "stream",
     "text": [
      "Epoch [3/5]: Avg Total Loss: 11.4634 | Avg PrC Loss: 3.4642 | Avg SnC Loss: 5.0840 | Avg FiC Loss: 2.8301 | Avg CE Loss: 0.0850 | Model Sparsity: 0.8892\n",
      "\n",
      "[BaCP] weights saved!\n"
     ]
    },
    {
     "name": "stderr",
     "output_type": "stream",
     "text": [
      "                                                                                                                                                \r"
     ]
    },
    {
     "name": "stdout",
     "output_type": "stream",
     "text": [
      "Retraining Epoch [1/10]: Avg Total Loss: 11.4552 | Avg PrC Loss: 3.4641 | Avg SnC Loss: 5.0810 | Avg FiC Loss: 2.8288 | Avg CE Loss: 0.0813 | Model Sparsity: 0.8892\n",
      "\n"
     ]
    },
    {
     "name": "stderr",
     "output_type": "stream",
     "text": [
      "                                                                                                                                                \r"
     ]
    },
    {
     "name": "stdout",
     "output_type": "stream",
     "text": [
      "Retraining Epoch [2/10]: Avg Total Loss: 11.4223 | Avg PrC Loss: 3.4629 | Avg SnC Loss: 5.0632 | Avg FiC Loss: 2.8209 | Avg CE Loss: 0.0754 | Model Sparsity: 0.8892\n",
      "\n"
     ]
    },
    {
     "name": "stderr",
     "output_type": "stream",
     "text": [
      "                                                                                                                                                \r"
     ]
    },
    {
     "name": "stdout",
     "output_type": "stream",
     "text": [
      "Retraining Epoch [3/10]: Avg Total Loss: 11.4101 | Avg PrC Loss: 3.4620 | Avg SnC Loss: 5.0573 | Avg FiC Loss: 2.8176 | Avg CE Loss: 0.0733 | Model Sparsity: 0.8892\n",
      "\n"
     ]
    },
    {
     "name": "stderr",
     "output_type": "stream",
     "text": [
      "                                                                                                                                                \r"
     ]
    },
    {
     "name": "stdout",
     "output_type": "stream",
     "text": [
      "Retraining Epoch [4/10]: Avg Total Loss: 11.4084 | Avg PrC Loss: 3.4628 | Avg SnC Loss: 5.0551 | Avg FiC Loss: 2.8172 | Avg CE Loss: 0.0734 | Model Sparsity: 0.8892\n",
      "\n"
     ]
    },
    {
     "name": "stderr",
     "output_type": "stream",
     "text": [
      "                                                                                                                                                \r"
     ]
    },
    {
     "name": "stdout",
     "output_type": "stream",
     "text": [
      "Retraining Epoch [5/10]: Avg Total Loss: 11.4133 | Avg PrC Loss: 3.4620 | Avg SnC Loss: 5.0590 | Avg FiC Loss: 2.8199 | Avg CE Loss: 0.0724 | Model Sparsity: 0.8892\n",
      "\n",
      "[BaCP] weights saved!\n"
     ]
    },
    {
     "name": "stderr",
     "output_type": "stream",
     "text": [
      "                                                                                                                                                \r"
     ]
    },
    {
     "name": "stdout",
     "output_type": "stream",
     "text": [
      "Retraining Epoch [6/10]: Avg Total Loss: 11.4031 | Avg PrC Loss: 3.4606 | Avg SnC Loss: 5.0534 | Avg FiC Loss: 2.8166 | Avg CE Loss: 0.0725 | Model Sparsity: 0.8892\n",
      "\n"
     ]
    },
    {
     "name": "stderr",
     "output_type": "stream",
     "text": [
      "                                                                                                                                                \r"
     ]
    },
    {
     "name": "stdout",
     "output_type": "stream",
     "text": [
      "Retraining Epoch [7/10]: Avg Total Loss: 11.3954 | Avg PrC Loss: 3.4618 | Avg SnC Loss: 5.0484 | Avg FiC Loss: 2.8141 | Avg CE Loss: 0.0712 | Model Sparsity: 0.8892\n",
      "\n"
     ]
    },
    {
     "name": "stderr",
     "output_type": "stream",
     "text": [
      "                                                                                                                                                \r"
     ]
    },
    {
     "name": "stdout",
     "output_type": "stream",
     "text": [
      "Retraining Epoch [8/10]: Avg Total Loss: 11.3996 | Avg PrC Loss: 3.4606 | Avg SnC Loss: 5.0502 | Avg FiC Loss: 2.8163 | Avg CE Loss: 0.0725 | Model Sparsity: 0.8892\n",
      "\n",
      "[BaCP] weights saved!\n"
     ]
    },
    {
     "name": "stderr",
     "output_type": "stream",
     "text": [
      "                                                                                                                                                \r"
     ]
    },
    {
     "name": "stdout",
     "output_type": "stream",
     "text": [
      "Retraining Epoch [9/10]: Avg Total Loss: 11.3920 | Avg PrC Loss: 3.4601 | Avg SnC Loss: 5.0486 | Avg FiC Loss: 2.8118 | Avg CE Loss: 0.0715 | Model Sparsity: 0.8892\n",
      "\n"
     ]
    },
    {
     "name": "stderr",
     "output_type": "stream",
     "text": [
      "                                                                                                                                                 \r"
     ]
    },
    {
     "name": "stdout",
     "output_type": "stream",
     "text": [
      "Retraining Epoch [10/10]: Avg Total Loss: 11.3861 | Avg PrC Loss: 3.4598 | Avg SnC Loss: 5.0437 | Avg FiC Loss: 2.8123 | Avg CE Loss: 0.0702 | Model Sparsity: 0.8892\n",
      "\n"
     ]
    },
    {
     "name": "stderr",
     "output_type": "stream",
     "text": [
      "Training Epoch [4/5]:   1%|          | 1/83 [00:01<01:36,  1.17s/it, Loss=13.8, PrC Loss=3.46, SnC Loss=7.44, FiC Loss=2.83, CE Loss=0.0663]"
     ]
    },
    {
     "name": "stdout",
     "output_type": "stream",
     "text": [
      "\n",
      "[Pruner] Cubic Sparsity ratio increased to 0.942.\n",
      "\n"
     ]
    },
    {
     "name": "stderr",
     "output_type": "stream",
     "text": [
      "                                                                                                                                             \r"
     ]
    },
    {
     "name": "stdout",
     "output_type": "stream",
     "text": [
      "Epoch [4/5]: Avg Total Loss: 13.8863 | Avg PrC Loss: 3.4820 | Avg SnC Loss: 7.4961 | Avg FiC Loss: 2.8226 | Avg CE Loss: 0.0855 | Model Sparsity: 0.9424\n",
      "\n",
      "[BaCP] weights saved!\n"
     ]
    },
    {
     "name": "stderr",
     "output_type": "stream",
     "text": [
      "                                                                                                                                                \r"
     ]
    },
    {
     "name": "stdout",
     "output_type": "stream",
     "text": [
      "Retraining Epoch [1/10]: Avg Total Loss: 13.8907 | Avg PrC Loss: 3.4824 | Avg SnC Loss: 7.4997 | Avg FiC Loss: 2.8250 | Avg CE Loss: 0.0836 | Model Sparsity: 0.9424\n",
      "\n",
      "[BaCP] weights saved!\n"
     ]
    },
    {
     "name": "stderr",
     "output_type": "stream",
     "text": [
      "                                                                                                                                                \r"
     ]
    },
    {
     "name": "stdout",
     "output_type": "stream",
     "text": [
      "Retraining Epoch [2/10]: Avg Total Loss: 13.8829 | Avg PrC Loss: 3.4814 | Avg SnC Loss: 7.4951 | Avg FiC Loss: 2.8234 | Avg CE Loss: 0.0830 | Model Sparsity: 0.9424\n",
      "\n"
     ]
    },
    {
     "name": "stderr",
     "output_type": "stream",
     "text": [
      "                                                                                                                                                \r"
     ]
    },
    {
     "name": "stdout",
     "output_type": "stream",
     "text": [
      "Retraining Epoch [3/10]: Avg Total Loss: 13.8647 | Avg PrC Loss: 3.4818 | Avg SnC Loss: 7.4836 | Avg FiC Loss: 2.8198 | Avg CE Loss: 0.0796 | Model Sparsity: 0.9424\n",
      "\n"
     ]
    },
    {
     "name": "stderr",
     "output_type": "stream",
     "text": [
      "                                                                                                                                                \r"
     ]
    },
    {
     "name": "stdout",
     "output_type": "stream",
     "text": [
      "Retraining Epoch [4/10]: Avg Total Loss: 13.8602 | Avg PrC Loss: 3.4816 | Avg SnC Loss: 7.4818 | Avg FiC Loss: 2.8188 | Avg CE Loss: 0.0780 | Model Sparsity: 0.9424\n",
      "\n"
     ]
    },
    {
     "name": "stderr",
     "output_type": "stream",
     "text": [
      "                                                                                                                                                \r"
     ]
    },
    {
     "name": "stdout",
     "output_type": "stream",
     "text": [
      "Retraining Epoch [5/10]: Avg Total Loss: 13.8313 | Avg PrC Loss: 3.4807 | Avg SnC Loss: 7.4622 | Avg FiC Loss: 2.8139 | Avg CE Loss: 0.0745 | Model Sparsity: 0.9424\n",
      "\n"
     ]
    },
    {
     "name": "stderr",
     "output_type": "stream",
     "text": [
      "                                                                                                                                                \r"
     ]
    },
    {
     "name": "stdout",
     "output_type": "stream",
     "text": [
      "Retraining Epoch [6/10]: Avg Total Loss: 13.8472 | Avg PrC Loss: 3.4812 | Avg SnC Loss: 7.4733 | Avg FiC Loss: 2.8169 | Avg CE Loss: 0.0758 | Model Sparsity: 0.9424\n",
      "\n",
      "[BaCP] weights saved!\n"
     ]
    },
    {
     "name": "stderr",
     "output_type": "stream",
     "text": [
      "                                                                                                                                                \r"
     ]
    },
    {
     "name": "stdout",
     "output_type": "stream",
     "text": [
      "Retraining Epoch [7/10]: Avg Total Loss: 13.8398 | Avg PrC Loss: 3.4810 | Avg SnC Loss: 7.4686 | Avg FiC Loss: 2.8149 | Avg CE Loss: 0.0754 | Model Sparsity: 0.9424\n",
      "\n",
      "[BaCP] weights saved!\n"
     ]
    },
    {
     "name": "stderr",
     "output_type": "stream",
     "text": [
      "                                                                                                                                                \r"
     ]
    },
    {
     "name": "stdout",
     "output_type": "stream",
     "text": [
      "Retraining Epoch [8/10]: Avg Total Loss: 13.8074 | Avg PrC Loss: 3.4800 | Avg SnC Loss: 7.4449 | Avg FiC Loss: 2.8097 | Avg CE Loss: 0.0729 | Model Sparsity: 0.9424\n",
      "\n"
     ]
    },
    {
     "name": "stderr",
     "output_type": "stream",
     "text": [
      "                                                                                                                                                \r"
     ]
    },
    {
     "name": "stdout",
     "output_type": "stream",
     "text": [
      "Retraining Epoch [9/10]: Avg Total Loss: 13.8104 | Avg PrC Loss: 3.4802 | Avg SnC Loss: 7.4491 | Avg FiC Loss: 2.8089 | Avg CE Loss: 0.0723 | Model Sparsity: 0.9424\n",
      "\n",
      "[BaCP] weights saved!\n"
     ]
    },
    {
     "name": "stderr",
     "output_type": "stream",
     "text": [
      "                                                                                                                                                 \r"
     ]
    },
    {
     "name": "stdout",
     "output_type": "stream",
     "text": [
      "Retraining Epoch [10/10]: Avg Total Loss: 13.8156 | Avg PrC Loss: 3.4804 | Avg SnC Loss: 7.4516 | Avg FiC Loss: 2.8114 | Avg CE Loss: 0.0722 | Model Sparsity: 0.9424\n",
      "\n",
      "[BaCP] weights saved!\n"
     ]
    },
    {
     "name": "stderr",
     "output_type": "stream",
     "text": [
      "Training Epoch [5/5]:   0%|          | 0/83 [00:00<?, ?it/s]"
     ]
    },
    {
     "name": "stdout",
     "output_type": "stream",
     "text": [
      "\n",
      "[Pruner] Cubic Sparsity ratio increased to 0.950.\n",
      "\n"
     ]
    },
    {
     "name": "stderr",
     "output_type": "stream",
     "text": [
      "                                                                                                                                             \r"
     ]
    },
    {
     "name": "stdout",
     "output_type": "stream",
     "text": [
      "Epoch [5/5]: Avg Total Loss: 16.2745 | Avg PrC Loss: 3.4971 | Avg SnC Loss: 9.8794 | Avg FiC Loss: 2.8196 | Avg CE Loss: 0.0784 | Model Sparsity: 0.95\n",
      "\n",
      "[BaCP] weights saved!\n"
     ]
    },
    {
     "name": "stderr",
     "output_type": "stream",
     "text": [
      "                                                                                                                                                \r"
     ]
    },
    {
     "name": "stdout",
     "output_type": "stream",
     "text": [
      "Retraining Epoch [1/10]: Avg Total Loss: 16.3224 | Avg PrC Loss: 3.4975 | Avg SnC Loss: 9.9142 | Avg FiC Loss: 2.8263 | Avg CE Loss: 0.0844 | Model Sparsity: 0.95\n",
      "\n",
      "[BaCP] weights saved!\n"
     ]
    },
    {
     "name": "stderr",
     "output_type": "stream",
     "text": [
      "                                                                                                                                                \r"
     ]
    },
    {
     "name": "stdout",
     "output_type": "stream",
     "text": [
      "Retraining Epoch [2/10]: Avg Total Loss: 16.2819 | Avg PrC Loss: 3.4976 | Avg SnC Loss: 9.8840 | Avg FiC Loss: 2.8199 | Avg CE Loss: 0.0805 | Model Sparsity: 0.95\n",
      "\n",
      "[BaCP] weights saved!\n"
     ]
    },
    {
     "name": "stderr",
     "output_type": "stream",
     "text": [
      "                                                                                                                                                \r"
     ]
    },
    {
     "name": "stdout",
     "output_type": "stream",
     "text": [
      "Retraining Epoch [3/10]: Avg Total Loss: 16.2611 | Avg PrC Loss: 3.4960 | Avg SnC Loss: 9.8682 | Avg FiC Loss: 2.8190 | Avg CE Loss: 0.0779 | Model Sparsity: 0.95\n",
      "\n"
     ]
    },
    {
     "name": "stderr",
     "output_type": "stream",
     "text": [
      "                                                                                                                                                \r"
     ]
    },
    {
     "name": "stdout",
     "output_type": "stream",
     "text": [
      "Retraining Epoch [4/10]: Avg Total Loss: 16.2614 | Avg PrC Loss: 3.4970 | Avg SnC Loss: 9.8680 | Avg FiC Loss: 2.8191 | Avg CE Loss: 0.0774 | Model Sparsity: 0.95\n",
      "\n",
      "[BaCP] weights saved!\n"
     ]
    },
    {
     "name": "stderr",
     "output_type": "stream",
     "text": [
      "                                                                                                                                                \r"
     ]
    },
    {
     "name": "stdout",
     "output_type": "stream",
     "text": [
      "Retraining Epoch [5/10]: Avg Total Loss: 16.2656 | Avg PrC Loss: 3.4974 | Avg SnC Loss: 9.8705 | Avg FiC Loss: 2.8192 | Avg CE Loss: 0.0785 | Model Sparsity: 0.95\n",
      "\n",
      "[BaCP] weights saved!\n"
     ]
    },
    {
     "name": "stderr",
     "output_type": "stream",
     "text": [
      "                                                                                                                                                \r"
     ]
    },
    {
     "name": "stdout",
     "output_type": "stream",
     "text": [
      "Retraining Epoch [6/10]: Avg Total Loss: 16.2526 | Avg PrC Loss: 3.4955 | Avg SnC Loss: 9.8638 | Avg FiC Loss: 2.8170 | Avg CE Loss: 0.0763 | Model Sparsity: 0.95\n",
      "\n"
     ]
    },
    {
     "name": "stderr",
     "output_type": "stream",
     "text": [
      "                                                                                                                                                \r"
     ]
    },
    {
     "name": "stdout",
     "output_type": "stream",
     "text": [
      "Retraining Epoch [7/10]: Avg Total Loss: 16.2390 | Avg PrC Loss: 3.4949 | Avg SnC Loss: 9.8534 | Avg FiC Loss: 2.8158 | Avg CE Loss: 0.0750 | Model Sparsity: 0.95\n",
      "\n"
     ]
    },
    {
     "name": "stderr",
     "output_type": "stream",
     "text": [
      "                                                                                                                                                \r"
     ]
    },
    {
     "name": "stdout",
     "output_type": "stream",
     "text": [
      "Retraining Epoch [8/10]: Avg Total Loss: 16.2270 | Avg PrC Loss: 3.4960 | Avg SnC Loss: 9.8428 | Avg FiC Loss: 2.8148 | Avg CE Loss: 0.0734 | Model Sparsity: 0.95\n",
      "\n"
     ]
    },
    {
     "name": "stderr",
     "output_type": "stream",
     "text": [
      "                                                                                                                                                \r"
     ]
    },
    {
     "name": "stdout",
     "output_type": "stream",
     "text": [
      "Retraining Epoch [9/10]: Avg Total Loss: 16.2154 | Avg PrC Loss: 3.4956 | Avg SnC Loss: 9.8367 | Avg FiC Loss: 2.8105 | Avg CE Loss: 0.0725 | Model Sparsity: 0.95\n",
      "\n"
     ]
    },
    {
     "name": "stderr",
     "output_type": "stream",
     "text": [
      "                                                                                                                                                 \r"
     ]
    },
    {
     "name": "stdout",
     "output_type": "stream",
     "text": [
      "Retraining Epoch [10/10]: Avg Total Loss: 16.2503 | Avg PrC Loss: 3.4957 | Avg SnC Loss: 9.8621 | Avg FiC Loss: 2.8179 | Avg CE Loss: 0.0746 | Model Sparsity: 0.95\n",
      "\n",
      "[BaCP] weights saved!\n",
      "[BaCP TRAINER] Mask generated from current model.\n",
      "[TRAINER] Image size: 32\n",
      "[TRAINER] Initialized models\n",
      "[TRAINER] Loading weights: ./research/resnet50/cifar10/resnet50_cifar10_magnitude_pruning_0.95_bacp_pruning_b3.pt\n",
      "[ERROR] Could not load weights: ./research/resnet50/cifar10/resnet50_cifar10_magnitude_pruning_0.95_bacp_pruning_b3.pt\n",
      "[ERROR] Attempting partial load\n",
      "[TRAINER] Weights loaded\n",
      "[TRAINER] Optimizer type w/ learning rate: (adamw, 0.0001)\n",
      "[CV DATALOADERS] Loaded cifar10 with splits: ['train', 'validation', 'test']\n",
      "[TRAINER] Data Initialized for model task: cifar10\n",
      "[TRAINER] Batch size: 512\n",
      "[TRAINER] Number of dataloders: 3\n",
      "[TRAINER] No scheduler initialized\n",
      "[TRAINER] Finetuning initialized\n",
      "[TRAINER] Pruning type: magnitude_pruning\n",
      "[TRAINER] Current sparsity: 0.9500\n",
      "[TRAINER] Saving model to: ./research/resnet50/cifar10/resnet50_cifar10_magnitude_pruning_0.95_bacp_b3_finetune.pt\n",
      "[TRAINER] Training with mixed precision enabled\n",
      "[TRAINER] Initial model sparsity: 0.95\n"
     ]
    },
    {
     "name": "stderr",
     "output_type": "stream",
     "text": [
      "                                                                                                  \r"
     ]
    },
    {
     "name": "stdout",
     "output_type": "stream",
     "text": [
      "Training epoch [1/50]: Avg Loss: 1.0295 | Avg Accuracy: 92.15 | Model Sparsity: 0.95\n",
      "\n",
      "[TRAINER] weights saved!\n"
     ]
    },
    {
     "name": "stderr",
     "output_type": "stream",
     "text": [
      "                                                                                                  \r"
     ]
    },
    {
     "name": "stdout",
     "output_type": "stream",
     "text": [
      "Training epoch [2/50]: Avg Loss: 0.2939 | Avg Accuracy: 93.50 | Model Sparsity: 0.95\n",
      "\n",
      "[TRAINER] weights saved!\n"
     ]
    },
    {
     "name": "stderr",
     "output_type": "stream",
     "text": [
      "                                                                                                  \r"
     ]
    },
    {
     "name": "stdout",
     "output_type": "stream",
     "text": [
      "Training epoch [3/50]: Avg Loss: 0.2236 | Avg Accuracy: 94.34 | Model Sparsity: 0.95\n",
      "\n",
      "[TRAINER] weights saved!\n"
     ]
    },
    {
     "name": "stderr",
     "output_type": "stream",
     "text": [
      "                                                                                                  \r"
     ]
    },
    {
     "name": "stdout",
     "output_type": "stream",
     "text": [
      "Training epoch [4/50]: Avg Loss: 0.1929 | Avg Accuracy: 94.04 | Model Sparsity: 0.95\n",
      "\n"
     ]
    },
    {
     "name": "stderr",
     "output_type": "stream",
     "text": [
      "                                                                                                  \r"
     ]
    },
    {
     "name": "stdout",
     "output_type": "stream",
     "text": [
      "Training epoch [5/50]: Avg Loss: 0.1769 | Avg Accuracy: 94.11 | Model Sparsity: 0.95\n",
      "\n"
     ]
    },
    {
     "name": "stderr",
     "output_type": "stream",
     "text": [
      "                                                                                                  \r"
     ]
    },
    {
     "name": "stdout",
     "output_type": "stream",
     "text": [
      "Training epoch [6/50]: Avg Loss: 0.1615 | Avg Accuracy: 94.63 | Model Sparsity: 0.95\n",
      "\n",
      "[TRAINER] weights saved!\n"
     ]
    },
    {
     "name": "stderr",
     "output_type": "stream",
     "text": [
      "                                                                                                  \r"
     ]
    },
    {
     "name": "stdout",
     "output_type": "stream",
     "text": [
      "Training epoch [7/50]: Avg Loss: 0.1518 | Avg Accuracy: 94.15 | Model Sparsity: 0.95\n",
      "\n"
     ]
    },
    {
     "name": "stderr",
     "output_type": "stream",
     "text": [
      "                                                                                                  \r"
     ]
    },
    {
     "name": "stdout",
     "output_type": "stream",
     "text": [
      "Training epoch [8/50]: Avg Loss: 0.1424 | Avg Accuracy: 94.45 | Model Sparsity: 0.95\n",
      "\n"
     ]
    },
    {
     "name": "stderr",
     "output_type": "stream",
     "text": [
      "                                                                                                  \r"
     ]
    },
    {
     "name": "stdout",
     "output_type": "stream",
     "text": [
      "Training epoch [9/50]: Avg Loss: 0.1336 | Avg Accuracy: 94.95 | Model Sparsity: 0.95\n",
      "\n",
      "[TRAINER] weights saved!\n"
     ]
    },
    {
     "name": "stderr",
     "output_type": "stream",
     "text": [
      "                                                                                                   \r"
     ]
    },
    {
     "name": "stdout",
     "output_type": "stream",
     "text": [
      "Training epoch [10/50]: Avg Loss: 0.1278 | Avg Accuracy: 94.99 | Model Sparsity: 0.95\n",
      "\n",
      "[TRAINER] weights saved!\n"
     ]
    },
    {
     "name": "stderr",
     "output_type": "stream",
     "text": [
      "                                                                                                   \r"
     ]
    },
    {
     "name": "stdout",
     "output_type": "stream",
     "text": [
      "Training epoch [11/50]: Avg Loss: 0.1186 | Avg Accuracy: 95.02 | Model Sparsity: 0.95\n",
      "\n",
      "[TRAINER] weights saved!\n"
     ]
    },
    {
     "name": "stderr",
     "output_type": "stream",
     "text": [
      "                                                                                                   \r"
     ]
    },
    {
     "name": "stdout",
     "output_type": "stream",
     "text": [
      "Training epoch [12/50]: Avg Loss: 0.1121 | Avg Accuracy: 94.53 | Model Sparsity: 0.95\n",
      "\n"
     ]
    },
    {
     "name": "stderr",
     "output_type": "stream",
     "text": [
      "                                                                                                   \r"
     ]
    },
    {
     "name": "stdout",
     "output_type": "stream",
     "text": [
      "Training epoch [13/50]: Avg Loss: 0.1070 | Avg Accuracy: 94.75 | Model Sparsity: 0.95\n",
      "\n"
     ]
    },
    {
     "name": "stderr",
     "output_type": "stream",
     "text": [
      "                                                                                                   \r"
     ]
    },
    {
     "name": "stdout",
     "output_type": "stream",
     "text": [
      "Training epoch [14/50]: Avg Loss: 0.1034 | Avg Accuracy: 95.20 | Model Sparsity: 0.95\n",
      "\n",
      "[TRAINER] weights saved!\n"
     ]
    },
    {
     "name": "stderr",
     "output_type": "stream",
     "text": [
      "                                                                                                   \r"
     ]
    },
    {
     "name": "stdout",
     "output_type": "stream",
     "text": [
      "Training epoch [15/50]: Avg Loss: 0.0968 | Avg Accuracy: 95.52 | Model Sparsity: 0.95\n",
      "\n",
      "[TRAINER] weights saved!\n"
     ]
    },
    {
     "name": "stderr",
     "output_type": "stream",
     "text": [
      "                                                                                                   \r"
     ]
    },
    {
     "name": "stdout",
     "output_type": "stream",
     "text": [
      "Training epoch [16/50]: Avg Loss: 0.0940 | Avg Accuracy: 94.95 | Model Sparsity: 0.95\n",
      "\n"
     ]
    },
    {
     "name": "stderr",
     "output_type": "stream",
     "text": [
      "                                                                                                   \r"
     ]
    },
    {
     "name": "stdout",
     "output_type": "stream",
     "text": [
      "Training epoch [17/50]: Avg Loss: 0.0901 | Avg Accuracy: 95.42 | Model Sparsity: 0.95\n",
      "\n"
     ]
    },
    {
     "name": "stderr",
     "output_type": "stream",
     "text": [
      "                                                                                                   \r"
     ]
    },
    {
     "name": "stdout",
     "output_type": "stream",
     "text": [
      "Training epoch [18/50]: Avg Loss: 0.0844 | Avg Accuracy: 95.01 | Model Sparsity: 0.95\n",
      "\n"
     ]
    },
    {
     "name": "stderr",
     "output_type": "stream",
     "text": [
      "                                                                                                   \r"
     ]
    },
    {
     "name": "stdout",
     "output_type": "stream",
     "text": [
      "Training epoch [19/50]: Avg Loss: 0.0813 | Avg Accuracy: 95.16 | Model Sparsity: 0.95\n",
      "\n"
     ]
    },
    {
     "name": "stderr",
     "output_type": "stream",
     "text": [
      "                                                                                                   \r"
     ]
    },
    {
     "name": "stdout",
     "output_type": "stream",
     "text": [
      "Training epoch [20/50]: Avg Loss: 0.0771 | Avg Accuracy: 94.94 | Model Sparsity: 0.95\n",
      "\n"
     ]
    },
    {
     "name": "stderr",
     "output_type": "stream",
     "text": [
      "                                                                                                   \r"
     ]
    },
    {
     "name": "stdout",
     "output_type": "stream",
     "text": [
      "Training epoch [21/50]: Avg Loss: 0.0763 | Avg Accuracy: 95.16 | Model Sparsity: 0.95\n",
      "\n"
     ]
    },
    {
     "name": "stderr",
     "output_type": "stream",
     "text": [
      "                                                                                                   \r"
     ]
    },
    {
     "name": "stdout",
     "output_type": "stream",
     "text": [
      "Training epoch [22/50]: Avg Loss: 0.0686 | Avg Accuracy: 95.31 | Model Sparsity: 0.95\n",
      "\n"
     ]
    },
    {
     "name": "stderr",
     "output_type": "stream",
     "text": [
      "                                                                                                   \r"
     ]
    },
    {
     "name": "stdout",
     "output_type": "stream",
     "text": [
      "Training epoch [23/50]: Avg Loss: 0.0673 | Avg Accuracy: 95.21 | Model Sparsity: 0.95\n",
      "\n"
     ]
    },
    {
     "name": "stderr",
     "output_type": "stream",
     "text": [
      "                                                                                                   \r"
     ]
    },
    {
     "name": "stdout",
     "output_type": "stream",
     "text": [
      "Training epoch [24/50]: Avg Loss: 0.0650 | Avg Accuracy: 95.20 | Model Sparsity: 0.95\n",
      "\n"
     ]
    },
    {
     "name": "stderr",
     "output_type": "stream",
     "text": [
      "                                                                                                   \r"
     ]
    },
    {
     "name": "stdout",
     "output_type": "stream",
     "text": [
      "Training epoch [25/50]: Avg Loss: 0.0599 | Avg Accuracy: 95.10 | Model Sparsity: 0.95\n",
      "\n"
     ]
    },
    {
     "name": "stderr",
     "output_type": "stream",
     "text": [
      "                                                                                                   \r"
     ]
    },
    {
     "name": "stdout",
     "output_type": "stream",
     "text": [
      "Training epoch [26/50]: Avg Loss: 0.0596 | Avg Accuracy: 95.34 | Model Sparsity: 0.95\n",
      "\n"
     ]
    },
    {
     "name": "stderr",
     "output_type": "stream",
     "text": [
      "                                                                                                   \r"
     ]
    },
    {
     "name": "stdout",
     "output_type": "stream",
     "text": [
      "Training epoch [27/50]: Avg Loss: 0.0519 | Avg Accuracy: 95.26 | Model Sparsity: 0.95\n",
      "\n"
     ]
    },
    {
     "name": "stderr",
     "output_type": "stream",
     "text": [
      "                                                                                                   \r"
     ]
    },
    {
     "name": "stdout",
     "output_type": "stream",
     "text": [
      "Training epoch [28/50]: Avg Loss: 0.0518 | Avg Accuracy: 95.42 | Model Sparsity: 0.95\n",
      "\n"
     ]
    },
    {
     "name": "stderr",
     "output_type": "stream",
     "text": [
      "                                                                                                   \r"
     ]
    },
    {
     "name": "stdout",
     "output_type": "stream",
     "text": [
      "Training epoch [29/50]: Avg Loss: 0.0510 | Avg Accuracy: 95.35 | Model Sparsity: 0.95\n",
      "\n"
     ]
    },
    {
     "name": "stderr",
     "output_type": "stream",
     "text": [
      "                                                                                                   \r"
     ]
    },
    {
     "name": "stdout",
     "output_type": "stream",
     "text": [
      "Training epoch [30/50]: Avg Loss: 0.0503 | Avg Accuracy: 95.48 | Model Sparsity: 0.95\n",
      "\n"
     ]
    },
    {
     "name": "stderr",
     "output_type": "stream",
     "text": [
      "                                                                                                   \r"
     ]
    },
    {
     "name": "stdout",
     "output_type": "stream",
     "text": [
      "Training epoch [31/50]: Avg Loss: 0.0476 | Avg Accuracy: 95.10 | Model Sparsity: 0.95\n",
      "\n"
     ]
    },
    {
     "name": "stderr",
     "output_type": "stream",
     "text": [
      "                                                                                                   \r"
     ]
    },
    {
     "name": "stdout",
     "output_type": "stream",
     "text": [
      "Training epoch [32/50]: Avg Loss: 0.0454 | Avg Accuracy: 95.55 | Model Sparsity: 0.95\n",
      "\n",
      "[TRAINER] weights saved!\n"
     ]
    },
    {
     "name": "stderr",
     "output_type": "stream",
     "text": [
      "                                                                                                   \r"
     ]
    },
    {
     "name": "stdout",
     "output_type": "stream",
     "text": [
      "Training epoch [33/50]: Avg Loss: 0.0420 | Avg Accuracy: 94.99 | Model Sparsity: 0.95\n",
      "\n"
     ]
    },
    {
     "name": "stderr",
     "output_type": "stream",
     "text": [
      "                                                                                                   \r"
     ]
    },
    {
     "name": "stdout",
     "output_type": "stream",
     "text": [
      "Training epoch [34/50]: Avg Loss: 0.0421 | Avg Accuracy: 94.73 | Model Sparsity: 0.95\n",
      "\n"
     ]
    },
    {
     "name": "stderr",
     "output_type": "stream",
     "text": [
      "                                                                                                   \r"
     ]
    },
    {
     "name": "stdout",
     "output_type": "stream",
     "text": [
      "Training epoch [35/50]: Avg Loss: 0.0382 | Avg Accuracy: 95.16 | Model Sparsity: 0.95\n",
      "\n"
     ]
    },
    {
     "name": "stderr",
     "output_type": "stream",
     "text": [
      "                                                                                                   \r"
     ]
    },
    {
     "name": "stdout",
     "output_type": "stream",
     "text": [
      "Training epoch [36/50]: Avg Loss: 0.0371 | Avg Accuracy: 95.27 | Model Sparsity: 0.95\n",
      "\n"
     ]
    },
    {
     "name": "stderr",
     "output_type": "stream",
     "text": [
      "                                                                                                   \r"
     ]
    },
    {
     "name": "stdout",
     "output_type": "stream",
     "text": [
      "Training epoch [37/50]: Avg Loss: 0.0379 | Avg Accuracy: 95.05 | Model Sparsity: 0.95\n",
      "\n"
     ]
    },
    {
     "name": "stderr",
     "output_type": "stream",
     "text": [
      "                                                                                                   \r"
     ]
    },
    {
     "name": "stdout",
     "output_type": "stream",
     "text": [
      "Training epoch [38/50]: Avg Loss: 0.0376 | Avg Accuracy: 95.49 | Model Sparsity: 0.95\n",
      "\n"
     ]
    },
    {
     "name": "stderr",
     "output_type": "stream",
     "text": [
      "                                                                                                   \r"
     ]
    },
    {
     "name": "stdout",
     "output_type": "stream",
     "text": [
      "Training epoch [39/50]: Avg Loss: 0.0341 | Avg Accuracy: 94.99 | Model Sparsity: 0.95\n",
      "\n"
     ]
    },
    {
     "name": "stderr",
     "output_type": "stream",
     "text": [
      "                                                                                                   \r"
     ]
    },
    {
     "name": "stdout",
     "output_type": "stream",
     "text": [
      "Training epoch [40/50]: Avg Loss: 0.0324 | Avg Accuracy: 95.19 | Model Sparsity: 0.95\n",
      "\n"
     ]
    },
    {
     "name": "stderr",
     "output_type": "stream",
     "text": [
      "                                                                                                   \r"
     ]
    },
    {
     "name": "stdout",
     "output_type": "stream",
     "text": [
      "Training epoch [41/50]: Avg Loss: 0.0298 | Avg Accuracy: 95.34 | Model Sparsity: 0.95\n",
      "\n"
     ]
    },
    {
     "name": "stderr",
     "output_type": "stream",
     "text": [
      "                                                                                                   \r"
     ]
    },
    {
     "name": "stdout",
     "output_type": "stream",
     "text": [
      "Training epoch [42/50]: Avg Loss: 0.0319 | Avg Accuracy: 95.61 | Model Sparsity: 0.95\n",
      "\n",
      "[TRAINER] weights saved!\n"
     ]
    },
    {
     "name": "stderr",
     "output_type": "stream",
     "text": [
      "                                                                                                   \r"
     ]
    },
    {
     "name": "stdout",
     "output_type": "stream",
     "text": [
      "Training epoch [43/50]: Avg Loss: 0.0313 | Avg Accuracy: 95.02 | Model Sparsity: 0.95\n",
      "\n"
     ]
    },
    {
     "name": "stderr",
     "output_type": "stream",
     "text": [
      "                                                                                                   \r"
     ]
    },
    {
     "name": "stdout",
     "output_type": "stream",
     "text": [
      "Training epoch [44/50]: Avg Loss: 0.0287 | Avg Accuracy: 95.45 | Model Sparsity: 0.95\n",
      "\n"
     ]
    },
    {
     "name": "stderr",
     "output_type": "stream",
     "text": [
      "                                                                                                   \r"
     ]
    },
    {
     "name": "stdout",
     "output_type": "stream",
     "text": [
      "Training epoch [45/50]: Avg Loss: 0.0267 | Avg Accuracy: 95.02 | Model Sparsity: 0.95\n",
      "\n"
     ]
    },
    {
     "name": "stderr",
     "output_type": "stream",
     "text": [
      "                                                                                                   \r"
     ]
    },
    {
     "name": "stdout",
     "output_type": "stream",
     "text": [
      "Training epoch [46/50]: Avg Loss: 0.0278 | Avg Accuracy: 95.27 | Model Sparsity: 0.95\n",
      "\n"
     ]
    },
    {
     "name": "stderr",
     "output_type": "stream",
     "text": [
      "                                                                                                   \r"
     ]
    },
    {
     "name": "stdout",
     "output_type": "stream",
     "text": [
      "Training epoch [47/50]: Avg Loss: 0.0273 | Avg Accuracy: 95.06 | Model Sparsity: 0.95\n",
      "\n"
     ]
    },
    {
     "name": "stderr",
     "output_type": "stream",
     "text": [
      "                                                                                                   \r"
     ]
    },
    {
     "name": "stdout",
     "output_type": "stream",
     "text": [
      "Training epoch [48/50]: Avg Loss: 0.0258 | Avg Accuracy: 95.55 | Model Sparsity: 0.95\n",
      "\n"
     ]
    },
    {
     "name": "stderr",
     "output_type": "stream",
     "text": [
      "                                                                                                   \r"
     ]
    },
    {
     "name": "stdout",
     "output_type": "stream",
     "text": [
      "Training epoch [49/50]: Avg Loss: 0.0248 | Avg Accuracy: 95.27 | Model Sparsity: 0.95\n",
      "\n"
     ]
    },
    {
     "name": "stderr",
     "output_type": "stream",
     "text": [
      "                                                                                                   \r"
     ]
    },
    {
     "name": "stdout",
     "output_type": "stream",
     "text": [
      "Training epoch [50/50]: Avg Loss: 0.0233 | Avg Accuracy: 95.28 | Model Sparsity: 0.95\n",
      "\n",
      "[TRAINER] Loading weights: ./research/resnet50/cifar10/resnet50_cifar10_magnitude_pruning_0.95_bacp_b3_finetune.pt\n",
      "[TRAINER] Weights loaded successfully\n",
      "[TRAINER] Model Sparsity: 0.95\n"
     ]
    },
    {
     "name": "stderr",
     "output_type": "stream",
     "text": [
      "                                                           "
     ]
    },
    {
     "name": "stdout",
     "output_type": "stream",
     "text": [
      "\n",
      "============================================================\n",
      "TRAINING STATISTICS SUMMARY\n",
      "============================================================\n",
      "\n",
      "Performance Metrics:\n",
      "------------------------------\n",
      "  Accuracy:     93.48%\n",
      "\n",
      "Model Information:\n",
      "------------------------------\n",
      "  Total Parameters:     23,520,842\n",
      "  Trainable Parameters: 23,520,842\n",
      "  Model Sparsity:       0.9500 (95.00%)\n",
      "\n",
      "Training Configuration:\n",
      "------------------------------\n",
      "  Model:                resnet50\n",
      "  Task:                 cifar10\n",
      "  Learning Type:        bacp_b3_finetune\n",
      "  Batch Size:           512\n",
      "  Learning Rate:        0.0001\n",
      "  Optimizer:            adamw\n",
      "  Epochs:               50\n",
      "\n",
      "System Information:\n",
      "------------------------------\n",
      "  Device:               cuda\n",
      "  Mixed Precision:      True\n",
      "  Workers:              24\n",
      "\n",
      "============================================================\n",
      "Object saved successfully to resnet50_cifar10_magnitude_pruning_0.95_b3_metrics.pkl\n"
     ]
    },
    {
     "name": "stderr",
     "output_type": "stream",
     "text": [
      "\r"
     ]
    },
    {
     "data": {
      "text/plain": [
       "True"
      ]
     },
     "execution_count": 5,
     "metadata": {},
     "output_type": "execute_result"
    }
   ],
   "source": [
    "# Initializing finetuned weights path\n",
    "finetuned_weights = f\"./research/{MODEL_NAME}/{MODEL_TASK}/{MODEL_NAME}_{MODEL_TASK}_baseline.pt\"\n",
    "\n",
    "all_metrics = {}\n",
    "disable_loss_types = ['self', 'sup', 'all']\n",
    "for disable_type in disable_loss_types:\n",
    "    loss_types = {\n",
    "        'self': 'self-supervised contrastive loss',\n",
    "        'sup': 'supervised contrastive loss',\n",
    "        'all': 'all contrastive losses',\n",
    "    }\n",
    "\n",
    "    print('='*80)\n",
    "    print(f\"Disabling {loss_types[disable_type]} for this training cycle.\")\n",
    "    print('='*80)\n",
    "\n",
    "    bacp_training_args = BaCPTrainingArguments(\n",
    "        model_name=MODEL_NAME,\n",
    "        model_task=MODEL_TASK,\n",
    "        batch_size=BATCH_SIZE_CNN,\n",
    "        optimizer_type_and_lr=('sgd', 0.1),\n",
    "        pruning_type='magnitude_pruning',\n",
    "        target_sparsity=TARGET_SPARSITY_LOW,\n",
    "        sparsity_scheduler='cubic',\n",
    "        finetuned_weights=finetuned_weights,\n",
    "        learning_type='bacp_pruning_b3',\n",
    "        db=False,\n",
    "        log_epochs=False,\n",
    "    )\n",
    "    bacp_trainer = BaCPTrainer(bacp_training_args)\n",
    "    bacp_trainer.disable = disable_type\n",
    "    if True:\n",
    "        bacp_trainer.train()\n",
    "\n",
    "    bacp_trainer.generate_mask_from_model()\n",
    "    training_args = TrainingArguments(\n",
    "        model_name=bacp_trainer.model_name,\n",
    "        model_task=bacp_trainer.model_task,\n",
    "        batch_size=bacp_trainer.batch_size,\n",
    "        optimizer_type_and_lr=('adamw', 0.0001),\n",
    "        pruner=bacp_trainer.get_pruner(),\n",
    "        pruning_type=bacp_trainer.pruning_type,\n",
    "        target_sparsity=bacp_trainer.target_sparsity,\n",
    "        epochs=50,\n",
    "        finetuned_weights=bacp_trainer.save_path,\n",
    "        finetune=True,\n",
    "        learning_type=\"bacp_b3_finetune\",\n",
    "        db=False,\n",
    "        log_epochs=False,\n",
    "    )\n",
    "    trainer = Trainer(training_args)\n",
    "    if True:\n",
    "        trainer.train()\n",
    "\n",
    "    metrics = trainer.evaluate()\n",
    "    print_statistics(metrics, trainer)\n",
    "\n",
    "    all_metrics[disable_type] = metrics\n",
    "\n",
    "save_object(all_metrics, f'{MODEL_NAME}_{MODEL_TASK}_{bacp_trainer.pruning_type}_{bacp_trainer.target_sparsity}_b3_metrics.pkl')"
   ]
  },
  {
   "cell_type": "code",
   "execution_count": null,
   "id": "90f8306f",
   "metadata": {},
   "outputs": [
    {
     "name": "stdout",
     "output_type": "stream",
     "text": [
      "[TRAINER] Image size: 32\n",
      "[ERROR] Could not load weights: ./research/resnet50/cifar10/resnet50_cifar10_baseline.pt\n",
      "[ERROR] Attempting partial load\n",
      "[TRAINER] Weights loaded successfully\n",
      "[TRAINER] Initialized BaCP models\n",
      "[TRAINER] Optimizer type w/ learning rate: (sgd, 0.1)\n",
      "[TRAINER] No scheduler initialized\n",
      "[CV DATALOADERS] Loaded cifar10 with splits: ['train', 'validation', 'test']\n",
      "[TRAINER] Data Initialized for model task: cifar10\n",
      "[TRAINER] Batch size: 512\n",
      "[TRAINER] Number of dataloders: 3\n",
      "[TRAINER] Pruning initialized\n",
      "[TRAINER] Pruning type: magnitude_pruning\n",
      "[TRAINER] Target sparsity: 0.97\n",
      "[TRAINER] Sparsity scheduler: cubic\n",
      "[TRAINER] Pruning epochs: 5\n",
      "[TRAINER] Current sparsity: 0.0000\n",
      "[TRAINER] Saving model to: ./research/resnet50/cifar10/resnet50_cifar10_magnitude_pruning_0.97_bacp_pruning_b1.pt\n",
      "[LOGGER] Log file created at location: ./log_records/resnet50/cifar10/bacp_pruning_b1/magnitude_pruning/0.97/run_1.log\n"
     ]
    },
    {
     "name": "stderr",
     "output_type": "stream",
     "text": [
      "Training Epoch [1/5]:   1%|          | 1/83 [00:01<02:15,  1.66s/it, Loss=7.62, PrC Loss=3.6, SnC Loss=0, FiC Loss=3.43, CE Loss=0.594]"
     ]
    },
    {
     "name": "stdout",
     "output_type": "stream",
     "text": [
      "\n",
      "[Pruner] Cubic Sparsity ratio increased to 0.473.\n",
      "\n"
     ]
    },
    {
     "name": "stderr",
     "output_type": "stream",
     "text": [
      "                                                                                                                                         \r"
     ]
    },
    {
     "name": "stdout",
     "output_type": "stream",
     "text": [
      "Epoch [1/5]: Avg Total Loss: 7.2755 | Avg PrC Loss: 3.4377 | Avg SnC Loss: 0.0000 | Avg FiC Loss: 3.4236 | Avg CE Loss: 0.4142 | Model Sparsity: 0.4734\n",
      "\n",
      "[BaCP] weights saved!\n"
     ]
    },
    {
     "name": "stderr",
     "output_type": "stream",
     "text": [
      "                                                                                                                                            \r"
     ]
    },
    {
     "name": "stdout",
     "output_type": "stream",
     "text": [
      "Retraining Epoch [1/10]: Avg Total Loss: 6.1858 | Avg PrC Loss: 3.1238 | Avg SnC Loss: 0.0000 | Avg FiC Loss: 2.8219 | Avg CE Loss: 0.2401 | Model Sparsity: 0.4734\n",
      "\n"
     ]
    },
    {
     "name": "stderr",
     "output_type": "stream",
     "text": [
      "                                                                                                                                            \r"
     ]
    },
    {
     "name": "stdout",
     "output_type": "stream",
     "text": [
      "Retraining Epoch [2/10]: Avg Total Loss: 5.5748 | Avg PrC Loss: 2.8696 | Avg SnC Loss: 0.0000 | Avg FiC Loss: 2.5291 | Avg CE Loss: 0.1762 | Model Sparsity: 0.4734\n",
      "\n"
     ]
    },
    {
     "name": "stderr",
     "output_type": "stream",
     "text": [
      "                                                                                                                                            \r"
     ]
    },
    {
     "name": "stdout",
     "output_type": "stream",
     "text": [
      "Retraining Epoch [3/10]: Avg Total Loss: 5.1092 | Avg PrC Loss: 2.6358 | Avg SnC Loss: 0.0000 | Avg FiC Loss: 2.3295 | Avg CE Loss: 0.1439 | Model Sparsity: 0.4734\n",
      "\n"
     ]
    },
    {
     "name": "stderr",
     "output_type": "stream",
     "text": [
      "                                                                                                                                            \r"
     ]
    },
    {
     "name": "stdout",
     "output_type": "stream",
     "text": [
      "Retraining Epoch [4/10]: Avg Total Loss: 4.7031 | Avg PrC Loss: 2.4222 | Avg SnC Loss: 0.0000 | Avg FiC Loss: 2.1525 | Avg CE Loss: 0.1284 | Model Sparsity: 0.4734\n",
      "\n"
     ]
    },
    {
     "name": "stderr",
     "output_type": "stream",
     "text": [
      "                                                                                                                                             \r"
     ]
    },
    {
     "name": "stdout",
     "output_type": "stream",
     "text": [
      "Retraining Epoch [5/10]: Avg Total Loss: 4.3441 | Avg PrC Loss: 2.2272 | Avg SnC Loss: 0.0000 | Avg FiC Loss: 1.9960 | Avg CE Loss: 0.1208 | Model Sparsity: 0.4734\n",
      "\n"
     ]
    },
    {
     "name": "stderr",
     "output_type": "stream",
     "text": [
      "                                                                                                                                             \r"
     ]
    },
    {
     "name": "stdout",
     "output_type": "stream",
     "text": [
      "Retraining Epoch [6/10]: Avg Total Loss: 4.0126 | Avg PrC Loss: 2.0505 | Avg SnC Loss: 0.0000 | Avg FiC Loss: 1.8503 | Avg CE Loss: 0.1118 | Model Sparsity: 0.4734\n",
      "\n"
     ]
    },
    {
     "name": "stderr",
     "output_type": "stream",
     "text": [
      "                                                                                                                                             \r"
     ]
    },
    {
     "name": "stdout",
     "output_type": "stream",
     "text": [
      "Retraining Epoch [7/10]: Avg Total Loss: 3.7196 | Avg PrC Loss: 1.8908 | Avg SnC Loss: 0.0000 | Avg FiC Loss: 1.7192 | Avg CE Loss: 0.1096 | Model Sparsity: 0.4734\n",
      "\n"
     ]
    },
    {
     "name": "stderr",
     "output_type": "stream",
     "text": [
      "                                                                                                                                             \r"
     ]
    },
    {
     "name": "stdout",
     "output_type": "stream",
     "text": [
      "Retraining Epoch [8/10]: Avg Total Loss: 3.4517 | Avg PrC Loss: 1.7465 | Avg SnC Loss: 0.0000 | Avg FiC Loss: 1.5991 | Avg CE Loss: 0.1062 | Model Sparsity: 0.4734\n",
      "\n"
     ]
    },
    {
     "name": "stderr",
     "output_type": "stream",
     "text": [
      "                                                                                                                                             \r"
     ]
    },
    {
     "name": "stdout",
     "output_type": "stream",
     "text": [
      "Retraining Epoch [9/10]: Avg Total Loss: 3.2077 | Avg PrC Loss: 1.6162 | Avg SnC Loss: 0.0000 | Avg FiC Loss: 1.4883 | Avg CE Loss: 0.1032 | Model Sparsity: 0.4734\n",
      "\n"
     ]
    },
    {
     "name": "stderr",
     "output_type": "stream",
     "text": [
      "                                                                                                                                              \r"
     ]
    },
    {
     "name": "stdout",
     "output_type": "stream",
     "text": [
      "Retraining Epoch [10/10]: Avg Total Loss: 2.9967 | Avg PrC Loss: 1.5001 | Avg SnC Loss: 0.0000 | Avg FiC Loss: 1.3908 | Avg CE Loss: 0.1058 | Model Sparsity: 0.4734\n",
      "\n"
     ]
    },
    {
     "name": "stderr",
     "output_type": "stream",
     "text": [
      "Training Epoch [2/5]:   1%|          | 1/83 [00:01<01:25,  1.04s/it, Loss=7.04, PrC Loss=1.44, SnC Loss=4.17, FiC Loss=1.34, CE Loss=0.093]"
     ]
    },
    {
     "name": "stdout",
     "output_type": "stream",
     "text": [
      "\n",
      "[Pruner] Cubic Sparsity ratio increased to 0.760.\n",
      "\n"
     ]
    },
    {
     "name": "stderr",
     "output_type": "stream",
     "text": [
      "                                                                                                                                             \r"
     ]
    },
    {
     "name": "stdout",
     "output_type": "stream",
     "text": [
      "Epoch [2/5]: Avg Total Loss: 7.0185 | Avg PrC Loss: 1.4386 | Avg SnC Loss: 4.1177 | Avg FiC Loss: 1.3240 | Avg CE Loss: 0.1382 | Model Sparsity: 0.7605\n",
      "\n",
      "[BaCP] weights saved!\n"
     ]
    },
    {
     "name": "stderr",
     "output_type": "stream",
     "text": [
      "                                                                                                                                               \r"
     ]
    },
    {
     "name": "stdout",
     "output_type": "stream",
     "text": [
      "Retraining Epoch [1/10]: Avg Total Loss: 6.6348 | Avg PrC Loss: 1.3732 | Avg SnC Loss: 3.8373 | Avg FiC Loss: 1.2729 | Avg CE Loss: 0.1513 | Model Sparsity: 0.7605\n",
      "\n"
     ]
    },
    {
     "name": "stderr",
     "output_type": "stream",
     "text": [
      "                                                                                                                                               \r"
     ]
    },
    {
     "name": "stdout",
     "output_type": "stream",
     "text": [
      "Retraining Epoch [2/10]: Avg Total Loss: 6.1898 | Avg PrC Loss: 1.3025 | Avg SnC Loss: 3.5248 | Avg FiC Loss: 1.2122 | Avg CE Loss: 0.1503 | Model Sparsity: 0.7605\n",
      "\n"
     ]
    },
    {
     "name": "stderr",
     "output_type": "stream",
     "text": [
      "                                                                                                                                               \r"
     ]
    },
    {
     "name": "stdout",
     "output_type": "stream",
     "text": [
      "Retraining Epoch [3/10]: Avg Total Loss: 5.7540 | Avg PrC Loss: 1.2280 | Avg SnC Loss: 3.2241 | Avg FiC Loss: 1.1490 | Avg CE Loss: 0.1528 | Model Sparsity: 0.7605\n",
      "\n"
     ]
    },
    {
     "name": "stderr",
     "output_type": "stream",
     "text": [
      "                                                                                                                                               \r"
     ]
    },
    {
     "name": "stdout",
     "output_type": "stream",
     "text": [
      "Retraining Epoch [4/10]: Avg Total Loss: 5.3178 | Avg PrC Loss: 1.1506 | Avg SnC Loss: 2.9292 | Avg FiC Loss: 1.0811 | Avg CE Loss: 0.1570 | Model Sparsity: 0.7605\n",
      "\n"
     ]
    },
    {
     "name": "stderr",
     "output_type": "stream",
     "text": [
      "                                                                                                                                                \r"
     ]
    },
    {
     "name": "stdout",
     "output_type": "stream",
     "text": [
      "Retraining Epoch [5/10]: Avg Total Loss: 4.9149 | Avg PrC Loss: 1.0724 | Avg SnC Loss: 2.6603 | Avg FiC Loss: 1.0141 | Avg CE Loss: 0.1681 | Model Sparsity: 0.7605\n",
      "\n"
     ]
    },
    {
     "name": "stderr",
     "output_type": "stream",
     "text": [
      "                                                                                                                                                 \r"
     ]
    },
    {
     "name": "stdout",
     "output_type": "stream",
     "text": [
      "Retraining Epoch [6/10]: Avg Total Loss: 4.5035 | Avg PrC Loss: 0.9952 | Avg SnC Loss: 2.3939 | Avg FiC Loss: 0.9444 | Avg CE Loss: 0.1700 | Model Sparsity: 0.7605\n",
      "\n"
     ]
    },
    {
     "name": "stderr",
     "output_type": "stream",
     "text": [
      "                                                                                                                                                 \r"
     ]
    },
    {
     "name": "stdout",
     "output_type": "stream",
     "text": [
      "Retraining Epoch [7/10]: Avg Total Loss: 4.1487 | Avg PrC Loss: 0.9206 | Avg SnC Loss: 2.1595 | Avg FiC Loss: 0.8775 | Avg CE Loss: 0.1911 | Model Sparsity: 0.7605\n",
      "\n"
     ]
    },
    {
     "name": "stderr",
     "output_type": "stream",
     "text": [
      "                                                                                                                                                 \r"
     ]
    },
    {
     "name": "stdout",
     "output_type": "stream",
     "text": [
      "Retraining Epoch [8/10]: Avg Total Loss: 3.8003 | Avg PrC Loss: 0.8503 | Avg SnC Loss: 1.9423 | Avg FiC Loss: 0.8131 | Avg CE Loss: 0.1947 | Model Sparsity: 0.7605\n",
      "\n"
     ]
    },
    {
     "name": "stderr",
     "output_type": "stream",
     "text": [
      "                                                                                                                                                 \r"
     ]
    },
    {
     "name": "stdout",
     "output_type": "stream",
     "text": [
      "Retraining Epoch [9/10]: Avg Total Loss: 3.4849 | Avg PrC Loss: 0.7847 | Avg SnC Loss: 1.7502 | Avg FiC Loss: 0.7530 | Avg CE Loss: 0.1970 | Model Sparsity: 0.7605\n",
      "\n"
     ]
    },
    {
     "name": "stderr",
     "output_type": "stream",
     "text": [
      "                                                                                                                                                  \r"
     ]
    },
    {
     "name": "stdout",
     "output_type": "stream",
     "text": [
      "Retraining Epoch [10/10]: Avg Total Loss: 3.2158 | Avg PrC Loss: 0.7245 | Avg SnC Loss: 1.5824 | Avg FiC Loss: 0.6977 | Avg CE Loss: 0.2112 | Model Sparsity: 0.7605\n",
      "\n"
     ]
    },
    {
     "name": "stderr",
     "output_type": "stream",
     "text": [
      "Training Epoch [3/5]:   1%|          | 1/83 [00:01<01:29,  1.10s/it, Loss=4.5, PrC Loss=0.696, SnC Loss=2.94, FiC Loss=0.673, CE Loss=0.188]"
     ]
    },
    {
     "name": "stdout",
     "output_type": "stream",
     "text": [
      "\n",
      "[Pruner] Cubic Sparsity ratio increased to 0.908.\n",
      "\n"
     ]
    },
    {
     "name": "stderr",
     "output_type": "stream",
     "text": [
      "                                                                                                                                              \r"
     ]
    },
    {
     "name": "stdout",
     "output_type": "stream",
     "text": [
      "Epoch [3/5]: Avg Total Loss: 4.2765 | Avg PrC Loss: 0.6702 | Avg SnC Loss: 2.7425 | Avg FiC Loss: 0.6419 | Avg CE Loss: 0.2220 | Model Sparsity: 0.9079\n",
      "\n",
      "[BaCP] weights saved!\n"
     ]
    },
    {
     "name": "stderr",
     "output_type": "stream",
     "text": [
      "                                                                                                                                                 \r"
     ]
    },
    {
     "name": "stdout",
     "output_type": "stream",
     "text": [
      "Retraining Epoch [1/10]: Avg Total Loss: 3.7258 | Avg PrC Loss: 0.6061 | Avg SnC Loss: 2.3211 | Avg FiC Loss: 0.5815 | Avg CE Loss: 0.2171 | Model Sparsity: 0.9079\n",
      "\n"
     ]
    },
    {
     "name": "stderr",
     "output_type": "stream",
     "text": [
      "                                                                                                                                                 \r"
     ]
    },
    {
     "name": "stdout",
     "output_type": "stream",
     "text": [
      "Retraining Epoch [2/10]: Avg Total Loss: 3.2961 | Avg PrC Loss: 0.5503 | Avg SnC Loss: 1.9943 | Avg FiC Loss: 0.5293 | Avg CE Loss: 0.2221 | Model Sparsity: 0.9079\n",
      "\n"
     ]
    },
    {
     "name": "stderr",
     "output_type": "stream",
     "text": [
      "                                                                                                                                                 \r"
     ]
    },
    {
     "name": "stdout",
     "output_type": "stream",
     "text": [
      "Retraining Epoch [3/10]: Avg Total Loss: 2.9455 | Avg PrC Loss: 0.5023 | Avg SnC Loss: 1.7331 | Avg FiC Loss: 0.4842 | Avg CE Loss: 0.2260 | Model Sparsity: 0.9079\n",
      "\n"
     ]
    },
    {
     "name": "stderr",
     "output_type": "stream",
     "text": [
      "                                                                                                                                                 \r"
     ]
    },
    {
     "name": "stdout",
     "output_type": "stream",
     "text": [
      "Retraining Epoch [4/10]: Avg Total Loss: 2.6362 | Avg PrC Loss: 0.4607 | Avg SnC Loss: 1.5193 | Avg FiC Loss: 0.4440 | Avg CE Loss: 0.2122 | Model Sparsity: 0.9079\n",
      "\n"
     ]
    },
    {
     "name": "stderr",
     "output_type": "stream",
     "text": [
      "                                                                                                                                                 \r"
     ]
    },
    {
     "name": "stdout",
     "output_type": "stream",
     "text": [
      "Retraining Epoch [5/10]: Avg Total Loss: 2.4025 | Avg PrC Loss: 0.4249 | Avg SnC Loss: 1.3525 | Avg FiC Loss: 0.4104 | Avg CE Loss: 0.2147 | Model Sparsity: 0.9079\n",
      "\n"
     ]
    },
    {
     "name": "stderr",
     "output_type": "stream",
     "text": [
      "                                                                                                                                                 \r"
     ]
    },
    {
     "name": "stdout",
     "output_type": "stream",
     "text": [
      "Retraining Epoch [6/10]: Avg Total Loss: 2.2065 | Avg PrC Loss: 0.3937 | Avg SnC Loss: 1.2127 | Avg FiC Loss: 0.3809 | Avg CE Loss: 0.2193 | Model Sparsity: 0.9079\n",
      "\n"
     ]
    },
    {
     "name": "stderr",
     "output_type": "stream",
     "text": [
      "                                                                                                                                                 \r"
     ]
    },
    {
     "name": "stdout",
     "output_type": "stream",
     "text": [
      "Retraining Epoch [7/10]: Avg Total Loss: 2.0426 | Avg PrC Loss: 0.3665 | Avg SnC Loss: 1.0960 | Avg FiC Loss: 0.3551 | Avg CE Loss: 0.2249 | Model Sparsity: 0.9079\n",
      "\n"
     ]
    },
    {
     "name": "stderr",
     "output_type": "stream",
     "text": [
      "                                                                                                                                                  \r"
     ]
    },
    {
     "name": "stdout",
     "output_type": "stream",
     "text": [
      "Retraining Epoch [8/10]: Avg Total Loss: 1.9065 | Avg PrC Loss: 0.3428 | Avg SnC Loss: 0.9999 | Avg FiC Loss: 0.3326 | Avg CE Loss: 0.2313 | Model Sparsity: 0.9079\n",
      "\n"
     ]
    },
    {
     "name": "stderr",
     "output_type": "stream",
     "text": [
      "                                                                                                                                                  \r"
     ]
    },
    {
     "name": "stdout",
     "output_type": "stream",
     "text": [
      "Retraining Epoch [9/10]: Avg Total Loss: 1.7836 | Avg PrC Loss: 0.3216 | Avg SnC Loss: 0.9160 | Avg FiC Loss: 0.3122 | Avg CE Loss: 0.2338 | Model Sparsity: 0.9079\n",
      "\n"
     ]
    },
    {
     "name": "stderr",
     "output_type": "stream",
     "text": [
      "                                                                                                                                                   \r"
     ]
    },
    {
     "name": "stdout",
     "output_type": "stream",
     "text": [
      "Retraining Epoch [10/10]: Avg Total Loss: 1.6683 | Avg PrC Loss: 0.3028 | Avg SnC Loss: 0.8424 | Avg FiC Loss: 0.2940 | Avg CE Loss: 0.2291 | Model Sparsity: 0.9079\n",
      "\n"
     ]
    },
    {
     "name": "stderr",
     "output_type": "stream",
     "text": [
      "Training Epoch [4/5]:   1%|          | 1/83 [00:01<01:26,  1.06s/it, Loss=2, PrC Loss=0.293, SnC Loss=1.21, FiC Loss=0.285, CE Loss=0.212]"
     ]
    },
    {
     "name": "stdout",
     "output_type": "stream",
     "text": [
      "\n",
      "[Pruner] Cubic Sparsity ratio increased to 0.962.\n",
      "\n"
     ]
    },
    {
     "name": "stderr",
     "output_type": "stream",
     "text": [
      "                                                                                                                                              \r"
     ]
    },
    {
     "name": "stdout",
     "output_type": "stream",
     "text": [
      "Epoch [4/5]: Avg Total Loss: 1.9790 | Avg PrC Loss: 0.2867 | Avg SnC Loss: 1.1544 | Avg FiC Loss: 0.2778 | Avg CE Loss: 0.2601 | Model Sparsity: 0.9622\n",
      "\n",
      "[BaCP] weights saved!\n"
     ]
    },
    {
     "name": "stderr",
     "output_type": "stream",
     "text": [
      "                                                                                                                                                  \r"
     ]
    },
    {
     "name": "stdout",
     "output_type": "stream",
     "text": [
      "Retraining Epoch [1/10]: Avg Total Loss: 1.8142 | Avg PrC Loss: 0.2684 | Avg SnC Loss: 1.0450 | Avg FiC Loss: 0.2603 | Avg CE Loss: 0.2405 | Model Sparsity: 0.9622\n",
      "\n"
     ]
    },
    {
     "name": "stderr",
     "output_type": "stream",
     "text": [
      "                                                                                                                                                  \r"
     ]
    },
    {
     "name": "stdout",
     "output_type": "stream",
     "text": [
      "Retraining Epoch [2/10]: Avg Total Loss: 1.6871 | Avg PrC Loss: 0.2523 | Avg SnC Loss: 0.9530 | Avg FiC Loss: 0.2447 | Avg CE Loss: 0.2372 | Model Sparsity: 0.9622\n",
      "\n"
     ]
    },
    {
     "name": "stderr",
     "output_type": "stream",
     "text": [
      "                                                                                                                                                  \r"
     ]
    },
    {
     "name": "stdout",
     "output_type": "stream",
     "text": [
      "Retraining Epoch [3/10]: Avg Total Loss: 1.5815 | Avg PrC Loss: 0.2381 | Avg SnC Loss: 0.8755 | Avg FiC Loss: 0.2311 | Avg CE Loss: 0.2368 | Model Sparsity: 0.9622\n",
      "\n"
     ]
    },
    {
     "name": "stderr",
     "output_type": "stream",
     "text": [
      "                                                                                                                                                  \r"
     ]
    },
    {
     "name": "stdout",
     "output_type": "stream",
     "text": [
      "Retraining Epoch [4/10]: Avg Total Loss: 1.4987 | Avg PrC Loss: 0.2256 | Avg SnC Loss: 0.8101 | Avg FiC Loss: 0.2192 | Avg CE Loss: 0.2439 | Model Sparsity: 0.9622\n",
      "\n"
     ]
    },
    {
     "name": "stderr",
     "output_type": "stream",
     "text": [
      "                                                                                                                                                  \r"
     ]
    },
    {
     "name": "stdout",
     "output_type": "stream",
     "text": [
      "Retraining Epoch [5/10]: Avg Total Loss: 1.4091 | Avg PrC Loss: 0.2142 | Avg SnC Loss: 0.7515 | Avg FiC Loss: 0.2081 | Avg CE Loss: 0.2353 | Model Sparsity: 0.9622\n",
      "\n"
     ]
    },
    {
     "name": "stderr",
     "output_type": "stream",
     "text": [
      "                                                                                                                                                  \r"
     ]
    },
    {
     "name": "stdout",
     "output_type": "stream",
     "text": [
      "Retraining Epoch [6/10]: Avg Total Loss: 1.3409 | Avg PrC Loss: 0.2039 | Avg SnC Loss: 0.7014 | Avg FiC Loss: 0.1985 | Avg CE Loss: 0.2371 | Model Sparsity: 0.9622\n",
      "\n"
     ]
    },
    {
     "name": "stderr",
     "output_type": "stream",
     "text": [
      "                                                                                                                                                  \r"
     ]
    },
    {
     "name": "stdout",
     "output_type": "stream",
     "text": [
      "Retraining Epoch [7/10]: Avg Total Loss: 1.2811 | Avg PrC Loss: 0.1947 | Avg SnC Loss: 0.6564 | Avg FiC Loss: 0.1895 | Avg CE Loss: 0.2405 | Model Sparsity: 0.9622\n",
      "\n"
     ]
    },
    {
     "name": "stderr",
     "output_type": "stream",
     "text": [
      "                                                                                                                                                  \r"
     ]
    },
    {
     "name": "stdout",
     "output_type": "stream",
     "text": [
      "Retraining Epoch [8/10]: Avg Total Loss: 1.2255 | Avg PrC Loss: 0.1864 | Avg SnC Loss: 0.6175 | Avg FiC Loss: 0.1815 | Avg CE Loss: 0.2401 | Model Sparsity: 0.9622\n",
      "\n"
     ]
    },
    {
     "name": "stderr",
     "output_type": "stream",
     "text": [
      "                                                                                                                                                  \r"
     ]
    },
    {
     "name": "stdout",
     "output_type": "stream",
     "text": [
      "Retraining Epoch [9/10]: Avg Total Loss: 1.1701 | Avg PrC Loss: 0.1787 | Avg SnC Loss: 0.5812 | Avg FiC Loss: 0.1739 | Avg CE Loss: 0.2364 | Model Sparsity: 0.9622\n",
      "\n"
     ]
    },
    {
     "name": "stderr",
     "output_type": "stream",
     "text": [
      "                                                                                                                                                   \r"
     ]
    },
    {
     "name": "stdout",
     "output_type": "stream",
     "text": [
      "Retraining Epoch [10/10]: Avg Total Loss: 1.1345 | Avg PrC Loss: 0.1716 | Avg SnC Loss: 0.5506 | Avg FiC Loss: 0.1673 | Avg CE Loss: 0.2450 | Model Sparsity: 0.9622\n",
      "\n"
     ]
    },
    {
     "name": "stderr",
     "output_type": "stream",
     "text": [
      "Training Epoch [5/5]:   1%|          | 1/83 [00:01<01:33,  1.14s/it, Loss=1.26, PrC Loss=0.168, SnC Loss=0.706, FiC Loss=0.164, CE Loss=0.221]"
     ]
    },
    {
     "name": "stdout",
     "output_type": "stream",
     "text": [
      "\n",
      "[Pruner] Cubic Sparsity ratio increased to 0.970.\n",
      "\n"
     ]
    },
    {
     "name": "stderr",
     "output_type": "stream",
     "text": [
      "                                                                                                                                               \r"
     ]
    },
    {
     "name": "stdout",
     "output_type": "stream",
     "text": [
      "Epoch [5/5]: Avg Total Loss: 1.2531 | Avg PrC Loss: 0.1654 | Avg SnC Loss: 0.6876 | Avg FiC Loss: 0.1607 | Avg CE Loss: 0.2392 | Model Sparsity: 0.97\n",
      "\n",
      "[BaCP] weights saved!\n"
     ]
    },
    {
     "name": "stderr",
     "output_type": "stream",
     "text": [
      "                                                                                                                                                  \r"
     ]
    },
    {
     "name": "stdout",
     "output_type": "stream",
     "text": [
      "Retraining Epoch [1/10]: Avg Total Loss: 1.1980 | Avg PrC Loss: 0.1585 | Avg SnC Loss: 0.6461 | Avg FiC Loss: 0.1541 | Avg CE Loss: 0.2393 | Model Sparsity: 0.97\n",
      "\n"
     ]
    },
    {
     "name": "stderr",
     "output_type": "stream",
     "text": [
      "                                                                                                                                                  \r"
     ]
    },
    {
     "name": "stdout",
     "output_type": "stream",
     "text": [
      "Retraining Epoch [2/10]: Avg Total Loss: 1.1464 | Avg PrC Loss: 0.1520 | Avg SnC Loss: 0.6080 | Avg FiC Loss: 0.1479 | Avg CE Loss: 0.2384 | Model Sparsity: 0.97\n",
      "\n"
     ]
    },
    {
     "name": "stderr",
     "output_type": "stream",
     "text": [
      "                                                                                                                                                  \r"
     ]
    },
    {
     "name": "stdout",
     "output_type": "stream",
     "text": [
      "Retraining Epoch [3/10]: Avg Total Loss: 1.0974 | Avg PrC Loss: 0.1462 | Avg SnC Loss: 0.5742 | Avg FiC Loss: 0.1423 | Avg CE Loss: 0.2347 | Model Sparsity: 0.97\n",
      "\n"
     ]
    },
    {
     "name": "stderr",
     "output_type": "stream",
     "text": [
      "                                                                                                                                                  \r"
     ]
    },
    {
     "ename": "KeyboardInterrupt",
     "evalue": "",
     "output_type": "error",
     "traceback": [
      "\u001b[0;31m---------------------------------------------------------------------------\u001b[0m",
      "\u001b[0;31mKeyboardInterrupt\u001b[0m                         Traceback (most recent call last)",
      "Cell \u001b[0;32mIn[5], line 18\u001b[0m\n\u001b[1;32m     16\u001b[0m bacp_trainer \u001b[38;5;241m=\u001b[39m BaCPTrainer(bacp_training_args, lambdas\u001b[38;5;241m=\u001b[39m\u001b[38;5;28;01mNone\u001b[39;00m)\n\u001b[1;32m     17\u001b[0m \u001b[38;5;28;01mif\u001b[39;00m \u001b[38;5;28;01mTrue\u001b[39;00m:\n\u001b[0;32m---> 18\u001b[0m     \u001b[43mbacp_trainer\u001b[49m\u001b[38;5;241;43m.\u001b[39;49m\u001b[43mtrain\u001b[49m\u001b[43m(\u001b[49m\u001b[43m)\u001b[49m\n\u001b[1;32m     19\u001b[0m     print_dynamic_lambdas_statistics(bacp_trainer)\n\u001b[1;32m     21\u001b[0m bacp_trainer\u001b[38;5;241m.\u001b[39mgenerate_mask_from_model()\n",
      "File \u001b[0;32m~/BaCP-1/project/bacp.py:225\u001b[0m, in \u001b[0;36mBaCPTrainer.train\u001b[0;34m(self)\u001b[0m\n\u001b[1;32m    222\u001b[0m     \u001b[38;5;28mprint\u001b[39m(\u001b[38;5;124mf\u001b[39m\u001b[38;5;124m\"\u001b[39m\u001b[38;5;124m[BaCP] weights saved!\u001b[39m\u001b[38;5;124m\"\u001b[39m)\n\u001b[1;32m    224\u001b[0m \u001b[38;5;28;01mif\u001b[39;00m \u001b[38;5;28mself\u001b[39m\u001b[38;5;241m.\u001b[39mpruner \u001b[38;5;129;01mis\u001b[39;00m \u001b[38;5;129;01mnot\u001b[39;00m \u001b[38;5;28;01mNone\u001b[39;00m:\n\u001b[0;32m--> 225\u001b[0m     \u001b[38;5;28;43mself\u001b[39;49m\u001b[38;5;241;43m.\u001b[39;49m\u001b[43mretrain\u001b[49m\u001b[43m(\u001b[49m\u001b[43m)\u001b[49m          \n\u001b[1;32m    227\u001b[0m \u001b[38;5;28;01mif\u001b[39;00m \u001b[38;5;28mlen\u001b[39m(\u001b[38;5;28mself\u001b[39m\u001b[38;5;241m.\u001b[39msnapshots) \u001b[38;5;241m<\u001b[39m \u001b[38;5;28mself\u001b[39m\u001b[38;5;241m.\u001b[39mpruning_epochs:\n\u001b[1;32m    228\u001b[0m     state \u001b[38;5;241m=\u001b[39m deepcopy(\u001b[38;5;28mself\u001b[39m\u001b[38;5;241m.\u001b[39mmodel\u001b[38;5;241m.\u001b[39mstate_dict())\n",
      "File \u001b[0;32m~/BaCP-1/project/bacp.py:237\u001b[0m, in \u001b[0;36mBaCPTrainer.retrain\u001b[0;34m(self)\u001b[0m\n\u001b[1;32m    234\u001b[0m \u001b[38;5;28;01mfor\u001b[39;00m epoch \u001b[38;5;129;01min\u001b[39;00m \u001b[38;5;28mrange\u001b[39m(\u001b[38;5;28mself\u001b[39m\u001b[38;5;241m.\u001b[39mrecovery_epochs):\n\u001b[1;32m    235\u001b[0m     \u001b[38;5;66;03m# Training phase\u001b[39;00m\n\u001b[1;32m    236\u001b[0m     desc \u001b[38;5;241m=\u001b[39m \u001b[38;5;124mf\u001b[39m\u001b[38;5;124m\"\u001b[39m\u001b[38;5;124mRetraining epoch [\u001b[39m\u001b[38;5;132;01m{\u001b[39;00mepoch\u001b[38;5;241m+\u001b[39m\u001b[38;5;241m1\u001b[39m\u001b[38;5;132;01m}\u001b[39;00m\u001b[38;5;124m/\u001b[39m\u001b[38;5;132;01m{\u001b[39;00m\u001b[38;5;28mself\u001b[39m\u001b[38;5;241m.\u001b[39mrecovery_epochs\u001b[38;5;132;01m}\u001b[39;00m\u001b[38;5;124m]\u001b[39m\u001b[38;5;124m\"\u001b[39m\n\u001b[0;32m--> 237\u001b[0m     \u001b[38;5;28;43mself\u001b[39;49m\u001b[38;5;241;43m.\u001b[39;49m\u001b[43mtrain_epoch\u001b[49m\u001b[43m(\u001b[49m\u001b[43mepoch\u001b[49m\u001b[43m,\u001b[49m\u001b[43m \u001b[49m\u001b[43mdesc\u001b[49m\u001b[43m)\u001b[49m\n\u001b[1;32m    239\u001b[0m     \u001b[38;5;66;03m# Printing statistics\u001b[39;00m\n\u001b[1;32m    240\u001b[0m     sparsity \u001b[38;5;241m=\u001b[39m \u001b[38;5;28mself\u001b[39m\u001b[38;5;241m.\u001b[39m_get_sparsity_key()\n",
      "File \u001b[0;32m~/BaCP-1/project/bacp.py:417\u001b[0m, in \u001b[0;36mBaCPTrainer.train_epoch\u001b[0;34m(self, epoch, desc)\u001b[0m\n\u001b[1;32m    415\u001b[0m             sup_features_snc \u001b[38;5;241m=\u001b[39m torch\u001b[38;5;241m.\u001b[39mcat((current_embeddings, snapshot_embeddings))\n\u001b[1;32m    416\u001b[0m             L_snc_sup \u001b[38;5;241m+\u001b[39m\u001b[38;5;241m=\u001b[39m \u001b[38;5;28mself\u001b[39m\u001b[38;5;241m.\u001b[39m_supervised_criterion(sup_features_snc, labels)\n\u001b[0;32m--> 417\u001b[0m             L_snc_unsup \u001b[38;5;241m+\u001b[39m\u001b[38;5;241m=\u001b[39m \u001b[38;5;28;43mself\u001b[39;49m\u001b[38;5;241;43m.\u001b[39;49m\u001b[43m_unsupervised_criterion\u001b[49m\u001b[43m(\u001b[49m\u001b[43mcurrent_embeddings\u001b[49m\u001b[43m,\u001b[49m\u001b[43m \u001b[49m\u001b[43msnapshot_embeddings\u001b[49m\u001b[43m)\u001b[49m\n\u001b[1;32m    418\u001b[0m         L_snc_total \u001b[38;5;241m=\u001b[39m L_snc_sup \u001b[38;5;241m+\u001b[39m L_snc_unsup\n\u001b[1;32m    420\u001b[0m \u001b[38;5;66;03m# Total loss calculation\u001b[39;00m\n",
      "File \u001b[0;32m~/BaCP-1/project/bacp.py:525\u001b[0m, in \u001b[0;36mBaCPTrainer._unsupervised_criterion\u001b[0;34m(self, features1, features2)\u001b[0m\n\u001b[1;32m    524\u001b[0m \u001b[38;5;28;01mdef\u001b[39;00m\u001b[38;5;250m \u001b[39m\u001b[38;5;21m_unsupervised_criterion\u001b[39m(\u001b[38;5;28mself\u001b[39m, features1, features2):\n\u001b[0;32m--> 525\u001b[0m     loss \u001b[38;5;241m=\u001b[39m \u001b[38;5;28;43mself\u001b[39;49m\u001b[38;5;241;43m.\u001b[39;49m\u001b[43munsupervised_loss\u001b[49m\u001b[43m(\u001b[49m\u001b[43mfeatures1\u001b[49m\u001b[43m,\u001b[49m\u001b[43m \u001b[49m\u001b[43mfeatures2\u001b[49m\u001b[43m)\u001b[49m\n\u001b[1;32m    526\u001b[0m     \u001b[38;5;28;01mreturn\u001b[39;00m loss\n",
      "File \u001b[0;32m/usr/local/lib/python3.10/dist-packages/torch/nn/modules/module.py:1773\u001b[0m, in \u001b[0;36mModule._wrapped_call_impl\u001b[0;34m(self, *args, **kwargs)\u001b[0m\n\u001b[1;32m   1771\u001b[0m     \u001b[38;5;28;01mreturn\u001b[39;00m \u001b[38;5;28mself\u001b[39m\u001b[38;5;241m.\u001b[39m_compiled_call_impl(\u001b[38;5;241m*\u001b[39margs, \u001b[38;5;241m*\u001b[39m\u001b[38;5;241m*\u001b[39mkwargs)  \u001b[38;5;66;03m# type: ignore[misc]\u001b[39;00m\n\u001b[1;32m   1772\u001b[0m \u001b[38;5;28;01melse\u001b[39;00m:\n\u001b[0;32m-> 1773\u001b[0m     \u001b[38;5;28;01mreturn\u001b[39;00m \u001b[38;5;28;43mself\u001b[39;49m\u001b[38;5;241;43m.\u001b[39;49m\u001b[43m_call_impl\u001b[49m\u001b[43m(\u001b[49m\u001b[38;5;241;43m*\u001b[39;49m\u001b[43margs\u001b[49m\u001b[43m,\u001b[49m\u001b[43m \u001b[49m\u001b[38;5;241;43m*\u001b[39;49m\u001b[38;5;241;43m*\u001b[39;49m\u001b[43mkwargs\u001b[49m\u001b[43m)\u001b[49m\n",
      "File \u001b[0;32m/usr/local/lib/python3.10/dist-packages/torch/nn/modules/module.py:1784\u001b[0m, in \u001b[0;36mModule._call_impl\u001b[0;34m(self, *args, **kwargs)\u001b[0m\n\u001b[1;32m   1779\u001b[0m \u001b[38;5;66;03m# If we don't have any hooks, we want to skip the rest of the logic in\u001b[39;00m\n\u001b[1;32m   1780\u001b[0m \u001b[38;5;66;03m# this function, and just call forward.\u001b[39;00m\n\u001b[1;32m   1781\u001b[0m \u001b[38;5;28;01mif\u001b[39;00m \u001b[38;5;129;01mnot\u001b[39;00m (\u001b[38;5;28mself\u001b[39m\u001b[38;5;241m.\u001b[39m_backward_hooks \u001b[38;5;129;01mor\u001b[39;00m \u001b[38;5;28mself\u001b[39m\u001b[38;5;241m.\u001b[39m_backward_pre_hooks \u001b[38;5;129;01mor\u001b[39;00m \u001b[38;5;28mself\u001b[39m\u001b[38;5;241m.\u001b[39m_forward_hooks \u001b[38;5;129;01mor\u001b[39;00m \u001b[38;5;28mself\u001b[39m\u001b[38;5;241m.\u001b[39m_forward_pre_hooks\n\u001b[1;32m   1782\u001b[0m         \u001b[38;5;129;01mor\u001b[39;00m _global_backward_pre_hooks \u001b[38;5;129;01mor\u001b[39;00m _global_backward_hooks\n\u001b[1;32m   1783\u001b[0m         \u001b[38;5;129;01mor\u001b[39;00m _global_forward_hooks \u001b[38;5;129;01mor\u001b[39;00m _global_forward_pre_hooks):\n\u001b[0;32m-> 1784\u001b[0m     \u001b[38;5;28;01mreturn\u001b[39;00m \u001b[43mforward_call\u001b[49m\u001b[43m(\u001b[49m\u001b[38;5;241;43m*\u001b[39;49m\u001b[43margs\u001b[49m\u001b[43m,\u001b[49m\u001b[43m \u001b[49m\u001b[38;5;241;43m*\u001b[39;49m\u001b[38;5;241;43m*\u001b[39;49m\u001b[43mkwargs\u001b[49m\u001b[43m)\u001b[49m\n\u001b[1;32m   1786\u001b[0m result \u001b[38;5;241m=\u001b[39m \u001b[38;5;28;01mNone\u001b[39;00m\n\u001b[1;32m   1787\u001b[0m called_always_called_hooks \u001b[38;5;241m=\u001b[39m \u001b[38;5;28mset\u001b[39m()\n",
      "File \u001b[0;32m~/BaCP-1/project/loss_fn.py:90\u001b[0m, in \u001b[0;36mNTXentLoss.forward\u001b[0;34m(self, features1, features2)\u001b[0m\n\u001b[1;32m     88\u001b[0m \u001b[38;5;66;03m# Creating a mask where mask[i, j] = 1 if samples i and j are from different views of the same sample\u001b[39;00m\n\u001b[1;32m     89\u001b[0m labels \u001b[38;5;241m=\u001b[39m repeated_indices\u001b[38;5;241m.\u001b[39mview(\u001b[38;5;241m-\u001b[39m\u001b[38;5;241m1\u001b[39m, \u001b[38;5;241m1\u001b[39m)  \u001b[38;5;66;03m# Shape: [2N, 1]\u001b[39;00m\n\u001b[0;32m---> 90\u001b[0m positive_pair_mask \u001b[38;5;241m=\u001b[39m \u001b[43mlabels\u001b[49m\u001b[38;5;241;43m.\u001b[39;49m\u001b[43meq\u001b[49m\u001b[43m(\u001b[49m\u001b[43mlabels\u001b[49m\u001b[38;5;241;43m.\u001b[39;49m\u001b[43mT\u001b[49m\u001b[43m)\u001b[49m\u001b[38;5;241;43m.\u001b[39;49m\u001b[43mfloat\u001b[49m\u001b[43m(\u001b[49m\u001b[43m)\u001b[49m\u001b[38;5;241m.\u001b[39mto(\u001b[38;5;28mself\u001b[39m\u001b[38;5;241m.\u001b[39mdevice)\n\u001b[1;32m     92\u001b[0m \u001b[38;5;66;03m# Calculating similarity between all samples (dot product of normalized features)\u001b[39;00m\n\u001b[1;32m     93\u001b[0m similarity_matrix \u001b[38;5;241m=\u001b[39m torch\u001b[38;5;241m.\u001b[39mmatmul(features, features\u001b[38;5;241m.\u001b[39mT) \u001b[38;5;241m/\u001b[39m \u001b[38;5;28mself\u001b[39m\u001b[38;5;241m.\u001b[39mtemperature\n",
      "\u001b[0;31mKeyboardInterrupt\u001b[0m: "
     ]
    }
   ],
   "source": [
    "# Initializing finetuned weights path\n",
    "finetuned_weights = f\"./research/{MODEL_NAME}/{MODEL_TASK}/{MODEL_NAME}_{MODEL_TASK}_baseline.pt\"\n",
    "\n",
    "bacp_training_args = BaCPTrainingArguments(\n",
    "    model_name=MODEL_NAME,\n",
    "    model_task=MODEL_TASK,\n",
    "    batch_size=BATCH_SIZE_CNN,\n",
    "    optimizer_type_and_lr=('sgd', 0.1),\n",
    "    pruning_type='magnitude_pruning',\n",
    "    target_sparsity=TARGET_SPARSITY_MID,\n",
    "    sparsity_scheduler='cubic',\n",
    "    finetuned_weights=finetuned_weights,\n",
    "    learning_type='bacp_pruning_b1',\n",
    "    db=False,\n",
    ")\n",
    "bacp_trainer = BaCPTrainer(bacp_training_args, lambdas=None)\n",
    "if True:\n",
    "    bacp_trainer.train()\n",
    "    print_dynamic_lambdas_statistics(bacp_trainer)\n",
    "\n",
    "bacp_trainer.generate_mask_from_model()\n",
    "training_args = TrainingArguments(\n",
    "    model_name=bacp_trainer.model_name,\n",
    "    model_task=bacp_trainer.model_task,\n",
    "    batch_size=bacp_trainer.batch_size,\n",
    "    optimizer_type_and_lr=('adamw', 0.0001),\n",
    "    pruner=bacp_trainer.get_pruner(),\n",
    "    pruning_type=bacp_trainer.pruning_type,\n",
    "    target_sparsity=bacp_trainer.target_sparsity,\n",
    "    epochs=50,\n",
    "    finetuned_weights=bacp_trainer.save_path,\n",
    "    finetune=True,\n",
    "    learning_type=\"bacp_b1_finetune\",\n",
    "    db=False,\n",
    ")\n",
    "trainer = Trainer(training_args)\n",
    "if True:\n",
    "    trainer.train()\n",
    "\n",
    "metrics = trainer.evaluate()\n",
    "print_statistics(metrics, trainer)\n",
    "\n",
    "save_object(\n",
    "    bacp_trainer.lambda_history, \n",
    "    f'{MODEL_NAME}_{MODEL_TASK}_{bacp_trainer.pruning_type}_{bacp_trainer.target_sparsity}_lambda_history.pkl'\n",
    "    )"
   ]
  },
  {
   "cell_type": "code",
   "execution_count": null,
   "id": "ffcc4540",
   "metadata": {},
   "outputs": [],
   "source": [
    "# Initializing finetuned weights path\n",
    "finetuned_weights = f\"./research/{MODEL_NAME}/{MODEL_TASK}/{MODEL_NAME}_{MODEL_TASK}_baseline.pt\"\n",
    "\n",
    "bacp_training_args = BaCPTrainingArguments(\n",
    "    model_name=MODEL_NAME,\n",
    "    model_task=MODEL_TASK,\n",
    "    batch_size=BATCH_SIZE_CNN,\n",
    "    optimizer_type_and_lr=('sgd', 0.1),\n",
    "    pruning_type='magnitude_pruning',\n",
    "    target_sparsity=TARGET_SPARSITY_HIGH,\n",
    "    sparsity_scheduler='cubic',\n",
    "    finetuned_weights=finetuned_weights,\n",
    "    learning_type='bacp_pruning_b1',\n",
    "    db=False,\n",
    ")\n",
    "bacp_trainer = BaCPTrainer(bacp_training_args, lambdas=None)\n",
    "if True:\n",
    "    bacp_trainer.train()\n",
    "    print_dynamic_lambdas_statistics(bacp_trainer)\n",
    "\n",
    "bacp_trainer.generate_mask_from_model()\n",
    "training_args = TrainingArguments(\n",
    "    model_name=bacp_trainer.model_name,\n",
    "    model_task=bacp_trainer.model_task,\n",
    "    batch_size=bacp_trainer.batch_size,\n",
    "    optimizer_type_and_lr=('adamw', 0.0001),\n",
    "    pruner=bacp_trainer.get_pruner(),\n",
    "    pruning_type=bacp_trainer.pruning_type,\n",
    "    target_sparsity=bacp_trainer.target_sparsity,\n",
    "    epochs=50,\n",
    "    finetuned_weights=bacp_trainer.save_path,\n",
    "    finetune=True,\n",
    "    learning_type=\"bacp_b1_finetune\",\n",
    "    db=False,\n",
    ")\n",
    "trainer = Trainer(training_args)\n",
    "if True:\n",
    "    trainer.train()\n",
    "\n",
    "metrics = trainer.evaluate()\n",
    "print_statistics(metrics, trainer)\n",
    "\n",
    "save_object(\n",
    "    bacp_trainer.lambda_history, \n",
    "    f'{MODEL_NAME}_{MODEL_TASK}_{bacp_trainer.pruning_type}_{bacp_trainer.target_sparsity}_lambda_history.pkl'\n",
    "    )"
   ]
  }
 ],
 "metadata": {
  "kernelspec": {
   "display_name": "Python 3",
   "language": "python",
   "name": "python3"
  },
  "language_info": {
   "codemirror_mode": {
    "name": "ipython",
    "version": 3
   },
   "file_extension": ".py",
   "mimetype": "text/x-python",
   "name": "python",
   "nbconvert_exporter": "python",
   "pygments_lexer": "ipython3",
   "version": "3.10.12"
  }
 },
 "nbformat": 4,
 "nbformat_minor": 5
}
