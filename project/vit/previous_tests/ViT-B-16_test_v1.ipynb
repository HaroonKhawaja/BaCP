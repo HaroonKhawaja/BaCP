{
 "cells": [
  {
   "cell_type": "markdown",
   "metadata": {
    "application/vnd.databricks.v1+cell": {
     "cellMetadata": {},
     "inputWidgets": {},
     "nuid": "4a930502-611f-414f-adc9-074ec15e9f01",
     "showTitle": false,
     "tableResultSettingsMap": {},
     "title": ""
    }
   },
   "source": [
    "# ViT-B-16 Testing"
   ]
  },
  {
   "cell_type": "code",
   "execution_count": 0,
   "metadata": {
    "application/vnd.databricks.v1+cell": {
     "cellMetadata": {
      "byteLimit": 2048000,
      "rowLimit": 10000
     },
     "inputWidgets": {},
     "nuid": "3a1bcd36-a030-4156-9113-c9d3f2ed38bf",
     "showTitle": false,
     "tableResultSettingsMap": {},
     "title": ""
    }
   },
   "outputs": [],
   "source": [
    "%load_ext autoreload\n",
    "%autoreload 2\n",
    "# Enables autoreload; learn more at https://docs.databricks.com/en/files/workspace-modules.html#autoreload-for-python-modules\n",
    "# To disable autoreload; run %autoreload 0"
   ]
  },
  {
   "cell_type": "code",
   "execution_count": 0,
   "metadata": {
    "application/vnd.databricks.v1+cell": {
     "cellMetadata": {
      "byteLimit": 2048000,
      "rowLimit": 10000
     },
     "inputWidgets": {},
     "nuid": "e4ea4f77-7318-499c-987f-e8627b6f5f59",
     "showTitle": false,
     "tableResultSettingsMap": {},
     "title": ""
    }
   },
   "outputs": [],
   "source": [
    "import sys\n",
    "import os\n",
    "sys.path.append(os.path.abspath('..'))\n",
    "\n",
    "from bacp import BaCPTrainer, BaCPTrainingArgumentsLLM, BaCPTrainingArgumentsCNN\n",
    "from models import EncoderProjectionNetwork, ClassificationNetwork\n",
    "from LLM_trainer import LLMTrainer, LLMTrainingArguments\n",
    "from CV_trainer import *\n",
    "from dataset_utils import get_glue_data\n",
    "from logger import Logger\n",
    "\n",
    "import torch\n",
    "import torch.nn as nn\n",
    "import torch.optim as optim\n",
    "from transformers import AutoModelForSequenceClassification, AutoTokenizer\n",
    "\n",
    "from tqdm import tqdm\n",
    "\n",
    "from datasets.utils.logging import disable_progress_bar\n",
    "disable_progress_bar()\n",
    "import os\n",
    "os.environ[\"HF_DATASETS_CACHE\"] = \"/dbfs/hf_datasets\"\n",
    "os.environ[\"TOKENIZERS_PARALLELISM\"] = \"false\" \n",
    "\n",
    "from utils import *\n",
    "from constants import *\n",
    "\n",
    "device = get_device()\n",
    "print(f\"{device = }\")\n",
    "BATCH_SIZE_VIT = 512\n"
   ]
  },
  {
   "cell_type": "markdown",
   "metadata": {
    "application/vnd.databricks.v1+cell": {
     "cellMetadata": {},
     "inputWidgets": {},
     "nuid": "8dfd3f8a-db52-4b44-adaf-ba272f5fd4c2",
     "showTitle": false,
     "tableResultSettingsMap": {},
     "title": ""
    }
   },
   "source": [
    "## Baseline Accuracies"
   ]
  },
  {
   "cell_type": "code",
   "execution_count": 0,
   "metadata": {
    "application/vnd.databricks.v1+cell": {
     "cellMetadata": {
      "byteLimit": 2048000,
      "rowLimit": 10000
     },
     "inputWidgets": {},
     "nuid": "3c9ee502-87bf-471f-b2fd-0cb57a248540",
     "showTitle": false,
     "tableResultSettingsMap": {},
     "title": ""
    }
   },
   "outputs": [],
   "source": [
    "# Model initialization\n",
    "model_name = \"vitb16\"\n",
    "model_task = \"cifar10\"\n",
    "\n",
    "training_args = CVTrainingArguments(\n",
    "    model_name=model_name,\n",
    "    model_task=model_task,\n",
    "    batch_size=BATCH_SIZE_VIT,\n",
    "    epochs=3,\n",
    "    optimizer_type='adamw',\n",
    "    scheduler_type='linear_with_warmup',\n",
    "    learning_rate=0.00002,\n",
    "    learning_type=\"baseline\",\n",
    ")\n",
    "trainer = Trainer(training_args=training_args)\n",
    "if False:\n",
    "    trainer.train()\n",
    "\n",
    "acc = trainer.evaluate()\n",
    "print(f\"\\nAccuracy = {acc}\")"
   ]
  },
  {
   "cell_type": "markdown",
   "metadata": {
    "application/vnd.databricks.v1+cell": {
     "cellMetadata": {},
     "inputWidgets": {},
     "nuid": "d60b76c1-3fee-4873-b4e0-e47c656b5e43",
     "showTitle": false,
     "tableResultSettingsMap": {},
     "title": ""
    }
   },
   "source": [
    "## Pruning Accuracies"
   ]
  },
  {
   "cell_type": "markdown",
   "metadata": {
    "application/vnd.databricks.v1+cell": {
     "cellMetadata": {},
     "inputWidgets": {},
     "nuid": "08c6df17-2896-4dec-bc3e-349187da2647",
     "showTitle": false,
     "tableResultSettingsMap": {},
     "title": ""
    }
   },
   "source": [
    "### Magnitude Pruning"
   ]
  },
  {
   "cell_type": "code",
   "execution_count": 0,
   "metadata": {
    "application/vnd.databricks.v1+cell": {
     "cellMetadata": {
      "byteLimit": 2048000,
      "rowLimit": 10000
     },
     "inputWidgets": {},
     "nuid": "6f861032-fa08-42d0-b946-c18b7b723c9e",
     "showTitle": false,
     "tableResultSettingsMap": {},
     "title": ""
    }
   },
   "outputs": [],
   "source": [
    "# Model initialization\n",
    "model_name = \"vitb16\"\n",
    "model_task = \"cifar10\"\n",
    "\n",
    "# Initializing finetuned weights path\n",
    "finetuned_weights = f\"/dbfs/research/{model_name}/{model_task}/{model_name}_{model_task}_baseline.pt\"\n",
    "\n",
    "# Initializing pruning args\n",
    "pruning_type = \"magnitude_pruning\"\n",
    "target_sparsity = TARGET_SPARSITY_LOW\n",
    "learning_type = \"pruning\"\n",
    "\n",
    "training_args = CVTrainingArguments(\n",
    "    model_name=model_name,\n",
    "    model_task=model_task,\n",
    "    batch_size=BATCH_SIZE,\n",
    "    finetuned_weights=finetuned_weights,\n",
    "    pruning_type=pruning_type,\n",
    "    target_sparsity=target_sparsity,\n",
    "    learning_type=learning_type,\n",
    "    optimizer_type='adamw',\n",
    "    learning_rate=0.0001,\n",
    "    sparsity_scheduler='cubic'\n",
    ")\n",
    "trainer = Trainer(training_args=training_args)\n",
    "if False:\n",
    "    trainer.train()\n",
    "\n",
    "acc = trainer.evaluate()\n",
    "print(f\"\\nAccuracy = {acc}\")"
   ]
  },
  {
   "cell_type": "code",
   "execution_count": 0,
   "metadata": {
    "application/vnd.databricks.v1+cell": {
     "cellMetadata": {
      "byteLimit": 2048000,
      "rowLimit": 10000
     },
     "inputWidgets": {},
     "nuid": "90808223-957e-4d2c-8f4a-303e2a838ddf",
     "showTitle": false,
     "tableResultSettingsMap": {},
     "title": ""
    }
   },
   "outputs": [],
   "source": [
    "# Model initialization\n",
    "model_name = \"vitb16\"\n",
    "model_task = \"cifar10\"\n",
    "\n",
    "# Initializing finetuned weights path\n",
    "finetuned_weights = f\"/dbfs/research/{model_name}/{model_task}/{model_name}_{model_task}_baseline.pt\"\n",
    "\n",
    "# Initializing pruning args\n",
    "pruning_type = \"magnitude_pruning\"\n",
    "target_sparsity = TARGET_SPARSITY_MID\n",
    "learning_type = \"pruning\"\n",
    "\n",
    "training_args = CVTrainingArguments(\n",
    "    model_name=model_name,\n",
    "    model_task=model_task,\n",
    "    batch_size=BATCH_SIZE,\n",
    "    finetuned_weights=finetuned_weights,\n",
    "    pruning_type=pruning_type,\n",
    "    target_sparsity=target_sparsity,\n",
    "    learning_type=learning_type,\n",
    "    optimizer_type='adamw',\n",
    "    learning_rate=0.0001,\n",
    "    sparsity_scheduler='cubic'\n",
    ")\n",
    "trainer = Trainer(training_args=training_args)\n",
    "if True:\n",
    "    trainer.train()\n",
    "\n",
    "acc = trainer.evaluate()\n",
    "print(f\"\\nAccuracy = {acc}\")"
   ]
  },
  {
   "cell_type": "code",
   "execution_count": 0,
   "metadata": {
    "application/vnd.databricks.v1+cell": {
     "cellMetadata": {
      "byteLimit": 2048000,
      "rowLimit": 10000
     },
     "inputWidgets": {},
     "nuid": "9cc7d884-94b4-4a34-bf5f-3c0a97bf40da",
     "showTitle": false,
     "tableResultSettingsMap": {},
     "title": ""
    }
   },
   "outputs": [],
   "source": [
    "# Model initialization\n",
    "model_name = \"vitb16\"\n",
    "model_task = \"cifar10\"\n",
    "\n",
    "# Initializing finetuned weights path\n",
    "finetuned_weights = f\"/dbfs/research/{model_name}/{model_task}/{model_name}_{model_task}_baseline.pt\"\n",
    "\n",
    "# Initializing pruning args\n",
    "pruning_type = \"magnitude_pruning\"\n",
    "target_sparsity = TARGET_SPARSITY_HIGH\n",
    "learning_type = \"pruning\"\n",
    "\n",
    "training_args = CVTrainingArguments(\n",
    "    model_name=model_name,\n",
    "    model_task=model_task,\n",
    "    batch_size=BATCH_SIZE,\n",
    "    finetuned_weights=finetuned_weights,\n",
    "    pruning_type=pruning_type,\n",
    "    target_sparsity=target_sparsity,\n",
    "    learning_type=learning_type,\n",
    "    optimizer_type='adamw',\n",
    "    learning_rate=0.0001,\n",
    "    sparsity_scheduler='cubic'\n",
    ")\n",
    "trainer = Trainer(training_args=training_args)\n",
    "if True:\n",
    "    trainer.train()\n",
    "\n",
    "acc = trainer.evaluate()\n",
    "print(f\"\\nAccuracy = {acc}\")"
   ]
  },
  {
   "cell_type": "markdown",
   "metadata": {
    "application/vnd.databricks.v1+cell": {
     "cellMetadata": {},
     "inputWidgets": {},
     "nuid": "1faa6097-5fd0-41d5-af53-339dd3dbae07",
     "showTitle": false,
     "tableResultSettingsMap": {},
     "title": ""
    }
   },
   "source": [
    "### Movement Pruning"
   ]
  },
  {
   "cell_type": "code",
   "execution_count": 0,
   "metadata": {
    "application/vnd.databricks.v1+cell": {
     "cellMetadata": {
      "byteLimit": 2048000,
      "rowLimit": 10000
     },
     "inputWidgets": {},
     "nuid": "721a0f8f-796b-4a11-8fda-11bbd300eb7b",
     "showTitle": false,
     "tableResultSettingsMap": {},
     "title": ""
    }
   },
   "outputs": [],
   "source": [
    "# Model initialization\n",
    "model_name = \"vitb16\"\n",
    "model_task = \"cifar10\"\n",
    "\n",
    "# Initializing finetuned weights path\n",
    "finetuned_weights = f\"/dbfs/research/{model_name}/{model_task}/{model_name}_{model_task}_baseline.pt\"\n",
    "\n",
    "# Initializing pruning args\n",
    "pruning_type = \"movement_pruning\"\n",
    "target_sparsity = TARGET_SPARSITY_LOW\n",
    "learning_type = \"pruning\"\n",
    "\n",
    "training_args = CVTrainingArguments(\n",
    "    model_name=model_name,\n",
    "    model_task=model_task,\n",
    "    batch_size=BATCH_SIZE,\n",
    "    finetuned_weights=finetuned_weights,\n",
    "    pruning_type=pruning_type,\n",
    "    target_sparsity=target_sparsity,\n",
    "    learning_type=learning_type,\n",
    "    optimizer_type='adamw',\n",
    "    learning_rate=0.0001,\n",
    "    sparsity_scheduler='cubic'\n",
    ")\n",
    "trainer = Trainer(training_args=training_args)\n",
    "if True:\n",
    "    trainer.train()\n",
    "\n",
    "acc = trainer.evaluate()\n",
    "print(f\"\\nAccuracy = {acc}\")"
   ]
  },
  {
   "cell_type": "code",
   "execution_count": 0,
   "metadata": {
    "application/vnd.databricks.v1+cell": {
     "cellMetadata": {
      "byteLimit": 2048000,
      "rowLimit": 10000
     },
     "inputWidgets": {},
     "nuid": "e043b7fd-1400-4308-a19f-a2ece61b25ec",
     "showTitle": false,
     "tableResultSettingsMap": {},
     "title": ""
    }
   },
   "outputs": [],
   "source": [
    "# Model initialization\n",
    "model_name = \"vitb16\"\n",
    "model_task = \"cifar10\"\n",
    "\n",
    "# Initializing finetuned weights path\n",
    "finetuned_weights = f\"/dbfs/research/{model_name}/{model_task}/{model_name}_{model_task}_baseline.pt\"\n",
    "\n",
    "# Initializing pruning args\n",
    "pruning_type = \"movement_pruning\"\n",
    "target_sparsity = TARGET_SPARSITY_MID\n",
    "learning_type = \"pruning\"\n",
    "\n",
    "training_args = CVTrainingArguments(\n",
    "    model_name=model_name,\n",
    "    model_task=model_task,\n",
    "    batch_size=BATCH_SIZE,\n",
    "    finetuned_weights=finetuned_weights,\n",
    "    pruning_type=pruning_type,\n",
    "    target_sparsity=target_sparsity,\n",
    "    learning_type=learning_type,\n",
    "    optimizer_type='adamw',\n",
    "    learning_rate=0.0001,\n",
    "    sparsity_scheduler='cubic'\n",
    ")\n",
    "trainer = Trainer(training_args=training_args)\n",
    "if True:\n",
    "    trainer.train()\n",
    "\n",
    "acc = trainer.evaluate()\n",
    "print(f\"\\nAccuracy = {acc}\")"
   ]
  },
  {
   "cell_type": "code",
   "execution_count": 0,
   "metadata": {
    "application/vnd.databricks.v1+cell": {
     "cellMetadata": {
      "byteLimit": 2048000,
      "rowLimit": 10000
     },
     "inputWidgets": {},
     "nuid": "4487facf-272c-4b03-b01d-e4c9357cb47b",
     "showTitle": false,
     "tableResultSettingsMap": {},
     "title": ""
    }
   },
   "outputs": [],
   "source": [
    "# Model initialization\n",
    "model_name = \"vitb16\"\n",
    "model_task = \"cifar10\"\n",
    "\n",
    "# Initializing finetuned weights path\n",
    "finetuned_weights = f\"/dbfs/research/{model_name}/{model_task}/{model_name}_{model_task}_baseline.pt\"\n",
    "\n",
    "# Initializing pruning args\n",
    "pruning_type = \"movement_pruning\"\n",
    "target_sparsity = TARGET_SPARSITY_HIGH\n",
    "learning_type = \"pruning\"\n",
    "\n",
    "training_args = CVTrainingArguments(\n",
    "    model_name=model_name,\n",
    "    model_task=model_task,\n",
    "    batch_size=BATCH_SIZE,\n",
    "    finetuned_weights=finetuned_weights,\n",
    "    pruning_type=pruning_type,\n",
    "    target_sparsity=target_sparsity,\n",
    "    learning_type=learning_type,\n",
    "    optimizer_type='adamw',\n",
    "    learning_rate=0.0001,\n",
    "    sparsity_scheduler='cubic'\n",
    ")\n",
    "trainer = Trainer(training_args=training_args)\n",
    "if True:\n",
    "    trainer.train()\n",
    "\n",
    "acc = trainer.evaluate()\n",
    "print(f\"\\nAccuracy = {acc}\")"
   ]
  },
  {
   "cell_type": "markdown",
   "metadata": {
    "application/vnd.databricks.v1+cell": {
     "cellMetadata": {},
     "inputWidgets": {},
     "nuid": "215c50e6-5138-415b-8d05-9e2e3267309a",
     "showTitle": false,
     "tableResultSettingsMap": {},
     "title": ""
    }
   },
   "source": [
    "## BaCP Accuracies"
   ]
  },
  {
   "cell_type": "code",
   "execution_count": 0,
   "metadata": {
    "application/vnd.databricks.v1+cell": {
     "cellMetadata": {
      "byteLimit": 2048000,
      "rowLimit": 10000
     },
     "inputWidgets": {},
     "nuid": "a1710da0-d3e0-41bc-ad00-a09c48f43fae",
     "showTitle": false,
     "tableResultSettingsMap": {},
     "title": ""
    }
   },
   "outputs": [],
   "source": [
    "# Model initialization\n",
    "model_name = \"vitb16\"\n",
    "model_task = \"cifar10\"\n",
    "\n",
    "# Initializing finetuned weights path\n",
    "finetuned_weights = f\"/dbfs/research/{model_name}/{model_task}/{model_name}_{model_task}_baseline.pt\"\n",
    "\n",
    "# Initializing pruning args\n",
    "pruning_type = 'magnitude_pruning'\n",
    "target_sparsity = TARGET_SPARSITY_LOW\n",
    "learning_type = \"pruning\"\n",
    "\n",
    "bacp_training_args = BaCPTrainingArgumentsCNN(\n",
    "    model_name=model_name,\n",
    "    model_task=model_task,\n",
    "    batch_size=BATCH_SIZE,\n",
    "    finetuned_weights=finetuned_weights,\n",
    "    pruning_type=pruning_type,\n",
    "    target_sparsity=target_sparsity,\n",
    "    optimizer_type='adamw',\n",
    "    learning_rate=0.001,\n",
    "    sparsity_scheduler='cubic'\n",
    ")\n",
    "bacp_trainer = BaCPTrainer(bacp_training_args=bacp_training_args)\n",
    "if True:\n",
    "    bacp_trainer.train()\n",
    "\n",
    "# Finetuning Phase\n",
    "bacp_trainer.generate_mask_from_model()\n",
    "pruner = bacp_trainer.get_pruner()\n",
    "\n",
    "training_args = CVTrainingArguments(\n",
    "    model_name=bacp_trainer.model_name,\n",
    "    model_task=bacp_trainer.model_task,\n",
    "    batch_size=bacp_trainer.batch_size,\n",
    "    pruning_type=bacp_trainer.pruning_type,\n",
    "    target_sparsity=bacp_trainer.target_sparsity,\n",
    "    finetuned_weights=bacp_trainer.cm_save_path,\n",
    "    epochs=50,\n",
    "    pruner=pruner,\n",
    "    finetune=True,\n",
    "    learning_type=\"bacp_finetune\",\n",
    "    optimizer_type='adamw',\n",
    "    learning_rate=0.0005,\n",
    ")\n",
    "trainer = Trainer(training_args)\n",
    "if True:\n",
    "    trainer.train()\n",
    "\n",
    "acc = trainer.evaluate()\n",
    "print(f\"Accuracy = {acc}\")\n"
   ]
  }
 ],
 "metadata": {
  "application/vnd.databricks.v1+notebook": {
   "computePreferences": null,
   "dashboards": [],
   "environmentMetadata": null,
   "inputWidgetPreferences": null,
   "language": "python",
   "notebookMetadata": {
    "pythonIndentUnit": 4
   },
   "notebookName": "ViT-B-16_test_v1",
   "widgets": {}
  },
  "kernelspec": {
   "display_name": "Python 3",
   "language": "python",
   "name": "python3"
  },
  "language_info": {
   "name": "python"
  }
 },
 "nbformat": 4,
 "nbformat_minor": 0
}
