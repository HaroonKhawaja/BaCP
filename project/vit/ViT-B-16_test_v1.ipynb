{
 "cells": [
  {
   "cell_type": "markdown",
   "metadata": {
    "application/vnd.databricks.v1+cell": {
     "cellMetadata": {
      "byteLimit": 2048000,
      "rowLimit": 10000
     },
     "inputWidgets": {},
     "nuid": "4a930502-611f-414f-adc9-074ec15e9f01",
     "showTitle": false,
     "tableResultSettingsMap": {},
     "title": ""
    }
   },
   "source": [
    "# ViT-B-16 Testing"
   ]
  },
  {
   "cell_type": "code",
   "execution_count": 0,
   "metadata": {
    "application/vnd.databricks.v1+cell": {
     "cellMetadata": {
      "byteLimit": 2048000,
      "rowLimit": 10000
     },
     "inputWidgets": {},
     "nuid": "3a1bcd36-a030-4156-9113-c9d3f2ed38bf",
     "showTitle": false,
     "tableResultSettingsMap": {},
     "title": ""
    }
   },
   "outputs": [
    {
     "name": "stdout",
     "output_type": "stream",
     "text": [
      "The autoreload extension is already loaded. To reload it, use:\n",
      "  %reload_ext autoreload\n"
     ]
    },
    {
     "data": {
      "application/vnd.databricks.v1+autoreload_discoverability": "{\"error_modules\":{},\"mode\":\"modules_reloaded\",\"success_modules\":[\"utils\"]}"
     },
     "metadata": {},
     "output_type": "display_data"
    }
   ],
   "source": [
    "%load_ext autoreload\n",
    "%autoreload 2\n",
    "# Enables autoreload; learn more at https://docs.databricks.com/en/files/workspace-modules.html#autoreload-for-python-modules\n",
    "# To disable autoreload; run %autoreload 0"
   ]
  },
  {
   "cell_type": "code",
   "execution_count": 0,
   "metadata": {
    "application/vnd.databricks.v1+cell": {
     "cellMetadata": {
      "byteLimit": 2048000,
      "rowLimit": 10000
     },
     "inputWidgets": {},
     "nuid": "375ffda4-e291-45d4-8036-3b5f6d5bf064",
     "showTitle": false,
     "tableResultSettingsMap": {},
     "title": ""
    }
   },
   "outputs": [
    {
     "name": "stdout",
     "output_type": "stream",
     "text": [
      "Collecting torchinfo\n",
      "  Downloading torchinfo-1.8.0-py3-none-any.whl.metadata (21 kB)\n",
      "Downloading torchinfo-1.8.0-py3-none-any.whl (23 kB)\n",
      "Installing collected packages: torchinfo\n",
      "Successfully installed torchinfo-1.8.0\n",
      "\u001b[43mNote: you may need to restart the kernel using %restart_python or dbutils.library.restartPython() to use updated packages.\u001b[0m\n"
     ]
    }
   ],
   "source": [
    "%pip install torchinfo\n",
    "%restart_python"
   ]
  },
  {
   "cell_type": "code",
   "execution_count": 0,
   "metadata": {
    "application/vnd.databricks.v1+cell": {
     "cellMetadata": {
      "byteLimit": 2048000,
      "rowLimit": 10000
     },
     "inputWidgets": {},
     "nuid": "e4ea4f77-7318-499c-987f-e8627b6f5f59",
     "showTitle": false,
     "tableResultSettingsMap": {},
     "title": ""
    }
   },
   "outputs": [
    {
     "name": "stdout",
     "output_type": "stream",
     "text": [
      "device = 'cuda'\n"
     ]
    }
   ],
   "source": [
    "import sys\n",
    "import os\n",
    "sys.path.append(os.path.abspath('..'))\n",
    "\n",
    "from bacp import BaCPLearner, BaCPTrainer, BaCPTrainingArgumentsLLM\n",
    "from models import EncoderProjectionNetwork, ClassificationNetwork\n",
    "from unstructured_pruning import MagnitudePrune, MovementPrune, LocalMagnitudePrune, LocalMovementPrune, WandaPrune, PRUNER_DICT, check_model_sparsity\n",
    "from LLM_trainer import LLMTrainer, LLMTrainingArguments\n",
    "from CV_trainer import *\n",
    "from dataset_utils import get_glue_data\n",
    "from logger import Logger\n",
    "\n",
    "import torch\n",
    "import torch.nn as nn\n",
    "import torch.optim as optim\n",
    "from transformers import AutoModelForSequenceClassification, AutoTokenizer\n",
    "\n",
    "from tqdm import tqdm\n",
    "from torchinfo import summary\n",
    "\n",
    "from datasets.utils.logging import disable_progress_bar\n",
    "disable_progress_bar()\n",
    "import os\n",
    "os.environ[\"HF_DATASETS_CACHE\"] = \"/dbfs/hf_datasets\"\n",
    "os.environ[\"TOKENIZERS_PARALLELISM\"] = \"false\" \n",
    "\n",
    "from utils import *\n",
    "from constants import *\n",
    "\n",
    "device = get_device()\n",
    "print(f\"{device = }\")\n",
    "BATCH_SIZE_VIT = 512\n"
   ]
  },
  {
   "cell_type": "markdown",
   "metadata": {
    "application/vnd.databricks.v1+cell": {
     "cellMetadata": {
      "byteLimit": 2048000,
      "rowLimit": 10000
     },
     "inputWidgets": {},
     "nuid": "8dfd3f8a-db52-4b44-adaf-ba272f5fd4c2",
     "showTitle": false,
     "tableResultSettingsMap": {},
     "title": ""
    }
   },
   "source": [
    "## Baseline Accuracies"
   ]
  },
  {
   "cell_type": "code",
   "execution_count": 0,
   "metadata": {
    "application/vnd.databricks.v1+cell": {
     "cellMetadata": {
      "byteLimit": 2048000,
      "rowLimit": 10000
     },
     "inputWidgets": {},
     "nuid": "3c9ee502-87bf-471f-b2fd-0cb57a248540",
     "showTitle": false,
     "tableResultSettingsMap": {},
     "title": ""
    }
   },
   "outputs": [
    {
     "name": "stdout",
     "output_type": "stream",
     "text": [
      "[TRAINER] Initializing model\n"
     ]
    },
    {
     "name": "stderr",
     "output_type": "stream",
     "text": [
      "Downloading: \"https://download.pytorch.org/models/vit_b_16-c867db91.pth\" to /root/.cache/torch/hub/checkpoints/vit_b_16-c867db91.pth\n",
      "\r  0%|          | 0.00/330M [00:00<?, ?B/s]\r  0%|          | 768k/330M [00:00<00:44, 7.73MB/s]\r  4%|▎         | 12.1M/330M [00:00<00:04, 72.8MB/s]\r  9%|▉         | 30.1M/330M [00:00<00:02, 125MB/s] \r 15%|█▍        | 48.1M/330M [00:00<00:01, 150MB/s]\r 20%|██        | 66.6M/330M [00:00<00:01, 166MB/s]\r 26%|██▌       | 84.6M/330M [00:00<00:01, 173MB/s]\r 31%|███       | 103M/330M [00:00<00:01, 180MB/s] \r 37%|███▋      | 121M/330M [00:00<00:01, 183MB/s]\r 42%|████▏     | 140M/330M [00:00<00:01, 185MB/s]\r 48%|████▊     | 158M/330M [00:01<00:00, 187MB/s]\r 53%|█████▎    | 176M/330M [00:01<00:00, 188MB/s]\r 59%|█████▉    | 194M/330M [00:01<00:00, 189MB/s]\r 64%|██████▍   | 213M/330M [00:01<00:00, 189MB/s]\r 70%|██████▉   | 231M/330M [00:01<00:00, 190MB/s]\r 75%|███████▌  | 249M/330M [00:01<00:00, 191MB/s]\r 81%|████████  | 268M/330M [00:01<00:00, 189MB/s]\r 86%|████████▋ | 286M/330M [00:01<00:00, 188MB/s]\r 92%|█████████▏| 304M/330M [00:01<00:00, 190MB/s]\r 98%|█████████▊| 322M/330M [00:01<00:00, 190MB/s]\r100%|██████████| 330M/330M [00:01<00:00, 177MB/s]\n"
     ]
    },
    {
     "name": "stdout",
     "output_type": "stream",
     "text": [
      "[TRAINER] Initializing data loaders for cifar10\n",
      "[CV DATALOADERS] Loaded cifar10 with splits: ['train', 'validation', 'test']\n",
      "[TRAINER] Pruning disabled\n",
      "[TRAINER] Current model sparsity: 0.0\n",
      "[TRAINER] Saving model checkpoints to /dbfs/research/vitb16/cifar10/vitb16_baseline.pt\n",
      "[TRAINER] Loading weights: /dbfs/research/vitb16/cifar10/vitb16_baseline.pt\n",
      "[TRAINER] Weights loaded successfully\n",
      "[TRAINER] Model Sparsity: 0.00\n"
     ]
    },
    {
     "name": "stderr",
     "output_type": "stream",
     "text": [
      "\rEvaluating:   0%|          | 0/19 [00:00<?, ?it/s]\rEvaluating:   0%|          | 0/19 [00:08<?, ?it/s, Acc=97.46%]\rEvaluating:   5%|▌         | 1/19 [00:08<02:32,  8.48s/it, Acc=97.46%]\rEvaluating:   5%|▌         | 1/19 [00:08<02:32,  8.48s/it, Acc=97.46%]\rEvaluating:  11%|█         | 2/19 [00:08<01:01,  3.61s/it, Acc=97.46%]\rEvaluating:  11%|█         | 2/19 [00:09<01:01,  3.61s/it, Acc=97.46%]\rEvaluating:  16%|█▌        | 3/19 [00:09<00:35,  2.24s/it, Acc=97.46%]\rEvaluating:  16%|█▌        | 3/19 [00:09<00:35,  2.24s/it, Acc=97.61%]\rEvaluating:  21%|██        | 4/19 [00:09<00:21,  1.44s/it, Acc=97.61%]\rEvaluating:  21%|██        | 4/19 [00:09<00:21,  1.44s/it, Acc=97.42%]\rEvaluating:  26%|██▋       | 5/19 [00:09<00:13,  1.01it/s, Acc=97.42%]\rEvaluating:  26%|██▋       | 5/19 [00:09<00:13,  1.01it/s, Acc=97.33%]\rEvaluating:  32%|███▏      | 6/19 [00:09<00:09,  1.39it/s, Acc=97.33%]\rEvaluating:  32%|███▏      | 6/19 [00:10<00:09,  1.39it/s, Acc=97.13%]\rEvaluating:  37%|███▋      | 7/19 [00:10<00:06,  1.81it/s, Acc=97.13%]\rEvaluating:  37%|███▋      | 7/19 [00:10<00:06,  1.81it/s, Acc=97.19%]\rEvaluating:  42%|████▏     | 8/19 [00:10<00:04,  2.27it/s, Acc=97.19%]\rEvaluating:  42%|████▏     | 8/19 [00:10<00:04,  2.27it/s, Acc=97.31%]\rEvaluating:  47%|████▋     | 9/19 [00:10<00:03,  2.73it/s, Acc=97.31%]\rEvaluating:  47%|████▋     | 9/19 [00:10<00:03,  2.73it/s, Acc=97.27%]\rEvaluating:  53%|█████▎    | 10/19 [00:10<00:02,  3.17it/s, Acc=97.27%]\rEvaluating:  53%|█████▎    | 10/19 [00:10<00:02,  3.17it/s, Acc=97.32%]\rEvaluating:  58%|█████▊    | 11/19 [00:10<00:02,  3.56it/s, Acc=97.32%]\rEvaluating:  58%|█████▊    | 11/19 [00:11<00:02,  3.56it/s, Acc=97.36%]\rEvaluating:  63%|██████▎   | 12/19 [00:11<00:01,  3.89it/s, Acc=97.36%]\rEvaluating:  63%|██████▎   | 12/19 [00:11<00:01,  3.89it/s, Acc=97.36%]\rEvaluating:  68%|██████▊   | 13/19 [00:11<00:01,  4.15it/s, Acc=97.36%]\rEvaluating:  68%|██████▊   | 13/19 [00:11<00:01,  4.15it/s, Acc=97.28%]\rEvaluating:  74%|███████▎  | 14/19 [00:11<00:01,  4.36it/s, Acc=97.28%]\rEvaluating:  74%|███████▎  | 14/19 [00:11<00:01,  4.36it/s, Acc=97.27%]\rEvaluating:  79%|███████▉  | 15/19 [00:11<00:00,  4.53it/s, Acc=97.27%]\rEvaluating:  79%|███████▉  | 15/19 [00:11<00:00,  4.53it/s, Acc=97.27%]\rEvaluating:  84%|████████▍ | 16/19 [00:11<00:00,  4.64it/s, Acc=97.27%]\rEvaluating:  84%|████████▍ | 16/19 [00:12<00:00,  4.64it/s, Acc=97.27%]\rEvaluating:  89%|████████▉ | 17/19 [00:12<00:00,  4.73it/s, Acc=97.27%]\rEvaluating:  89%|████████▉ | 17/19 [00:12<00:00,  4.73it/s, Acc=97.32%]\rEvaluating:  95%|█████████▍| 18/19 [00:12<00:00,  4.79it/s, Acc=97.32%]\rEvaluating:  95%|█████████▍| 18/19 [00:12<00:00,  4.79it/s, Acc=97.28%]\rEvaluating: 100%|██████████| 19/19 [00:12<00:00,  4.83it/s, Acc=97.28%]\rEvaluating: 100%|██████████| 19/19 [00:12<00:00,  1.52it/s, Acc=97.28%]"
     ]
    },
    {
     "name": "stdout",
     "output_type": "stream",
     "text": [
      "\n",
      "Accuracy = 97.28\n"
     ]
    },
    {
     "name": "stderr",
     "output_type": "stream",
     "text": [
      "\n"
     ]
    }
   ],
   "source": [
    "# Model initialization\n",
    "model_name = \"vitb16\"\n",
    "model_task = \"cifar10\"\n",
    "\n",
    "training_args = CVTrainingArguments(\n",
    "    model_name=model_name,\n",
    "    model_task=model_task,\n",
    "    batch_size=BATCH_SIZE_VIT,\n",
    "    image_size=224,\n",
    "    epochs=3,\n",
    "    learning_type=\"baseline\",\n",
    ")\n",
    "\n",
    "trainer = Trainer(training_args=training_args)\n",
    "\n",
    "if False:\n",
    "    trainer.train()\n",
    "\n",
    "acc = trainer.evaluate()\n",
    "print(f\"\\nAccuracy = {acc}\")"
   ]
  },
  {
   "cell_type": "markdown",
   "metadata": {
    "application/vnd.databricks.v1+cell": {
     "cellMetadata": {
      "byteLimit": 2048000,
      "rowLimit": 10000
     },
     "inputWidgets": {},
     "nuid": "d60b76c1-3fee-4873-b4e0-e47c656b5e43",
     "showTitle": false,
     "tableResultSettingsMap": {},
     "title": ""
    }
   },
   "source": [
    "## Pruning Accuracies"
   ]
  },
  {
   "cell_type": "markdown",
   "metadata": {
    "application/vnd.databricks.v1+cell": {
     "cellMetadata": {
      "byteLimit": 2048000,
      "rowLimit": 10000
     },
     "inputWidgets": {},
     "nuid": "08c6df17-2896-4dec-bc3e-349187da2647",
     "showTitle": false,
     "tableResultSettingsMap": {},
     "title": ""
    }
   },
   "source": [
    "### Magnitude Pruning"
   ]
  },
  {
   "cell_type": "code",
   "execution_count": 0,
   "metadata": {
    "application/vnd.databricks.v1+cell": {
     "cellMetadata": {
      "byteLimit": 2048000,
      "rowLimit": 10000
     },
     "inputWidgets": {},
     "nuid": "6f861032-fa08-42d0-b946-c18b7b723c9e",
     "showTitle": false,
     "tableResultSettingsMap": {},
     "title": ""
    }
   },
   "outputs": [
    {
     "name": "stdout",
     "output_type": "stream",
     "text": [
      "[TRAINER] Initializing model\n",
      "[TRAINER] Weights loaded\n",
      "[TRAINER] Initializing data loaders for cifar10\n",
      "[CV DATALOADERS] Loaded cifar10 with splits: ['train', 'validation', 'test']\n",
      "[TRAINER] Pruning enabled\n",
      "[TRAINER] Initializing pruner for magnitude_pruning\n",
      "[TRAINER] Pruning scheduler: cubic\n",
      "[TRAINER] Pruning target sparsity: 0.95\n",
      "[TRAINER] Current model sparsity: 0.0\n",
      "[TRAINER] Saving model checkpoints to /dbfs/research/vitb16/cifar10/vitb16_magnitude_pruning_0.95.pt\n",
      "[TRAINER] Loading weights: /dbfs/research/vitb16/cifar10/vitb16_magnitude_pruning_0.95.pt\n",
      "[TRAINER] Weights loaded successfully\n",
      "[TRAINER] Model Sparsity: 0.95\n"
     ]
    },
    {
     "name": "stderr",
     "output_type": "stream",
     "text": [
      "\rEvaluating:   0%|          | 0/19 [00:00<?, ?it/s]\rEvaluating:   0%|          | 0/19 [00:02<?, ?it/s, Acc=82.62%]\rEvaluating:   5%|▌         | 1/19 [00:02<00:43,  2.42s/it, Acc=82.62%]\rEvaluating:   5%|▌         | 1/19 [00:02<00:43,  2.42s/it, Acc=83.59%]\rEvaluating:  11%|█         | 2/19 [00:02<00:18,  1.11s/it, Acc=83.59%]\rEvaluating:  11%|█         | 2/19 [00:03<00:18,  1.11s/it, Acc=84.24%]\rEvaluating:  16%|█▌        | 3/19 [00:03<00:15,  1.06it/s, Acc=84.24%]\rEvaluating:  16%|█▌        | 3/19 [00:03<00:15,  1.06it/s, Acc=83.35%]\rEvaluating:  21%|██        | 4/19 [00:03<00:09,  1.55it/s, Acc=83.35%]\rEvaluating:  21%|██        | 4/19 [00:03<00:09,  1.55it/s, Acc=83.24%]\rEvaluating:  26%|██▋       | 5/19 [00:03<00:06,  2.07it/s, Acc=83.24%]\rEvaluating:  26%|██▋       | 5/19 [00:03<00:06,  2.07it/s, Acc=83.53%]\rEvaluating:  32%|███▏      | 6/19 [00:03<00:05,  2.60it/s, Acc=83.53%]\rEvaluating:  32%|███▏      | 6/19 [00:04<00:05,  2.60it/s, Acc=83.20%]\rEvaluating:  37%|███▋      | 7/19 [00:04<00:03,  3.10it/s, Acc=83.20%]\rEvaluating:  37%|███▋      | 7/19 [00:04<00:03,  3.10it/s, Acc=83.25%]\rEvaluating:  42%|████▏     | 8/19 [00:04<00:03,  3.55it/s, Acc=83.25%]\rEvaluating:  42%|████▏     | 8/19 [00:04<00:03,  3.55it/s, Acc=83.25%]\rEvaluating:  47%|████▋     | 9/19 [00:04<00:02,  3.94it/s, Acc=83.25%]\rEvaluating:  47%|████▋     | 9/19 [00:04<00:02,  3.94it/s, Acc=83.20%]\rEvaluating:  53%|█████▎    | 10/19 [00:04<00:02,  4.26it/s, Acc=83.20%]\rEvaluating:  53%|█████▎    | 10/19 [00:04<00:02,  4.26it/s, Acc=83.19%]\rEvaluating:  58%|█████▊    | 11/19 [00:04<00:01,  4.50it/s, Acc=83.19%]\rEvaluating:  58%|█████▊    | 11/19 [00:05<00:01,  4.50it/s, Acc=83.32%]\rEvaluating:  63%|██████▎   | 12/19 [00:05<00:01,  4.69it/s, Acc=83.32%]\rEvaluating:  63%|██████▎   | 12/19 [00:05<00:01,  4.69it/s, Acc=83.22%]\rEvaluating:  68%|██████▊   | 13/19 [00:05<00:01,  4.83it/s, Acc=83.22%]\rEvaluating:  68%|██████▊   | 13/19 [00:05<00:01,  4.83it/s, Acc=83.15%]\rEvaluating:  74%|███████▎  | 14/19 [00:05<00:01,  4.93it/s, Acc=83.15%]\rEvaluating:  74%|███████▎  | 14/19 [00:05<00:01,  4.93it/s, Acc=83.16%]\rEvaluating:  79%|███████▉  | 15/19 [00:05<00:00,  5.00it/s, Acc=83.16%]\rEvaluating:  79%|███████▉  | 15/19 [00:05<00:00,  5.00it/s, Acc=83.14%]\rEvaluating:  84%|████████▍ | 16/19 [00:05<00:00,  5.05it/s, Acc=83.14%]\rEvaluating:  84%|████████▍ | 16/19 [00:06<00:00,  5.05it/s, Acc=83.18%]\rEvaluating:  89%|████████▉ | 17/19 [00:06<00:00,  5.10it/s, Acc=83.18%]\rEvaluating:  89%|████████▉ | 17/19 [00:06<00:00,  5.10it/s, Acc=83.24%]\rEvaluating:  95%|█████████▍| 18/19 [00:06<00:00,  5.11it/s, Acc=83.24%]\rEvaluating:  95%|█████████▍| 18/19 [00:06<00:00,  5.11it/s, Acc=83.20%]\rEvaluating: 100%|██████████| 19/19 [00:06<00:00,  5.14it/s, Acc=83.20%]\rEvaluating: 100%|██████████| 19/19 [00:06<00:00,  2.95it/s, Acc=83.20%]\n"
     ]
    },
    {
     "name": "stdout",
     "output_type": "stream",
     "text": [
      "\n",
      "Accuracy = 83.2\n"
     ]
    }
   ],
   "source": [
    "# Model initialization\n",
    "model_name = \"vitb16\"\n",
    "model_task = \"cifar10\"\n",
    "\n",
    "# Initializing finetuned weights path\n",
    "finetuned_weights = \"/dbfs/research/vitb16/cifar10/vitb16_baseline.pt\"\n",
    "\n",
    "# Initializing pruning args\n",
    "pruning_type = \"magnitude_pruning\"\n",
    "target_sparsity = TARGET_SPARSITY_LOW\n",
    "learning_type = \"pruning\"\n",
    "\n",
    "training_args = CVTrainingArguments(\n",
    "    model_name=model_name,\n",
    "    model_task=model_task,\n",
    "    batch_size=BATCH_SIZE_VIT,\n",
    "    finetuned_weights=finetuned_weights,\n",
    "    image_size=224,\n",
    "    pruning_type=pruning_type,\n",
    "    target_sparsity=target_sparsity,\n",
    "    learning_type=learning_type,\n",
    "\n",
    "    learning_rate=0.0001,\n",
    "    epochs=5,\n",
    "    recovery_epochs=10,\n",
    "    sparsity_scheduler='cubic'\n",
    ")\n",
    "\n",
    "trainer = Trainer(training_args=training_args)\n",
    "\n",
    "if False:\n",
    "    trainer.train()\n",
    "\n",
    "acc = trainer.evaluate()\n",
    "print(f\"\\nAccuracy = {acc}\")"
   ]
  },
  {
   "cell_type": "code",
   "execution_count": 0,
   "metadata": {
    "application/vnd.databricks.v1+cell": {
     "cellMetadata": {
      "byteLimit": 2048000,
      "rowLimit": 10000
     },
     "inputWidgets": {},
     "nuid": "90808223-957e-4d2c-8f4a-303e2a838ddf",
     "showTitle": false,
     "tableResultSettingsMap": {},
     "title": ""
    }
   },
   "outputs": [
    {
     "name": "stdout",
     "output_type": "stream",
     "text": [
      "[TRAINER] Initializing model\n",
      "[TRAINER] Weights loaded\n",
      "[TRAINER] Initializing data loaders for cifar10\n",
      "[CV DATALOADERS] Loaded cifar10 with splits: ['train', 'validation', 'test']\n",
      "[TRAINER] Pruning enabled\n",
      "[TRAINER] Initializing pruner for magnitude_pruning\n",
      "[TRAINER] Pruning scheduler: cubic\n",
      "[TRAINER] Pruning target sparsity: 0.97\n",
      "[TRAINER] Current model sparsity: 0.0\n",
      "[TRAINER] Saving model checkpoints to /dbfs/research/vitb16/cifar10/vitb16_magnitude_pruning_0.97.pt\n",
      "[TRAINER] Loading weights: /dbfs/research/vitb16/cifar10/vitb16_magnitude_pruning_0.97.pt\n",
      "[TRAINER] Weights loaded successfully\n",
      "[TRAINER] Model Sparsity: 0.97\n"
     ]
    },
    {
     "name": "stderr",
     "output_type": "stream",
     "text": [
      "\rEvaluating:   0%|          | 0/19 [00:00<?, ?it/s]\rEvaluating:   0%|          | 0/19 [00:02<?, ?it/s, Acc=71.68%]\rEvaluating:   5%|▌         | 1/19 [00:02<00:46,  2.58s/it, Acc=71.68%]\rEvaluating:   5%|▌         | 1/19 [00:02<00:46,  2.58s/it, Acc=74.61%]\rEvaluating:  11%|█         | 2/19 [00:02<00:19,  1.18s/it, Acc=74.61%]\rEvaluating:  11%|█         | 2/19 [00:02<00:19,  1.18s/it, Acc=75.59%]\rEvaluating:  16%|█▌        | 3/19 [00:02<00:11,  1.38it/s, Acc=75.59%]\rEvaluating:  16%|█▌        | 3/19 [00:03<00:11,  1.38it/s, Acc=75.59%]\rEvaluating:  21%|██        | 4/19 [00:03<00:07,  1.94it/s, Acc=75.59%]\rEvaluating:  21%|██        | 4/19 [00:03<00:07,  1.94it/s, Acc=75.74%]\rEvaluating:  26%|██▋       | 5/19 [00:03<00:05,  2.50it/s, Acc=75.74%]\rEvaluating:  26%|██▋       | 5/19 [00:03<00:05,  2.50it/s, Acc=76.01%]\rEvaluating:  32%|███▏      | 6/19 [00:03<00:04,  3.03it/s, Acc=76.01%]\rEvaluating:  32%|███▏      | 6/19 [00:03<00:04,  3.03it/s, Acc=75.84%]\rEvaluating:  37%|███▋      | 7/19 [00:03<00:03,  3.51it/s, Acc=75.84%]\rEvaluating:  37%|███▋      | 7/19 [00:03<00:03,  3.51it/s, Acc=75.90%]\rEvaluating:  42%|████▏     | 8/19 [00:03<00:02,  3.93it/s, Acc=75.90%]\rEvaluating:  42%|████▏     | 8/19 [00:04<00:02,  3.93it/s, Acc=76.04%]\rEvaluating:  47%|████▋     | 9/19 [00:04<00:02,  4.26it/s, Acc=76.04%]\rEvaluating:  47%|████▋     | 9/19 [00:04<00:02,  4.26it/s, Acc=75.98%]\rEvaluating:  53%|█████▎    | 10/19 [00:04<00:01,  4.50it/s, Acc=75.98%]\rEvaluating:  53%|█████▎    | 10/19 [00:04<00:01,  4.50it/s, Acc=76.07%]\rEvaluating:  58%|█████▊    | 11/19 [00:04<00:01,  4.69it/s, Acc=76.07%]\rEvaluating:  58%|█████▊    | 11/19 [00:04<00:01,  4.69it/s, Acc=75.93%]\rEvaluating:  63%|██████▎   | 12/19 [00:04<00:01,  4.83it/s, Acc=75.93%]\rEvaluating:  63%|██████▎   | 12/19 [00:04<00:01,  4.83it/s, Acc=76.02%]\rEvaluating:  68%|██████▊   | 13/19 [00:04<00:01,  4.93it/s, Acc=76.02%]\rEvaluating:  68%|██████▊   | 13/19 [00:05<00:01,  4.93it/s, Acc=75.99%]\rEvaluating:  74%|███████▎  | 14/19 [00:05<00:00,  5.00it/s, Acc=75.99%]\rEvaluating:  74%|███████▎  | 14/19 [00:05<00:00,  5.00it/s, Acc=76.12%]\rEvaluating:  79%|███████▉  | 15/19 [00:05<00:00,  5.06it/s, Acc=76.12%]\rEvaluating:  79%|███████▉  | 15/19 [00:05<00:00,  5.06it/s, Acc=76.22%]\rEvaluating:  84%|████████▍ | 16/19 [00:05<00:00,  5.09it/s, Acc=76.22%]\rEvaluating:  84%|████████▍ | 16/19 [00:05<00:00,  5.09it/s, Acc=76.06%]\rEvaluating:  89%|████████▉ | 17/19 [00:05<00:00,  5.12it/s, Acc=76.06%]\rEvaluating:  89%|████████▉ | 17/19 [00:05<00:00,  5.12it/s, Acc=76.02%]\rEvaluating:  95%|█████████▍| 18/19 [00:05<00:00,  5.14it/s, Acc=76.02%]\rEvaluating:  95%|█████████▍| 18/19 [00:06<00:00,  5.14it/s, Acc=75.96%]\rEvaluating: 100%|██████████| 19/19 [00:06<00:00,  5.15it/s, Acc=75.96%]\rEvaluating: 100%|██████████| 19/19 [00:06<00:00,  3.14it/s, Acc=75.96%]\n"
     ]
    },
    {
     "name": "stdout",
     "output_type": "stream",
     "text": [
      "\n",
      "Accuracy = 75.96\n"
     ]
    }
   ],
   "source": [
    "# Model initialization\n",
    "model_name = \"vitb16\"\n",
    "model_task = \"cifar10\"\n",
    "\n",
    "# Initializing finetuned weights path\n",
    "finetuned_weights = \"/dbfs/research/vitb16/cifar10/vitb16_baseline.pt\"\n",
    "\n",
    "# Initializing pruning args\n",
    "pruning_type = \"magnitude_pruning\"\n",
    "target_sparsity = TARGET_SPARSITY_MID\n",
    "learning_type = \"pruning\"\n",
    "\n",
    "training_args = CVTrainingArguments(\n",
    "    model_name=model_name,\n",
    "    model_task=model_task,\n",
    "    batch_size=BATCH_SIZE_VIT,\n",
    "    finetuned_weights=finetuned_weights,\n",
    "    image_size=224,\n",
    "    pruning_type=pruning_type,\n",
    "    target_sparsity=target_sparsity,\n",
    "    learning_type=learning_type,\n",
    "\n",
    "    learning_rate=0.0001,\n",
    "    epochs=5,\n",
    "    recovery_epochs=10,\n",
    "    sparsity_scheduler='cubic'\n",
    ")\n",
    "\n",
    "trainer = Trainer(training_args=training_args)\n",
    "\n",
    "if False:\n",
    "    trainer.train()\n",
    "\n",
    "acc = trainer.evaluate()\n",
    "print(f\"\\nAccuracy = {acc}\")"
   ]
  },
  {
   "cell_type": "code",
   "execution_count": 0,
   "metadata": {
    "application/vnd.databricks.v1+cell": {
     "cellMetadata": {
      "byteLimit": 2048000,
      "rowLimit": 10000
     },
     "inputWidgets": {},
     "nuid": "9cc7d884-94b4-4a34-bf5f-3c0a97bf40da",
     "showTitle": false,
     "tableResultSettingsMap": {},
     "title": ""
    }
   },
   "outputs": [
    {
     "name": "stdout",
     "output_type": "stream",
     "text": [
      "[TRAINER] Initializing model\n",
      "[TRAINER] Weights loaded\n",
      "[TRAINER] Initializing data loaders for cifar10\n",
      "[CV DATALOADERS] Loaded cifar10 with splits: ['train', 'validation', 'test']\n",
      "[TRAINER] Pruning enabled\n",
      "[TRAINER] Initializing pruner for magnitude_pruning\n",
      "[TRAINER] Pruning scheduler: cubic\n",
      "[TRAINER] Pruning target sparsity: 0.99\n",
      "[TRAINER] Current model sparsity: 0.0\n",
      "[TRAINER] Saving model checkpoints to /dbfs/research/vitb16/cifar10/vitb16_magnitude_pruning_0.99.pt\n",
      "[TRAINER] Loading weights: /dbfs/research/vitb16/cifar10/vitb16_magnitude_pruning_0.99.pt\n",
      "[TRAINER] Weights loaded successfully\n",
      "[TRAINER] Model Sparsity: 0.99\n"
     ]
    },
    {
     "name": "stderr",
     "output_type": "stream",
     "text": [
      "\rEvaluating:   0%|          | 0/19 [00:00<?, ?it/s]\rEvaluating:   0%|          | 0/19 [00:01<?, ?it/s, Acc=65.82%]\rEvaluating:   5%|▌         | 1/19 [00:01<00:30,  1.68s/it, Acc=65.82%]\rEvaluating:   5%|▌         | 1/19 [00:01<00:30,  1.68s/it, Acc=66.21%]\rEvaluating:  11%|█         | 2/19 [00:01<00:13,  1.24it/s, Acc=66.21%]\rEvaluating:  11%|█         | 2/19 [00:02<00:13,  1.24it/s, Acc=66.15%]\rEvaluating:  16%|█▌        | 3/19 [00:02<00:08,  1.90it/s, Acc=66.15%]\rEvaluating:  16%|█▌        | 3/19 [00:02<00:08,  1.90it/s, Acc=65.33%]\rEvaluating:  21%|██        | 4/19 [00:02<00:07,  2.05it/s, Acc=65.33%]\rEvaluating:  21%|██        | 4/19 [00:03<00:07,  2.05it/s, Acc=65.74%]\rEvaluating:  26%|██▋       | 5/19 [00:03<00:07,  1.92it/s, Acc=65.74%]\rEvaluating:  26%|██▋       | 5/19 [00:03<00:07,  1.92it/s, Acc=65.89%]\rEvaluating:  32%|███▏      | 6/19 [00:03<00:05,  2.44it/s, Acc=65.89%]\rEvaluating:  32%|███▏      | 6/19 [00:03<00:05,  2.44it/s, Acc=65.35%]\rEvaluating:  37%|███▋      | 7/19 [00:03<00:04,  2.96it/s, Acc=65.35%]\rEvaluating:  37%|███▋      | 7/19 [00:03<00:04,  2.96it/s, Acc=65.43%]\rEvaluating:  42%|████▏     | 8/19 [00:03<00:03,  3.43it/s, Acc=65.43%]\rEvaluating:  42%|████▏     | 8/19 [00:03<00:03,  3.43it/s, Acc=65.65%]\rEvaluating:  47%|████▋     | 9/19 [00:03<00:02,  3.84it/s, Acc=65.65%]\rEvaluating:  47%|████▋     | 9/19 [00:04<00:02,  3.84it/s, Acc=65.84%]\rEvaluating:  53%|█████▎    | 10/19 [00:04<00:02,  4.18it/s, Acc=65.84%]\rEvaluating:  53%|█████▎    | 10/19 [00:04<00:02,  4.18it/s, Acc=65.70%]\rEvaluating:  58%|█████▊    | 11/19 [00:04<00:01,  4.45it/s, Acc=65.70%]\rEvaluating:  58%|█████▊    | 11/19 [00:04<00:01,  4.45it/s, Acc=65.53%]\rEvaluating:  63%|██████▎   | 12/19 [00:04<00:01,  4.66it/s, Acc=65.53%]\rEvaluating:  63%|██████▎   | 12/19 [00:04<00:01,  4.66it/s, Acc=65.59%]\rEvaluating:  68%|██████▊   | 13/19 [00:04<00:01,  4.82it/s, Acc=65.59%]\rEvaluating:  68%|██████▊   | 13/19 [00:04<00:01,  4.82it/s, Acc=65.74%]\rEvaluating:  74%|███████▎  | 14/19 [00:04<00:01,  4.93it/s, Acc=65.74%]\rEvaluating:  74%|███████▎  | 14/19 [00:04<00:01,  4.93it/s, Acc=65.81%]\rEvaluating:  79%|███████▉  | 15/19 [00:04<00:00,  5.01it/s, Acc=65.81%]\rEvaluating:  79%|███████▉  | 15/19 [00:05<00:00,  5.01it/s, Acc=65.77%]\rEvaluating:  84%|████████▍ | 16/19 [00:05<00:00,  5.07it/s, Acc=65.77%]\rEvaluating:  84%|████████▍ | 16/19 [00:05<00:00,  5.07it/s, Acc=65.56%]\rEvaluating:  89%|████████▉ | 17/19 [00:05<00:00,  5.11it/s, Acc=65.56%]\rEvaluating:  89%|████████▉ | 17/19 [00:05<00:00,  5.11it/s, Acc=65.59%]\rEvaluating:  95%|█████████▍| 18/19 [00:05<00:00,  5.14it/s, Acc=65.59%]\rEvaluating:  95%|█████████▍| 18/19 [00:05<00:00,  5.14it/s, Acc=65.56%]\rEvaluating: 100%|██████████| 19/19 [00:05<00:00,  5.16it/s, Acc=65.56%]\rEvaluating: 100%|██████████| 19/19 [00:05<00:00,  3.30it/s, Acc=65.56%]\n"
     ]
    },
    {
     "name": "stdout",
     "output_type": "stream",
     "text": [
      "\n",
      "Accuracy = 65.56\n"
     ]
    }
   ],
   "source": [
    "# Model initialization\n",
    "model_name = \"vitb16\"\n",
    "model_task = \"cifar10\"\n",
    "\n",
    "# Initializing finetuned weights path\n",
    "finetuned_weights = \"/dbfs/research/vitb16/cifar10/vitb16_baseline.pt\"\n",
    "\n",
    "# Initializing pruning args\n",
    "pruning_type = \"magnitude_pruning\"\n",
    "target_sparsity = TARGET_SPARSITY_HIGH\n",
    "learning_type = \"pruning\"\n",
    "\n",
    "training_args = CVTrainingArguments(\n",
    "    model_name=model_name,\n",
    "    model_task=model_task,\n",
    "    batch_size=BATCH_SIZE_VIT,\n",
    "    finetuned_weights=finetuned_weights,\n",
    "    image_size=224,\n",
    "    pruning_type=pruning_type,\n",
    "    target_sparsity=target_sparsity,\n",
    "    learning_type=learning_type,\n",
    "\n",
    "    learning_rate=0.0001,\n",
    "    epochs=5,\n",
    "    recovery_epochs=10,\n",
    "    sparsity_scheduler='cubic'\n",
    ")\n",
    "\n",
    "trainer = Trainer(training_args=training_args)\n",
    "\n",
    "if False:\n",
    "    trainer.train()\n",
    "\n",
    "acc = trainer.evaluate()\n",
    "print(f\"\\nAccuracy = {acc}\")"
   ]
  },
  {
   "cell_type": "markdown",
   "metadata": {
    "application/vnd.databricks.v1+cell": {
     "cellMetadata": {
      "byteLimit": 2048000,
      "rowLimit": 10000
     },
     "inputWidgets": {},
     "nuid": "1faa6097-5fd0-41d5-af53-339dd3dbae07",
     "showTitle": false,
     "tableResultSettingsMap": {},
     "title": ""
    }
   },
   "source": [
    "### Movement Pruning"
   ]
  },
  {
   "cell_type": "code",
   "execution_count": 0,
   "metadata": {
    "application/vnd.databricks.v1+cell": {
     "cellMetadata": {
      "byteLimit": 2048000,
      "rowLimit": 10000
     },
     "inputWidgets": {},
     "nuid": "721a0f8f-796b-4a11-8fda-11bbd300eb7b",
     "showTitle": false,
     "tableResultSettingsMap": {},
     "title": ""
    }
   },
   "outputs": [
    {
     "name": "stdout",
     "output_type": "stream",
     "text": [
      "[TRAINER] Initializing model\n",
      "[TRAINER] Weights loaded\n",
      "[TRAINER] Initializing data loaders for cifar10\n",
      "[CV DATALOADERS] Loaded cifar10 with splits: ['train', 'validation', 'test']\n",
      "[TRAINER] Pruning enabled\n",
      "[TRAINER] Initializing pruner for movement_pruning\n",
      "[TRAINER] Pruning scheduler: cubic\n",
      "[TRAINER] Pruning target sparsity: 0.95\n",
      "[TRAINER] Current model sparsity: 0.0\n",
      "[TRAINER] Saving model checkpoints to /dbfs/research/vitb16/cifar10/vitb16_movement_pruning_0.95.pt\n",
      "[TRAINER] Loading weights: /dbfs/research/vitb16/cifar10/vitb16_movement_pruning_0.95.pt\n",
      "[TRAINER] Weights loaded successfully\n",
      "[TRAINER] Model Sparsity: 0.95\n"
     ]
    },
    {
     "name": "stderr",
     "output_type": "stream",
     "text": [
      "\rEvaluating:   0%|          | 0/19 [00:00<?, ?it/s]\rEvaluating:   0%|          | 0/19 [00:03<?, ?it/s, Acc=90.23%]\rEvaluating:   5%|▌         | 1/19 [00:03<00:55,  3.06s/it, Acc=90.23%]\rEvaluating:   5%|▌         | 1/19 [00:03<00:55,  3.06s/it, Acc=90.72%]\rEvaluating:  11%|█         | 2/19 [00:03<00:23,  1.37s/it, Acc=90.72%]\rEvaluating:  11%|█         | 2/19 [00:03<00:23,  1.37s/it, Acc=91.47%]\rEvaluating:  16%|█▌        | 3/19 [00:03<00:13,  1.20it/s, Acc=91.47%]\rEvaluating:  16%|█▌        | 3/19 [00:03<00:13,  1.20it/s, Acc=91.65%]\rEvaluating:  21%|██        | 4/19 [00:03<00:08,  1.72it/s, Acc=91.65%]\rEvaluating:  21%|██        | 4/19 [00:03<00:08,  1.72it/s, Acc=91.41%]\rEvaluating:  26%|██▋       | 5/19 [00:03<00:06,  2.27it/s, Acc=91.41%]\rEvaluating:  26%|██▋       | 5/19 [00:04<00:06,  2.27it/s, Acc=91.60%]\rEvaluating:  32%|███▏      | 6/19 [00:04<00:04,  2.81it/s, Acc=91.60%]\rEvaluating:  32%|███▏      | 6/19 [00:04<00:04,  2.81it/s, Acc=91.46%]\rEvaluating:  37%|███▋      | 7/19 [00:04<00:03,  3.30it/s, Acc=91.46%]\rEvaluating:  37%|███▋      | 7/19 [00:04<00:03,  3.30it/s, Acc=91.60%]\rEvaluating:  42%|████▏     | 8/19 [00:04<00:02,  3.74it/s, Acc=91.60%]\rEvaluating:  42%|████▏     | 8/19 [00:04<00:02,  3.74it/s, Acc=91.71%]\rEvaluating:  47%|████▋     | 9/19 [00:04<00:02,  4.10it/s, Acc=91.71%]\rEvaluating:  47%|████▋     | 9/19 [00:04<00:02,  4.10it/s, Acc=91.66%]\rEvaluating:  53%|█████▎    | 10/19 [00:04<00:02,  4.38it/s, Acc=91.66%]\rEvaluating:  53%|█████▎    | 10/19 [00:04<00:02,  4.38it/s, Acc=91.64%]\rEvaluating:  58%|█████▊    | 11/19 [00:04<00:01,  4.61it/s, Acc=91.64%]\rEvaluating:  58%|█████▊    | 11/19 [00:05<00:01,  4.61it/s, Acc=91.60%]\rEvaluating:  63%|██████▎   | 12/19 [00:05<00:01,  4.77it/s, Acc=91.60%]\rEvaluating:  63%|██████▎   | 12/19 [00:05<00:01,  4.77it/s, Acc=91.74%]\rEvaluating:  68%|██████▊   | 13/19 [00:05<00:01,  4.90it/s, Acc=91.74%]\rEvaluating:  68%|██████▊   | 13/19 [00:05<00:01,  4.90it/s, Acc=91.81%]\rEvaluating:  74%|███████▎  | 14/19 [00:05<00:01,  4.99it/s, Acc=91.81%]\rEvaluating:  74%|███████▎  | 14/19 [00:05<00:01,  4.99it/s, Acc=91.85%]\rEvaluating:  79%|███████▉  | 15/19 [00:05<00:00,  5.05it/s, Acc=91.85%]\rEvaluating:  79%|███████▉  | 15/19 [00:05<00:00,  5.05it/s, Acc=91.88%]\rEvaluating:  84%|████████▍ | 16/19 [00:05<00:00,  5.09it/s, Acc=91.88%]\rEvaluating:  84%|████████▍ | 16/19 [00:06<00:00,  5.09it/s, Acc=91.79%]\rEvaluating:  89%|████████▉ | 17/19 [00:06<00:00,  5.12it/s, Acc=91.79%]\rEvaluating:  89%|████████▉ | 17/19 [00:06<00:00,  5.12it/s, Acc=91.87%]\rEvaluating:  95%|█████████▍| 18/19 [00:06<00:00,  5.15it/s, Acc=91.87%]\rEvaluating:  95%|█████████▍| 18/19 [00:06<00:00,  5.15it/s, Acc=91.87%]\rEvaluating: 100%|██████████| 19/19 [00:06<00:00,  5.15it/s, Acc=91.87%]\rEvaluating: 100%|██████████| 19/19 [00:06<00:00,  2.91it/s, Acc=91.87%]\n"
     ]
    },
    {
     "name": "stdout",
     "output_type": "stream",
     "text": [
      "\n",
      "Accuracy = 91.87\n"
     ]
    }
   ],
   "source": [
    "# Model initialization\n",
    "model_name = \"vitb16\"\n",
    "model_task = \"cifar10\"\n",
    "\n",
    "# Initializing finetuned weights path\n",
    "finetuned_weights = \"/dbfs/research/vitb16/cifar10/vitb16_baseline.pt\"\n",
    "\n",
    "# Initializing pruning args\n",
    "pruning_type = \"movement_pruning\"\n",
    "target_sparsity = TARGET_SPARSITY_LOW\n",
    "learning_type = \"pruning\"\n",
    "\n",
    "training_args = CVTrainingArguments(\n",
    "    model_name=model_name,\n",
    "    model_task=model_task,\n",
    "    batch_size=BATCH_SIZE_VIT,\n",
    "    finetuned_weights=finetuned_weights,\n",
    "    image_size=224,\n",
    "    pruning_type=pruning_type,\n",
    "    target_sparsity=target_sparsity,\n",
    "    learning_type=learning_type,\n",
    "\n",
    "    learning_rate=0.0001,\n",
    "    epochs=5,\n",
    "    recovery_epochs=10,\n",
    "    sparsity_scheduler='cubic'\n",
    ")\n",
    "\n",
    "trainer = Trainer(training_args=training_args)\n",
    "\n",
    "if False:\n",
    "    trainer.train()\n",
    "\n",
    "acc = trainer.evaluate()\n",
    "print(f\"\\nAccuracy = {acc}\")"
   ]
  },
  {
   "cell_type": "code",
   "execution_count": 0,
   "metadata": {
    "application/vnd.databricks.v1+cell": {
     "cellMetadata": {
      "byteLimit": 2048000,
      "rowLimit": 10000
     },
     "inputWidgets": {},
     "nuid": "e043b7fd-1400-4308-a19f-a2ece61b25ec",
     "showTitle": false,
     "tableResultSettingsMap": {},
     "title": ""
    }
   },
   "outputs": [
    {
     "name": "stdout",
     "output_type": "stream",
     "text": [
      "[TRAINER] Initializing model\n",
      "[TRAINER] Weights loaded\n",
      "[TRAINER] Initializing data loaders for cifar10\n",
      "[CV DATALOADERS] Loaded cifar10 with splits: ['train', 'validation', 'test']\n",
      "[TRAINER] Pruning enabled\n",
      "[TRAINER] Initializing pruner for movement_pruning\n",
      "[TRAINER] Pruning scheduler: cubic\n",
      "[TRAINER] Pruning target sparsity: 0.97\n",
      "[TRAINER] Current model sparsity: 0.0\n",
      "[TRAINER] Saving model checkpoints to /dbfs/research/vitb16/cifar10/vitb16_movement_pruning_0.97.pt\n",
      "[TRAINER] Loading weights: /dbfs/research/vitb16/cifar10/vitb16_movement_pruning_0.97.pt\n",
      "[TRAINER] Weights loaded successfully\n",
      "[TRAINER] Model Sparsity: 0.97\n"
     ]
    },
    {
     "name": "stderr",
     "output_type": "stream",
     "text": [
      "\rEvaluating:   0%|          | 0/19 [00:00<?, ?it/s]\rEvaluating:   0%|          | 0/19 [00:03<?, ?it/s, Acc=85.16%]\rEvaluating:   5%|▌         | 1/19 [00:03<00:55,  3.07s/it, Acc=85.16%]\rEvaluating:   5%|▌         | 1/19 [00:03<00:55,  3.07s/it, Acc=85.94%]\rEvaluating:  11%|█         | 2/19 [00:03<00:23,  1.38s/it, Acc=85.94%]\rEvaluating:  11%|█         | 2/19 [00:03<00:23,  1.38s/it, Acc=85.81%]\rEvaluating:  16%|█▌        | 3/19 [00:03<00:13,  1.20it/s, Acc=85.81%]\rEvaluating:  16%|█▌        | 3/19 [00:03<00:13,  1.20it/s, Acc=85.25%]\rEvaluating:  21%|██        | 4/19 [00:03<00:08,  1.72it/s, Acc=85.25%]\rEvaluating:  21%|██        | 4/19 [00:03<00:08,  1.72it/s, Acc=84.53%]\rEvaluating:  26%|██▋       | 5/19 [00:03<00:06,  2.27it/s, Acc=84.53%]\rEvaluating:  26%|██▋       | 5/19 [00:04<00:06,  2.27it/s, Acc=85.32%]\rEvaluating:  32%|███▏      | 6/19 [00:04<00:04,  2.81it/s, Acc=85.32%]\rEvaluating:  32%|███▏      | 6/19 [00:04<00:04,  2.81it/s, Acc=85.35%]\rEvaluating:  37%|███▋      | 7/19 [00:04<00:03,  3.31it/s, Acc=85.35%]\rEvaluating:  37%|███▋      | 7/19 [00:04<00:03,  3.31it/s, Acc=84.99%]\rEvaluating:  42%|████▏     | 8/19 [00:04<00:02,  3.75it/s, Acc=84.99%]\rEvaluating:  42%|████▏     | 8/19 [00:04<00:02,  3.75it/s, Acc=85.22%]\rEvaluating:  47%|████▋     | 9/19 [00:04<00:02,  4.10it/s, Acc=85.22%]\rEvaluating:  47%|████▋     | 9/19 [00:04<00:02,  4.10it/s, Acc=85.18%]\rEvaluating:  53%|█████▎    | 10/19 [00:04<00:02,  4.39it/s, Acc=85.18%]\rEvaluating:  53%|█████▎    | 10/19 [00:04<00:02,  4.39it/s, Acc=85.42%]\rEvaluating:  58%|█████▊    | 11/19 [00:04<00:01,  4.61it/s, Acc=85.42%]\rEvaluating:  58%|█████▊    | 11/19 [00:05<00:01,  4.61it/s, Acc=85.47%]\rEvaluating:  63%|██████▎   | 12/19 [00:05<00:01,  4.78it/s, Acc=85.47%]\rEvaluating:  63%|██████▎   | 12/19 [00:05<00:01,  4.78it/s, Acc=85.65%]\rEvaluating:  68%|██████▊   | 13/19 [00:05<00:01,  4.90it/s, Acc=85.65%]\rEvaluating:  68%|██████▊   | 13/19 [00:05<00:01,  4.90it/s, Acc=85.64%]\rEvaluating:  74%|███████▎  | 14/19 [00:05<00:01,  5.00it/s, Acc=85.64%]\rEvaluating:  74%|███████▎  | 14/19 [00:05<00:01,  5.00it/s, Acc=85.68%]\rEvaluating:  79%|███████▉  | 15/19 [00:05<00:00,  5.06it/s, Acc=85.68%]\rEvaluating:  79%|███████▉  | 15/19 [00:05<00:00,  5.06it/s, Acc=85.72%]\rEvaluating:  84%|████████▍ | 16/19 [00:05<00:00,  5.11it/s, Acc=85.72%]\rEvaluating:  84%|████████▍ | 16/19 [00:06<00:00,  5.11it/s, Acc=85.75%]\rEvaluating:  89%|████████▉ | 17/19 [00:06<00:00,  5.14it/s, Acc=85.75%]\rEvaluating:  89%|████████▉ | 17/19 [00:06<00:00,  5.14it/s, Acc=85.84%]\rEvaluating:  95%|█████████▍| 18/19 [00:06<00:00,  5.16it/s, Acc=85.84%]\rEvaluating:  95%|█████████▍| 18/19 [00:06<00:00,  5.16it/s, Acc=85.87%]\rEvaluating: 100%|██████████| 19/19 [00:06<00:00,  5.18it/s, Acc=85.87%]\rEvaluating: 100%|██████████| 19/19 [00:06<00:00,  2.91it/s, Acc=85.87%]\n"
     ]
    },
    {
     "name": "stdout",
     "output_type": "stream",
     "text": [
      "\n",
      "Accuracy = 85.87\n"
     ]
    }
   ],
   "source": [
    "# Model initialization\n",
    "model_name = \"vitb16\"\n",
    "model_task = \"cifar10\"\n",
    "\n",
    "# Initializing finetuned weights path\n",
    "finetuned_weights = \"/dbfs/research/vitb16/cifar10/vitb16_baseline.pt\"\n",
    "\n",
    "# Initializing pruning args\n",
    "pruning_type = \"movement_pruning\"\n",
    "target_sparsity = TARGET_SPARSITY_MID\n",
    "learning_type = \"pruning\"\n",
    "\n",
    "training_args = CVTrainingArguments(\n",
    "    model_name=model_name,\n",
    "    model_task=model_task,\n",
    "    batch_size=BATCH_SIZE_VIT,\n",
    "    finetuned_weights=finetuned_weights,\n",
    "    image_size=224,\n",
    "    pruning_type=pruning_type,\n",
    "    target_sparsity=target_sparsity,\n",
    "    learning_type=learning_type,\n",
    "\n",
    "    learning_rate=0.0001,\n",
    "    epochs=5,\n",
    "    recovery_epochs=10,\n",
    "    sparsity_scheduler='cubic'\n",
    ")\n",
    "\n",
    "trainer = Trainer(training_args=training_args)\n",
    "\n",
    "if False:\n",
    "    trainer.train()\n",
    "\n",
    "acc = trainer.evaluate()\n",
    "print(f\"\\nAccuracy = {acc}\")"
   ]
  },
  {
   "cell_type": "code",
   "execution_count": 0,
   "metadata": {
    "application/vnd.databricks.v1+cell": {
     "cellMetadata": {
      "byteLimit": 2048000,
      "rowLimit": 10000
     },
     "inputWidgets": {},
     "nuid": "4487facf-272c-4b03-b01d-e4c9357cb47b",
     "showTitle": false,
     "tableResultSettingsMap": {},
     "title": ""
    }
   },
   "outputs": [
    {
     "name": "stdout",
     "output_type": "stream",
     "text": [
      "[TRAINER] Initializing model\n",
      "[TRAINER] Weights loaded\n",
      "[TRAINER] Initializing data loaders for cifar10\n",
      "[CV DATALOADERS] Loaded cifar10 with splits: ['train', 'validation', 'test']\n",
      "[TRAINER] Pruning enabled\n",
      "[TRAINER] Initializing pruner for movement_pruning\n",
      "[TRAINER] Pruning scheduler: cubic\n",
      "[TRAINER] Pruning target sparsity: 0.99\n",
      "[TRAINER] Current model sparsity: 0.0\n",
      "[TRAINER] Saving model checkpoints to /dbfs/research/vitb16/cifar10/vitb16_movement_pruning_0.99.pt\n",
      "[TRAINER] Loading weights: /dbfs/research/vitb16/cifar10/vitb16_movement_pruning_0.99.pt\n",
      "[TRAINER] Weights loaded successfully\n",
      "[TRAINER] Model Sparsity: 0.99\n"
     ]
    },
    {
     "name": "stderr",
     "output_type": "stream",
     "text": [
      "\rEvaluating:   0%|          | 0/19 [00:00<?, ?it/s]\rEvaluating:   0%|          | 0/19 [00:01<?, ?it/s, Acc=76.95%]\rEvaluating:   5%|▌         | 1/19 [00:01<00:30,  1.68s/it, Acc=76.95%]\rEvaluating:   5%|▌         | 1/19 [00:03<00:30,  1.68s/it, Acc=77.83%]\rEvaluating:  11%|█         | 2/19 [00:03<00:25,  1.51s/it, Acc=77.83%]\rEvaluating:  11%|█         | 2/19 [00:03<00:25,  1.51s/it, Acc=78.32%]\rEvaluating:  16%|█▌        | 3/19 [00:03<00:14,  1.10it/s, Acc=78.32%]\rEvaluating:  16%|█▌        | 3/19 [00:03<00:14,  1.10it/s, Acc=77.59%]\rEvaluating:  21%|██        | 4/19 [00:03<00:09,  1.60it/s, Acc=77.59%]\rEvaluating:  21%|██        | 4/19 [00:03<00:09,  1.60it/s, Acc=77.58%]\rEvaluating:  26%|██▋       | 5/19 [00:03<00:06,  2.14it/s, Acc=77.58%]\rEvaluating:  26%|██▋       | 5/19 [00:03<00:06,  2.14it/s, Acc=77.93%]\rEvaluating:  32%|███▏      | 6/19 [00:03<00:04,  2.68it/s, Acc=77.93%]\rEvaluating:  32%|███▏      | 6/19 [00:04<00:04,  2.68it/s, Acc=77.82%]\rEvaluating:  37%|███▋      | 7/19 [00:04<00:03,  3.19it/s, Acc=77.82%]\rEvaluating:  37%|███▋      | 7/19 [00:04<00:03,  3.19it/s, Acc=77.76%]\rEvaluating:  42%|████▏     | 8/19 [00:04<00:03,  3.64it/s, Acc=77.76%]\rEvaluating:  42%|████▏     | 8/19 [00:04<00:03,  3.64it/s, Acc=77.95%]\rEvaluating:  47%|████▋     | 9/19 [00:04<00:02,  4.02it/s, Acc=77.95%]\rEvaluating:  47%|████▋     | 9/19 [00:04<00:02,  4.02it/s, Acc=77.97%]\rEvaluating:  53%|█████▎    | 10/19 [00:04<00:02,  4.34it/s, Acc=77.97%]\rEvaluating:  53%|█████▎    | 10/19 [00:04<00:02,  4.34it/s, Acc=77.79%]\rEvaluating:  58%|█████▊    | 11/19 [00:04<00:01,  4.58it/s, Acc=77.79%]\rEvaluating:  58%|█████▊    | 11/19 [00:04<00:01,  4.58it/s, Acc=77.56%]\rEvaluating:  63%|██████▎   | 12/19 [00:04<00:01,  4.76it/s, Acc=77.56%]\rEvaluating:  63%|██████▎   | 12/19 [00:05<00:01,  4.76it/s, Acc=77.79%]\rEvaluating:  68%|██████▊   | 13/19 [00:05<00:01,  4.90it/s, Acc=77.79%]\rEvaluating:  68%|██████▊   | 13/19 [00:05<00:01,  4.90it/s, Acc=77.73%]\rEvaluating:  74%|███████▎  | 14/19 [00:05<00:01,  5.00it/s, Acc=77.73%]\rEvaluating:  74%|███████▎  | 14/19 [00:05<00:01,  5.00it/s, Acc=77.90%]\rEvaluating:  79%|███████▉  | 15/19 [00:05<00:00,  5.07it/s, Acc=77.90%]\rEvaluating:  79%|███████▉  | 15/19 [00:05<00:00,  5.07it/s, Acc=77.84%]\rEvaluating:  84%|████████▍ | 16/19 [00:05<00:00,  5.12it/s, Acc=77.84%]\rEvaluating:  84%|████████▍ | 16/19 [00:05<00:00,  5.12it/s, Acc=77.78%]\rEvaluating:  89%|████████▉ | 17/19 [00:05<00:00,  5.15it/s, Acc=77.78%]\rEvaluating:  89%|████████▉ | 17/19 [00:06<00:00,  5.15it/s, Acc=77.71%]\rEvaluating:  95%|█████████▍| 18/19 [00:06<00:00,  5.18it/s, Acc=77.71%]\rEvaluating:  95%|█████████▍| 18/19 [00:06<00:00,  5.18it/s, Acc=77.69%]\rEvaluating: 100%|██████████| 19/19 [00:06<00:00,  5.20it/s, Acc=77.69%]\rEvaluating: 100%|██████████| 19/19 [00:06<00:00,  3.01it/s, Acc=77.69%]\n"
     ]
    },
    {
     "name": "stdout",
     "output_type": "stream",
     "text": [
      "\n",
      "Accuracy = 77.69\n"
     ]
    }
   ],
   "source": [
    "# Model initialization\n",
    "model_name = \"vitb16\"\n",
    "model_task = \"cifar10\"\n",
    "\n",
    "# Initializing finetuned weights path\n",
    "finetuned_weights = \"/dbfs/research/vitb16/cifar10/vitb16_baseline.pt\"\n",
    "\n",
    "# Initializing pruning args\n",
    "pruning_type = \"movement_pruning\"\n",
    "target_sparsity = TARGET_SPARSITY_HIGH\n",
    "learning_type = \"pruning\"\n",
    "\n",
    "training_args = CVTrainingArguments(\n",
    "    model_name=model_name,\n",
    "    model_task=model_task,\n",
    "    batch_size=BATCH_SIZE_VIT,\n",
    "    finetuned_weights=finetuned_weights,\n",
    "    image_size=224,\n",
    "    pruning_type=pruning_type,\n",
    "    target_sparsity=target_sparsity,\n",
    "    learning_type=learning_type,\n",
    "\n",
    "    learning_rate=0.0001,\n",
    "    epochs=5,\n",
    "    recovery_epochs=10,\n",
    "    sparsity_scheduler='cubic'\n",
    ")\n",
    "\n",
    "trainer = Trainer(training_args=training_args)\n",
    "\n",
    "if False:\n",
    "    trainer.train()\n",
    "\n",
    "acc = trainer.evaluate()\n",
    "print(f\"\\nAccuracy = {acc}\")"
   ]
  },
  {
   "cell_type": "markdown",
   "metadata": {
    "application/vnd.databricks.v1+cell": {
     "cellMetadata": {},
     "inputWidgets": {},
     "nuid": "215c50e6-5138-415b-8d05-9e2e3267309a",
     "showTitle": false,
     "tableResultSettingsMap": {},
     "title": ""
    }
   },
   "source": [
    "## BaCP Accuracies"
   ]
  },
  {
   "cell_type": "code",
   "execution_count": 0,
   "metadata": {
    "application/vnd.databricks.v1+cell": {
     "cellMetadata": {},
     "inputWidgets": {},
     "nuid": "a1710da0-d3e0-41bc-ad00-a09c48f43fae",
     "showTitle": false,
     "tableResultSettingsMap": {},
     "title": ""
    }
   },
   "outputs": [],
   "source": []
  }
 ],
 "metadata": {
  "application/vnd.databricks.v1+notebook": {
   "computePreferences": null,
   "dashboards": [],
   "environmentMetadata": null,
   "inputWidgetPreferences": null,
   "language": "python",
   "notebookMetadata": {
    "pythonIndentUnit": 4
   },
   "notebookName": "ViT-B-16_test_v1",
   "widgets": {}
  },
  "kernelspec": {
   "display_name": "Python 3",
   "language": "python",
   "name": "python3"
  },
  "language_info": {
   "name": "python",
   "version": "3.11.9"
  }
 },
 "nbformat": 4,
 "nbformat_minor": 0
}
