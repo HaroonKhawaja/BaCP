{
 "cells": [
  {
   "cell_type": "markdown",
   "metadata": {
    "application/vnd.databricks.v1+cell": {
     "cellMetadata": {
      "byteLimit": 2048000,
      "rowLimit": 10000
     },
     "inputWidgets": {},
     "nuid": "9dbb2fc0-11c7-42b5-8e61-ffdd63d5dc25",
     "showTitle": false,
     "tableResultSettingsMap": {},
     "title": ""
    }
   },
   "source": [
    "# DistilBERT Testing Notebook"
   ]
  },
  {
   "cell_type": "code",
   "execution_count": 1,
   "metadata": {
    "application/vnd.databricks.v1+cell": {
     "cellMetadata": {
      "byteLimit": 2048000,
      "rowLimit": 10000
     },
     "inputWidgets": {},
     "nuid": "58a9ae51-88d5-4a44-9724-222fb310ae08",
     "showTitle": false,
     "tableResultSettingsMap": {},
     "title": ""
    }
   },
   "outputs": [],
   "source": [
    "%load_ext autoreload\n",
    "%autoreload 2\n",
    "# Enables autoreload; learn more at https://docs.databricks.com/en/files/workspace-modules.html#autoreload-for-python-modules\n",
    "# To disable autoreload; run %autoreload 0"
   ]
  },
  {
   "cell_type": "code",
   "execution_count": 6,
   "metadata": {
    "application/vnd.databricks.v1+cell": {
     "cellMetadata": {
      "byteLimit": 2048000,
      "rowLimit": 10000
     },
     "inputWidgets": {},
     "nuid": "d864be54-f8b5-4448-b908-2f110b1e7fa2",
     "showTitle": false,
     "tableResultSettingsMap": {},
     "title": ""
    }
   },
   "outputs": [],
   "source": [
    "import os\n",
    "import sys\n",
    "sys.path.append(os.path.abspath('..'))\n",
    "\n",
    "from constants import (\n",
    "    TARGET_SPARSITY_LOW, TARGET_SPARSITY_MID, TARGET_SPARSITY_HIGH,\n",
    "    BATCH_SIZE_CNN, BATCH_SIZE_VIT, BATCH_SIZE_LLM,\n",
    "    EPOCHS_SMALL_MODEL, EPOCHS_LARGE_MODEL, EPOCHS_VIT\n",
    ")\n",
    "from utils import get_device, get_num_workers, load_weights, print_statistics\n",
    "from unstructured_pruning import check_model_sparsity, check_sparsity_distribution\n",
    "from trainer import TrainingArguments, Trainer\n",
    "from bacp import BaCPTrainingArguments, BaCPTrainer\n",
    "\n",
    "from datasets.utils.logging import disable_progress_bar\n",
    "disable_progress_bar()\n",
    "os.environ[\"HF_DATASETS_CACHE\"] = \"/dbfs/hf_datasets\"\n",
    "os.environ[\"TOKENIZERS_PARALLELISM\"] = \"false\" "
   ]
  },
  {
   "cell_type": "code",
   "execution_count": 7,
   "metadata": {},
   "outputs": [
    {
     "name": "stdout",
     "output_type": "stream",
     "text": [
      "Using device: cuda\n",
      "Using 288 workers\n"
     ]
    }
   ],
   "source": [
    "DEVICE = get_device()\n",
    "NUM_WORKERS = get_num_workers()\n",
    "print(\"Using device:\", DEVICE)\n",
    "print(\"Using\", NUM_WORKERS, \"workers\")"
   ]
  },
  {
   "cell_type": "markdown",
   "metadata": {},
   "source": [
    "# DistilBERT"
   ]
  },
  {
   "cell_type": "code",
   "execution_count": 8,
   "metadata": {
    "application/vnd.databricks.v1+cell": {
     "cellMetadata": {
      "byteLimit": 2048000,
      "rowLimit": 10000
     },
     "inputWidgets": {},
     "nuid": "3b9a306d-0095-4803-9684-d7530d217884",
     "showTitle": false,
     "tableResultSettingsMap": {},
     "title": ""
    }
   },
   "outputs": [],
   "source": [
    "MODEL_NAME = \"distilbert-base-uncased\"\n",
    "MODEL_TASK = \"wikitext2\"\n",
    "TRAIN = True"
   ]
  },
  {
   "cell_type": "markdown",
   "metadata": {
    "application/vnd.databricks.v1+cell": {
     "cellMetadata": {
      "byteLimit": 2048000,
      "rowLimit": 10000
     },
     "inputWidgets": {},
     "nuid": "22ccfbfc-6204-4ca3-b707-7ad645dcce8a",
     "showTitle": false,
     "tableResultSettingsMap": {},
     "title": ""
    }
   },
   "source": [
    "## Baseline Accuracies"
   ]
  },
  {
   "cell_type": "code",
   "execution_count": 9,
   "metadata": {
    "application/vnd.databricks.v1+cell": {
     "cellMetadata": {
      "byteLimit": 2048000,
      "rowLimit": 10000
     },
     "inputWidgets": {},
     "nuid": "7aeec2d7-7476-4e02-959a-ee25673c4620",
     "showTitle": false,
     "tableResultSettingsMap": {},
     "title": ""
    }
   },
   "outputs": [
    {
     "name": "stdout",
     "output_type": "stream",
     "text": [
      "[TRAINER] Image size: None\n",
      "[TRAINER] Initialized models\n",
      "[TRAINER] Optimizer type w/ learning rate: (adamw, 5e-05)\n",
      "[TRAINER] Data Initialized for model task: wikitext2\n",
      "[TRAINER] Batch size: 64\n",
      "[TRAINER] Number of dataloders: 3\n",
      "[TRAINER] Linear scheduler initialized with warmup steps: 355 and total steps: 3550\n",
      "[TRAINER] Pruning not initialized\n",
      "[TRAINER] Saving model to: ./research/distilbert-base-uncased/wikitext2/distilbert-base-uncased_wikitext2_baseline.pt\n",
      "[TRAINER] Loading weights: ./research/distilbert-base-uncased/wikitext2/distilbert-base-uncased_wikitext2_baseline.pt\n",
      "[TRAINER] Weights loaded successfully\n",
      "[TRAINER] Model Sparsity: 0.0\n"
     ]
    },
    {
     "name": "stderr",
     "output_type": "stream",
     "text": [
      "                                                         "
     ]
    },
    {
     "name": "stdout",
     "output_type": "stream",
     "text": [
      "\n",
      "============================================================\n",
      "TRAINING STATISTICS SUMMARY\n",
      "============================================================\n",
      "\n",
      "Performance Metrics:\n",
      "------------------------------\n",
      "  Accuracy:     64.37%\n",
      "  Perplexity:   5.601\n",
      "\n",
      "Model Information:\n",
      "------------------------------\n",
      "  Total Parameters:     66,985,530\n",
      "  Trainable Parameters: 66,985,530\n",
      "  Model Sparsity:       0.0000 (0.00%)\n",
      "\n",
      "Training Configuration:\n",
      "------------------------------\n",
      "  Model:                distilbert-base-uncased\n",
      "  Task:                 wikitext2\n",
      "  Learning Type:        baseline\n",
      "  Batch Size:           64\n",
      "  Learning Rate:        5e-05\n",
      "  Optimizer:            adamw\n",
      "  Epochs:               50\n",
      "\n",
      "System Information:\n",
      "------------------------------\n",
      "  Device:               cuda\n",
      "  Mixed Precision:      True\n",
      "  Workers:              24\n",
      "\n",
      "============================================================\n"
     ]
    },
    {
     "name": "stderr",
     "output_type": "stream",
     "text": [
      "\r"
     ]
    }
   ],
   "source": [
    "training_args = TrainingArguments(\n",
    "    model_name=MODEL_NAME,\n",
    "    model_task=MODEL_TASK,\n",
    "    batch_size=BATCH_SIZE_LLM,\n",
    "    optimizer_type_and_lr=('adamw', 5e-5),\n",
    "    scheduler_type='linear_with_warmup',\n",
    "    epochs=50,\n",
    "    learning_type=\"baseline\",\n",
    "    db=False,\n",
    ")\n",
    "trainer = Trainer(training_args=training_args)\n",
    "if False:\n",
    "    trainer.train()\n",
    "\n",
    "metrics = trainer.evaluate()\n",
    "print_statistics(metrics, trainer)"
   ]
  },
  {
   "cell_type": "markdown",
   "metadata": {
    "application/vnd.databricks.v1+cell": {
     "cellMetadata": {
      "byteLimit": 2048000,
      "rowLimit": 10000
     },
     "inputWidgets": {},
     "nuid": "7be69d1d-373f-4b12-a48d-9ab5140e1728",
     "showTitle": false,
     "tableResultSettingsMap": {},
     "title": ""
    }
   },
   "source": [
    "## Pruning Accuracies"
   ]
  },
  {
   "cell_type": "markdown",
   "metadata": {
    "application/vnd.databricks.v1+cell": {
     "cellMetadata": {
      "byteLimit": 2048000,
      "rowLimit": 10000
     },
     "inputWidgets": {},
     "nuid": "8d58a036-4334-44c0-823e-031ae7e08669",
     "showTitle": false,
     "tableResultSettingsMap": {},
     "title": ""
    }
   },
   "source": [
    "### Magnitude Prune"
   ]
  },
  {
   "cell_type": "code",
   "execution_count": 29,
   "metadata": {
    "application/vnd.databricks.v1+cell": {
     "cellMetadata": {
      "byteLimit": 2048000,
      "rowLimit": 10000
     },
     "inputWidgets": {},
     "nuid": "d98519d4-561a-4ecd-9fc3-9c5394efc5e1",
     "showTitle": false,
     "tableResultSettingsMap": {},
     "title": ""
    }
   },
   "outputs": [
    {
     "name": "stdout",
     "output_type": "stream",
     "text": [
      "[TRAINER] Image size: None\n",
      "[TRAINER] Initialized models\n",
      "[TRAINER] Loading weights: ./research/distilbert-base-uncased/wikitext2/distilbert-base-uncased_wikitext2_baseline.pt\n",
      "[TRAINER] Weights loaded\n",
      "[TRAINER] Optimizer type w/ learning rate: (adamw, 2e-05)\n",
      "[TRAINER] Data Initialized for model task: wikitext2\n",
      "[TRAINER] Batch size: 64\n",
      "[TRAINER] Number of dataloders: 3\n",
      "[TRAINER] No scheduler initialized\n",
      "[TRAINER] Pruning initialized\n",
      "[TRAINER] Pruning type: magnitude_pruning\n",
      "[TRAINER] Target sparsity: 0.95\n",
      "[TRAINER] Sparsity scheduler: cubic\n",
      "[TRAINER] Pruning epochs: 5\n",
      "[TRAINER] Current sparsity: 0.0000\n",
      "[TRAINER] Saving model to: ./research/distilbert-base-uncased/wikitext2/distilbert-base-uncased_wikitext2_magnitude_pruning_0.95_pruning.pt\n",
      "[TRAINER] Loading weights: ./research/distilbert-base-uncased/wikitext2/distilbert-base-uncased_wikitext2_magnitude_pruning_0.95_pruning.pt\n",
      "[TRAINER] Weights loaded successfully\n",
      "[TRAINER] Model Sparsity: 0.95\n"
     ]
    },
    {
     "name": "stderr",
     "output_type": "stream",
     "text": [
      "                                                         "
     ]
    },
    {
     "name": "stdout",
     "output_type": "stream",
     "text": [
      "\n",
      "============================================================\n",
      "TRAINING STATISTICS SUMMARY\n",
      "============================================================\n",
      "\n",
      "Performance Metrics:\n",
      "------------------------------\n",
      "  Accuracy:     10.14%\n",
      "  Perplexity:   5466.271\n",
      "\n",
      "Model Information:\n",
      "------------------------------\n",
      "  Total Parameters:     66,985,530\n",
      "  Trainable Parameters: 66,985,530\n",
      "  Model Sparsity:       0.9500 (95.00%)\n",
      "\n",
      "Training Configuration:\n",
      "------------------------------\n",
      "  Model:                distilbert-base-uncased\n",
      "  Task:                 wikitext2\n",
      "  Learning Type:        pruning\n",
      "  Batch Size:           64\n",
      "  Learning Rate:        2e-05\n",
      "  Optimizer:            adamw\n",
      "  Epochs:               5\n",
      "\n",
      "Pruning Configuration:\n",
      "------------------------------\n",
      "  Pruning Type:         magnitude_pruning\n",
      "  Target Sparsity:      0.95\n",
      "  Sparsity Scheduler:   cubic\n",
      "  Recovery Epochs:      10\n",
      "\n",
      "System Information:\n",
      "------------------------------\n",
      "  Device:               cuda\n",
      "  Mixed Precision:      True\n",
      "  Workers:              24\n",
      "\n",
      "============================================================\n"
     ]
    },
    {
     "name": "stderr",
     "output_type": "stream",
     "text": [
      "\r"
     ]
    }
   ],
   "source": [
    "# Initializing finetuned weights path\n",
    "finetuned_weights = f\"./research/{MODEL_NAME}/{MODEL_TASK}/{MODEL_NAME}_{MODEL_TASK}_baseline.pt\"\n",
    "training_args = TrainingArguments(\n",
    "    model_name=MODEL_NAME,\n",
    "    model_task=MODEL_TASK,\n",
    "    batch_size=BATCH_SIZE_LLM,\n",
    "    optimizer_type_and_lr=('adamw', 2e-5),\n",
    "    pruning_type=\"magnitude_pruning\",\n",
    "    target_sparsity=TARGET_SPARSITY_LOW,\n",
    "    sparsity_scheduler='cubic',\n",
    "    finetuned_weights=finetuned_weights,\n",
    "    learning_type=\"pruning\",\n",
    "    db=False,\n",
    ")\n",
    "trainer = Trainer(training_args)\n",
    "if False:\n",
    "    trainer.train()\n",
    "\n",
    "metrics = trainer.evaluate()\n",
    "print_statistics(metrics, trainer)"
   ]
  },
  {
   "cell_type": "markdown",
   "metadata": {},
   "source": [
    "{'input_ids': tensor([[  101,   102,   101,  ...,   103, 15046,  1999],\n",
    "        [ 2526,  2004,   103,  ...,  1999,   103,  8595],\n",
    "        [ 1010,  2040, 22073,  ...,  1996,  3166,  2043],\n",
    "        ...,\n",
    "        [ 2244,   103,  1012,  ...,  1011,  1030,  9152],\n",
    "        [ 1030,  1011,  1030,  ...,  2743, 17318,  2247],\n",
    "        [ 2049,  2670,  2918,  ...,   103,  6445,  2094]]), 'attention_mask': tensor([[1, 1, 1,  ..., 1, 1, 1],\n",
    "        [1, 1, 1,  ..., 1, 1, 1],\n",
    "        [1, 1, 1,  ..., 1, 1, 1],\n",
    "        ...,\n",
    "        [1, 1, 1,  ..., 1, 1, 1],\n",
    "        [1, 1, 1,  ..., 1, 1, 1],\n",
    "        [1, 1, 1,  ..., 1, 1, 1]]), 'labels': tensor([[ -100,  -100,  -100,  ...,  2198,  -100,  -100],\n",
    "        [ -100,  -100,  1000,  ...,  -100, 20325,  -100],\n",
    "        [ -100,  -100,  -100,  ...,  -100,  -100,  -100],\n",
    "        ...,\n",
    "        [ -100,  1019,  -100,  ...,  -100,  -100,  -100],\n",
    "        [ -100,  -100,  -100,  ...,  -100,  -100,  -100],\n",
    "        [ -100,  -100,  -100,  ...,  1996,  -100,  -100]])}"
   ]
  },
  {
   "cell_type": "code",
   "execution_count": 31,
   "metadata": {},
   "outputs": [
    {
     "name": "stdout",
     "output_type": "stream",
     "text": [
      "{'input_ids': tensor([[  101,   102,   101,  ...,   103, 15046,  1999],\n",
      "        [ 2526,  2004,   103,  ...,  1999,   103,  8595],\n",
      "        [ 1010,  2040, 22073,  ...,  1996,  3166,  2043],\n",
      "        ...,\n",
      "        [ 2244,   103,  1012,  ...,  1011,  1030,  9152],\n",
      "        [ 1030,  1011,  1030,  ...,  2743, 17318,  2247],\n",
      "        [ 2049,  2670,  2918,  ...,   103,  6445,  2094]]), 'attention_mask': tensor([[1, 1, 1,  ..., 1, 1, 1],\n",
      "        [1, 1, 1,  ..., 1, 1, 1],\n",
      "        [1, 1, 1,  ..., 1, 1, 1],\n",
      "        ...,\n",
      "        [1, 1, 1,  ..., 1, 1, 1],\n",
      "        [1, 1, 1,  ..., 1, 1, 1],\n",
      "        [1, 1, 1,  ..., 1, 1, 1]]), 'labels': tensor([[ -100,  -100,  -100,  ...,  2198,  -100,  -100],\n",
      "        [ -100,  -100,  1000,  ...,  -100, 20325,  -100],\n",
      "        [ -100,  -100,  -100,  ...,  -100,  -100,  -100],\n",
      "        ...,\n",
      "        [ -100,  1019,  -100,  ...,  -100,  -100,  -100],\n",
      "        [ -100,  -100,  -100,  ...,  -100,  -100,  -100],\n",
      "        [ -100,  -100,  -100,  ...,  1996,  -100,  -100]])}\n"
     ]
    }
   ],
   "source": [
    "for data in trainer.testloader:\n",
    "    print(data)\n",
    "    break"
   ]
  },
  {
   "cell_type": "code",
   "execution_count": 32,
   "metadata": {},
   "outputs": [
    {
     "name": "stdout",
     "output_type": "stream",
     "text": [
      "{'input_ids': tensor([[  101,   102,   101,  ...,  2137,   103,  1012],\n",
      "        [ 1996,   103,  2427,  ...,  5046, 26158,  2015],\n",
      "        [  103,   103,   103,  ...,  1010,  1998,  2087],\n",
      "        ...,\n",
      "        [ 2863,   103, 23593,  ...,   103,  1005,  1055],\n",
      "        [ 2190,  2434,   103,  ...,  2806,  6186,  2299],\n",
      "        [  103,  6232, 10057,  ...,  1010,   103,   103]]), 'attention_mask': tensor([[1, 1, 1,  ..., 1, 1, 1],\n",
      "        [1, 1, 1,  ..., 1, 1, 1],\n",
      "        [1, 1, 1,  ..., 1, 1, 1],\n",
      "        ...,\n",
      "        [1, 1, 1,  ..., 1, 1, 1],\n",
      "        [1, 1, 1,  ..., 1, 1, 1],\n",
      "        [1, 1, 1,  ..., 1, 1, 1]]), 'labels': tensor([[ -100,  -100,  -100,  ...,  -100,  2271,  -100],\n",
      "        [ -100,  2048,  -100,  ...,  -100,  -100,  -100],\n",
      "        [ 5939, 22747, 24876,  ...,  -100,  -100,  2087],\n",
      "        ...,\n",
      "        [ -100,  1010,  -100,  ...,  7579,  -100,  -100],\n",
      "        [ -100,  -100,  2573,  ...,  -100,  -100,  -100],\n",
      "        [ 2008,  -100,  -100,  ...,  -100,  1996,  2299]])}\n"
     ]
    }
   ],
   "source": [
    "for data in trainer.valloader:\n",
    "    print(data)\n",
    "    break"
   ]
  },
  {
   "cell_type": "markdown",
   "metadata": {},
   "source": []
  },
  {
   "cell_type": "code",
   "execution_count": 34,
   "metadata": {
    "application/vnd.databricks.v1+cell": {
     "cellMetadata": {
      "byteLimit": 2048000,
      "rowLimit": 10000
     },
     "inputWidgets": {},
     "nuid": "defe99f3-fbdb-4502-b1a1-d11ce121da08",
     "showTitle": false,
     "tableResultSettingsMap": {},
     "title": ""
    }
   },
   "outputs": [
    {
     "name": "stdout",
     "output_type": "stream",
     "text": [
      "[TRAINER] Image size: None\n",
      "[TRAINER] Initialized models\n",
      "[TRAINER] Loading weights: ./research/distilbert-base-uncased/wikitext2/distilbert-base-uncased_wikitext2_baseline.pt\n",
      "[TRAINER] Weights loaded\n",
      "[TRAINER] Optimizer type w/ learning rate: (adamw, 2e-05)\n",
      "[TRAINER] Data Initialized for model task: wikitext2\n",
      "[TRAINER] Batch size: 64\n",
      "[TRAINER] Number of dataloders: 3\n",
      "[TRAINER] No scheduler initialized\n",
      "[TRAINER] Pruning initialized\n",
      "[TRAINER] Pruning type: magnitude_pruning\n",
      "[TRAINER] Target sparsity: 0.97\n",
      "[TRAINER] Sparsity scheduler: cubic\n",
      "[TRAINER] Pruning epochs: 5\n",
      "[TRAINER] Current sparsity: 0.0000\n",
      "[TRAINER] Saving model to: ./research/distilbert-base-uncased/wikitext2/distilbert-base-uncased_wikitext2_magnitude_pruning_0.97_pruning.pt\n",
      "[TRAINER] Loading weights: ./research/distilbert-base-uncased/wikitext2/distilbert-base-uncased_wikitext2_magnitude_pruning_0.97_pruning.pt\n",
      "[TRAINER] Weights loaded successfully\n",
      "[TRAINER] Model Sparsity: 0.97\n"
     ]
    },
    {
     "name": "stderr",
     "output_type": "stream",
     "text": [
      "                                                         "
     ]
    },
    {
     "name": "stdout",
     "output_type": "stream",
     "text": [
      "\n",
      "============================================================\n",
      "TRAINING STATISTICS SUMMARY\n",
      "============================================================\n",
      "\n",
      "Performance Metrics:\n",
      "------------------------------\n",
      "  Accuracy:     8.65%\n",
      "  Perplexity:   7899.856\n",
      "\n",
      "Model Information:\n",
      "------------------------------\n",
      "  Total Parameters:     66,985,530\n",
      "  Trainable Parameters: 66,985,530\n",
      "  Model Sparsity:       0.9700 (97.00%)\n",
      "\n",
      "Training Configuration:\n",
      "------------------------------\n",
      "  Model:                distilbert-base-uncased\n",
      "  Task:                 wikitext2\n",
      "  Learning Type:        pruning\n",
      "  Batch Size:           64\n",
      "  Learning Rate:        2e-05\n",
      "  Optimizer:            adamw\n",
      "  Epochs:               5\n",
      "\n",
      "Pruning Configuration:\n",
      "------------------------------\n",
      "  Pruning Type:         magnitude_pruning\n",
      "  Target Sparsity:      0.97\n",
      "  Sparsity Scheduler:   cubic\n",
      "  Recovery Epochs:      10\n",
      "\n",
      "System Information:\n",
      "------------------------------\n",
      "  Device:               cuda\n",
      "  Mixed Precision:      True\n",
      "  Workers:              24\n",
      "\n",
      "============================================================\n"
     ]
    },
    {
     "name": "stderr",
     "output_type": "stream",
     "text": [
      "\r"
     ]
    }
   ],
   "source": [
    "# Initializing finetuned weights path\n",
    "finetuned_weights = f\"./research/{MODEL_NAME}/{MODEL_TASK}/{MODEL_NAME}_{MODEL_TASK}_baseline.pt\"\n",
    "training_args = TrainingArguments(\n",
    "    model_name=MODEL_NAME,\n",
    "    model_task=MODEL_TASK,\n",
    "    batch_size=BATCH_SIZE_LLM,\n",
    "    optimizer_type_and_lr=('adamw', 2e-5),\n",
    "    pruning_type=\"magnitude_pruning\",\n",
    "    target_sparsity=TARGET_SPARSITY_MID,\n",
    "    sparsity_scheduler='cubic',\n",
    "    finetuned_weights=finetuned_weights,\n",
    "    learning_type=\"pruning\",\n",
    "    db=False,\n",
    ")\n",
    "trainer = Trainer(training_args)\n",
    "if False:\n",
    "    trainer.train()\n",
    "\n",
    "metrics = trainer.evaluate()\n",
    "print_statistics(metrics, trainer)"
   ]
  },
  {
   "cell_type": "code",
   "execution_count": 24,
   "metadata": {
    "application/vnd.databricks.v1+cell": {
     "cellMetadata": {
      "byteLimit": 2048000,
      "rowLimit": 10000
     },
     "inputWidgets": {},
     "nuid": "97ba3b50-f1da-447b-9cb2-909914a423a6",
     "showTitle": false,
     "tableResultSettingsMap": {},
     "title": ""
    }
   },
   "outputs": [
    {
     "name": "stdout",
     "output_type": "stream",
     "text": [
      "[TRAINER] Image size: None\n",
      "[TRAINER] Initialized models\n",
      "[TRAINER] Loading weights: ./research/distilbert-base-uncased/wikitext2/distilbert-base-uncased_wikitext2_baseline.pt\n",
      "[TRAINER] Weights loaded\n",
      "[TRAINER] Optimizer type w/ learning rate: (adamw, 2e-05)\n",
      "[TRAINER] Data Initialized for model task: wikitext2\n",
      "[TRAINER] Batch size: 64\n",
      "[TRAINER] Number of dataloders: 3\n",
      "[TRAINER] No scheduler initialized\n",
      "[TRAINER] Pruning initialized\n",
      "[TRAINER] Pruning type: magnitude_pruning\n",
      "[TRAINER] Target sparsity: 0.99\n",
      "[TRAINER] Sparsity scheduler: cubic\n",
      "[TRAINER] Pruning epochs: 5\n",
      "[TRAINER] Current sparsity: 0.0000\n",
      "[TRAINER] Saving model to: ./research/distilbert-base-uncased/wikitext2/distilbert-base-uncased_wikitext2_magnitude_pruning_0.99_pruning.pt\n",
      "[LOGGER] Log file created at location: ./log_records/distilbert-base-uncased/wikitext2/pruning/magnitude_pruning/0.99/run_3.log\n",
      "[TRAINER] Training with mixed precision enabled\n",
      "[TRAINER] Initial model sparsity: 0.0\n"
     ]
    },
    {
     "name": "stderr",
     "output_type": "stream",
     "text": [
      "Training Epoch [1/5]:   0%|          | 0/71 [00:00<?, ?it/s]"
     ]
    },
    {
     "name": "stdout",
     "output_type": "stream",
     "text": [
      "\n",
      "[Pruner] Cubic Sparsity ratio increased to 0.483.\n",
      "\n"
     ]
    },
    {
     "name": "stderr",
     "output_type": "stream",
     "text": [
      "                                                                                                   \r"
     ]
    },
    {
     "name": "stdout",
     "output_type": "stream",
     "text": [
      "Recovery epoch [1/10]: Avg Loss: 1.5665 | Avg Accuracy: 64.28 | Model Sparsity: 0.4831\n",
      "Avg Perplexity: 5.570\n",
      "\n",
      "[TRAINER] weights saved!\n"
     ]
    },
    {
     "name": "stderr",
     "output_type": "stream",
     "text": [
      "                                                                                                    \r"
     ]
    },
    {
     "name": "stdout",
     "output_type": "stream",
     "text": [
      "Recovery epoch [1/10]: Avg Loss: 1.5645 | Avg Accuracy: 64.02 | Model Sparsity: 0.4831\n",
      "Avg Perplexity: 5.635\n",
      "\n"
     ]
    },
    {
     "name": "stderr",
     "output_type": "stream",
     "text": [
      "                                                                                                    \r"
     ]
    },
    {
     "name": "stdout",
     "output_type": "stream",
     "text": [
      "Recovery epoch [2/10]: Avg Loss: 1.5632 | Avg Accuracy: 64.18 | Model Sparsity: 0.4831\n",
      "Avg Perplexity: 5.586\n",
      "\n"
     ]
    },
    {
     "name": "stderr",
     "output_type": "stream",
     "text": [
      "                                                                                                    \r"
     ]
    },
    {
     "name": "stdout",
     "output_type": "stream",
     "text": [
      "Recovery epoch [3/10]: Avg Loss: 1.5591 | Avg Accuracy: 64.44 | Model Sparsity: 0.4831\n",
      "Avg Perplexity: 5.592\n",
      "\n",
      "[TRAINER] weights saved!\n"
     ]
    },
    {
     "name": "stderr",
     "output_type": "stream",
     "text": [
      "                                                                                                    \r"
     ]
    },
    {
     "name": "stdout",
     "output_type": "stream",
     "text": [
      "Recovery epoch [4/10]: Avg Loss: 1.5621 | Avg Accuracy: 63.86 | Model Sparsity: 0.4831\n",
      "Avg Perplexity: 5.750\n",
      "\n"
     ]
    },
    {
     "name": "stderr",
     "output_type": "stream",
     "text": [
      "                                                                                                    \r"
     ]
    },
    {
     "name": "stdout",
     "output_type": "stream",
     "text": [
      "Recovery epoch [5/10]: Avg Loss: 1.5628 | Avg Accuracy: 64.36 | Model Sparsity: 0.4831\n",
      "Avg Perplexity: 5.621\n",
      "\n"
     ]
    },
    {
     "name": "stderr",
     "output_type": "stream",
     "text": [
      "                                                                                                    \r"
     ]
    },
    {
     "name": "stdout",
     "output_type": "stream",
     "text": [
      "Recovery epoch [6/10]: Avg Loss: 1.5597 | Avg Accuracy: 64.21 | Model Sparsity: 0.4831\n",
      "Avg Perplexity: 5.712\n",
      "\n"
     ]
    },
    {
     "name": "stderr",
     "output_type": "stream",
     "text": [
      "                                                                                                    \r"
     ]
    },
    {
     "name": "stdout",
     "output_type": "stream",
     "text": [
      "Recovery epoch [7/10]: Avg Loss: 1.5639 | Avg Accuracy: 63.86 | Model Sparsity: 0.4831\n",
      "Avg Perplexity: 5.791\n",
      "\n"
     ]
    },
    {
     "name": "stderr",
     "output_type": "stream",
     "text": [
      "                                                                                                    \r"
     ]
    },
    {
     "name": "stdout",
     "output_type": "stream",
     "text": [
      "Recovery epoch [8/10]: Avg Loss: 1.5614 | Avg Accuracy: 63.93 | Model Sparsity: 0.4831\n",
      "Avg Perplexity: 5.724\n",
      "\n"
     ]
    },
    {
     "name": "stderr",
     "output_type": "stream",
     "text": [
      "                                                                                                    \r"
     ]
    },
    {
     "name": "stdout",
     "output_type": "stream",
     "text": [
      "Recovery epoch [9/10]: Avg Loss: 1.5547 | Avg Accuracy: 64.57 | Model Sparsity: 0.4831\n",
      "Avg Perplexity: 5.529\n",
      "\n",
      "[TRAINER] weights saved!\n"
     ]
    },
    {
     "name": "stderr",
     "output_type": "stream",
     "text": [
      "                                                                                                     \r"
     ]
    },
    {
     "name": "stdout",
     "output_type": "stream",
     "text": [
      "Recovery epoch [10/10]: Avg Loss: 1.5577 | Avg Accuracy: 64.00 | Model Sparsity: 0.4831\n",
      "Avg Perplexity: 5.734\n",
      "\n"
     ]
    },
    {
     "name": "stderr",
     "output_type": "stream",
     "text": [
      "Training Epoch [2/5]:   0%|          | 0/71 [00:00<?, ?it/s]"
     ]
    },
    {
     "name": "stdout",
     "output_type": "stream",
     "text": [
      "\n",
      "[Pruner] Cubic Sparsity ratio increased to 0.776.\n",
      "\n"
     ]
    },
    {
     "name": "stderr",
     "output_type": "stream",
     "text": [
      "                                                                                                   \r"
     ]
    },
    {
     "name": "stdout",
     "output_type": "stream",
     "text": [
      "Recovery epoch [2/10]: Avg Loss: 1.5490 | Avg Accuracy: 63.99 | Model Sparsity: 0.7762\n",
      "Avg Perplexity: 5.625\n",
      "\n",
      "[TRAINER] weights saved!\n"
     ]
    },
    {
     "name": "stderr",
     "output_type": "stream",
     "text": [
      "                                                                                                    \r"
     ]
    },
    {
     "name": "stdout",
     "output_type": "stream",
     "text": [
      "Recovery epoch [1/10]: Avg Loss: 1.5613 | Avg Accuracy: 64.05 | Model Sparsity: 0.7762\n",
      "Avg Perplexity: 5.638\n",
      "\n",
      "[TRAINER] weights saved!\n"
     ]
    },
    {
     "name": "stderr",
     "output_type": "stream",
     "text": [
      "                                                                                                    \r"
     ]
    },
    {
     "name": "stdout",
     "output_type": "stream",
     "text": [
      "Recovery epoch [2/10]: Avg Loss: 1.5550 | Avg Accuracy: 64.42 | Model Sparsity: 0.7762\n",
      "Avg Perplexity: 5.522\n",
      "\n",
      "[TRAINER] weights saved!\n"
     ]
    },
    {
     "name": "stderr",
     "output_type": "stream",
     "text": [
      "                                                                                                    \r"
     ]
    },
    {
     "name": "stdout",
     "output_type": "stream",
     "text": [
      "Recovery epoch [3/10]: Avg Loss: 1.5487 | Avg Accuracy: 64.01 | Model Sparsity: 0.7762\n",
      "Avg Perplexity: 5.731\n",
      "\n"
     ]
    },
    {
     "name": "stderr",
     "output_type": "stream",
     "text": [
      "                                                                                                    \r"
     ]
    },
    {
     "name": "stdout",
     "output_type": "stream",
     "text": [
      "Recovery epoch [4/10]: Avg Loss: 1.5459 | Avg Accuracy: 64.10 | Model Sparsity: 0.7762\n",
      "Avg Perplexity: 5.645\n",
      "\n"
     ]
    },
    {
     "name": "stderr",
     "output_type": "stream",
     "text": [
      "                                                                                                    \r"
     ]
    },
    {
     "name": "stdout",
     "output_type": "stream",
     "text": [
      "Recovery epoch [5/10]: Avg Loss: 1.5496 | Avg Accuracy: 64.00 | Model Sparsity: 0.7762\n",
      "Avg Perplexity: 5.633\n",
      "\n"
     ]
    },
    {
     "name": "stderr",
     "output_type": "stream",
     "text": [
      "                                                                                                    \r"
     ]
    },
    {
     "name": "stdout",
     "output_type": "stream",
     "text": [
      "Recovery epoch [6/10]: Avg Loss: 1.5594 | Avg Accuracy: 64.79 | Model Sparsity: 0.7762\n",
      "Avg Perplexity: 5.524\n",
      "\n",
      "[TRAINER] weights saved!\n"
     ]
    },
    {
     "name": "stderr",
     "output_type": "stream",
     "text": [
      "                                                                                                    \r"
     ]
    },
    {
     "name": "stdout",
     "output_type": "stream",
     "text": [
      "Recovery epoch [7/10]: Avg Loss: 1.5510 | Avg Accuracy: 64.33 | Model Sparsity: 0.7762\n",
      "Avg Perplexity: 5.679\n",
      "\n"
     ]
    },
    {
     "name": "stderr",
     "output_type": "stream",
     "text": [
      "                                                                                                    \r"
     ]
    },
    {
     "name": "stdout",
     "output_type": "stream",
     "text": [
      "Recovery epoch [8/10]: Avg Loss: 1.5488 | Avg Accuracy: 64.34 | Model Sparsity: 0.7762\n",
      "Avg Perplexity: 5.548\n",
      "\n"
     ]
    },
    {
     "name": "stderr",
     "output_type": "stream",
     "text": [
      "                                                                                                    \r"
     ]
    },
    {
     "name": "stdout",
     "output_type": "stream",
     "text": [
      "Recovery epoch [9/10]: Avg Loss: 1.5542 | Avg Accuracy: 64.08 | Model Sparsity: 0.7762\n",
      "Avg Perplexity: 5.632\n",
      "\n"
     ]
    },
    {
     "name": "stderr",
     "output_type": "stream",
     "text": [
      "                                                                                                     \r"
     ]
    },
    {
     "name": "stdout",
     "output_type": "stream",
     "text": [
      "Recovery epoch [10/10]: Avg Loss: 1.5471 | Avg Accuracy: 64.59 | Model Sparsity: 0.7762\n",
      "Avg Perplexity: 5.476\n",
      "\n"
     ]
    },
    {
     "name": "stderr",
     "output_type": "stream",
     "text": [
      "Training Epoch [3/5]:   0%|          | 0/71 [00:00<?, ?it/s]"
     ]
    },
    {
     "name": "stdout",
     "output_type": "stream",
     "text": [
      "\n",
      "[Pruner] Cubic Sparsity ratio increased to 0.927.\n",
      "\n"
     ]
    },
    {
     "name": "stderr",
     "output_type": "stream",
     "text": [
      "                                                                                                   \r"
     ]
    },
    {
     "name": "stdout",
     "output_type": "stream",
     "text": [
      "Recovery epoch [3/10]: Avg Loss: 1.5574 | Avg Accuracy: 64.11 | Model Sparsity: 0.9266\n",
      "Avg Perplexity: 5.733\n",
      "\n",
      "[TRAINER] weights saved!\n"
     ]
    },
    {
     "name": "stderr",
     "output_type": "stream",
     "text": [
      "                                                                                                    \r"
     ]
    },
    {
     "name": "stdout",
     "output_type": "stream",
     "text": [
      "Recovery epoch [1/10]: Avg Loss: 1.5461 | Avg Accuracy: 63.90 | Model Sparsity: 0.9266\n",
      "Avg Perplexity: 5.689\n",
      "\n"
     ]
    },
    {
     "name": "stderr",
     "output_type": "stream",
     "text": [
      "                                                                                                    \r"
     ]
    },
    {
     "name": "stdout",
     "output_type": "stream",
     "text": [
      "Recovery epoch [2/10]: Avg Loss: 1.5509 | Avg Accuracy: 63.73 | Model Sparsity: 0.9266\n",
      "Avg Perplexity: 5.734\n",
      "\n"
     ]
    },
    {
     "name": "stderr",
     "output_type": "stream",
     "text": [
      "                                                                                                    \r"
     ]
    },
    {
     "name": "stdout",
     "output_type": "stream",
     "text": [
      "Recovery epoch [3/10]: Avg Loss: 1.5413 | Avg Accuracy: 64.25 | Model Sparsity: 0.9266\n",
      "Avg Perplexity: 5.692\n",
      "\n",
      "[TRAINER] weights saved!\n"
     ]
    },
    {
     "name": "stderr",
     "output_type": "stream",
     "text": [
      "                                                                                                    \r"
     ]
    },
    {
     "name": "stdout",
     "output_type": "stream",
     "text": [
      "Recovery epoch [4/10]: Avg Loss: 1.5504 | Avg Accuracy: 64.15 | Model Sparsity: 0.9266\n",
      "Avg Perplexity: 5.715\n",
      "\n"
     ]
    },
    {
     "name": "stderr",
     "output_type": "stream",
     "text": [
      "                                                                                                    \r"
     ]
    },
    {
     "name": "stdout",
     "output_type": "stream",
     "text": [
      "Recovery epoch [5/10]: Avg Loss: 1.5522 | Avg Accuracy: 64.42 | Model Sparsity: 0.9266\n",
      "Avg Perplexity: 5.694\n",
      "\n",
      "[TRAINER] weights saved!\n"
     ]
    },
    {
     "name": "stderr",
     "output_type": "stream",
     "text": [
      "                                                                                                    \r"
     ]
    },
    {
     "name": "stdout",
     "output_type": "stream",
     "text": [
      "Recovery epoch [6/10]: Avg Loss: 1.5515 | Avg Accuracy: 63.34 | Model Sparsity: 0.9266\n",
      "Avg Perplexity: 5.779\n",
      "\n"
     ]
    },
    {
     "name": "stderr",
     "output_type": "stream",
     "text": [
      "                                                                                                    \r"
     ]
    },
    {
     "name": "stdout",
     "output_type": "stream",
     "text": [
      "Recovery epoch [7/10]: Avg Loss: 1.5466 | Avg Accuracy: 63.86 | Model Sparsity: 0.9266\n",
      "Avg Perplexity: 5.682\n",
      "\n"
     ]
    },
    {
     "name": "stderr",
     "output_type": "stream",
     "text": [
      "                                                                                                    \r"
     ]
    },
    {
     "name": "stdout",
     "output_type": "stream",
     "text": [
      "Recovery epoch [8/10]: Avg Loss: 1.5430 | Avg Accuracy: 64.36 | Model Sparsity: 0.9266\n",
      "Avg Perplexity: 5.545\n",
      "\n"
     ]
    },
    {
     "name": "stderr",
     "output_type": "stream",
     "text": [
      "                                                                                                    \r"
     ]
    },
    {
     "name": "stdout",
     "output_type": "stream",
     "text": [
      "Recovery epoch [9/10]: Avg Loss: 1.5392 | Avg Accuracy: 63.72 | Model Sparsity: 0.9266\n",
      "Avg Perplexity: 5.858\n",
      "\n"
     ]
    },
    {
     "name": "stderr",
     "output_type": "stream",
     "text": [
      "                                                                                                     \r"
     ]
    },
    {
     "name": "stdout",
     "output_type": "stream",
     "text": [
      "Recovery epoch [10/10]: Avg Loss: 1.5447 | Avg Accuracy: 63.98 | Model Sparsity: 0.9266\n",
      "Avg Perplexity: 5.654\n",
      "\n"
     ]
    },
    {
     "name": "stderr",
     "output_type": "stream",
     "text": [
      "Training Epoch [4/5]:   0%|          | 0/71 [00:00<?, ?it/s]"
     ]
    },
    {
     "name": "stdout",
     "output_type": "stream",
     "text": [
      "\n",
      "[Pruner] Cubic Sparsity ratio increased to 0.982.\n",
      "\n"
     ]
    },
    {
     "name": "stderr",
     "output_type": "stream",
     "text": [
      "                                                                                                   \r"
     ]
    },
    {
     "name": "stdout",
     "output_type": "stream",
     "text": [
      "Recovery epoch [4/10]: Avg Loss: 1.5405 | Avg Accuracy: 64.17 | Model Sparsity: 0.9821\n",
      "Avg Perplexity: 5.727\n",
      "\n",
      "[TRAINER] weights saved!\n"
     ]
    },
    {
     "name": "stderr",
     "output_type": "stream",
     "text": [
      "                                                                                                    \r"
     ]
    },
    {
     "name": "stdout",
     "output_type": "stream",
     "text": [
      "Recovery epoch [1/10]: Avg Loss: 1.5396 | Avg Accuracy: 64.39 | Model Sparsity: 0.9821\n",
      "Avg Perplexity: 5.651\n",
      "\n",
      "[TRAINER] weights saved!\n"
     ]
    },
    {
     "name": "stderr",
     "output_type": "stream",
     "text": [
      "                                                                                                    \r"
     ]
    },
    {
     "name": "stdout",
     "output_type": "stream",
     "text": [
      "Recovery epoch [2/10]: Avg Loss: 1.5388 | Avg Accuracy: 64.07 | Model Sparsity: 0.9821\n",
      "Avg Perplexity: 5.642\n",
      "\n"
     ]
    },
    {
     "name": "stderr",
     "output_type": "stream",
     "text": [
      "                                                                                                    \r"
     ]
    },
    {
     "name": "stdout",
     "output_type": "stream",
     "text": [
      "Recovery epoch [3/10]: Avg Loss: 1.5321 | Avg Accuracy: 64.19 | Model Sparsity: 0.9821\n",
      "Avg Perplexity: 5.681\n",
      "\n"
     ]
    },
    {
     "name": "stderr",
     "output_type": "stream",
     "text": [
      "                                                                                                    \r"
     ]
    },
    {
     "name": "stdout",
     "output_type": "stream",
     "text": [
      "Recovery epoch [4/10]: Avg Loss: 1.5337 | Avg Accuracy: 64.49 | Model Sparsity: 0.9821\n",
      "Avg Perplexity: 5.654\n",
      "\n",
      "[TRAINER] weights saved!\n"
     ]
    },
    {
     "name": "stderr",
     "output_type": "stream",
     "text": [
      "                                                                                                    \r"
     ]
    },
    {
     "name": "stdout",
     "output_type": "stream",
     "text": [
      "Recovery epoch [5/10]: Avg Loss: 1.5403 | Avg Accuracy: 64.47 | Model Sparsity: 0.9821\n",
      "Avg Perplexity: 5.484\n",
      "\n"
     ]
    },
    {
     "name": "stderr",
     "output_type": "stream",
     "text": [
      "                                                                                                    \r"
     ]
    },
    {
     "name": "stdout",
     "output_type": "stream",
     "text": [
      "Recovery epoch [6/10]: Avg Loss: 1.5327 | Avg Accuracy: 64.85 | Model Sparsity: 0.9821\n",
      "Avg Perplexity: 5.513\n",
      "\n",
      "[TRAINER] weights saved!\n"
     ]
    },
    {
     "name": "stderr",
     "output_type": "stream",
     "text": [
      "                                                                                                    \r"
     ]
    },
    {
     "name": "stdout",
     "output_type": "stream",
     "text": [
      "Recovery epoch [7/10]: Avg Loss: 1.5407 | Avg Accuracy: 63.93 | Model Sparsity: 0.9821\n",
      "Avg Perplexity: 5.687\n",
      "\n"
     ]
    },
    {
     "name": "stderr",
     "output_type": "stream",
     "text": [
      "                                                                                                    \r"
     ]
    },
    {
     "name": "stdout",
     "output_type": "stream",
     "text": [
      "Recovery epoch [8/10]: Avg Loss: 1.5373 | Avg Accuracy: 64.30 | Model Sparsity: 0.9821\n",
      "Avg Perplexity: 5.616\n",
      "\n"
     ]
    },
    {
     "name": "stderr",
     "output_type": "stream",
     "text": [
      "                                                                                                    \r"
     ]
    },
    {
     "name": "stdout",
     "output_type": "stream",
     "text": [
      "Recovery epoch [9/10]: Avg Loss: 1.5355 | Avg Accuracy: 64.54 | Model Sparsity: 0.9821\n",
      "Avg Perplexity: 5.521\n",
      "\n"
     ]
    },
    {
     "name": "stderr",
     "output_type": "stream",
     "text": [
      "                                                                                                     \r"
     ]
    },
    {
     "name": "stdout",
     "output_type": "stream",
     "text": [
      "Recovery epoch [10/10]: Avg Loss: 1.5361 | Avg Accuracy: 64.43 | Model Sparsity: 0.9821\n",
      "Avg Perplexity: 5.628\n",
      "\n"
     ]
    },
    {
     "name": "stderr",
     "output_type": "stream",
     "text": [
      "Training Epoch [5/5]:   0%|          | 0/71 [00:00<?, ?it/s]"
     ]
    },
    {
     "name": "stdout",
     "output_type": "stream",
     "text": [
      "\n",
      "[Pruner] Cubic Sparsity ratio increased to 0.990.\n",
      "\n"
     ]
    },
    {
     "name": "stderr",
     "output_type": "stream",
     "text": [
      "                                                                                                 \r"
     ]
    },
    {
     "name": "stdout",
     "output_type": "stream",
     "text": [
      "Recovery epoch [5/10]: Avg Loss: 1.5308 | Avg Accuracy: 63.95 | Model Sparsity: 0.99\n",
      "Avg Perplexity: 5.748\n",
      "\n",
      "[TRAINER] weights saved!\n"
     ]
    },
    {
     "name": "stderr",
     "output_type": "stream",
     "text": [
      "                                                                                                  \r"
     ]
    },
    {
     "name": "stdout",
     "output_type": "stream",
     "text": [
      "Recovery epoch [1/10]: Avg Loss: 1.5329 | Avg Accuracy: 64.48 | Model Sparsity: 0.99\n",
      "Avg Perplexity: 5.639\n",
      "\n",
      "[TRAINER] weights saved!\n"
     ]
    },
    {
     "name": "stderr",
     "output_type": "stream",
     "text": [
      "                                                                                                  \r"
     ]
    },
    {
     "name": "stdout",
     "output_type": "stream",
     "text": [
      "Recovery epoch [2/10]: Avg Loss: 1.5301 | Avg Accuracy: 64.47 | Model Sparsity: 0.99\n",
      "Avg Perplexity: 5.639\n",
      "\n"
     ]
    },
    {
     "name": "stderr",
     "output_type": "stream",
     "text": [
      "                                                                                                  \r"
     ]
    },
    {
     "name": "stdout",
     "output_type": "stream",
     "text": [
      "Recovery epoch [3/10]: Avg Loss: 1.5249 | Avg Accuracy: 64.25 | Model Sparsity: 0.99\n",
      "Avg Perplexity: 5.606\n",
      "\n"
     ]
    },
    {
     "name": "stderr",
     "output_type": "stream",
     "text": [
      "                                                                                                  \r"
     ]
    },
    {
     "name": "stdout",
     "output_type": "stream",
     "text": [
      "Recovery epoch [4/10]: Avg Loss: 1.5243 | Avg Accuracy: 63.77 | Model Sparsity: 0.99\n",
      "Avg Perplexity: 5.722\n",
      "\n"
     ]
    },
    {
     "name": "stderr",
     "output_type": "stream",
     "text": [
      "                                                                                                  \r"
     ]
    },
    {
     "name": "stdout",
     "output_type": "stream",
     "text": [
      "Recovery epoch [5/10]: Avg Loss: 1.5271 | Avg Accuracy: 63.90 | Model Sparsity: 0.99\n",
      "Avg Perplexity: 5.771\n",
      "\n"
     ]
    },
    {
     "name": "stderr",
     "output_type": "stream",
     "text": [
      "                                                                                                  \r"
     ]
    },
    {
     "name": "stdout",
     "output_type": "stream",
     "text": [
      "Recovery epoch [6/10]: Avg Loss: 1.5218 | Avg Accuracy: 64.38 | Model Sparsity: 0.99\n",
      "Avg Perplexity: 5.626\n",
      "\n"
     ]
    },
    {
     "name": "stderr",
     "output_type": "stream",
     "text": [
      "                                                                                                  \r"
     ]
    },
    {
     "name": "stdout",
     "output_type": "stream",
     "text": [
      "Recovery epoch [7/10]: Avg Loss: 1.5284 | Avg Accuracy: 64.37 | Model Sparsity: 0.99\n",
      "Avg Perplexity: 5.589\n",
      "\n"
     ]
    },
    {
     "name": "stderr",
     "output_type": "stream",
     "text": [
      "                                                                                                  \r"
     ]
    },
    {
     "name": "stdout",
     "output_type": "stream",
     "text": [
      "Recovery epoch [8/10]: Avg Loss: 1.5233 | Avg Accuracy: 64.11 | Model Sparsity: 0.99\n",
      "Avg Perplexity: 5.573\n",
      "\n"
     ]
    },
    {
     "name": "stderr",
     "output_type": "stream",
     "text": [
      "                                                                                                  \r"
     ]
    },
    {
     "name": "stdout",
     "output_type": "stream",
     "text": [
      "Recovery epoch [9/10]: Avg Loss: 1.5195 | Avg Accuracy: 63.85 | Model Sparsity: 0.99\n",
      "Avg Perplexity: 5.724\n",
      "\n"
     ]
    },
    {
     "name": "stderr",
     "output_type": "stream",
     "text": [
      "                                                                                                   \r"
     ]
    },
    {
     "name": "stdout",
     "output_type": "stream",
     "text": [
      "Recovery epoch [10/10]: Avg Loss: 1.5156 | Avg Accuracy: 64.24 | Model Sparsity: 0.99\n",
      "Avg Perplexity: 5.508\n",
      "\n",
      "[TRAINER] Loading weights: ./research/distilbert-base-uncased/wikitext2/distilbert-base-uncased_wikitext2_magnitude_pruning_0.99_pruning.pt\n",
      "[TRAINER] Weights loaded successfully\n",
      "[TRAINER] Model Sparsity: 0.99\n"
     ]
    },
    {
     "name": "stderr",
     "output_type": "stream",
     "text": [
      "                                                         "
     ]
    },
    {
     "name": "stdout",
     "output_type": "stream",
     "text": [
      "\n",
      "============================================================\n",
      "TRAINING STATISTICS SUMMARY\n",
      "============================================================\n",
      "\n",
      "Performance Metrics:\n",
      "------------------------------\n",
      "  Accuracy:     64.68%\n",
      "  Perplexity:   5.528\n",
      "\n",
      "Model Information:\n",
      "------------------------------\n",
      "  Total Parameters:     66,985,530\n",
      "  Trainable Parameters: 66,985,530\n",
      "  Model Sparsity:       0.9900 (99.00%)\n",
      "\n",
      "Training Configuration:\n",
      "------------------------------\n",
      "  Model:                distilbert-base-uncased\n",
      "  Task:                 wikitext2\n",
      "  Learning Type:        pruning\n",
      "  Batch Size:           64\n",
      "  Learning Rate:        2e-05\n",
      "  Optimizer:            adamw\n",
      "  Epochs:               5\n",
      "\n",
      "Pruning Configuration:\n",
      "------------------------------\n",
      "  Pruning Type:         magnitude_pruning\n",
      "  Target Sparsity:      0.99\n",
      "  Sparsity Scheduler:   cubic\n",
      "  Recovery Epochs:      10\n",
      "\n",
      "System Information:\n",
      "------------------------------\n",
      "  Device:               cuda\n",
      "  Mixed Precision:      True\n",
      "  Workers:              24\n",
      "\n",
      "============================================================\n"
     ]
    },
    {
     "name": "stderr",
     "output_type": "stream",
     "text": [
      "\r"
     ]
    }
   ],
   "source": [
    "# Initializing finetuned weights path\n",
    "finetuned_weights = f\"./research/{MODEL_NAME}/{MODEL_TASK}/{MODEL_NAME}_{MODEL_TASK}_baseline.pt\"\n",
    "training_args = TrainingArguments(\n",
    "    model_name=MODEL_NAME,\n",
    "    model_task=MODEL_TASK,\n",
    "    batch_size=BATCH_SIZE_LLM,\n",
    "    optimizer_type_and_lr=('adamw', 2e-5),\n",
    "    pruning_type=\"magnitude_pruning\",\n",
    "    target_sparsity=TARGET_SPARSITY_HIGH,\n",
    "    sparsity_scheduler='cubic',\n",
    "    finetuned_weights=finetuned_weights,\n",
    "    learning_type=\"pruning\",\n",
    "    db=False,\n",
    ")\n",
    "trainer = Trainer(training_args)\n",
    "if TRAIN:\n",
    "    trainer.train()\n",
    "\n",
    "metrics = trainer.evaluate()\n",
    "print_statistics(metrics, trainer)"
   ]
  },
  {
   "cell_type": "markdown",
   "metadata": {
    "application/vnd.databricks.v1+cell": {
     "cellMetadata": {
      "byteLimit": 2048000,
      "rowLimit": 10000
     },
     "inputWidgets": {},
     "nuid": "f4d1270a-6f28-4e85-8416-c473016644cf",
     "showTitle": false,
     "tableResultSettingsMap": {},
     "title": ""
    }
   },
   "source": [
    "### SNIP-it Prune"
   ]
  },
  {
   "cell_type": "code",
   "execution_count": 25,
   "metadata": {
    "application/vnd.databricks.v1+cell": {
     "cellMetadata": {
      "byteLimit": 2048000,
      "rowLimit": 10000
     },
     "inputWidgets": {},
     "nuid": "ab38d80e-18d7-4212-a829-d6d300d611cd",
     "showTitle": false,
     "tableResultSettingsMap": {},
     "title": ""
    }
   },
   "outputs": [
    {
     "name": "stdout",
     "output_type": "stream",
     "text": [
      "[TRAINER] Image size: None\n",
      "[TRAINER] Initialized models\n",
      "[TRAINER] Loading weights: ./research/distilbert-base-uncased/wikitext2/distilbert-base-uncased_wikitext2_baseline.pt\n",
      "[TRAINER] Weights loaded\n",
      "[TRAINER] Optimizer type w/ learning rate: (adamw, 2e-05)\n",
      "[TRAINER] Data Initialized for model task: wikitext2\n",
      "[TRAINER] Batch size: 64\n",
      "[TRAINER] Number of dataloders: 3\n",
      "[TRAINER] No scheduler initialized\n",
      "[TRAINER] Pruning initialized\n",
      "[TRAINER] Pruning type: snip_pruning\n",
      "[TRAINER] Target sparsity: 0.95\n",
      "[TRAINER] Sparsity scheduler: cubic\n",
      "[TRAINER] Pruning epochs: 5\n",
      "[TRAINER] Current sparsity: 0.0000\n",
      "[TRAINER] Saving model to: ./research/distilbert-base-uncased/wikitext2/distilbert-base-uncased_wikitext2_snip_pruning_0.95_pruning.pt\n",
      "[LOGGER] Log file created at location: ./log_records/distilbert-base-uncased/wikitext2/pruning/snip_pruning/0.95/run_2.log\n",
      "[TRAINER] Training with mixed precision enabled\n",
      "[TRAINER] Initial model sparsity: 0.0\n"
     ]
    },
    {
     "name": "stderr",
     "output_type": "stream",
     "text": [
      "Training Epoch [1/5]:   0%|          | 0/71 [00:00<?, ?it/s]"
     ]
    },
    {
     "name": "stdout",
     "output_type": "stream",
     "text": [
      "\n",
      "[Pruner] Cubic Sparsity ratio increased to 0.464.\n",
      "\n"
     ]
    },
    {
     "name": "stderr",
     "output_type": "stream",
     "text": [
      "                                                                                                   \r"
     ]
    },
    {
     "name": "stdout",
     "output_type": "stream",
     "text": [
      "Recovery epoch [1/10]: Avg Loss: 1.5661 | Avg Accuracy: 64.13 | Model Sparsity: 0.4636\n",
      "Avg Perplexity: 5.748\n",
      "\n",
      "[TRAINER] weights saved!\n"
     ]
    },
    {
     "name": "stderr",
     "output_type": "stream",
     "text": [
      "                                                                                                    \r"
     ]
    },
    {
     "name": "stdout",
     "output_type": "stream",
     "text": [
      "Recovery epoch [1/10]: Avg Loss: 1.5696 | Avg Accuracy: 63.57 | Model Sparsity: 0.4636\n",
      "Avg Perplexity: 5.869\n",
      "\n"
     ]
    },
    {
     "name": "stderr",
     "output_type": "stream",
     "text": [
      "                                                                                                    \r"
     ]
    },
    {
     "name": "stdout",
     "output_type": "stream",
     "text": [
      "Recovery epoch [2/10]: Avg Loss: 1.5643 | Avg Accuracy: 64.10 | Model Sparsity: 0.4636\n",
      "Avg Perplexity: 5.725\n",
      "\n"
     ]
    },
    {
     "name": "stderr",
     "output_type": "stream",
     "text": [
      "                                                                                                    \r"
     ]
    },
    {
     "name": "stdout",
     "output_type": "stream",
     "text": [
      "Recovery epoch [3/10]: Avg Loss: 1.5592 | Avg Accuracy: 64.18 | Model Sparsity: 0.4636\n",
      "Avg Perplexity: 5.645\n",
      "\n",
      "[TRAINER] weights saved!\n"
     ]
    },
    {
     "name": "stderr",
     "output_type": "stream",
     "text": [
      "                                                                                                    \r"
     ]
    },
    {
     "name": "stdout",
     "output_type": "stream",
     "text": [
      "Recovery epoch [4/10]: Avg Loss: 1.5635 | Avg Accuracy: 63.84 | Model Sparsity: 0.4636\n",
      "Avg Perplexity: 5.712\n",
      "\n"
     ]
    },
    {
     "name": "stderr",
     "output_type": "stream",
     "text": [
      "                                                                                                    \r"
     ]
    },
    {
     "name": "stdout",
     "output_type": "stream",
     "text": [
      "Recovery epoch [5/10]: Avg Loss: 1.5509 | Avg Accuracy: 63.95 | Model Sparsity: 0.4636\n",
      "Avg Perplexity: 5.646\n",
      "\n"
     ]
    },
    {
     "name": "stderr",
     "output_type": "stream",
     "text": [
      "                                                                                                    \r"
     ]
    },
    {
     "name": "stdout",
     "output_type": "stream",
     "text": [
      "Recovery epoch [6/10]: Avg Loss: 1.5627 | Avg Accuracy: 64.44 | Model Sparsity: 0.4636\n",
      "Avg Perplexity: 5.683\n",
      "\n",
      "[TRAINER] weights saved!\n"
     ]
    },
    {
     "name": "stderr",
     "output_type": "stream",
     "text": [
      "                                                                                                    \r"
     ]
    },
    {
     "name": "stdout",
     "output_type": "stream",
     "text": [
      "Recovery epoch [7/10]: Avg Loss: 1.5633 | Avg Accuracy: 63.67 | Model Sparsity: 0.4636\n",
      "Avg Perplexity: 5.781\n",
      "\n"
     ]
    },
    {
     "name": "stderr",
     "output_type": "stream",
     "text": [
      "                                                                                                    \r"
     ]
    },
    {
     "name": "stdout",
     "output_type": "stream",
     "text": [
      "Recovery epoch [8/10]: Avg Loss: 1.5605 | Avg Accuracy: 64.35 | Model Sparsity: 0.4636\n",
      "Avg Perplexity: 5.589\n",
      "\n"
     ]
    },
    {
     "name": "stderr",
     "output_type": "stream",
     "text": [
      "                                                                                                    \r"
     ]
    },
    {
     "name": "stdout",
     "output_type": "stream",
     "text": [
      "Recovery epoch [9/10]: Avg Loss: 1.5562 | Avg Accuracy: 63.85 | Model Sparsity: 0.4636\n",
      "Avg Perplexity: 5.780\n",
      "\n"
     ]
    },
    {
     "name": "stderr",
     "output_type": "stream",
     "text": [
      "                                                                                                     \r"
     ]
    },
    {
     "name": "stdout",
     "output_type": "stream",
     "text": [
      "Recovery epoch [10/10]: Avg Loss: 1.5671 | Avg Accuracy: 63.80 | Model Sparsity: 0.4636\n",
      "Avg Perplexity: 5.830\n",
      "\n"
     ]
    },
    {
     "name": "stderr",
     "output_type": "stream",
     "text": [
      "Training Epoch [2/5]:   0%|          | 0/71 [00:00<?, ?it/s]"
     ]
    },
    {
     "name": "stdout",
     "output_type": "stream",
     "text": [
      "\n",
      "[Pruner] Cubic Sparsity ratio increased to 0.745.\n",
      "\n"
     ]
    },
    {
     "name": "stderr",
     "output_type": "stream",
     "text": [
      "                                                                                                   \r"
     ]
    },
    {
     "name": "stdout",
     "output_type": "stream",
     "text": [
      "Recovery epoch [2/10]: Avg Loss: 1.5654 | Avg Accuracy: 63.98 | Model Sparsity: 0.7448\n",
      "Avg Perplexity: 5.745\n",
      "\n",
      "[TRAINER] weights saved!\n"
     ]
    },
    {
     "name": "stderr",
     "output_type": "stream",
     "text": [
      "                                                                                                    \r"
     ]
    },
    {
     "name": "stdout",
     "output_type": "stream",
     "text": [
      "Recovery epoch [1/10]: Avg Loss: 1.5544 | Avg Accuracy: 63.77 | Model Sparsity: 0.7448\n",
      "Avg Perplexity: 5.635\n",
      "\n"
     ]
    },
    {
     "name": "stderr",
     "output_type": "stream",
     "text": [
      "                                                                                                    \r"
     ]
    },
    {
     "name": "stdout",
     "output_type": "stream",
     "text": [
      "Recovery epoch [2/10]: Avg Loss: 1.5608 | Avg Accuracy: 64.23 | Model Sparsity: 0.7448\n",
      "Avg Perplexity: 5.711\n",
      "\n",
      "[TRAINER] weights saved!\n"
     ]
    },
    {
     "name": "stderr",
     "output_type": "stream",
     "text": [
      "                                                                                                    \r"
     ]
    },
    {
     "name": "stdout",
     "output_type": "stream",
     "text": [
      "Recovery epoch [3/10]: Avg Loss: 1.5616 | Avg Accuracy: 64.14 | Model Sparsity: 0.7448\n",
      "Avg Perplexity: 5.610\n",
      "\n"
     ]
    },
    {
     "name": "stderr",
     "output_type": "stream",
     "text": [
      "                                                                                                    \r"
     ]
    },
    {
     "name": "stdout",
     "output_type": "stream",
     "text": [
      "Recovery epoch [4/10]: Avg Loss: 1.5519 | Avg Accuracy: 63.87 | Model Sparsity: 0.7448\n",
      "Avg Perplexity: 5.712\n",
      "\n"
     ]
    },
    {
     "name": "stderr",
     "output_type": "stream",
     "text": [
      "                                                                                                    \r"
     ]
    },
    {
     "name": "stdout",
     "output_type": "stream",
     "text": [
      "Recovery epoch [5/10]: Avg Loss: 1.5497 | Avg Accuracy: 64.01 | Model Sparsity: 0.7448\n",
      "Avg Perplexity: 5.750\n",
      "\n"
     ]
    },
    {
     "name": "stderr",
     "output_type": "stream",
     "text": [
      "                                                                                                    \r"
     ]
    },
    {
     "name": "stdout",
     "output_type": "stream",
     "text": [
      "Recovery epoch [6/10]: Avg Loss: 1.5576 | Avg Accuracy: 64.27 | Model Sparsity: 0.7448\n",
      "Avg Perplexity: 5.640\n",
      "\n",
      "[TRAINER] weights saved!\n"
     ]
    },
    {
     "name": "stderr",
     "output_type": "stream",
     "text": [
      "                                                                                                    \r"
     ]
    },
    {
     "name": "stdout",
     "output_type": "stream",
     "text": [
      "Recovery epoch [7/10]: Avg Loss: 1.5491 | Avg Accuracy: 64.45 | Model Sparsity: 0.7448\n",
      "Avg Perplexity: 5.696\n",
      "\n",
      "[TRAINER] weights saved!\n"
     ]
    },
    {
     "name": "stderr",
     "output_type": "stream",
     "text": [
      "                                                                                                    \r"
     ]
    },
    {
     "name": "stdout",
     "output_type": "stream",
     "text": [
      "Recovery epoch [8/10]: Avg Loss: 1.5462 | Avg Accuracy: 64.27 | Model Sparsity: 0.7448\n",
      "Avg Perplexity: 5.638\n",
      "\n"
     ]
    },
    {
     "name": "stderr",
     "output_type": "stream",
     "text": [
      "                                                                                                    \r"
     ]
    },
    {
     "name": "stdout",
     "output_type": "stream",
     "text": [
      "Recovery epoch [9/10]: Avg Loss: 1.5556 | Avg Accuracy: 64.01 | Model Sparsity: 0.7448\n",
      "Avg Perplexity: 5.684\n",
      "\n"
     ]
    },
    {
     "name": "stderr",
     "output_type": "stream",
     "text": [
      "                                                                                                     \r"
     ]
    },
    {
     "name": "stdout",
     "output_type": "stream",
     "text": [
      "Recovery epoch [10/10]: Avg Loss: 1.5487 | Avg Accuracy: 64.09 | Model Sparsity: 0.7448\n",
      "Avg Perplexity: 5.758\n",
      "\n"
     ]
    },
    {
     "name": "stderr",
     "output_type": "stream",
     "text": [
      "Training Epoch [3/5]:   0%|          | 0/71 [00:00<?, ?it/s]"
     ]
    },
    {
     "name": "stdout",
     "output_type": "stream",
     "text": [
      "\n",
      "[Pruner] Cubic Sparsity ratio increased to 0.889.\n",
      "\n"
     ]
    },
    {
     "name": "stderr",
     "output_type": "stream",
     "text": [
      "                                                                                                   \r"
     ]
    },
    {
     "name": "stdout",
     "output_type": "stream",
     "text": [
      "Recovery epoch [3/10]: Avg Loss: 1.5485 | Avg Accuracy: 64.64 | Model Sparsity: 0.8892\n",
      "Avg Perplexity: 5.489\n",
      "\n",
      "[TRAINER] weights saved!\n"
     ]
    },
    {
     "name": "stderr",
     "output_type": "stream",
     "text": [
      "                                                                                                    \r"
     ]
    },
    {
     "name": "stdout",
     "output_type": "stream",
     "text": [
      "Recovery epoch [1/10]: Avg Loss: 1.5519 | Avg Accuracy: 64.44 | Model Sparsity: 0.8892\n",
      "Avg Perplexity: 5.534\n",
      "\n"
     ]
    },
    {
     "name": "stderr",
     "output_type": "stream",
     "text": [
      "                                                                                                    \r"
     ]
    },
    {
     "name": "stdout",
     "output_type": "stream",
     "text": [
      "Recovery epoch [2/10]: Avg Loss: 1.5484 | Avg Accuracy: 63.78 | Model Sparsity: 0.8892\n",
      "Avg Perplexity: 5.727\n",
      "\n"
     ]
    },
    {
     "name": "stderr",
     "output_type": "stream",
     "text": [
      "                                                                                                    \r"
     ]
    },
    {
     "name": "stdout",
     "output_type": "stream",
     "text": [
      "Recovery epoch [3/10]: Avg Loss: 1.5462 | Avg Accuracy: 63.95 | Model Sparsity: 0.8892\n",
      "Avg Perplexity: 5.695\n",
      "\n"
     ]
    },
    {
     "name": "stderr",
     "output_type": "stream",
     "text": [
      "                                                                                                    \r"
     ]
    },
    {
     "name": "stdout",
     "output_type": "stream",
     "text": [
      "Recovery epoch [4/10]: Avg Loss: 1.5443 | Avg Accuracy: 64.02 | Model Sparsity: 0.8892\n",
      "Avg Perplexity: 5.597\n",
      "\n"
     ]
    },
    {
     "name": "stderr",
     "output_type": "stream",
     "text": [
      "                                                                                                    \r"
     ]
    },
    {
     "name": "stdout",
     "output_type": "stream",
     "text": [
      "Recovery epoch [5/10]: Avg Loss: 1.5437 | Avg Accuracy: 63.86 | Model Sparsity: 0.8892\n",
      "Avg Perplexity: 5.663\n",
      "\n"
     ]
    },
    {
     "name": "stderr",
     "output_type": "stream",
     "text": [
      "                                                                                                    \r"
     ]
    },
    {
     "name": "stdout",
     "output_type": "stream",
     "text": [
      "Recovery epoch [6/10]: Avg Loss: 1.5439 | Avg Accuracy: 64.01 | Model Sparsity: 0.8892\n",
      "Avg Perplexity: 5.711\n",
      "\n"
     ]
    },
    {
     "name": "stderr",
     "output_type": "stream",
     "text": [
      "                                                                                                    \r"
     ]
    },
    {
     "name": "stdout",
     "output_type": "stream",
     "text": [
      "Recovery epoch [7/10]: Avg Loss: 1.5452 | Avg Accuracy: 64.41 | Model Sparsity: 0.8892\n",
      "Avg Perplexity: 5.567\n",
      "\n"
     ]
    },
    {
     "name": "stderr",
     "output_type": "stream",
     "text": [
      "                                                                                                    \r"
     ]
    },
    {
     "name": "stdout",
     "output_type": "stream",
     "text": [
      "Recovery epoch [8/10]: Avg Loss: 1.5413 | Avg Accuracy: 64.57 | Model Sparsity: 0.8892\n",
      "Avg Perplexity: 5.541\n",
      "\n"
     ]
    },
    {
     "name": "stderr",
     "output_type": "stream",
     "text": [
      "                                                                                                    \r"
     ]
    },
    {
     "name": "stdout",
     "output_type": "stream",
     "text": [
      "Recovery epoch [9/10]: Avg Loss: 1.5440 | Avg Accuracy: 64.03 | Model Sparsity: 0.8892\n",
      "Avg Perplexity: 5.712\n",
      "\n"
     ]
    },
    {
     "name": "stderr",
     "output_type": "stream",
     "text": [
      "                                                                                                     \r"
     ]
    },
    {
     "name": "stdout",
     "output_type": "stream",
     "text": [
      "Recovery epoch [10/10]: Avg Loss: 1.5413 | Avg Accuracy: 63.87 | Model Sparsity: 0.8892\n",
      "Avg Perplexity: 5.678\n",
      "\n"
     ]
    },
    {
     "name": "stderr",
     "output_type": "stream",
     "text": [
      "Training Epoch [4/5]:   0%|          | 0/71 [00:00<?, ?it/s]"
     ]
    },
    {
     "name": "stdout",
     "output_type": "stream",
     "text": [
      "\n",
      "[Pruner] Cubic Sparsity ratio increased to 0.942.\n",
      "\n"
     ]
    },
    {
     "name": "stderr",
     "output_type": "stream",
     "text": [
      "                                                                                                   \r"
     ]
    },
    {
     "name": "stdout",
     "output_type": "stream",
     "text": [
      "Recovery epoch [4/10]: Avg Loss: 1.5469 | Avg Accuracy: 64.26 | Model Sparsity: 0.9424\n",
      "Avg Perplexity: 5.651\n",
      "\n",
      "[TRAINER] weights saved!\n"
     ]
    },
    {
     "name": "stderr",
     "output_type": "stream",
     "text": [
      "                                                                                                    \r"
     ]
    },
    {
     "name": "stdout",
     "output_type": "stream",
     "text": [
      "Recovery epoch [1/10]: Avg Loss: 1.5361 | Avg Accuracy: 64.43 | Model Sparsity: 0.9424\n",
      "Avg Perplexity: 5.555\n",
      "\n",
      "[TRAINER] weights saved!\n"
     ]
    },
    {
     "name": "stderr",
     "output_type": "stream",
     "text": [
      "                                                                                                    \r"
     ]
    },
    {
     "name": "stdout",
     "output_type": "stream",
     "text": [
      "Recovery epoch [2/10]: Avg Loss: 1.5402 | Avg Accuracy: 64.25 | Model Sparsity: 0.9424\n",
      "Avg Perplexity: 5.619\n",
      "\n"
     ]
    },
    {
     "name": "stderr",
     "output_type": "stream",
     "text": [
      "                                                                                                    \r"
     ]
    },
    {
     "name": "stdout",
     "output_type": "stream",
     "text": [
      "Recovery epoch [3/10]: Avg Loss: 1.5371 | Avg Accuracy: 63.87 | Model Sparsity: 0.9424\n",
      "Avg Perplexity: 5.671\n",
      "\n"
     ]
    },
    {
     "name": "stderr",
     "output_type": "stream",
     "text": [
      "                                                                                                    \r"
     ]
    },
    {
     "name": "stdout",
     "output_type": "stream",
     "text": [
      "Recovery epoch [4/10]: Avg Loss: 1.5331 | Avg Accuracy: 64.29 | Model Sparsity: 0.9424\n",
      "Avg Perplexity: 5.615\n",
      "\n"
     ]
    },
    {
     "name": "stderr",
     "output_type": "stream",
     "text": [
      "                                                                                                    \r"
     ]
    },
    {
     "name": "stdout",
     "output_type": "stream",
     "text": [
      "Recovery epoch [5/10]: Avg Loss: 1.5349 | Avg Accuracy: 64.41 | Model Sparsity: 0.9424\n",
      "Avg Perplexity: 5.596\n",
      "\n"
     ]
    },
    {
     "name": "stderr",
     "output_type": "stream",
     "text": [
      "                                                                                                    \r"
     ]
    },
    {
     "name": "stdout",
     "output_type": "stream",
     "text": [
      "Recovery epoch [6/10]: Avg Loss: 1.5280 | Avg Accuracy: 63.86 | Model Sparsity: 0.9424\n",
      "Avg Perplexity: 5.734\n",
      "\n"
     ]
    },
    {
     "name": "stderr",
     "output_type": "stream",
     "text": [
      "                                                                                                    \r"
     ]
    },
    {
     "name": "stdout",
     "output_type": "stream",
     "text": [
      "Recovery epoch [7/10]: Avg Loss: 1.5327 | Avg Accuracy: 64.35 | Model Sparsity: 0.9424\n",
      "Avg Perplexity: 5.605\n",
      "\n"
     ]
    },
    {
     "name": "stderr",
     "output_type": "stream",
     "text": [
      "                                                                                                    \r"
     ]
    },
    {
     "name": "stdout",
     "output_type": "stream",
     "text": [
      "Recovery epoch [8/10]: Avg Loss: 1.5321 | Avg Accuracy: 64.86 | Model Sparsity: 0.9424\n",
      "Avg Perplexity: 5.472\n",
      "\n",
      "[TRAINER] weights saved!\n"
     ]
    },
    {
     "name": "stderr",
     "output_type": "stream",
     "text": [
      "                                                                                                    \r"
     ]
    },
    {
     "name": "stdout",
     "output_type": "stream",
     "text": [
      "Recovery epoch [9/10]: Avg Loss: 1.5341 | Avg Accuracy: 64.16 | Model Sparsity: 0.9424\n",
      "Avg Perplexity: 5.666\n",
      "\n"
     ]
    },
    {
     "name": "stderr",
     "output_type": "stream",
     "text": [
      "                                                                                                     \r"
     ]
    },
    {
     "name": "stdout",
     "output_type": "stream",
     "text": [
      "Recovery epoch [10/10]: Avg Loss: 1.5318 | Avg Accuracy: 64.12 | Model Sparsity: 0.9424\n",
      "Avg Perplexity: 5.728\n",
      "\n"
     ]
    },
    {
     "name": "stderr",
     "output_type": "stream",
     "text": [
      "Training Epoch [5/5]:   0%|          | 0/71 [00:00<?, ?it/s]"
     ]
    },
    {
     "name": "stdout",
     "output_type": "stream",
     "text": [
      "\n",
      "[Pruner] Cubic Sparsity ratio increased to 0.950.\n",
      "\n"
     ]
    },
    {
     "name": "stderr",
     "output_type": "stream",
     "text": [
      "                                                                                                 \r"
     ]
    },
    {
     "name": "stdout",
     "output_type": "stream",
     "text": [
      "Recovery epoch [5/10]: Avg Loss: 1.5308 | Avg Accuracy: 64.26 | Model Sparsity: 0.95\n",
      "Avg Perplexity: 5.667\n",
      "\n",
      "[TRAINER] weights saved!\n"
     ]
    },
    {
     "name": "stderr",
     "output_type": "stream",
     "text": [
      "                                                                                                  \r"
     ]
    },
    {
     "name": "stdout",
     "output_type": "stream",
     "text": [
      "Recovery epoch [1/10]: Avg Loss: 1.5314 | Avg Accuracy: 64.30 | Model Sparsity: 0.95\n",
      "Avg Perplexity: 5.613\n",
      "\n",
      "[TRAINER] weights saved!\n"
     ]
    },
    {
     "name": "stderr",
     "output_type": "stream",
     "text": [
      "                                                                                                  \r"
     ]
    },
    {
     "name": "stdout",
     "output_type": "stream",
     "text": [
      "Recovery epoch [2/10]: Avg Loss: 1.5328 | Avg Accuracy: 64.10 | Model Sparsity: 0.95\n",
      "Avg Perplexity: 5.588\n",
      "\n"
     ]
    },
    {
     "name": "stderr",
     "output_type": "stream",
     "text": [
      "                                                                                                  \r"
     ]
    },
    {
     "name": "stdout",
     "output_type": "stream",
     "text": [
      "Recovery epoch [3/10]: Avg Loss: 1.5289 | Avg Accuracy: 63.77 | Model Sparsity: 0.95\n",
      "Avg Perplexity: 5.662\n",
      "\n"
     ]
    },
    {
     "name": "stderr",
     "output_type": "stream",
     "text": [
      "                                                                                                  \r"
     ]
    },
    {
     "name": "stdout",
     "output_type": "stream",
     "text": [
      "Recovery epoch [4/10]: Avg Loss: 1.5214 | Avg Accuracy: 64.45 | Model Sparsity: 0.95\n",
      "Avg Perplexity: 5.572\n",
      "\n",
      "[TRAINER] weights saved!\n"
     ]
    },
    {
     "name": "stderr",
     "output_type": "stream",
     "text": [
      "                                                                                                  \r"
     ]
    },
    {
     "name": "stdout",
     "output_type": "stream",
     "text": [
      "Recovery epoch [5/10]: Avg Loss: 1.5215 | Avg Accuracy: 63.96 | Model Sparsity: 0.95\n",
      "Avg Perplexity: 5.702\n",
      "\n"
     ]
    },
    {
     "name": "stderr",
     "output_type": "stream",
     "text": [
      "                                                                                                  \r"
     ]
    },
    {
     "name": "stdout",
     "output_type": "stream",
     "text": [
      "Recovery epoch [6/10]: Avg Loss: 1.5248 | Avg Accuracy: 64.34 | Model Sparsity: 0.95\n",
      "Avg Perplexity: 5.619\n",
      "\n"
     ]
    },
    {
     "name": "stderr",
     "output_type": "stream",
     "text": [
      "                                                                                                  \r"
     ]
    },
    {
     "name": "stdout",
     "output_type": "stream",
     "text": [
      "Recovery epoch [7/10]: Avg Loss: 1.5204 | Avg Accuracy: 64.09 | Model Sparsity: 0.95\n",
      "Avg Perplexity: 5.650\n",
      "\n"
     ]
    },
    {
     "name": "stderr",
     "output_type": "stream",
     "text": [
      "                                                                                                  \r"
     ]
    },
    {
     "name": "stdout",
     "output_type": "stream",
     "text": [
      "Recovery epoch [8/10]: Avg Loss: 1.5291 | Avg Accuracy: 64.12 | Model Sparsity: 0.95\n",
      "Avg Perplexity: 5.668\n",
      "\n"
     ]
    },
    {
     "name": "stderr",
     "output_type": "stream",
     "text": [
      "                                                                                                  \r"
     ]
    },
    {
     "name": "stdout",
     "output_type": "stream",
     "text": [
      "Recovery epoch [9/10]: Avg Loss: 1.5275 | Avg Accuracy: 63.55 | Model Sparsity: 0.95\n",
      "Avg Perplexity: 5.806\n",
      "\n"
     ]
    },
    {
     "name": "stderr",
     "output_type": "stream",
     "text": [
      "                                                                                                   \r"
     ]
    },
    {
     "name": "stdout",
     "output_type": "stream",
     "text": [
      "Recovery epoch [10/10]: Avg Loss: 1.5330 | Avg Accuracy: 64.33 | Model Sparsity: 0.95\n",
      "Avg Perplexity: 5.674\n",
      "\n",
      "[TRAINER] Loading weights: ./research/distilbert-base-uncased/wikitext2/distilbert-base-uncased_wikitext2_snip_pruning_0.95_pruning.pt\n",
      "[TRAINER] Weights loaded successfully\n",
      "[TRAINER] Model Sparsity: 0.95\n"
     ]
    },
    {
     "name": "stderr",
     "output_type": "stream",
     "text": [
      "                                                         "
     ]
    },
    {
     "name": "stdout",
     "output_type": "stream",
     "text": [
      "\n",
      "============================================================\n",
      "TRAINING STATISTICS SUMMARY\n",
      "============================================================\n",
      "\n",
      "Performance Metrics:\n",
      "------------------------------\n",
      "  Accuracy:     64.52%\n",
      "  Perplexity:   5.533\n",
      "\n",
      "Model Information:\n",
      "------------------------------\n",
      "  Total Parameters:     66,985,530\n",
      "  Trainable Parameters: 66,985,530\n",
      "  Model Sparsity:       0.9500 (95.00%)\n",
      "\n",
      "Training Configuration:\n",
      "------------------------------\n",
      "  Model:                distilbert-base-uncased\n",
      "  Task:                 wikitext2\n",
      "  Learning Type:        pruning\n",
      "  Batch Size:           64\n",
      "  Learning Rate:        2e-05\n",
      "  Optimizer:            adamw\n",
      "  Epochs:               5\n",
      "\n",
      "Pruning Configuration:\n",
      "------------------------------\n",
      "  Pruning Type:         snip_pruning\n",
      "  Target Sparsity:      0.95\n",
      "  Sparsity Scheduler:   cubic\n",
      "  Recovery Epochs:      10\n",
      "\n",
      "System Information:\n",
      "------------------------------\n",
      "  Device:               cuda\n",
      "  Mixed Precision:      True\n",
      "  Workers:              24\n",
      "\n",
      "============================================================\n"
     ]
    },
    {
     "name": "stderr",
     "output_type": "stream",
     "text": [
      "\r"
     ]
    }
   ],
   "source": [
    "# Initializing finetuned weights path\n",
    "finetuned_weights = f\"./research/{MODEL_NAME}/{MODEL_TASK}/{MODEL_NAME}_{MODEL_TASK}_baseline.pt\"\n",
    "training_args = TrainingArguments(\n",
    "    model_name=MODEL_NAME,\n",
    "    model_task=MODEL_TASK,\n",
    "    batch_size=BATCH_SIZE_LLM,\n",
    "    optimizer_type_and_lr=('adamw', 2e-5),\n",
    "    pruning_type=\"snip_pruning\",\n",
    "    target_sparsity=TARGET_SPARSITY_LOW,\n",
    "    sparsity_scheduler='cubic',\n",
    "    finetuned_weights=finetuned_weights,\n",
    "    learning_type=\"pruning\",\n",
    "    db=False,\n",
    ")\n",
    "trainer = Trainer(training_args)\n",
    "if TRAIN:\n",
    "    trainer.train()\n",
    "\n",
    "metrics = trainer.evaluate()\n",
    "print_statistics(metrics, trainer)"
   ]
  },
  {
   "cell_type": "code",
   "execution_count": 26,
   "metadata": {
    "application/vnd.databricks.v1+cell": {
     "cellMetadata": {
      "byteLimit": 2048000,
      "rowLimit": 10000
     },
     "inputWidgets": {},
     "nuid": "d511df92-bbae-4f32-88be-368dab9b0d5c",
     "showTitle": false,
     "tableResultSettingsMap": {},
     "title": ""
    }
   },
   "outputs": [
    {
     "name": "stdout",
     "output_type": "stream",
     "text": [
      "[TRAINER] Image size: None\n",
      "[TRAINER] Initialized models\n",
      "[TRAINER] Loading weights: ./research/distilbert-base-uncased/wikitext2/distilbert-base-uncased_wikitext2_baseline.pt\n",
      "[TRAINER] Weights loaded\n",
      "[TRAINER] Optimizer type w/ learning rate: (adamw, 2e-05)\n",
      "[TRAINER] Data Initialized for model task: wikitext2\n",
      "[TRAINER] Batch size: 64\n",
      "[TRAINER] Number of dataloders: 3\n",
      "[TRAINER] No scheduler initialized\n",
      "[TRAINER] Pruning initialized\n",
      "[TRAINER] Pruning type: snip_pruning\n",
      "[TRAINER] Target sparsity: 0.97\n",
      "[TRAINER] Sparsity scheduler: cubic\n",
      "[TRAINER] Pruning epochs: 5\n",
      "[TRAINER] Current sparsity: 0.0000\n",
      "[TRAINER] Saving model to: ./research/distilbert-base-uncased/wikitext2/distilbert-base-uncased_wikitext2_snip_pruning_0.97_pruning.pt\n",
      "[LOGGER] Log file created at location: ./log_records/distilbert-base-uncased/wikitext2/pruning/snip_pruning/0.97/run_2.log\n",
      "[TRAINER] Training with mixed precision enabled\n",
      "[TRAINER] Initial model sparsity: 0.0\n"
     ]
    },
    {
     "name": "stderr",
     "output_type": "stream",
     "text": [
      "Training Epoch [1/5]:   0%|          | 0/71 [00:00<?, ?it/s]"
     ]
    },
    {
     "name": "stdout",
     "output_type": "stream",
     "text": [
      "\n",
      "[Pruner] Cubic Sparsity ratio increased to 0.473.\n",
      "\n"
     ]
    },
    {
     "name": "stderr",
     "output_type": "stream",
     "text": [
      "                                                                                                   \r"
     ]
    },
    {
     "name": "stdout",
     "output_type": "stream",
     "text": [
      "Recovery epoch [1/10]: Avg Loss: 1.5746 | Avg Accuracy: 63.63 | Model Sparsity: 0.4734\n",
      "Avg Perplexity: 5.860\n",
      "\n",
      "[TRAINER] weights saved!\n"
     ]
    },
    {
     "name": "stderr",
     "output_type": "stream",
     "text": [
      "                                                                                                    \r"
     ]
    },
    {
     "name": "stdout",
     "output_type": "stream",
     "text": [
      "Recovery epoch [1/10]: Avg Loss: 1.5677 | Avg Accuracy: 64.15 | Model Sparsity: 0.4734\n",
      "Avg Perplexity: 5.687\n",
      "\n",
      "[TRAINER] weights saved!\n"
     ]
    },
    {
     "name": "stderr",
     "output_type": "stream",
     "text": [
      "                                                                                                    \r"
     ]
    },
    {
     "name": "stdout",
     "output_type": "stream",
     "text": [
      "Recovery epoch [2/10]: Avg Loss: 1.5651 | Avg Accuracy: 64.18 | Model Sparsity: 0.4734\n",
      "Avg Perplexity: 5.594\n",
      "\n",
      "[TRAINER] weights saved!\n"
     ]
    },
    {
     "name": "stderr",
     "output_type": "stream",
     "text": [
      "                                                                                                    \r"
     ]
    },
    {
     "name": "stdout",
     "output_type": "stream",
     "text": [
      "Recovery epoch [3/10]: Avg Loss: 1.5572 | Avg Accuracy: 64.32 | Model Sparsity: 0.4734\n",
      "Avg Perplexity: 5.519\n",
      "\n",
      "[TRAINER] weights saved!\n"
     ]
    },
    {
     "name": "stderr",
     "output_type": "stream",
     "text": [
      "                                                                                                    \r"
     ]
    },
    {
     "name": "stdout",
     "output_type": "stream",
     "text": [
      "Recovery epoch [4/10]: Avg Loss: 1.5632 | Avg Accuracy: 64.30 | Model Sparsity: 0.4734\n",
      "Avg Perplexity: 5.680\n",
      "\n"
     ]
    },
    {
     "name": "stderr",
     "output_type": "stream",
     "text": [
      "                                                                                                    \r"
     ]
    },
    {
     "name": "stdout",
     "output_type": "stream",
     "text": [
      "Recovery epoch [5/10]: Avg Loss: 1.5587 | Avg Accuracy: 63.78 | Model Sparsity: 0.4734\n",
      "Avg Perplexity: 5.880\n",
      "\n"
     ]
    },
    {
     "name": "stderr",
     "output_type": "stream",
     "text": [
      "                                                                                                    \r"
     ]
    },
    {
     "name": "stdout",
     "output_type": "stream",
     "text": [
      "Recovery epoch [6/10]: Avg Loss: 1.5630 | Avg Accuracy: 64.07 | Model Sparsity: 0.4734\n",
      "Avg Perplexity: 5.725\n",
      "\n"
     ]
    },
    {
     "name": "stderr",
     "output_type": "stream",
     "text": [
      "                                                                                                    \r"
     ]
    },
    {
     "name": "stdout",
     "output_type": "stream",
     "text": [
      "Recovery epoch [7/10]: Avg Loss: 1.5641 | Avg Accuracy: 64.42 | Model Sparsity: 0.4734\n",
      "Avg Perplexity: 5.594\n",
      "\n",
      "[TRAINER] weights saved!\n"
     ]
    },
    {
     "name": "stderr",
     "output_type": "stream",
     "text": [
      "                                                                                                    \r"
     ]
    },
    {
     "name": "stdout",
     "output_type": "stream",
     "text": [
      "Recovery epoch [8/10]: Avg Loss: 1.5537 | Avg Accuracy: 64.44 | Model Sparsity: 0.4734\n",
      "Avg Perplexity: 5.546\n",
      "\n",
      "[TRAINER] weights saved!\n"
     ]
    },
    {
     "name": "stderr",
     "output_type": "stream",
     "text": [
      "                                                                                                    \r"
     ]
    },
    {
     "name": "stdout",
     "output_type": "stream",
     "text": [
      "Recovery epoch [9/10]: Avg Loss: 1.5659 | Avg Accuracy: 63.98 | Model Sparsity: 0.4734\n",
      "Avg Perplexity: 5.637\n",
      "\n"
     ]
    },
    {
     "name": "stderr",
     "output_type": "stream",
     "text": [
      "                                                                                                     \r"
     ]
    },
    {
     "name": "stdout",
     "output_type": "stream",
     "text": [
      "Recovery epoch [10/10]: Avg Loss: 1.5540 | Avg Accuracy: 63.97 | Model Sparsity: 0.4734\n",
      "Avg Perplexity: 5.673\n",
      "\n"
     ]
    },
    {
     "name": "stderr",
     "output_type": "stream",
     "text": [
      "Training Epoch [2/5]:   0%|          | 0/71 [00:00<?, ?it/s]"
     ]
    },
    {
     "name": "stdout",
     "output_type": "stream",
     "text": [
      "\n",
      "[Pruner] Cubic Sparsity ratio increased to 0.760.\n",
      "\n"
     ]
    },
    {
     "name": "stderr",
     "output_type": "stream",
     "text": [
      "                                                                                                   \r"
     ]
    },
    {
     "name": "stdout",
     "output_type": "stream",
     "text": [
      "Recovery epoch [2/10]: Avg Loss: 1.5588 | Avg Accuracy: 64.28 | Model Sparsity: 0.7605\n",
      "Avg Perplexity: 5.661\n",
      "\n",
      "[TRAINER] weights saved!\n"
     ]
    },
    {
     "name": "stderr",
     "output_type": "stream",
     "text": [
      "                                                                                                    \r"
     ]
    },
    {
     "name": "stdout",
     "output_type": "stream",
     "text": [
      "Recovery epoch [1/10]: Avg Loss: 1.5583 | Avg Accuracy: 64.47 | Model Sparsity: 0.7605\n",
      "Avg Perplexity: 5.667\n",
      "\n",
      "[TRAINER] weights saved!\n"
     ]
    },
    {
     "name": "stderr",
     "output_type": "stream",
     "text": [
      "                                                                                                    \r"
     ]
    },
    {
     "name": "stdout",
     "output_type": "stream",
     "text": [
      "Recovery epoch [2/10]: Avg Loss: 1.5550 | Avg Accuracy: 64.40 | Model Sparsity: 0.7605\n",
      "Avg Perplexity: 5.558\n",
      "\n"
     ]
    },
    {
     "name": "stderr",
     "output_type": "stream",
     "text": [
      "                                                                                                    \r"
     ]
    },
    {
     "name": "stdout",
     "output_type": "stream",
     "text": [
      "Recovery epoch [3/10]: Avg Loss: 1.5553 | Avg Accuracy: 64.49 | Model Sparsity: 0.7605\n",
      "Avg Perplexity: 5.566\n",
      "\n",
      "[TRAINER] weights saved!\n"
     ]
    },
    {
     "name": "stderr",
     "output_type": "stream",
     "text": [
      "                                                                                                    \r"
     ]
    },
    {
     "name": "stdout",
     "output_type": "stream",
     "text": [
      "Recovery epoch [4/10]: Avg Loss: 1.5543 | Avg Accuracy: 64.03 | Model Sparsity: 0.7605\n",
      "Avg Perplexity: 5.707\n",
      "\n"
     ]
    },
    {
     "name": "stderr",
     "output_type": "stream",
     "text": [
      "                                                                                                    \r"
     ]
    },
    {
     "name": "stdout",
     "output_type": "stream",
     "text": [
      "Recovery epoch [5/10]: Avg Loss: 1.5500 | Avg Accuracy: 64.14 | Model Sparsity: 0.7605\n",
      "Avg Perplexity: 5.567\n",
      "\n"
     ]
    },
    {
     "name": "stderr",
     "output_type": "stream",
     "text": [
      "                                                                                                    \r"
     ]
    },
    {
     "name": "stdout",
     "output_type": "stream",
     "text": [
      "Recovery epoch [6/10]: Avg Loss: 1.5557 | Avg Accuracy: 63.98 | Model Sparsity: 0.7605\n",
      "Avg Perplexity: 5.712\n",
      "\n"
     ]
    },
    {
     "name": "stderr",
     "output_type": "stream",
     "text": [
      "                                                                                                    \r"
     ]
    },
    {
     "name": "stdout",
     "output_type": "stream",
     "text": [
      "Recovery epoch [7/10]: Avg Loss: 1.5502 | Avg Accuracy: 64.13 | Model Sparsity: 0.7605\n",
      "Avg Perplexity: 5.616\n",
      "\n"
     ]
    },
    {
     "name": "stderr",
     "output_type": "stream",
     "text": [
      "                                                                                                    \r"
     ]
    },
    {
     "name": "stdout",
     "output_type": "stream",
     "text": [
      "Recovery epoch [8/10]: Avg Loss: 1.5479 | Avg Accuracy: 64.06 | Model Sparsity: 0.7605\n",
      "Avg Perplexity: 5.729\n",
      "\n"
     ]
    },
    {
     "name": "stderr",
     "output_type": "stream",
     "text": [
      "                                                                                                    \r"
     ]
    },
    {
     "name": "stdout",
     "output_type": "stream",
     "text": [
      "Recovery epoch [9/10]: Avg Loss: 1.5528 | Avg Accuracy: 63.74 | Model Sparsity: 0.7605\n",
      "Avg Perplexity: 5.691\n",
      "\n"
     ]
    },
    {
     "name": "stderr",
     "output_type": "stream",
     "text": [
      "                                                                                                     \r"
     ]
    },
    {
     "name": "stdout",
     "output_type": "stream",
     "text": [
      "Recovery epoch [10/10]: Avg Loss: 1.5489 | Avg Accuracy: 64.36 | Model Sparsity: 0.7605\n",
      "Avg Perplexity: 5.671\n",
      "\n"
     ]
    },
    {
     "name": "stderr",
     "output_type": "stream",
     "text": [
      "Training Epoch [3/5]:   0%|          | 0/71 [00:00<?, ?it/s]"
     ]
    },
    {
     "name": "stdout",
     "output_type": "stream",
     "text": [
      "\n",
      "[Pruner] Cubic Sparsity ratio increased to 0.908.\n",
      "\n"
     ]
    },
    {
     "name": "stderr",
     "output_type": "stream",
     "text": [
      "                                                                                                   \r"
     ]
    },
    {
     "name": "stdout",
     "output_type": "stream",
     "text": [
      "Recovery epoch [3/10]: Avg Loss: 1.5519 | Avg Accuracy: 64.24 | Model Sparsity: 0.9079\n",
      "Avg Perplexity: 5.600\n",
      "\n",
      "[TRAINER] weights saved!\n"
     ]
    },
    {
     "name": "stderr",
     "output_type": "stream",
     "text": [
      "                                                                                                    \r"
     ]
    },
    {
     "name": "stdout",
     "output_type": "stream",
     "text": [
      "Recovery epoch [1/10]: Avg Loss: 1.5541 | Avg Accuracy: 63.95 | Model Sparsity: 0.9079\n",
      "Avg Perplexity: 5.693\n",
      "\n"
     ]
    },
    {
     "name": "stderr",
     "output_type": "stream",
     "text": [
      "                                                                                                    \r"
     ]
    },
    {
     "name": "stdout",
     "output_type": "stream",
     "text": [
      "Recovery epoch [2/10]: Avg Loss: 1.5514 | Avg Accuracy: 64.32 | Model Sparsity: 0.9079\n",
      "Avg Perplexity: 5.670\n",
      "\n",
      "[TRAINER] weights saved!\n"
     ]
    },
    {
     "name": "stderr",
     "output_type": "stream",
     "text": [
      "                                                                                                    \r"
     ]
    },
    {
     "name": "stdout",
     "output_type": "stream",
     "text": [
      "Recovery epoch [3/10]: Avg Loss: 1.5507 | Avg Accuracy: 64.40 | Model Sparsity: 0.9079\n",
      "Avg Perplexity: 5.658\n",
      "\n",
      "[TRAINER] weights saved!\n"
     ]
    },
    {
     "name": "stderr",
     "output_type": "stream",
     "text": [
      "                                                                                                    \r"
     ]
    },
    {
     "name": "stdout",
     "output_type": "stream",
     "text": [
      "Recovery epoch [4/10]: Avg Loss: 1.5426 | Avg Accuracy: 64.11 | Model Sparsity: 0.9079\n",
      "Avg Perplexity: 5.685\n",
      "\n"
     ]
    },
    {
     "name": "stderr",
     "output_type": "stream",
     "text": [
      "                                                                                                    \r"
     ]
    },
    {
     "name": "stdout",
     "output_type": "stream",
     "text": [
      "Recovery epoch [5/10]: Avg Loss: 1.5407 | Avg Accuracy: 63.85 | Model Sparsity: 0.9079\n",
      "Avg Perplexity: 5.722\n",
      "\n"
     ]
    },
    {
     "name": "stderr",
     "output_type": "stream",
     "text": [
      "                                                                                                    \r"
     ]
    },
    {
     "name": "stdout",
     "output_type": "stream",
     "text": [
      "Recovery epoch [6/10]: Avg Loss: 1.5486 | Avg Accuracy: 64.67 | Model Sparsity: 0.9079\n",
      "Avg Perplexity: 5.623\n",
      "\n",
      "[TRAINER] weights saved!\n"
     ]
    },
    {
     "name": "stderr",
     "output_type": "stream",
     "text": [
      "                                                                                                    \r"
     ]
    },
    {
     "name": "stdout",
     "output_type": "stream",
     "text": [
      "Recovery epoch [7/10]: Avg Loss: 1.5460 | Avg Accuracy: 64.51 | Model Sparsity: 0.9079\n",
      "Avg Perplexity: 5.634\n",
      "\n"
     ]
    },
    {
     "name": "stderr",
     "output_type": "stream",
     "text": [
      "                                                                                                    \r"
     ]
    },
    {
     "name": "stdout",
     "output_type": "stream",
     "text": [
      "Recovery epoch [8/10]: Avg Loss: 1.5346 | Avg Accuracy: 64.28 | Model Sparsity: 0.9079\n",
      "Avg Perplexity: 5.655\n",
      "\n"
     ]
    },
    {
     "name": "stderr",
     "output_type": "stream",
     "text": [
      "                                                                                                    \r"
     ]
    },
    {
     "name": "stdout",
     "output_type": "stream",
     "text": [
      "Recovery epoch [9/10]: Avg Loss: 1.5422 | Avg Accuracy: 64.15 | Model Sparsity: 0.9079\n",
      "Avg Perplexity: 5.721\n",
      "\n"
     ]
    },
    {
     "name": "stderr",
     "output_type": "stream",
     "text": [
      "                                                                                                     \r"
     ]
    },
    {
     "name": "stdout",
     "output_type": "stream",
     "text": [
      "Recovery epoch [10/10]: Avg Loss: 1.5430 | Avg Accuracy: 64.46 | Model Sparsity: 0.9079\n",
      "Avg Perplexity: 5.513\n",
      "\n"
     ]
    },
    {
     "name": "stderr",
     "output_type": "stream",
     "text": [
      "Training Epoch [4/5]:   0%|          | 0/71 [00:00<?, ?it/s]"
     ]
    },
    {
     "name": "stdout",
     "output_type": "stream",
     "text": [
      "\n",
      "[Pruner] Cubic Sparsity ratio increased to 0.962.\n",
      "\n"
     ]
    },
    {
     "name": "stderr",
     "output_type": "stream",
     "text": [
      "                                                                                                   \r"
     ]
    },
    {
     "name": "stdout",
     "output_type": "stream",
     "text": [
      "Recovery epoch [4/10]: Avg Loss: 1.5403 | Avg Accuracy: 64.46 | Model Sparsity: 0.9622\n",
      "Avg Perplexity: 5.610\n",
      "\n",
      "[TRAINER] weights saved!\n"
     ]
    },
    {
     "name": "stderr",
     "output_type": "stream",
     "text": [
      "                                                                                                    \r"
     ]
    },
    {
     "name": "stdout",
     "output_type": "stream",
     "text": [
      "Recovery epoch [1/10]: Avg Loss: 1.5393 | Avg Accuracy: 64.36 | Model Sparsity: 0.9622\n",
      "Avg Perplexity: 5.543\n",
      "\n"
     ]
    },
    {
     "name": "stderr",
     "output_type": "stream",
     "text": [
      "                                                                                                    \r"
     ]
    },
    {
     "name": "stdout",
     "output_type": "stream",
     "text": [
      "Recovery epoch [2/10]: Avg Loss: 1.5346 | Avg Accuracy: 64.65 | Model Sparsity: 0.9622\n",
      "Avg Perplexity: 5.562\n",
      "\n",
      "[TRAINER] weights saved!\n"
     ]
    },
    {
     "name": "stderr",
     "output_type": "stream",
     "text": [
      "                                                                                                    \r"
     ]
    },
    {
     "name": "stdout",
     "output_type": "stream",
     "text": [
      "Recovery epoch [3/10]: Avg Loss: 1.5341 | Avg Accuracy: 64.36 | Model Sparsity: 0.9622\n",
      "Avg Perplexity: 5.638\n",
      "\n"
     ]
    },
    {
     "name": "stderr",
     "output_type": "stream",
     "text": [
      "                                                                                                    \r"
     ]
    },
    {
     "name": "stdout",
     "output_type": "stream",
     "text": [
      "Recovery epoch [4/10]: Avg Loss: 1.5360 | Avg Accuracy: 63.78 | Model Sparsity: 0.9622\n",
      "Avg Perplexity: 5.761\n",
      "\n"
     ]
    },
    {
     "name": "stderr",
     "output_type": "stream",
     "text": [
      "                                                                                                    \r"
     ]
    },
    {
     "name": "stdout",
     "output_type": "stream",
     "text": [
      "Recovery epoch [5/10]: Avg Loss: 1.5334 | Avg Accuracy: 64.03 | Model Sparsity: 0.9622\n",
      "Avg Perplexity: 5.624\n",
      "\n"
     ]
    },
    {
     "name": "stderr",
     "output_type": "stream",
     "text": [
      "                                                                                                    \r"
     ]
    },
    {
     "name": "stdout",
     "output_type": "stream",
     "text": [
      "Recovery epoch [6/10]: Avg Loss: 1.5369 | Avg Accuracy: 64.36 | Model Sparsity: 0.9622\n",
      "Avg Perplexity: 5.578\n",
      "\n"
     ]
    },
    {
     "name": "stderr",
     "output_type": "stream",
     "text": [
      "                                                                                                    \r"
     ]
    },
    {
     "name": "stdout",
     "output_type": "stream",
     "text": [
      "Recovery epoch [7/10]: Avg Loss: 1.5344 | Avg Accuracy: 64.14 | Model Sparsity: 0.9622\n",
      "Avg Perplexity: 5.635\n",
      "\n"
     ]
    },
    {
     "name": "stderr",
     "output_type": "stream",
     "text": [
      "                                                                                                    \r"
     ]
    },
    {
     "name": "stdout",
     "output_type": "stream",
     "text": [
      "Recovery epoch [8/10]: Avg Loss: 1.5317 | Avg Accuracy: 64.09 | Model Sparsity: 0.9622\n",
      "Avg Perplexity: 5.612\n",
      "\n"
     ]
    },
    {
     "name": "stderr",
     "output_type": "stream",
     "text": [
      "                                                                                                    \r"
     ]
    },
    {
     "name": "stdout",
     "output_type": "stream",
     "text": [
      "Recovery epoch [9/10]: Avg Loss: 1.5362 | Avg Accuracy: 64.63 | Model Sparsity: 0.9622\n",
      "Avg Perplexity: 5.579\n",
      "\n"
     ]
    },
    {
     "name": "stderr",
     "output_type": "stream",
     "text": [
      "                                                                                                     \r"
     ]
    },
    {
     "name": "stdout",
     "output_type": "stream",
     "text": [
      "Recovery epoch [10/10]: Avg Loss: 1.5393 | Avg Accuracy: 64.26 | Model Sparsity: 0.9622\n",
      "Avg Perplexity: 5.644\n",
      "\n"
     ]
    },
    {
     "name": "stderr",
     "output_type": "stream",
     "text": [
      "Training Epoch [5/5]:   0%|          | 0/71 [00:00<?, ?it/s]"
     ]
    },
    {
     "name": "stdout",
     "output_type": "stream",
     "text": [
      "\n",
      "[Pruner] Cubic Sparsity ratio increased to 0.970.\n",
      "\n"
     ]
    },
    {
     "name": "stderr",
     "output_type": "stream",
     "text": [
      "                                                                                                 \r"
     ]
    },
    {
     "name": "stdout",
     "output_type": "stream",
     "text": [
      "Recovery epoch [5/10]: Avg Loss: 1.5309 | Avg Accuracy: 64.17 | Model Sparsity: 0.97\n",
      "Avg Perplexity: 5.678\n",
      "\n",
      "[TRAINER] weights saved!\n"
     ]
    },
    {
     "name": "stderr",
     "output_type": "stream",
     "text": [
      "                                                                                                  \r"
     ]
    },
    {
     "name": "stdout",
     "output_type": "stream",
     "text": [
      "Recovery epoch [1/10]: Avg Loss: 1.5326 | Avg Accuracy: 64.40 | Model Sparsity: 0.97\n",
      "Avg Perplexity: 5.632\n",
      "\n",
      "[TRAINER] weights saved!\n"
     ]
    },
    {
     "name": "stderr",
     "output_type": "stream",
     "text": [
      "                                                                                                  \r"
     ]
    },
    {
     "name": "stdout",
     "output_type": "stream",
     "text": [
      "Recovery epoch [2/10]: Avg Loss: 1.5264 | Avg Accuracy: 63.85 | Model Sparsity: 0.97\n",
      "Avg Perplexity: 5.645\n",
      "\n"
     ]
    },
    {
     "name": "stderr",
     "output_type": "stream",
     "text": [
      "                                                                                                  \r"
     ]
    },
    {
     "name": "stdout",
     "output_type": "stream",
     "text": [
      "Recovery epoch [3/10]: Avg Loss: 1.5259 | Avg Accuracy: 64.49 | Model Sparsity: 0.97\n",
      "Avg Perplexity: 5.542\n",
      "\n",
      "[TRAINER] weights saved!\n"
     ]
    },
    {
     "name": "stderr",
     "output_type": "stream",
     "text": [
      "                                                                                                  \r"
     ]
    },
    {
     "name": "stdout",
     "output_type": "stream",
     "text": [
      "Recovery epoch [4/10]: Avg Loss: 1.5281 | Avg Accuracy: 63.79 | Model Sparsity: 0.97\n",
      "Avg Perplexity: 5.780\n",
      "\n"
     ]
    },
    {
     "name": "stderr",
     "output_type": "stream",
     "text": [
      "                                                                                                  \r"
     ]
    },
    {
     "name": "stdout",
     "output_type": "stream",
     "text": [
      "Recovery epoch [5/10]: Avg Loss: 1.5312 | Avg Accuracy: 64.00 | Model Sparsity: 0.97\n",
      "Avg Perplexity: 5.727\n",
      "\n"
     ]
    },
    {
     "name": "stderr",
     "output_type": "stream",
     "text": [
      "                                                                                                  \r"
     ]
    },
    {
     "name": "stdout",
     "output_type": "stream",
     "text": [
      "Recovery epoch [6/10]: Avg Loss: 1.5296 | Avg Accuracy: 64.07 | Model Sparsity: 0.97\n",
      "Avg Perplexity: 5.686\n",
      "\n"
     ]
    },
    {
     "name": "stderr",
     "output_type": "stream",
     "text": [
      "                                                                                                  \r"
     ]
    },
    {
     "name": "stdout",
     "output_type": "stream",
     "text": [
      "Recovery epoch [7/10]: Avg Loss: 1.5226 | Avg Accuracy: 64.46 | Model Sparsity: 0.97\n",
      "Avg Perplexity: 5.542\n",
      "\n"
     ]
    },
    {
     "name": "stderr",
     "output_type": "stream",
     "text": [
      "                                                                                                  \r"
     ]
    },
    {
     "name": "stdout",
     "output_type": "stream",
     "text": [
      "Recovery epoch [8/10]: Avg Loss: 1.5289 | Avg Accuracy: 64.27 | Model Sparsity: 0.97\n",
      "Avg Perplexity: 5.612\n",
      "\n"
     ]
    },
    {
     "name": "stderr",
     "output_type": "stream",
     "text": [
      "                                                                                                  \r"
     ]
    },
    {
     "name": "stdout",
     "output_type": "stream",
     "text": [
      "Recovery epoch [9/10]: Avg Loss: 1.5189 | Avg Accuracy: 64.33 | Model Sparsity: 0.97\n",
      "Avg Perplexity: 5.601\n",
      "\n"
     ]
    },
    {
     "name": "stderr",
     "output_type": "stream",
     "text": [
      "                                                                                                   \r"
     ]
    },
    {
     "name": "stdout",
     "output_type": "stream",
     "text": [
      "Recovery epoch [10/10]: Avg Loss: 1.5367 | Avg Accuracy: 63.69 | Model Sparsity: 0.97\n",
      "Avg Perplexity: 5.740\n",
      "\n",
      "[TRAINER] Loading weights: ./research/distilbert-base-uncased/wikitext2/distilbert-base-uncased_wikitext2_snip_pruning_0.97_pruning.pt\n",
      "[TRAINER] Weights loaded successfully\n",
      "[TRAINER] Model Sparsity: 0.97\n"
     ]
    },
    {
     "name": "stderr",
     "output_type": "stream",
     "text": [
      "                                                         "
     ]
    },
    {
     "name": "stdout",
     "output_type": "stream",
     "text": [
      "\n",
      "============================================================\n",
      "TRAINING STATISTICS SUMMARY\n",
      "============================================================\n",
      "\n",
      "Performance Metrics:\n",
      "------------------------------\n",
      "  Accuracy:     64.76%\n",
      "  Perplexity:   5.579\n",
      "\n",
      "Model Information:\n",
      "------------------------------\n",
      "  Total Parameters:     66,985,530\n",
      "  Trainable Parameters: 66,985,530\n",
      "  Model Sparsity:       0.9700 (97.00%)\n",
      "\n",
      "Training Configuration:\n",
      "------------------------------\n",
      "  Model:                distilbert-base-uncased\n",
      "  Task:                 wikitext2\n",
      "  Learning Type:        pruning\n",
      "  Batch Size:           64\n",
      "  Learning Rate:        2e-05\n",
      "  Optimizer:            adamw\n",
      "  Epochs:               5\n",
      "\n",
      "Pruning Configuration:\n",
      "------------------------------\n",
      "  Pruning Type:         snip_pruning\n",
      "  Target Sparsity:      0.97\n",
      "  Sparsity Scheduler:   cubic\n",
      "  Recovery Epochs:      10\n",
      "\n",
      "System Information:\n",
      "------------------------------\n",
      "  Device:               cuda\n",
      "  Mixed Precision:      True\n",
      "  Workers:              24\n",
      "\n",
      "============================================================\n"
     ]
    },
    {
     "name": "stderr",
     "output_type": "stream",
     "text": [
      "\r"
     ]
    }
   ],
   "source": [
    "# Initializing finetuned weights path\n",
    "finetuned_weights = f\"./research/{MODEL_NAME}/{MODEL_TASK}/{MODEL_NAME}_{MODEL_TASK}_baseline.pt\"\n",
    "training_args = TrainingArguments(\n",
    "    model_name=MODEL_NAME,\n",
    "    model_task=MODEL_TASK,\n",
    "    batch_size=BATCH_SIZE_LLM,\n",
    "    optimizer_type_and_lr=('adamw', 2e-5),\n",
    "    pruning_type=\"snip_pruning\",\n",
    "    target_sparsity=TARGET_SPARSITY_MID,\n",
    "    sparsity_scheduler='cubic',\n",
    "    finetuned_weights=finetuned_weights,\n",
    "    learning_type=\"pruning\",\n",
    "    db=False,\n",
    ")\n",
    "trainer = Trainer(training_args)\n",
    "if TRAIN:\n",
    "    trainer.train()\n",
    "\n",
    "metrics = trainer.evaluate()\n",
    "print_statistics(metrics, trainer)"
   ]
  },
  {
   "cell_type": "code",
   "execution_count": 27,
   "metadata": {
    "application/vnd.databricks.v1+cell": {
     "cellMetadata": {
      "byteLimit": 2048000,
      "rowLimit": 10000
     },
     "inputWidgets": {},
     "nuid": "44235e91-261e-4573-ba7a-e422171d8e37",
     "showTitle": false,
     "tableResultSettingsMap": {},
     "title": ""
    }
   },
   "outputs": [
    {
     "name": "stdout",
     "output_type": "stream",
     "text": [
      "[TRAINER] Image size: None\n",
      "[TRAINER] Initialized models\n",
      "[TRAINER] Loading weights: ./research/distilbert-base-uncased/wikitext2/distilbert-base-uncased_wikitext2_baseline.pt\n",
      "[TRAINER] Weights loaded\n",
      "[TRAINER] Optimizer type w/ learning rate: (adamw, 2e-05)\n",
      "[TRAINER] Data Initialized for model task: wikitext2\n",
      "[TRAINER] Batch size: 64\n",
      "[TRAINER] Number of dataloders: 3\n",
      "[TRAINER] No scheduler initialized\n",
      "[TRAINER] Pruning initialized\n",
      "[TRAINER] Pruning type: snip_pruning\n",
      "[TRAINER] Target sparsity: 0.99\n",
      "[TRAINER] Sparsity scheduler: cubic\n",
      "[TRAINER] Pruning epochs: 5\n",
      "[TRAINER] Current sparsity: 0.0000\n",
      "[TRAINER] Saving model to: ./research/distilbert-base-uncased/wikitext2/distilbert-base-uncased_wikitext2_snip_pruning_0.99_pruning.pt\n",
      "[LOGGER] Log file created at location: ./log_records/distilbert-base-uncased/wikitext2/pruning/snip_pruning/0.99/run_2.log\n",
      "[TRAINER] Training with mixed precision enabled\n",
      "[TRAINER] Initial model sparsity: 0.0\n"
     ]
    },
    {
     "name": "stderr",
     "output_type": "stream",
     "text": [
      "Training Epoch [1/5]:   0%|          | 0/71 [00:00<?, ?it/s]"
     ]
    },
    {
     "name": "stdout",
     "output_type": "stream",
     "text": [
      "\n",
      "[Pruner] Cubic Sparsity ratio increased to 0.483.\n",
      "\n"
     ]
    },
    {
     "name": "stderr",
     "output_type": "stream",
     "text": [
      "                                                                                                   \r"
     ]
    },
    {
     "name": "stdout",
     "output_type": "stream",
     "text": [
      "Recovery epoch [1/10]: Avg Loss: 1.5648 | Avg Accuracy: 63.60 | Model Sparsity: 0.4831\n",
      "Avg Perplexity: 5.803\n",
      "\n",
      "[TRAINER] weights saved!\n"
     ]
    },
    {
     "name": "stderr",
     "output_type": "stream",
     "text": [
      "                                                                                                    \r"
     ]
    },
    {
     "name": "stdout",
     "output_type": "stream",
     "text": [
      "Recovery epoch [1/10]: Avg Loss: 1.5668 | Avg Accuracy: 64.59 | Model Sparsity: 0.4831\n",
      "Avg Perplexity: 5.585\n",
      "\n",
      "[TRAINER] weights saved!\n"
     ]
    },
    {
     "name": "stderr",
     "output_type": "stream",
     "text": [
      "                                                                                                    \r"
     ]
    },
    {
     "name": "stdout",
     "output_type": "stream",
     "text": [
      "Recovery epoch [2/10]: Avg Loss: 1.5657 | Avg Accuracy: 64.04 | Model Sparsity: 0.4831\n",
      "Avg Perplexity: 5.637\n",
      "\n"
     ]
    },
    {
     "name": "stderr",
     "output_type": "stream",
     "text": [
      "                                                                                                    \r"
     ]
    },
    {
     "name": "stdout",
     "output_type": "stream",
     "text": [
      "Recovery epoch [3/10]: Avg Loss: 1.5740 | Avg Accuracy: 63.88 | Model Sparsity: 0.4831\n",
      "Avg Perplexity: 5.853\n",
      "\n"
     ]
    },
    {
     "name": "stderr",
     "output_type": "stream",
     "text": [
      "                                                                                                    \r"
     ]
    },
    {
     "name": "stdout",
     "output_type": "stream",
     "text": [
      "Recovery epoch [4/10]: Avg Loss: 1.5634 | Avg Accuracy: 64.08 | Model Sparsity: 0.4831\n",
      "Avg Perplexity: 5.739\n",
      "\n"
     ]
    },
    {
     "name": "stderr",
     "output_type": "stream",
     "text": [
      "                                                                                                    \r"
     ]
    },
    {
     "name": "stdout",
     "output_type": "stream",
     "text": [
      "Recovery epoch [5/10]: Avg Loss: 1.5598 | Avg Accuracy: 64.52 | Model Sparsity: 0.4831\n",
      "Avg Perplexity: 5.545\n",
      "\n"
     ]
    },
    {
     "name": "stderr",
     "output_type": "stream",
     "text": [
      "                                                                                                    \r"
     ]
    },
    {
     "name": "stdout",
     "output_type": "stream",
     "text": [
      "Recovery epoch [6/10]: Avg Loss: 1.5667 | Avg Accuracy: 63.79 | Model Sparsity: 0.4831\n",
      "Avg Perplexity: 5.755\n",
      "\n"
     ]
    },
    {
     "name": "stderr",
     "output_type": "stream",
     "text": [
      "                                                                                                    \r"
     ]
    },
    {
     "name": "stdout",
     "output_type": "stream",
     "text": [
      "Recovery epoch [7/10]: Avg Loss: 1.5539 | Avg Accuracy: 64.18 | Model Sparsity: 0.4831\n",
      "Avg Perplexity: 5.701\n",
      "\n"
     ]
    },
    {
     "name": "stderr",
     "output_type": "stream",
     "text": [
      "                                                                                                    \r"
     ]
    },
    {
     "name": "stdout",
     "output_type": "stream",
     "text": [
      "Recovery epoch [8/10]: Avg Loss: 1.5732 | Avg Accuracy: 63.52 | Model Sparsity: 0.4831\n",
      "Avg Perplexity: 5.846\n",
      "\n"
     ]
    },
    {
     "name": "stderr",
     "output_type": "stream",
     "text": [
      "                                                                                                    \r"
     ]
    },
    {
     "name": "stdout",
     "output_type": "stream",
     "text": [
      "Recovery epoch [9/10]: Avg Loss: 1.5652 | Avg Accuracy: 63.59 | Model Sparsity: 0.4831\n",
      "Avg Perplexity: 5.706\n",
      "\n"
     ]
    },
    {
     "name": "stderr",
     "output_type": "stream",
     "text": [
      "                                                                                                     \r"
     ]
    },
    {
     "name": "stdout",
     "output_type": "stream",
     "text": [
      "Recovery epoch [10/10]: Avg Loss: 1.5600 | Avg Accuracy: 64.63 | Model Sparsity: 0.4831\n",
      "Avg Perplexity: 5.489\n",
      "\n",
      "[TRAINER] weights saved!\n"
     ]
    },
    {
     "name": "stderr",
     "output_type": "stream",
     "text": [
      "Training Epoch [2/5]:   0%|          | 0/71 [00:00<?, ?it/s]"
     ]
    },
    {
     "name": "stdout",
     "output_type": "stream",
     "text": [
      "\n",
      "[Pruner] Cubic Sparsity ratio increased to 0.776.\n",
      "\n"
     ]
    },
    {
     "name": "stderr",
     "output_type": "stream",
     "text": [
      "                                                                                                   \r"
     ]
    },
    {
     "name": "stdout",
     "output_type": "stream",
     "text": [
      "Recovery epoch [2/10]: Avg Loss: 1.5604 | Avg Accuracy: 63.96 | Model Sparsity: 0.7762\n",
      "Avg Perplexity: 5.720\n",
      "\n",
      "[TRAINER] weights saved!\n"
     ]
    },
    {
     "name": "stderr",
     "output_type": "stream",
     "text": [
      "                                                                                                    \r"
     ]
    },
    {
     "name": "stdout",
     "output_type": "stream",
     "text": [
      "Recovery epoch [1/10]: Avg Loss: 1.5562 | Avg Accuracy: 64.17 | Model Sparsity: 0.7762\n",
      "Avg Perplexity: 5.661\n",
      "\n",
      "[TRAINER] weights saved!\n"
     ]
    },
    {
     "name": "stderr",
     "output_type": "stream",
     "text": [
      "                                                                                                    \r"
     ]
    },
    {
     "name": "stdout",
     "output_type": "stream",
     "text": [
      "Recovery epoch [2/10]: Avg Loss: 1.5569 | Avg Accuracy: 64.11 | Model Sparsity: 0.7762\n",
      "Avg Perplexity: 5.640\n",
      "\n"
     ]
    },
    {
     "name": "stderr",
     "output_type": "stream",
     "text": [
      "                                                                                                    \r"
     ]
    },
    {
     "name": "stdout",
     "output_type": "stream",
     "text": [
      "Recovery epoch [3/10]: Avg Loss: 1.5571 | Avg Accuracy: 64.28 | Model Sparsity: 0.7762\n",
      "Avg Perplexity: 5.624\n",
      "\n",
      "[TRAINER] weights saved!\n"
     ]
    },
    {
     "name": "stderr",
     "output_type": "stream",
     "text": [
      "                                                                                                    \r"
     ]
    },
    {
     "name": "stdout",
     "output_type": "stream",
     "text": [
      "Recovery epoch [4/10]: Avg Loss: 1.5488 | Avg Accuracy: 64.07 | Model Sparsity: 0.7762\n",
      "Avg Perplexity: 5.677\n",
      "\n"
     ]
    },
    {
     "name": "stderr",
     "output_type": "stream",
     "text": [
      "                                                                                                    \r"
     ]
    },
    {
     "name": "stdout",
     "output_type": "stream",
     "text": [
      "Recovery epoch [5/10]: Avg Loss: 1.5558 | Avg Accuracy: 64.10 | Model Sparsity: 0.7762\n",
      "Avg Perplexity: 5.672\n",
      "\n"
     ]
    },
    {
     "name": "stderr",
     "output_type": "stream",
     "text": [
      "                                                                                                    \r"
     ]
    },
    {
     "name": "stdout",
     "output_type": "stream",
     "text": [
      "Recovery epoch [6/10]: Avg Loss: 1.5558 | Avg Accuracy: 63.78 | Model Sparsity: 0.7762\n",
      "Avg Perplexity: 5.636\n",
      "\n"
     ]
    },
    {
     "name": "stderr",
     "output_type": "stream",
     "text": [
      "                                                                                                    \r"
     ]
    },
    {
     "name": "stdout",
     "output_type": "stream",
     "text": [
      "Recovery epoch [7/10]: Avg Loss: 1.5551 | Avg Accuracy: 63.96 | Model Sparsity: 0.7762\n",
      "Avg Perplexity: 5.744\n",
      "\n"
     ]
    },
    {
     "name": "stderr",
     "output_type": "stream",
     "text": [
      "                                                                                                    \r"
     ]
    },
    {
     "name": "stdout",
     "output_type": "stream",
     "text": [
      "Recovery epoch [8/10]: Avg Loss: 1.5535 | Avg Accuracy: 64.21 | Model Sparsity: 0.7762\n",
      "Avg Perplexity: 5.679\n",
      "\n"
     ]
    },
    {
     "name": "stderr",
     "output_type": "stream",
     "text": [
      "                                                                                                    \r"
     ]
    },
    {
     "name": "stdout",
     "output_type": "stream",
     "text": [
      "Recovery epoch [9/10]: Avg Loss: 1.5557 | Avg Accuracy: 63.92 | Model Sparsity: 0.7762\n",
      "Avg Perplexity: 5.808\n",
      "\n"
     ]
    },
    {
     "name": "stderr",
     "output_type": "stream",
     "text": [
      "                                                                                                     \r"
     ]
    },
    {
     "name": "stdout",
     "output_type": "stream",
     "text": [
      "Recovery epoch [10/10]: Avg Loss: 1.5559 | Avg Accuracy: 64.16 | Model Sparsity: 0.7762\n",
      "Avg Perplexity: 5.704\n",
      "\n"
     ]
    },
    {
     "name": "stderr",
     "output_type": "stream",
     "text": [
      "Training Epoch [3/5]:   0%|          | 0/71 [00:00<?, ?it/s]"
     ]
    },
    {
     "name": "stdout",
     "output_type": "stream",
     "text": [
      "\n",
      "[Pruner] Cubic Sparsity ratio increased to 0.927.\n",
      "\n"
     ]
    },
    {
     "name": "stderr",
     "output_type": "stream",
     "text": [
      "                                                                                                   \r"
     ]
    },
    {
     "name": "stdout",
     "output_type": "stream",
     "text": [
      "Recovery epoch [3/10]: Avg Loss: 1.5516 | Avg Accuracy: 64.57 | Model Sparsity: 0.9266\n",
      "Avg Perplexity: 5.501\n",
      "\n",
      "[TRAINER] weights saved!\n"
     ]
    },
    {
     "name": "stderr",
     "output_type": "stream",
     "text": [
      "                                                                                                    \r"
     ]
    },
    {
     "name": "stdout",
     "output_type": "stream",
     "text": [
      "Recovery epoch [1/10]: Avg Loss: 1.5511 | Avg Accuracy: 64.15 | Model Sparsity: 0.9266\n",
      "Avg Perplexity: 5.627\n",
      "\n"
     ]
    },
    {
     "name": "stderr",
     "output_type": "stream",
     "text": [
      "                                                                                                    \r"
     ]
    },
    {
     "name": "stdout",
     "output_type": "stream",
     "text": [
      "Recovery epoch [2/10]: Avg Loss: 1.5477 | Avg Accuracy: 64.12 | Model Sparsity: 0.9266\n",
      "Avg Perplexity: 5.644\n",
      "\n"
     ]
    },
    {
     "name": "stderr",
     "output_type": "stream",
     "text": [
      "                                                                                                    \r"
     ]
    },
    {
     "name": "stdout",
     "output_type": "stream",
     "text": [
      "Recovery epoch [3/10]: Avg Loss: 1.5621 | Avg Accuracy: 64.27 | Model Sparsity: 0.9266\n",
      "Avg Perplexity: 5.563\n",
      "\n"
     ]
    },
    {
     "name": "stderr",
     "output_type": "stream",
     "text": [
      "                                                                                                    \r"
     ]
    },
    {
     "name": "stdout",
     "output_type": "stream",
     "text": [
      "Recovery epoch [4/10]: Avg Loss: 1.5508 | Avg Accuracy: 63.80 | Model Sparsity: 0.9266\n",
      "Avg Perplexity: 5.715\n",
      "\n"
     ]
    },
    {
     "name": "stderr",
     "output_type": "stream",
     "text": [
      "                                                                                                    \r"
     ]
    },
    {
     "name": "stdout",
     "output_type": "stream",
     "text": [
      "Recovery epoch [5/10]: Avg Loss: 1.5490 | Avg Accuracy: 63.64 | Model Sparsity: 0.9266\n",
      "Avg Perplexity: 5.857\n",
      "\n"
     ]
    },
    {
     "name": "stderr",
     "output_type": "stream",
     "text": [
      "                                                                                                    \r"
     ]
    },
    {
     "name": "stdout",
     "output_type": "stream",
     "text": [
      "Recovery epoch [6/10]: Avg Loss: 1.5460 | Avg Accuracy: 64.46 | Model Sparsity: 0.9266\n",
      "Avg Perplexity: 5.653\n",
      "\n"
     ]
    },
    {
     "name": "stderr",
     "output_type": "stream",
     "text": [
      "                                                                                                    \r"
     ]
    },
    {
     "name": "stdout",
     "output_type": "stream",
     "text": [
      "Recovery epoch [7/10]: Avg Loss: 1.5501 | Avg Accuracy: 63.55 | Model Sparsity: 0.9266\n",
      "Avg Perplexity: 5.693\n",
      "\n"
     ]
    },
    {
     "name": "stderr",
     "output_type": "stream",
     "text": [
      "                                                                                                    \r"
     ]
    },
    {
     "name": "stdout",
     "output_type": "stream",
     "text": [
      "Recovery epoch [8/10]: Avg Loss: 1.5463 | Avg Accuracy: 63.65 | Model Sparsity: 0.9266\n",
      "Avg Perplexity: 5.838\n",
      "\n"
     ]
    },
    {
     "name": "stderr",
     "output_type": "stream",
     "text": [
      "                                                                                                    \r"
     ]
    },
    {
     "name": "stdout",
     "output_type": "stream",
     "text": [
      "Recovery epoch [9/10]: Avg Loss: 1.5426 | Avg Accuracy: 63.78 | Model Sparsity: 0.9266\n",
      "Avg Perplexity: 5.725\n",
      "\n"
     ]
    },
    {
     "name": "stderr",
     "output_type": "stream",
     "text": [
      "                                                                                                     \r"
     ]
    },
    {
     "name": "stdout",
     "output_type": "stream",
     "text": [
      "Recovery epoch [10/10]: Avg Loss: 1.5440 | Avg Accuracy: 64.10 | Model Sparsity: 0.9266\n",
      "Avg Perplexity: 5.691\n",
      "\n"
     ]
    },
    {
     "name": "stderr",
     "output_type": "stream",
     "text": [
      "Training Epoch [4/5]:   0%|          | 0/71 [00:00<?, ?it/s]"
     ]
    },
    {
     "name": "stdout",
     "output_type": "stream",
     "text": [
      "\n",
      "[Pruner] Cubic Sparsity ratio increased to 0.982.\n",
      "\n"
     ]
    },
    {
     "name": "stderr",
     "output_type": "stream",
     "text": [
      "                                                                                                   \r"
     ]
    },
    {
     "name": "stdout",
     "output_type": "stream",
     "text": [
      "Recovery epoch [4/10]: Avg Loss: 1.5475 | Avg Accuracy: 63.96 | Model Sparsity: 0.9821\n",
      "Avg Perplexity: 5.765\n",
      "\n",
      "[TRAINER] weights saved!\n"
     ]
    },
    {
     "name": "stderr",
     "output_type": "stream",
     "text": [
      "                                                                                                    \r"
     ]
    },
    {
     "name": "stdout",
     "output_type": "stream",
     "text": [
      "Recovery epoch [1/10]: Avg Loss: 1.5383 | Avg Accuracy: 63.88 | Model Sparsity: 0.9821\n",
      "Avg Perplexity: 5.749\n",
      "\n"
     ]
    },
    {
     "name": "stderr",
     "output_type": "stream",
     "text": [
      "                                                                                                    \r"
     ]
    },
    {
     "name": "stdout",
     "output_type": "stream",
     "text": [
      "Recovery epoch [2/10]: Avg Loss: 1.5371 | Avg Accuracy: 64.20 | Model Sparsity: 0.9821\n",
      "Avg Perplexity: 5.658\n",
      "\n",
      "[TRAINER] weights saved!\n"
     ]
    },
    {
     "name": "stderr",
     "output_type": "stream",
     "text": [
      "                                                                                                    \r"
     ]
    },
    {
     "name": "stdout",
     "output_type": "stream",
     "text": [
      "Recovery epoch [3/10]: Avg Loss: 1.5353 | Avg Accuracy: 64.25 | Model Sparsity: 0.9821\n",
      "Avg Perplexity: 5.650\n",
      "\n",
      "[TRAINER] weights saved!\n"
     ]
    },
    {
     "name": "stderr",
     "output_type": "stream",
     "text": [
      "                                                                                                    \r"
     ]
    },
    {
     "name": "stdout",
     "output_type": "stream",
     "text": [
      "Recovery epoch [4/10]: Avg Loss: 1.5310 | Avg Accuracy: 64.20 | Model Sparsity: 0.9821\n",
      "Avg Perplexity: 5.678\n",
      "\n"
     ]
    },
    {
     "name": "stderr",
     "output_type": "stream",
     "text": [
      "                                                                                                    \r"
     ]
    },
    {
     "name": "stdout",
     "output_type": "stream",
     "text": [
      "Recovery epoch [5/10]: Avg Loss: 1.5384 | Avg Accuracy: 64.54 | Model Sparsity: 0.9821\n",
      "Avg Perplexity: 5.478\n",
      "\n",
      "[TRAINER] weights saved!\n"
     ]
    },
    {
     "name": "stderr",
     "output_type": "stream",
     "text": [
      "                                                                                                    \r"
     ]
    },
    {
     "name": "stdout",
     "output_type": "stream",
     "text": [
      "Recovery epoch [6/10]: Avg Loss: 1.5346 | Avg Accuracy: 64.10 | Model Sparsity: 0.9821\n",
      "Avg Perplexity: 5.687\n",
      "\n"
     ]
    },
    {
     "name": "stderr",
     "output_type": "stream",
     "text": [
      "                                                                                                    \r"
     ]
    },
    {
     "name": "stdout",
     "output_type": "stream",
     "text": [
      "Recovery epoch [7/10]: Avg Loss: 1.5359 | Avg Accuracy: 63.96 | Model Sparsity: 0.9821\n",
      "Avg Perplexity: 5.697\n",
      "\n"
     ]
    },
    {
     "name": "stderr",
     "output_type": "stream",
     "text": [
      "                                                                                                    \r"
     ]
    },
    {
     "name": "stdout",
     "output_type": "stream",
     "text": [
      "Recovery epoch [8/10]: Avg Loss: 1.5341 | Avg Accuracy: 63.92 | Model Sparsity: 0.9821\n",
      "Avg Perplexity: 5.675\n",
      "\n"
     ]
    },
    {
     "name": "stderr",
     "output_type": "stream",
     "text": [
      "                                                                                                    \r"
     ]
    },
    {
     "name": "stdout",
     "output_type": "stream",
     "text": [
      "Recovery epoch [9/10]: Avg Loss: 1.5296 | Avg Accuracy: 64.18 | Model Sparsity: 0.9821\n",
      "Avg Perplexity: 5.544\n",
      "\n"
     ]
    },
    {
     "name": "stderr",
     "output_type": "stream",
     "text": [
      "                                                                                                     \r"
     ]
    },
    {
     "name": "stdout",
     "output_type": "stream",
     "text": [
      "Recovery epoch [10/10]: Avg Loss: 1.5281 | Avg Accuracy: 64.42 | Model Sparsity: 0.9821\n",
      "Avg Perplexity: 5.545\n",
      "\n"
     ]
    },
    {
     "name": "stderr",
     "output_type": "stream",
     "text": [
      "Training Epoch [5/5]:   0%|          | 0/71 [00:00<?, ?it/s]"
     ]
    },
    {
     "name": "stdout",
     "output_type": "stream",
     "text": [
      "\n",
      "[Pruner] Cubic Sparsity ratio increased to 0.990.\n",
      "\n"
     ]
    },
    {
     "name": "stderr",
     "output_type": "stream",
     "text": [
      "                                                                                                 \r"
     ]
    },
    {
     "name": "stdout",
     "output_type": "stream",
     "text": [
      "Recovery epoch [5/10]: Avg Loss: 1.5367 | Avg Accuracy: 64.03 | Model Sparsity: 0.99\n",
      "Avg Perplexity: 5.647\n",
      "\n",
      "[TRAINER] weights saved!\n"
     ]
    },
    {
     "name": "stderr",
     "output_type": "stream",
     "text": [
      "                                                                                                  \r"
     ]
    },
    {
     "name": "stdout",
     "output_type": "stream",
     "text": [
      "Recovery epoch [1/10]: Avg Loss: 1.5264 | Avg Accuracy: 64.14 | Model Sparsity: 0.99\n",
      "Avg Perplexity: 5.642\n",
      "\n",
      "[TRAINER] weights saved!\n"
     ]
    },
    {
     "name": "stderr",
     "output_type": "stream",
     "text": [
      "                                                                                                  \r"
     ]
    },
    {
     "name": "stdout",
     "output_type": "stream",
     "text": [
      "Recovery epoch [2/10]: Avg Loss: 1.5312 | Avg Accuracy: 63.77 | Model Sparsity: 0.99\n",
      "Avg Perplexity: 5.709\n",
      "\n"
     ]
    },
    {
     "name": "stderr",
     "output_type": "stream",
     "text": [
      "                                                                                                  \r"
     ]
    },
    {
     "name": "stdout",
     "output_type": "stream",
     "text": [
      "Recovery epoch [3/10]: Avg Loss: 1.5259 | Avg Accuracy: 64.19 | Model Sparsity: 0.99\n",
      "Avg Perplexity: 5.638\n",
      "\n",
      "[TRAINER] weights saved!\n"
     ]
    },
    {
     "name": "stderr",
     "output_type": "stream",
     "text": [
      "                                                                                                  \r"
     ]
    },
    {
     "name": "stdout",
     "output_type": "stream",
     "text": [
      "Recovery epoch [4/10]: Avg Loss: 1.5260 | Avg Accuracy: 64.31 | Model Sparsity: 0.99\n",
      "Avg Perplexity: 5.658\n",
      "\n",
      "[TRAINER] weights saved!\n"
     ]
    },
    {
     "name": "stderr",
     "output_type": "stream",
     "text": [
      "                                                                                                  \r"
     ]
    },
    {
     "name": "stdout",
     "output_type": "stream",
     "text": [
      "Recovery epoch [5/10]: Avg Loss: 1.5337 | Avg Accuracy: 63.85 | Model Sparsity: 0.99\n",
      "Avg Perplexity: 5.729\n",
      "\n"
     ]
    },
    {
     "name": "stderr",
     "output_type": "stream",
     "text": [
      "                                                                                                  \r"
     ]
    },
    {
     "name": "stdout",
     "output_type": "stream",
     "text": [
      "Recovery epoch [6/10]: Avg Loss: 1.5351 | Avg Accuracy: 64.17 | Model Sparsity: 0.99\n",
      "Avg Perplexity: 5.661\n",
      "\n"
     ]
    },
    {
     "name": "stderr",
     "output_type": "stream",
     "text": [
      "                                                                                                  \r"
     ]
    },
    {
     "name": "stdout",
     "output_type": "stream",
     "text": [
      "Recovery epoch [7/10]: Avg Loss: 1.5282 | Avg Accuracy: 64.48 | Model Sparsity: 0.99\n",
      "Avg Perplexity: 5.567\n",
      "\n",
      "[TRAINER] weights saved!\n"
     ]
    },
    {
     "name": "stderr",
     "output_type": "stream",
     "text": [
      "                                                                                                  \r"
     ]
    },
    {
     "name": "stdout",
     "output_type": "stream",
     "text": [
      "Recovery epoch [8/10]: Avg Loss: 1.5332 | Avg Accuracy: 63.99 | Model Sparsity: 0.99\n",
      "Avg Perplexity: 5.799\n",
      "\n"
     ]
    },
    {
     "name": "stderr",
     "output_type": "stream",
     "text": [
      "                                                                                                  \r"
     ]
    },
    {
     "name": "stdout",
     "output_type": "stream",
     "text": [
      "Recovery epoch [9/10]: Avg Loss: 1.5320 | Avg Accuracy: 64.21 | Model Sparsity: 0.99\n",
      "Avg Perplexity: 5.556\n",
      "\n"
     ]
    },
    {
     "name": "stderr",
     "output_type": "stream",
     "text": [
      "                                                                                                   \r"
     ]
    },
    {
     "name": "stdout",
     "output_type": "stream",
     "text": [
      "Recovery epoch [10/10]: Avg Loss: 1.5250 | Avg Accuracy: 64.21 | Model Sparsity: 0.99\n",
      "Avg Perplexity: 5.706\n",
      "\n",
      "[TRAINER] Loading weights: ./research/distilbert-base-uncased/wikitext2/distilbert-base-uncased_wikitext2_snip_pruning_0.99_pruning.pt\n",
      "[TRAINER] Weights loaded successfully\n",
      "[TRAINER] Model Sparsity: 0.99\n"
     ]
    },
    {
     "name": "stderr",
     "output_type": "stream",
     "text": [
      "                                                         "
     ]
    },
    {
     "name": "stdout",
     "output_type": "stream",
     "text": [
      "\n",
      "============================================================\n",
      "TRAINING STATISTICS SUMMARY\n",
      "============================================================\n",
      "\n",
      "Performance Metrics:\n",
      "------------------------------\n",
      "  Accuracy:     64.78%\n",
      "  Perplexity:   5.558\n",
      "\n",
      "Model Information:\n",
      "------------------------------\n",
      "  Total Parameters:     66,985,530\n",
      "  Trainable Parameters: 66,985,530\n",
      "  Model Sparsity:       0.9900 (99.00%)\n",
      "\n",
      "Training Configuration:\n",
      "------------------------------\n",
      "  Model:                distilbert-base-uncased\n",
      "  Task:                 wikitext2\n",
      "  Learning Type:        pruning\n",
      "  Batch Size:           64\n",
      "  Learning Rate:        2e-05\n",
      "  Optimizer:            adamw\n",
      "  Epochs:               5\n",
      "\n",
      "Pruning Configuration:\n",
      "------------------------------\n",
      "  Pruning Type:         snip_pruning\n",
      "  Target Sparsity:      0.99\n",
      "  Sparsity Scheduler:   cubic\n",
      "  Recovery Epochs:      10\n",
      "\n",
      "System Information:\n",
      "------------------------------\n",
      "  Device:               cuda\n",
      "  Mixed Precision:      True\n",
      "  Workers:              24\n",
      "\n",
      "============================================================\n"
     ]
    },
    {
     "name": "stderr",
     "output_type": "stream",
     "text": [
      "\r"
     ]
    }
   ],
   "source": [
    "# Initializing finetuned weights path\n",
    "finetuned_weights = f\"./research/{MODEL_NAME}/{MODEL_TASK}/{MODEL_NAME}_{MODEL_TASK}_baseline.pt\"\n",
    "training_args = TrainingArguments(\n",
    "    model_name=MODEL_NAME,\n",
    "    model_task=MODEL_TASK,\n",
    "    batch_size=BATCH_SIZE_LLM,\n",
    "    optimizer_type_and_lr=('adamw', 2e-5),\n",
    "    pruning_type=\"snip_pruning\",\n",
    "    target_sparsity=TARGET_SPARSITY_HIGH,\n",
    "    sparsity_scheduler='cubic',\n",
    "    finetuned_weights=finetuned_weights,\n",
    "    learning_type=\"pruning\",\n",
    "    db=False,\n",
    ")\n",
    "trainer = Trainer(training_args)\n",
    "if TRAIN:\n",
    "    trainer.train()\n",
    "\n",
    "metrics = trainer.evaluate()\n",
    "print_statistics(metrics, trainer)"
   ]
  },
  {
   "cell_type": "markdown",
   "metadata": {
    "application/vnd.databricks.v1+cell": {
     "cellMetadata": {
      "byteLimit": 2048000,
      "rowLimit": 10000
     },
     "inputWidgets": {},
     "nuid": "0b8b53cd-9626-4b42-8655-6cfe9cf07194",
     "showTitle": false,
     "tableResultSettingsMap": {},
     "title": ""
    }
   },
   "source": [
    "### WandA Prune"
   ]
  },
  {
   "cell_type": "code",
   "execution_count": 28,
   "metadata": {
    "application/vnd.databricks.v1+cell": {
     "cellMetadata": {
      "byteLimit": 2048000,
      "rowLimit": 10000
     },
     "inputWidgets": {},
     "nuid": "6f4ffcd4-02dd-41d9-9870-36e12b20926f",
     "showTitle": false,
     "tableResultSettingsMap": {},
     "title": ""
    }
   },
   "outputs": [
    {
     "name": "stdout",
     "output_type": "stream",
     "text": [
      "[TRAINER] Image size: None\n",
      "[TRAINER] Initialized models\n",
      "[TRAINER] Loading weights: ./research/distilbert-base-uncased/wikitext2/distilbert-base-uncased_wikitext2_baseline.pt\n",
      "[TRAINER] Weights loaded\n",
      "[TRAINER] Optimizer type w/ learning rate: (adamw, 2e-05)\n",
      "[TRAINER] Data Initialized for model task: wikitext2\n",
      "[TRAINER] Batch size: 64\n",
      "[TRAINER] Number of dataloders: 3\n",
      "[TRAINER] No scheduler initialized\n"
     ]
    },
    {
     "ename": "AttributeError",
     "evalue": "'NoneType' object has no attribute 'dim'",
     "output_type": "error",
     "traceback": [
      "\u001b[0;31m---------------------------------------------------------------------------\u001b[0m",
      "\u001b[0;31mAttributeError\u001b[0m                            Traceback (most recent call last)",
      "Cell \u001b[0;32mIn[28], line 3\u001b[0m\n\u001b[1;32m      1\u001b[0m \u001b[38;5;66;03m# Initializing finetuned weights path\u001b[39;00m\n\u001b[1;32m      2\u001b[0m finetuned_weights \u001b[38;5;241m=\u001b[39m \u001b[38;5;124mf\u001b[39m\u001b[38;5;124m\"\u001b[39m\u001b[38;5;124m./research/\u001b[39m\u001b[38;5;132;01m{\u001b[39;00mMODEL_NAME\u001b[38;5;132;01m}\u001b[39;00m\u001b[38;5;124m/\u001b[39m\u001b[38;5;132;01m{\u001b[39;00mMODEL_TASK\u001b[38;5;132;01m}\u001b[39;00m\u001b[38;5;124m/\u001b[39m\u001b[38;5;132;01m{\u001b[39;00mMODEL_NAME\u001b[38;5;132;01m}\u001b[39;00m\u001b[38;5;124m_\u001b[39m\u001b[38;5;132;01m{\u001b[39;00mMODEL_TASK\u001b[38;5;132;01m}\u001b[39;00m\u001b[38;5;124m_baseline.pt\u001b[39m\u001b[38;5;124m\"\u001b[39m\n\u001b[0;32m----> 3\u001b[0m training_args \u001b[38;5;241m=\u001b[39m \u001b[43mTrainingArguments\u001b[49m\u001b[43m(\u001b[49m\n\u001b[1;32m      4\u001b[0m \u001b[43m    \u001b[49m\u001b[43mmodel_name\u001b[49m\u001b[38;5;241;43m=\u001b[39;49m\u001b[43mMODEL_NAME\u001b[49m\u001b[43m,\u001b[49m\n\u001b[1;32m      5\u001b[0m \u001b[43m    \u001b[49m\u001b[43mmodel_task\u001b[49m\u001b[38;5;241;43m=\u001b[39;49m\u001b[43mMODEL_TASK\u001b[49m\u001b[43m,\u001b[49m\n\u001b[1;32m      6\u001b[0m \u001b[43m    \u001b[49m\u001b[43mbatch_size\u001b[49m\u001b[38;5;241;43m=\u001b[39;49m\u001b[43mBATCH_SIZE_LLM\u001b[49m\u001b[43m,\u001b[49m\n\u001b[1;32m      7\u001b[0m \u001b[43m    \u001b[49m\u001b[43moptimizer_type_and_lr\u001b[49m\u001b[38;5;241;43m=\u001b[39;49m\u001b[43m(\u001b[49m\u001b[38;5;124;43m'\u001b[39;49m\u001b[38;5;124;43madamw\u001b[39;49m\u001b[38;5;124;43m'\u001b[39;49m\u001b[43m,\u001b[49m\u001b[43m \u001b[49m\u001b[38;5;241;43m2e-5\u001b[39;49m\u001b[43m)\u001b[49m\u001b[43m,\u001b[49m\n\u001b[1;32m      8\u001b[0m \u001b[43m    \u001b[49m\u001b[43mpruning_type\u001b[49m\u001b[38;5;241;43m=\u001b[39;49m\u001b[38;5;124;43m\"\u001b[39;49m\u001b[38;5;124;43mwanda_pruning\u001b[39;49m\u001b[38;5;124;43m\"\u001b[39;49m\u001b[43m,\u001b[49m\n\u001b[1;32m      9\u001b[0m \u001b[43m    \u001b[49m\u001b[43mtarget_sparsity\u001b[49m\u001b[38;5;241;43m=\u001b[39;49m\u001b[43mTARGET_SPARSITY_LOW\u001b[49m\u001b[43m,\u001b[49m\n\u001b[1;32m     10\u001b[0m \u001b[43m    \u001b[49m\u001b[43msparsity_scheduler\u001b[49m\u001b[38;5;241;43m=\u001b[39;49m\u001b[38;5;124;43m'\u001b[39;49m\u001b[38;5;124;43mcubic\u001b[39;49m\u001b[38;5;124;43m'\u001b[39;49m\u001b[43m,\u001b[49m\n\u001b[1;32m     11\u001b[0m \u001b[43m    \u001b[49m\u001b[43mfinetuned_weights\u001b[49m\u001b[38;5;241;43m=\u001b[39;49m\u001b[43mfinetuned_weights\u001b[49m\u001b[43m,\u001b[49m\n\u001b[1;32m     12\u001b[0m \u001b[43m    \u001b[49m\u001b[43mlearning_type\u001b[49m\u001b[38;5;241;43m=\u001b[39;49m\u001b[38;5;124;43m\"\u001b[39;49m\u001b[38;5;124;43mpruning\u001b[39;49m\u001b[38;5;124;43m\"\u001b[39;49m\u001b[43m,\u001b[49m\n\u001b[1;32m     13\u001b[0m \u001b[43m    \u001b[49m\u001b[43mdb\u001b[49m\u001b[38;5;241;43m=\u001b[39;49m\u001b[38;5;28;43;01mFalse\u001b[39;49;00m\u001b[43m,\u001b[49m\n\u001b[1;32m     14\u001b[0m \u001b[43m)\u001b[49m\n\u001b[1;32m     15\u001b[0m trainer \u001b[38;5;241m=\u001b[39m Trainer(training_args)\n\u001b[1;32m     16\u001b[0m \u001b[38;5;28;01mif\u001b[39;00m TRAIN:\n",
      "File \u001b[0;32m~/BaCP/project/trainer.py:99\u001b[0m, in \u001b[0;36mTrainingArguments.__init__\u001b[0;34m(self, model_name, model_task, batch_size, optimizer_type_and_lr, pruner, pruning_type, target_sparsity, sparsity_scheduler, pruning_epochs, criterion_type, epochs, recovery_epochs, scheduler_type, patience, finetuned_weights, finetune, learning_type, log_epochs, enable_tqdm, enable_mixed_precision, db, num_workers)\u001b[0m\n\u001b[1;32m     97\u001b[0m _initialize_data_loaders(\u001b[38;5;28mself\u001b[39m)\n\u001b[1;32m     98\u001b[0m _initialize_scheduler(\u001b[38;5;28mself\u001b[39m)\n\u001b[0;32m---> 99\u001b[0m \u001b[43m_initialize_pruner\u001b[49m\u001b[43m(\u001b[49m\u001b[38;5;28;43mself\u001b[39;49m\u001b[43m)\u001b[49m\n\u001b[1;32m    100\u001b[0m _initialize_paths_and_logger(\u001b[38;5;28mself\u001b[39m)\n",
      "File \u001b[0;32m~/BaCP/project/training_utils.py:164\u001b[0m, in \u001b[0;36m_initialize_pruner\u001b[0;34m(args)\u001b[0m\n\u001b[1;32m    161\u001b[0m args\u001b[38;5;241m.\u001b[39mprune \u001b[38;5;241m=\u001b[39m args\u001b[38;5;241m.\u001b[39mpruning_type \u001b[38;5;129;01mis\u001b[39;00m \u001b[38;5;129;01mnot\u001b[39;00m \u001b[38;5;28;01mNone\u001b[39;00m \u001b[38;5;129;01mand\u001b[39;00m args\u001b[38;5;241m.\u001b[39mtarget_sparsity \u001b[38;5;241m>\u001b[39m \u001b[38;5;241m0.0\u001b[39m \u001b[38;5;129;01mand\u001b[39;00m \u001b[38;5;129;01mnot\u001b[39;00m args\u001b[38;5;241m.\u001b[39mfinetune\n\u001b[1;32m    163\u001b[0m \u001b[38;5;28;01mif\u001b[39;00m args\u001b[38;5;241m.\u001b[39mprune:\n\u001b[0;32m--> 164\u001b[0m     args\u001b[38;5;241m.\u001b[39mpruner \u001b[38;5;241m=\u001b[39m \u001b[43mPRUNER_DICT\u001b[49m\u001b[43m[\u001b[49m\u001b[43margs\u001b[49m\u001b[38;5;241;43m.\u001b[39;49m\u001b[43mpruning_type\u001b[49m\u001b[43m]\u001b[49m\u001b[43m(\u001b[49m\n\u001b[1;32m    165\u001b[0m \u001b[43m        \u001b[49m\u001b[43margs\u001b[49m\u001b[38;5;241;43m.\u001b[39;49m\u001b[43mpruning_epochs\u001b[49m\u001b[43m,\u001b[49m\u001b[43m \u001b[49m\n\u001b[1;32m    166\u001b[0m \u001b[43m        \u001b[49m\u001b[43margs\u001b[49m\u001b[38;5;241;43m.\u001b[39;49m\u001b[43mtarget_sparsity\u001b[49m\u001b[43m,\u001b[49m\u001b[43m \u001b[49m\n\u001b[1;32m    167\u001b[0m \u001b[43m        \u001b[49m\u001b[43margs\u001b[49m\u001b[38;5;241;43m.\u001b[39;49m\u001b[43mmodel\u001b[49m\u001b[43m,\u001b[49m\n\u001b[1;32m    168\u001b[0m \u001b[43m        \u001b[49m\u001b[43margs\u001b[49m\u001b[38;5;241;43m.\u001b[39;49m\u001b[43msparsity_scheduler\u001b[49m\n\u001b[1;32m    169\u001b[0m \u001b[43m    \u001b[49m\u001b[43m)\u001b[49m\n\u001b[1;32m    170\u001b[0m \u001b[38;5;28;01melse\u001b[39;00m:\n\u001b[1;32m    171\u001b[0m     args\u001b[38;5;241m.\u001b[39mpruner \u001b[38;5;241m=\u001b[39m args\u001b[38;5;241m.\u001b[39mpruner\n",
      "File \u001b[0;32m~/BaCP/project/unstructured_pruning.py:239\u001b[0m, in \u001b[0;36mWandaPrune.__init__\u001b[0;34m(self, epochs, target_ratio, model, pruning_scheduler)\u001b[0m\n\u001b[1;32m    236\u001b[0m \u001b[38;5;28;01melif\u001b[39;00m \u001b[38;5;28mhasattr\u001b[39m(model\u001b[38;5;241m.\u001b[39mmodel, \u001b[38;5;124m'\u001b[39m\u001b[38;5;124mvit\u001b[39m\u001b[38;5;124m'\u001b[39m) \u001b[38;5;129;01mand\u001b[39;00m \u001b[38;5;28mhasattr\u001b[39m(model\u001b[38;5;241m.\u001b[39mmodel\u001b[38;5;241m.\u001b[39mvit, \u001b[38;5;124m'\u001b[39m\u001b[38;5;124mencoder\u001b[39m\u001b[38;5;124m'\u001b[39m) \u001b[38;5;129;01mand\u001b[39;00m \u001b[38;5;28mhasattr\u001b[39m(model\u001b[38;5;241m.\u001b[39mmodel\u001b[38;5;241m.\u001b[39mvit\u001b[38;5;241m.\u001b[39mencoder, \u001b[38;5;124m'\u001b[39m\u001b[38;5;124mlayer\u001b[39m\u001b[38;5;124m'\u001b[39m):\n\u001b[1;32m    237\u001b[0m     \u001b[38;5;28mself\u001b[39m\u001b[38;5;241m.\u001b[39mprefix \u001b[38;5;241m=\u001b[39m \u001b[38;5;124m\"\u001b[39m\u001b[38;5;124mvit.encoder.layer\u001b[39m\u001b[38;5;124m\"\u001b[39m\n\u001b[0;32m--> 239\u001b[0m \u001b[38;5;28;43mself\u001b[39;49m\u001b[38;5;241;43m.\u001b[39;49m\u001b[43minit_layers\u001b[49m\u001b[43m(\u001b[49m\u001b[43mmodel\u001b[49m\u001b[43m)\u001b[49m\n",
      "File \u001b[0;32m~/BaCP/project/unstructured_pruning.py:244\u001b[0m, in \u001b[0;36mWandaPrune.init_layers\u001b[0;34m(self, model)\u001b[0m\n\u001b[1;32m    242\u001b[0m \u001b[38;5;28;01mfor\u001b[39;00m module_name, module \u001b[38;5;129;01min\u001b[39;00m model\u001b[38;5;241m.\u001b[39mnamed_modules():\n\u001b[1;32m    243\u001b[0m     name \u001b[38;5;241m=\u001b[39m \u001b[38;5;124mf\u001b[39m\u001b[38;5;124m'\u001b[39m\u001b[38;5;132;01m{\u001b[39;00mmodule_name\u001b[38;5;132;01m}\u001b[39;00m\u001b[38;5;124m.weight\u001b[39m\u001b[38;5;124m'\u001b[39m\n\u001b[0;32m--> 244\u001b[0m     \u001b[38;5;28;01mif\u001b[39;00m \u001b[38;5;28mhasattr\u001b[39m(module, \u001b[38;5;124m'\u001b[39m\u001b[38;5;124mweight\u001b[39m\u001b[38;5;124m'\u001b[39m) \u001b[38;5;129;01mand\u001b[39;00m \u001b[43mlayer_check\u001b[49m\u001b[43m(\u001b[49m\u001b[43mname\u001b[49m\u001b[43m,\u001b[49m\u001b[43m \u001b[49m\u001b[43mmodule\u001b[49m\u001b[38;5;241;43m.\u001b[39;49m\u001b[43mweight\u001b[49m\u001b[43m)\u001b[49m:\n\u001b[1;32m    245\u001b[0m         \u001b[38;5;28mself\u001b[39m\u001b[38;5;241m.\u001b[39mmain_layers[name] \u001b[38;5;241m=\u001b[39m module\u001b[38;5;241m.\u001b[39mto(\u001b[38;5;28mself\u001b[39m\u001b[38;5;241m.\u001b[39mdevice)\n\u001b[1;32m    246\u001b[0m         \u001b[38;5;28mself\u001b[39m\u001b[38;5;241m.\u001b[39mwrapped_layers[name] \u001b[38;5;241m=\u001b[39m \u001b[38;5;28mself\u001b[39m\u001b[38;5;241m.\u001b[39mWrappedLayer(module\u001b[38;5;241m.\u001b[39mto(\u001b[38;5;28mself\u001b[39m\u001b[38;5;241m.\u001b[39mdevice), name)\n",
      "File \u001b[0;32m~/BaCP/project/unstructured_pruning.py:8\u001b[0m, in \u001b[0;36mlayer_check\u001b[0;34m(name, param)\u001b[0m\n\u001b[1;32m      7\u001b[0m \u001b[38;5;28;01mdef\u001b[39;00m\u001b[38;5;250m \u001b[39m\u001b[38;5;21mlayer_check\u001b[39m(name, param):\n\u001b[0;32m----> 8\u001b[0m     \u001b[38;5;28;01mif\u001b[39;00m \u001b[43mparam\u001b[49m\u001b[38;5;241;43m.\u001b[39;49m\u001b[43mdim\u001b[49m() \u001b[38;5;241m<\u001b[39m\u001b[38;5;241m=\u001b[39m \u001b[38;5;241m1\u001b[39m \u001b[38;5;129;01mor\u001b[39;00m \u001b[38;5;129;01mnot\u001b[39;00m param\u001b[38;5;241m.\u001b[39mrequires_grad:\n\u001b[1;32m      9\u001b[0m         \u001b[38;5;28;01mreturn\u001b[39;00m \u001b[38;5;28;01mFalse\u001b[39;00m\n\u001b[1;32m     11\u001b[0m     exclusion_keywords \u001b[38;5;241m=\u001b[39m [\n\u001b[1;32m     12\u001b[0m         \u001b[38;5;124m'\u001b[39m\u001b[38;5;124mfc\u001b[39m\u001b[38;5;124m'\u001b[39m,   \u001b[38;5;66;03m# ResNet\u001b[39;00m\n\u001b[1;32m     13\u001b[0m         \u001b[38;5;124m'\u001b[39m\u001b[38;5;124mclassifier.6\u001b[39m\u001b[38;5;124m'\u001b[39m, \u001b[38;5;66;03m# VGG\u001b[39;00m\n\u001b[0;32m   (...)\u001b[0m\n\u001b[1;32m     22\u001b[0m         \u001b[38;5;66;03m# 'projection_head'\u001b[39;00m\n\u001b[1;32m     23\u001b[0m         ]\n",
      "\u001b[0;31mAttributeError\u001b[0m: 'NoneType' object has no attribute 'dim'"
     ]
    }
   ],
   "source": [
    "# Initializing finetuned weights path\n",
    "finetuned_weights = f\"./research/{MODEL_NAME}/{MODEL_TASK}/{MODEL_NAME}_{MODEL_TASK}_baseline.pt\"\n",
    "training_args = TrainingArguments(\n",
    "    model_name=MODEL_NAME,\n",
    "    model_task=MODEL_TASK,\n",
    "    batch_size=BATCH_SIZE_LLM,\n",
    "    optimizer_type_and_lr=('adamw', 2e-5),\n",
    "    pruning_type=\"wanda_pruning\",\n",
    "    target_sparsity=TARGET_SPARSITY_LOW,\n",
    "    sparsity_scheduler='cubic',\n",
    "    finetuned_weights=finetuned_weights,\n",
    "    learning_type=\"pruning\",\n",
    "    db=False,\n",
    ")\n",
    "trainer = Trainer(training_args)\n",
    "if TRAIN:\n",
    "    trainer.train()\n",
    "\n",
    "metrics = trainer.evaluate()\n",
    "print_statistics(metrics, trainer)"
   ]
  },
  {
   "cell_type": "code",
   "execution_count": 0,
   "metadata": {
    "application/vnd.databricks.v1+cell": {
     "cellMetadata": {
      "byteLimit": 2048000,
      "rowLimit": 10000
     },
     "inputWidgets": {},
     "nuid": "79cfef5e-ce9c-40e6-873f-05e90d5c2ee5",
     "showTitle": false,
     "tableResultSettingsMap": {},
     "title": ""
    }
   },
   "outputs": [],
   "source": [
    "# Initializing finetuned weights path\n",
    "finetuned_weights = f\"./research/{MODEL_NAME}/{MODEL_TASK}/{MODEL_NAME}_{MODEL_TASK}_baseline.pt\"\n",
    "training_args = TrainingArguments(\n",
    "    model_name=MODEL_NAME,\n",
    "    model_task=MODEL_TASK,\n",
    "    batch_size=BATCH_SIZE_LLM,\n",
    "    optimizer_type_and_lr=('adamw', 2e-5),\n",
    "    pruning_type=\"wanda_pruning\",\n",
    "    target_sparsity=TARGET_SPARSITY_MID,\n",
    "    sparsity_scheduler='cubic',\n",
    "    finetuned_weights=finetuned_weights,\n",
    "    learning_type=\"pruning\",\n",
    "    db=False,\n",
    ")\n",
    "trainer = Trainer(training_args)\n",
    "if TRAIN:\n",
    "    trainer.train()\n",
    "\n",
    "metrics = trainer.evaluate()\n",
    "print_statistics(metrics, trainer)"
   ]
  },
  {
   "cell_type": "code",
   "execution_count": 0,
   "metadata": {
    "application/vnd.databricks.v1+cell": {
     "cellMetadata": {
      "byteLimit": 2048000,
      "rowLimit": 10000
     },
     "inputWidgets": {},
     "nuid": "66a21b89-e8aa-4377-a402-7e1cd7f66155",
     "showTitle": false,
     "tableResultSettingsMap": {},
     "title": ""
    }
   },
   "outputs": [],
   "source": [
    "# Initializing finetuned weights path\n",
    "finetuned_weights = f\"./research/{MODEL_NAME}/{MODEL_TASK}/{MODEL_NAME}_{MODEL_TASK}_baseline.pt\"\n",
    "training_args = TrainingArguments(\n",
    "    model_name=MODEL_NAME,\n",
    "    model_task=MODEL_TASK,\n",
    "    batch_size=BATCH_SIZE_LLM,\n",
    "    optimizer_type_and_lr=('adamw', 2e-5),\n",
    "    pruning_type=\"wanda_pruning\",\n",
    "    target_sparsity=TARGET_SPARSITY_HIGH,\n",
    "    sparsity_scheduler='cubic',\n",
    "    finetuned_weights=finetuned_weights,\n",
    "    learning_type=\"pruning\",\n",
    "    db=False,\n",
    ")\n",
    "trainer = Trainer(training_args)\n",
    "if TRAIN:\n",
    "    trainer.train()\n",
    "\n",
    "metrics = trainer.evaluate()\n",
    "print_statistics(metrics, trainer)"
   ]
  },
  {
   "cell_type": "markdown",
   "metadata": {
    "application/vnd.databricks.v1+cell": {
     "cellMetadata": {
      "byteLimit": 2048000,
      "rowLimit": 10000
     },
     "inputWidgets": {},
     "nuid": "8747bf0e-75c0-4843-8ad7-071bbba5a572",
     "showTitle": false,
     "tableResultSettingsMap": {},
     "title": ""
    }
   },
   "source": [
    "## BaCP Accuracies"
   ]
  },
  {
   "cell_type": "markdown",
   "metadata": {
    "application/vnd.databricks.v1+cell": {
     "cellMetadata": {
      "byteLimit": 2048000,
      "rowLimit": 10000
     },
     "inputWidgets": {},
     "nuid": "a152fcf0-b6c5-4f04-8e5b-26ca6ee34ee4",
     "showTitle": false,
     "tableResultSettingsMap": {},
     "title": ""
    }
   },
   "source": [
    "### Magnitude Pruning"
   ]
  },
  {
   "cell_type": "code",
   "execution_count": 0,
   "metadata": {
    "application/vnd.databricks.v1+cell": {
     "cellMetadata": {
      "byteLimit": 2048000,
      "rowLimit": 10000
     },
     "inputWidgets": {},
     "nuid": "1b9a7b8b-4a1a-4f2c-9202-18f79790bcec",
     "showTitle": false,
     "tableResultSettingsMap": {},
     "title": ""
    }
   },
   "outputs": [],
   "source": [
    "trained_model_path = f\"/dbfs/research/{MODEL_NAME}/{MODEL_TASK}/{MODEL_NAME}_{MODEL_TASK}_baseline.pt\"\n",
    "\n",
    "bacp_training_args = BaCPTrainingArguments(\n",
    "    model_name=MODEL_NAME,\n",
    "    model_task=MODEL_TASK,\n",
    "    batch_size=BATCH_SIZE_LLM,   \n",
    "    optimizer_type_and_lr=('adamw', 1e-3),\n",
    "    pruning_type=\"magnitude_pruning\",\n",
    "    target_sparsity=TARGET_SPARSITY_LOW,\n",
    "    sparsity_scheduler='cubic',\n",
    "    finetuned_weights=trained_model_path,\n",
    "    learning_type='bacp_pruning',\n",
    ")\n",
    "bacp_trainer = BaCPTrainer(bacp_training_args)\n",
    "if True:\n",
    "    bacp_trainer.train()\n",
    "\n",
    "# Finetuning Phase\n",
    "bacp_trainer.generate_mask_from_model()\n",
    "training_args = TrainingArguments(\n",
    "    model_name=bacp_trainer.model_name,\n",
    "    model_task=bacp_trainer.model_task,\n",
    "    batch_size=bacp_trainer.batch_size,\n",
    "    optimizer_type_and_lr=('adamw', 1e-3),\n",
    "    pruning_type=bacp_trainer.pruning_type,\n",
    "    target_sparsity=bacp_trainer.target_sparsity,\n",
    "    finetuned_weights=bacp_trainer.save_path,\n",
    "    epochs=50,\n",
    "    pruner=bacp_trainer.get_pruner(),\n",
    "    finetune=True,\n",
    "    learning_type=\"bacp_finetune\",\n",
    ")\n",
    "trainer = Trainer(training_args)\n",
    "if True:\n",
    "    trainer.train()\n",
    "\n",
    "metrics = trainer.evaluate()\n",
    "print(metrics)"
   ]
  },
  {
   "cell_type": "code",
   "execution_count": 0,
   "metadata": {
    "application/vnd.databricks.v1+cell": {
     "cellMetadata": {
      "byteLimit": 2048000,
      "rowLimit": 10000
     },
     "inputWidgets": {},
     "nuid": "71b0727a-3490-4df0-85c7-90234dc43794",
     "showTitle": false,
     "tableResultSettingsMap": {},
     "title": ""
    }
   },
   "outputs": [],
   "source": [
    "trained_model_path = f\"/dbfs/research/{MODEL_NAME}/{MODEL_TASK}/{MODEL_NAME}_{MODEL_TASK}_baseline.pt\"\n",
    "\n",
    "bacp_training_args = BaCPTrainingArguments(\n",
    "    model_name=MODEL_NAME,\n",
    "    model_task=MODEL_TASK,\n",
    "    batch_size=BATCH_SIZE_LLM,   \n",
    "    optimizer_type='adamw',\n",
    "    learning_rate=1e-3,\n",
    "    pruning_type=\"magnitude_pruning\",\n",
    "    target_sparsity=TARGET_SPARSITY_MID,\n",
    "    sparsity_scheduler='cubic',\n",
    "    finetuned_weights=trained_model_path,\n",
    "    learning_type='bacp_pruning',\n",
    ")\n",
    "bacp_trainer = BaCPTrainer(bacp_training_args)\n",
    "if TRAIN:\n",
    "    bacp_trainer.train()\n",
    "\n",
    "# Finetuning Phase\n",
    "bacp_trainer.generate_mask_from_model()\n",
    "training_args = TrainingArguments(\n",
    "    model_name=bacp_trainer.model_name,\n",
    "    model_task=bacp_trainer.model_task,\n",
    "    batch_size=bacp_trainer.batch_size,\n",
    "    optimizer_type='adamw',\n",
    "    learning_rate=1e-3,\n",
    "    pruning_type=bacp_trainer.pruning_type,\n",
    "    target_sparsity=bacp_trainer.target_sparsity,\n",
    "    finetuned_weights=bacp_trainer.save_path,\n",
    "    epochs=50,\n",
    "    pruner=bacp_trainer.get_pruner(),\n",
    "    finetune=True,\n",
    "    learning_type=\"bacp_finetune\",\n",
    ")\n",
    "trainer = Trainer(training_args)\n",
    "if TRAIN:\n",
    "    trainer.train()\n",
    "\n",
    "metrics = trainer.evaluate()\n",
    "print(metrics)"
   ]
  },
  {
   "cell_type": "code",
   "execution_count": 0,
   "metadata": {
    "application/vnd.databricks.v1+cell": {
     "cellMetadata": {
      "byteLimit": 2048000,
      "rowLimit": 10000
     },
     "inputWidgets": {},
     "nuid": "77b9a9b5-6cea-4d16-b569-006b6c9f89bf",
     "showTitle": false,
     "tableResultSettingsMap": {},
     "title": ""
    }
   },
   "outputs": [],
   "source": [
    "trained_model_path = f\"/dbfs/research/{MODEL_NAME}/{MODEL_TASK}/{MODEL_NAME}_{MODEL_TASK}_baseline.pt\"\n",
    "\n",
    "bacp_training_args = BaCPTrainingArguments(\n",
    "    model_name=MODEL_NAME,\n",
    "    model_task=MODEL_TASK,\n",
    "    batch_size=BATCH_SIZE_LLM,   \n",
    "    optimizer_type='adamw',\n",
    "    learning_rate=1e-3,\n",
    "    pruning_type=\"magnitude_pruning\",\n",
    "    target_sparsity=TARGET_SPARSITY_HIGH,\n",
    "    sparsity_scheduler='cubic',\n",
    "    finetuned_weights=trained_model_path,\n",
    "    learning_type='bacp_pruning',\n",
    ")\n",
    "bacp_trainer = BaCPTrainer(bacp_training_args)\n",
    "if TRAIN:\n",
    "    bacp_trainer.train()\n",
    "\n",
    "# Finetuning Phase\n",
    "bacp_trainer.generate_mask_from_model()\n",
    "training_args = TrainingArguments(\n",
    "    model_name=bacp_trainer.model_name,\n",
    "    model_task=bacp_trainer.model_task,\n",
    "    batch_size=bacp_trainer.batch_size,\n",
    "    optimizer_type='adamw',\n",
    "    learning_rate=1e-3,\n",
    "    pruning_type=bacp_trainer.pruning_type,\n",
    "    target_sparsity=bacp_trainer.target_sparsity,\n",
    "    finetuned_weights=bacp_trainer.save_path,\n",
    "    epochs=50,\n",
    "    pruner=bacp_trainer.get_pruner(),\n",
    "    finetune=True,\n",
    "    learning_type=\"bacp_finetune\",\n",
    ")\n",
    "trainer = Trainer(training_args)\n",
    "if TRAIN:\n",
    "    trainer.train()\n",
    "\n",
    "metrics = trainer.evaluate()\n",
    "print(metrics)"
   ]
  },
  {
   "cell_type": "markdown",
   "metadata": {
    "application/vnd.databricks.v1+cell": {
     "cellMetadata": {
      "byteLimit": 2048000,
      "rowLimit": 10000
     },
     "inputWidgets": {},
     "nuid": "53f87345-2c84-4316-b7ba-d5f229fa60fd",
     "showTitle": false,
     "tableResultSettingsMap": {},
     "title": ""
    }
   },
   "source": [
    "### Movement Prune"
   ]
  },
  {
   "cell_type": "code",
   "execution_count": 0,
   "metadata": {
    "application/vnd.databricks.v1+cell": {
     "cellMetadata": {
      "byteLimit": 2048000,
      "rowLimit": 10000
     },
     "inputWidgets": {},
     "nuid": "efccf65a-d263-4ddc-a992-866ab981499b",
     "showTitle": false,
     "tableResultSettingsMap": {},
     "title": ""
    }
   },
   "outputs": [],
   "source": [
    "model_name = \"distilbert-base-uncased\"\n",
    "model_task = \"wikitext2\"\n",
    "trained_model_path = f\"/dbfs/research/{model_name}/{model_task}/{model_name}_{model_task}_baseline.pt\"\n",
    "\n",
    "bacp_training_args = BaCPTrainingArguments(\n",
    "    model_name=model_name,\n",
    "    model_task=model_task,\n",
    "    batch_size=BATCH_SIZE_LLM,\n",
    "    optimizer_type='adamw',\n",
    "    learning_rate=1e-3,\n",
    "    pruning_type=\"movement_pruning\",\n",
    "    target_sparsity=TARGET_SPARSITY_LOW,\n",
    "    sparsity_scheduler='cubic',\n",
    "    finetuned_weights=trained_model_path,\n",
    "    learning_type='bacp_pruning',\n",
    ")\n",
    "bacp_trainer = BaCPTrainer(bacp_training_args)\n",
    "if True:\n",
    "    bacp_trainer.train()\n",
    "\n",
    "# Finetuning Phase\n",
    "bacp_trainer.generate_mask_from_model()\n",
    "training_args = TrainingArguments(\n",
    "    model_name=bacp_trainer.model_name,\n",
    "    model_task=bacp_trainer.model_task,\n",
    "    batch_size=bacp_trainer.batch_size,\n",
    "    optimizer_type='adamw',\n",
    "    learning_rate=1e-3,\n",
    "    pruning_type=bacp_trainer.pruning_type,\n",
    "    target_sparsity=bacp_trainer.target_sparsity,\n",
    "    finetuned_weights=bacp_trainer.save_path,\n",
    "    epochs=50,\n",
    "    pruner=bacp_trainer.get_pruner(),\n",
    "    finetune=True,\n",
    "    learning_type=\"bacp_finetune\",\n",
    ")\n",
    "trainer = Trainer(training_args)\n",
    "if True:\n",
    "    trainer.train()\n",
    "\n",
    "metrics = trainer.evaluate()\n",
    "print(metrics)"
   ]
  },
  {
   "cell_type": "code",
   "execution_count": 0,
   "metadata": {
    "application/vnd.databricks.v1+cell": {
     "cellMetadata": {
      "byteLimit": 2048000,
      "rowLimit": 10000
     },
     "inputWidgets": {},
     "nuid": "1d93344e-6c12-42a5-8b96-e783c52a4169",
     "showTitle": false,
     "tableResultSettingsMap": {},
     "title": ""
    }
   },
   "outputs": [],
   "source": [
    "model_name = \"distilbert-base-uncased\"\n",
    "model_task = \"wikitext2\"\n",
    "trained_model_path = f\"/dbfs/research/{model_name}/{model_task}/{model_name}_{model_task}_baseline.pt\"\n",
    "\n",
    "bacp_training_args = BaCPTrainingArguments(\n",
    "    model_name=model_name,\n",
    "    model_task=model_task,\n",
    "    batch_size=BATCH_SIZE_LLM,\n",
    "    optimizer_type='adamw',\n",
    "    learning_rate=1e-3,\n",
    "    pruning_type=\"movement_pruning\",\n",
    "    target_sparsity=TARGET_SPARSITY_MID,\n",
    "    sparsity_scheduler='cubic',\n",
    "    finetuned_weights=trained_model_path,\n",
    "    learning_type='bacp_pruning',\n",
    ")\n",
    "bacp_trainer = BaCPTrainer(bacp_training_args)\n",
    "if True:\n",
    "    bacp_trainer.train()\n",
    "\n",
    "# Finetuning Phase\n",
    "bacp_trainer.generate_mask_from_model()\n",
    "training_args = TrainingArguments(\n",
    "    model_name=bacp_trainer.model_name,\n",
    "    model_task=bacp_trainer.model_task,\n",
    "    batch_size=bacp_trainer.batch_size,\n",
    "    optimizer_type='adamw',\n",
    "    learning_rate=1e-3,\n",
    "    pruning_type=bacp_trainer.pruning_type,\n",
    "    target_sparsity=bacp_trainer.target_sparsity,\n",
    "    finetuned_weights=bacp_trainer.save_path,\n",
    "    epochs=50,\n",
    "    pruner=bacp_trainer.get_pruner(),\n",
    "    finetune=True,\n",
    "    learning_type=\"bacp_finetune\",\n",
    ")\n",
    "trainer = Trainer(training_args)\n",
    "if True:\n",
    "    trainer.train()\n",
    "\n",
    "metrics = trainer.evaluate()\n",
    "print(metrics)"
   ]
  },
  {
   "cell_type": "code",
   "execution_count": 0,
   "metadata": {
    "application/vnd.databricks.v1+cell": {
     "cellMetadata": {
      "byteLimit": 2048000,
      "rowLimit": 10000
     },
     "inputWidgets": {},
     "nuid": "6a4a15d8-68c5-484f-bdc7-5bed39634289",
     "showTitle": false,
     "tableResultSettingsMap": {},
     "title": ""
    }
   },
   "outputs": [],
   "source": [
    "model_name = \"distilbert-base-uncased\"\n",
    "model_task = \"wikitext2\"\n",
    "trained_model_path = f\"/dbfs/research/{model_name}/{model_task}/{model_name}_{model_task}_baseline.pt\"\n",
    "\n",
    "bacp_training_args = BaCPTrainingArguments(\n",
    "    model_name=model_name,\n",
    "    model_task=model_task,\n",
    "    batch_size=BATCH_SIZE_LLM,\n",
    "    optimizer_type='adamw',\n",
    "    learning_rate=1e-3,\n",
    "    pruning_type=\"movement_pruning\",\n",
    "    target_sparsity=TARGET_SPARSITY_HIGH,\n",
    "    sparsity_scheduler='cubic',\n",
    "    finetuned_weights=trained_model_path,\n",
    "    learning_type='bacp_pruning',\n",
    ")\n",
    "bacp_trainer = BaCPTrainer(bacp_training_args)\n",
    "if False:\n",
    "    bacp_trainer.train()\n",
    "\n",
    "# Finetuning Phase\n",
    "bacp_trainer.generate_mask_from_model()\n",
    "training_args = TrainingArguments(\n",
    "    model_name=bacp_trainer.model_name,\n",
    "    model_task=bacp_trainer.model_task,\n",
    "    batch_size=bacp_trainer.batch_size,\n",
    "    optimizer_type='adamw',\n",
    "    learning_rate=1e-3,\n",
    "    pruning_type=bacp_trainer.pruning_type,\n",
    "    target_sparsity=bacp_trainer.target_sparsity,\n",
    "    finetuned_weights=bacp_trainer.save_path,\n",
    "    epochs=50,\n",
    "    pruner=bacp_trainer.get_pruner(),\n",
    "    finetune=True,\n",
    "    learning_type=\"bacp_finetune\",\n",
    ")\n",
    "trainer = Trainer(training_args)\n",
    "if True:\n",
    "    trainer.train()\n",
    "\n",
    "metrics = trainer.evaluate()\n",
    "print(metrics)"
   ]
  },
  {
   "cell_type": "markdown",
   "metadata": {
    "application/vnd.databricks.v1+cell": {
     "cellMetadata": {
      "byteLimit": 2048000,
      "rowLimit": 10000
     },
     "inputWidgets": {},
     "nuid": "801a1094-fa19-4155-b57f-ef07f27709c8",
     "showTitle": false,
     "tableResultSettingsMap": {},
     "title": ""
    }
   },
   "source": [
    "### WandA Prune"
   ]
  },
  {
   "cell_type": "code",
   "execution_count": 0,
   "metadata": {
    "application/vnd.databricks.v1+cell": {
     "cellMetadata": {
      "byteLimit": 2048000,
      "rowLimit": 10000
     },
     "inputWidgets": {},
     "nuid": "5ffe7d48-7c1b-4dbd-acde-ec958238105f",
     "showTitle": false,
     "tableResultSettingsMap": {},
     "title": ""
    }
   },
   "outputs": [],
   "source": [
    "trained_model_path = f\"/dbfs/research/{MODEL_NAME}/{MODEL_TASK}/{MODEL_NAME}_{MODEL_TASK}_baseline.pt\"\n",
    "\n",
    "bacp_training_args = BaCPTrainingArguments(\n",
    "    model_name=MODEL_NAME,\n",
    "    model_task=MODEL_TASK,\n",
    "    batch_size=BATCH_SIZE_LLM,   \n",
    "    optimizer_type='adamw',\n",
    "    learning_rate=1e-3,\n",
    "    pruning_type=\"wanda_pruning\",\n",
    "    target_sparsity=TARGET_SPARSITY_LOW,\n",
    "    sparsity_scheduler='cubic',\n",
    "    finetuned_weights=trained_model_path,\n",
    "    learning_type='bacp_pruning',\n",
    ")\n",
    "bacp_trainer = BaCPTrainer(bacp_training_args)\n",
    "if TRAIN:\n",
    "    bacp_trainer.train()\n",
    "\n",
    "# Finetuning Phase\n",
    "bacp_trainer.generate_mask_from_model()\n",
    "training_args = TrainingArguments(\n",
    "    model_name=bacp_trainer.model_name,\n",
    "    model_task=bacp_trainer.model_task,\n",
    "    batch_size=bacp_trainer.batch_size,\n",
    "    optimizer_type='adamw',\n",
    "    learning_rate=1e-3,\n",
    "    pruning_type=bacp_trainer.pruning_type,\n",
    "    target_sparsity=bacp_trainer.target_sparsity,\n",
    "    finetuned_weights=bacp_trainer.save_path,\n",
    "    epochs=50,\n",
    "    pruner=bacp_trainer.get_pruner(),\n",
    "    finetune=True,\n",
    "    learning_type=\"bacp_finetune\",\n",
    ")\n",
    "trainer = Trainer(training_args)\n",
    "if TRAIN:\n",
    "    trainer.train()\n",
    "\n",
    "metrics = trainer.evaluate()\n",
    "print(metrics)"
   ]
  },
  {
   "cell_type": "code",
   "execution_count": 0,
   "metadata": {
    "application/vnd.databricks.v1+cell": {
     "cellMetadata": {
      "byteLimit": 2048000,
      "rowLimit": 10000
     },
     "inputWidgets": {},
     "nuid": "ab59c27b-661f-418b-96dc-d21d351446cd",
     "showTitle": false,
     "tableResultSettingsMap": {},
     "title": ""
    }
   },
   "outputs": [],
   "source": [
    "trained_model_path = f\"/dbfs/research/{MODEL_NAME}/{MODEL_TASK}/{MODEL_NAME}_{MODEL_TASK}_baseline.pt\"\n",
    "\n",
    "bacp_training_args = BaCPTrainingArguments(\n",
    "    model_name=MODEL_NAME,\n",
    "    model_task=MODEL_TASK,\n",
    "    batch_size=BATCH_SIZE_LLM,   \n",
    "    optimizer_type='adamw',\n",
    "    learning_rate=1e-3,\n",
    "    pruning_type=\"wanda_pruning\",\n",
    "    target_sparsity=TARGET_SPARSITY_MID,\n",
    "    sparsity_scheduler='cubic',\n",
    "    finetuned_weights=trained_model_path,\n",
    "    learning_type='bacp_pruning',\n",
    ")\n",
    "bacp_trainer = BaCPTrainer(bacp_training_args)\n",
    "if TRAIN:\n",
    "    bacp_trainer.train()\n",
    "\n",
    "# Finetuning Phase\n",
    "bacp_trainer.generate_mask_from_model()\n",
    "training_args = TrainingArguments(\n",
    "    model_name=bacp_trainer.model_name,\n",
    "    model_task=bacp_trainer.model_task,\n",
    "    batch_size=bacp_trainer.batch_size,\n",
    "    optimizer_type='adamw',\n",
    "    learning_rate=1e-3,\n",
    "    pruning_type=bacp_trainer.pruning_type,\n",
    "    target_sparsity=bacp_trainer.target_sparsity,\n",
    "    finetuned_weights=bacp_trainer.save_path,\n",
    "    epochs=50,\n",
    "    pruner=bacp_trainer.get_pruner(),\n",
    "    finetune=True,\n",
    "    learning_type=\"bacp_finetune\",\n",
    ")\n",
    "trainer = Trainer(training_args)\n",
    "if TRAIN:\n",
    "    trainer.train()\n",
    "\n",
    "metrics = trainer.evaluate()\n",
    "print(metrics)"
   ]
  },
  {
   "cell_type": "code",
   "execution_count": 0,
   "metadata": {
    "application/vnd.databricks.v1+cell": {
     "cellMetadata": {
      "byteLimit": 2048000,
      "rowLimit": 10000
     },
     "inputWidgets": {},
     "nuid": "87f7f4d8-1802-4c32-b7d6-eff885d7d8d4",
     "showTitle": false,
     "tableResultSettingsMap": {},
     "title": ""
    }
   },
   "outputs": [],
   "source": [
    "trained_model_path = f\"/dbfs/research/{MODEL_NAME}/{MODEL_TASK}/{MODEL_NAME}_{MODEL_TASK}_baseline.pt\"\n",
    "\n",
    "bacp_training_args = BaCPTrainingArguments(\n",
    "    model_name=MODEL_NAME,\n",
    "    model_task=MODEL_TASK,\n",
    "    batch_size=BATCH_SIZE_LLM,   \n",
    "    optimizer_type='adamw',\n",
    "    learning_rate=1e-3,\n",
    "    pruning_type=\"wanda_pruning\",\n",
    "    target_sparsity=TARGET_SPARSITY_HIGH,\n",
    "    sparsity_scheduler='cubic',\n",
    "    finetuned_weights=trained_model_path,\n",
    "    learning_type='bacp_pruning',\n",
    ")\n",
    "bacp_trainer = BaCPTrainer(bacp_training_args)\n",
    "if TRAIN:\n",
    "    bacp_trainer.train()\n",
    "\n",
    "# Finetuning Phase\n",
    "bacp_trainer.generate_mask_from_model()\n",
    "training_args = TrainingArguments(\n",
    "    model_name=bacp_trainer.model_name,\n",
    "    model_task=bacp_trainer.model_task,\n",
    "    batch_size=bacp_trainer.batch_size,\n",
    "    optimizer_type='adamw',\n",
    "    learning_rate=1e-3,\n",
    "    pruning_type=bacp_trainer.pruning_type,\n",
    "    target_sparsity=bacp_trainer.target_sparsity,\n",
    "    finetuned_weights=bacp_trainer.save_path,\n",
    "    epochs=50,\n",
    "    pruner=bacp_trainer.get_pruner(),\n",
    "    finetune=True,\n",
    "    learning_type=\"bacp_finetune\",\n",
    ")\n",
    "trainer = Trainer(training_args)\n",
    "if TRAIN:\n",
    "    trainer.train()\n",
    "\n",
    "metrics = trainer.evaluate()\n",
    "print(metrics)"
   ]
  }
 ],
 "metadata": {
  "application/vnd.databricks.v1+notebook": {
   "computePreferences": null,
   "dashboards": [],
   "environmentMetadata": {
    "base_environment": "",
    "environment_version": "2"
   },
   "inputWidgetPreferences": null,
   "language": "python",
   "notebookMetadata": {
    "mostRecentlyExecutedCommandWithImplicitDF": {
     "commandId": 6215900699327025,
     "dataframes": [
      "_sqldf"
     ]
    },
    "pythonIndentUnit": 4
   },
   "notebookName": "DistilBERT_wikitext2",
   "widgets": {}
  },
  "kernelspec": {
   "display_name": "Python 3",
   "language": "python",
   "name": "python3"
  },
  "language_info": {
   "codemirror_mode": {
    "name": "ipython",
    "version": 3
   },
   "file_extension": ".py",
   "mimetype": "text/x-python",
   "name": "python",
   "nbconvert_exporter": "python",
   "pygments_lexer": "ipython3",
   "version": "3.10.12"
  }
 },
 "nbformat": 4,
 "nbformat_minor": 0
}
