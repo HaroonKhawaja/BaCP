{
 "cells": [
  {
   "cell_type": "markdown",
   "metadata": {
    "application/vnd.databricks.v1+cell": {
     "cellMetadata": {
      "byteLimit": 2048000,
      "rowLimit": 10000
     },
     "inputWidgets": {},
     "nuid": "9dbb2fc0-11c7-42b5-8e61-ffdd63d5dc25",
     "showTitle": false,
     "tableResultSettingsMap": {},
     "title": ""
    }
   },
   "source": [
    "# RoBERTa Testing Notebook"
   ]
  },
  {
   "cell_type": "code",
   "execution_count": 12,
   "metadata": {
    "application/vnd.databricks.v1+cell": {
     "cellMetadata": {
      "byteLimit": 2048000,
      "rowLimit": 10000
     },
     "inputWidgets": {},
     "nuid": "58a9ae51-88d5-4a44-9724-222fb310ae08",
     "showTitle": false,
     "tableResultSettingsMap": {},
     "title": ""
    }
   },
   "outputs": [],
   "source": [
    "%load_ext autoreload\n",
    "%autoreload 2\n",
    "# Enables autoreload; learn more at https://docs.databricks.com/en/files/workspace-modules.html#autoreload-for-python-modules\n",
    "# To disable autoreload; run %autoreload 0"
   ]
  },
  {
   "cell_type": "code",
   "execution_count": 13,
   "metadata": {
    "application/vnd.databricks.v1+cell": {
     "cellMetadata": {
      "byteLimit": 2048000,
      "rowLimit": 10000
     },
     "inputWidgets": {},
     "nuid": "d864be54-f8b5-4448-b908-2f110b1e7fa2",
     "showTitle": false,
     "tableResultSettingsMap": {},
     "title": ""
    }
   },
   "outputs": [],
   "source": [
    "import os\n",
    "import sys\n",
    "sys.path.append(os.path.abspath('..'))\n",
    "\n",
    "from constants import (\n",
    "    TARGET_SPARSITY_LOW, TARGET_SPARSITY_MID, TARGET_SPARSITY_HIGH,\n",
    "    BATCH_SIZE_CNN, BATCH_SIZE_VIT, BATCH_SIZE_LLM,\n",
    "    EPOCHS_SMALL_MODEL, EPOCHS_LARGE_MODEL, EPOCHS_VIT\n",
    ")\n",
    "from utils import get_device, get_num_workers, load_weights, print_statistics\n",
    "from unstructured_pruning import check_model_sparsity, check_sparsity_distribution\n",
    "from trainer import TrainingArguments, Trainer\n",
    "from bacp import BaCPTrainingArguments, BaCPTrainer\n",
    "\n",
    "from datasets.utils.logging import disable_progress_bar\n",
    "disable_progress_bar()\n",
    "os.environ[\"HF_DATASETS_CACHE\"] = \"./cache\"\n",
    "os.environ[\"TOKENIZERS_PARALLELISM\"] = \"false\" \n"
   ]
  },
  {
   "cell_type": "code",
   "execution_count": 14,
   "metadata": {},
   "outputs": [
    {
     "name": "stdout",
     "output_type": "stream",
     "text": [
      "Using device: cuda\n",
      "Using 288 workers\n"
     ]
    }
   ],
   "source": [
    "DEVICE = get_device()\n",
    "NUM_WORKERS = get_num_workers()\n",
    "print(\"Using device:\", DEVICE)\n",
    "print(\"Using\", NUM_WORKERS, \"workers\")"
   ]
  },
  {
   "cell_type": "code",
   "execution_count": 24,
   "metadata": {
    "application/vnd.databricks.v1+cell": {
     "cellMetadata": {
      "byteLimit": 2048000,
      "rowLimit": 10000
     },
     "inputWidgets": {},
     "nuid": "3b9a306d-0095-4803-9684-d7530d217884",
     "showTitle": false,
     "tableResultSettingsMap": {},
     "title": ""
    }
   },
   "outputs": [],
   "source": [
    "MODEL_NAME = \"roberta-base\"\n",
    "MODEL_TASK = \"sst2\"\n",
    "TRAIN = True"
   ]
  },
  {
   "cell_type": "markdown",
   "metadata": {
    "application/vnd.databricks.v1+cell": {
     "cellMetadata": {
      "byteLimit": 2048000,
      "rowLimit": 10000
     },
     "inputWidgets": {},
     "nuid": "22ccfbfc-6204-4ca3-b707-7ad645dcce8a",
     "showTitle": false,
     "tableResultSettingsMap": {},
     "title": ""
    }
   },
   "source": [
    "## Baseline Accuracies"
   ]
  },
  {
   "cell_type": "code",
   "execution_count": 16,
   "metadata": {
    "application/vnd.databricks.v1+cell": {
     "cellMetadata": {
      "byteLimit": 2048000,
      "rowLimit": 10000
     },
     "inputWidgets": {},
     "nuid": "7aeec2d7-7476-4e02-959a-ee25673c4620",
     "showTitle": false,
     "tableResultSettingsMap": {},
     "title": ""
    }
   },
   "outputs": [
    {
     "name": "stderr",
     "output_type": "stream",
     "text": [
      "Some weights of RobertaForSequenceClassification were not initialized from the model checkpoint at roberta-base and are newly initialized: ['classifier.dense.bias', 'classifier.dense.weight', 'classifier.out_proj.bias', 'classifier.out_proj.weight']\n",
      "You should probably TRAIN this model on a down-stream task to be able to use it for predictions and inference.\n"
     ]
    },
    {
     "name": "stdout",
     "output_type": "stream",
     "text": [
      "[TRAINER] Image size: None\n",
      "[TRAINER] Initialized models\n",
      "[TRAINER] Optimizer type w/ learning rate: (adamw, 2e-05)\n",
      "[DATALOADERS] ['train', 'validation', 'test']\n",
      "[TRAINER] Data Initialized for model task: sst2\n",
      "[TRAINER] Batch size: 64\n",
      "[TRAINER] Number of dataloders: 2\n",
      "[TRAINER] Linear scheduler initialized with warmup steps: 526 and total steps: 5260\n",
      "[TRAINER] Pruning not initialized\n",
      "[TRAINER] Saving model to: ./research/roberta-base/sst2/roberta-base_sst2_baseline.pt\n",
      "[TRAINER] Loading weights: ./research/roberta-base/sst2/roberta-base_sst2_baseline.pt\n",
      "[TRAINER] Weights loaded successfully\n",
      "[TRAINER] Model Sparsity: 0.0\n"
     ]
    },
    {
     "name": "stderr",
     "output_type": "stream",
     "text": [
      "Evaluating:   0%|          | 0/13 [00:00<?, ?it/s]/usr/local/lib/python3.10/dist-packages/torch/nn/modules/module.py:1784: FutureWarning: `encoder_attention_mask` is deprecated and will be removed in version 4.55.0 for `RobertaSdpaSelfAttention.forward`.\n",
      "  return forward_call(*args, **kwargs)\n",
      "                                                           "
     ]
    },
    {
     "name": "stdout",
     "output_type": "stream",
     "text": [
      "\n",
      "============================================================\n",
      "TRAINING STATISTICS SUMMARY\n",
      "============================================================\n",
      "\n",
      "Performance Metrics:\n",
      "------------------------------\n",
      "  Accuracy:     94.83%\n",
      "\n",
      "Model Information:\n",
      "------------------------------\n",
      "  Total Parameters:     124,647,170\n",
      "  Trainable Parameters: 124,647,170\n",
      "  Model Sparsity:       0.0000 (0.00%)\n",
      "\n",
      "Training Configuration:\n",
      "------------------------------\n",
      "  Model:                roberta-base\n",
      "  Task:                 sst2\n",
      "  Learning Type:        baseline\n",
      "  Batch Size:           64\n",
      "  Learning Rate:        2e-05\n",
      "  Optimizer:            adamw\n",
      "  Epochs:               5\n",
      "\n",
      "System Information:\n",
      "------------------------------\n",
      "  Device:               cuda\n",
      "  Mixed Precision:      True\n",
      "  Workers:              24\n",
      "\n",
      "============================================================\n"
     ]
    },
    {
     "name": "stderr",
     "output_type": "stream",
     "text": [
      "\r"
     ]
    }
   ],
   "source": [
    "training_args = TrainingArguments(\n",
    "    model_name=MODEL_NAME,\n",
    "    model_task=MODEL_TASK,\n",
    "    batch_size=BATCH_SIZE_LLM,\n",
    "    optimizer_type_and_lr=('adamw', 2e-5),\n",
    "    scheduler_type='linear_with_warmup',\n",
    "    epochs=5,\n",
    "    learning_type=\"baseline\",\n",
    "    db=False\n",
    ")\n",
    "trainer = Trainer(training_args=training_args)\n",
    "if TRAIN:\n",
    "    trainer.train()\n",
    "\n",
    "metrics = trainer.evaluate()\n",
    "print_statistics(metrics, trainer)"
   ]
  },
  {
   "cell_type": "markdown",
   "metadata": {
    "application/vnd.databricks.v1+cell": {
     "cellMetadata": {
      "byteLimit": 2048000,
      "rowLimit": 10000
     },
     "inputWidgets": {},
     "nuid": "7be69d1d-373f-4b12-a48d-9ab5140e1728",
     "showTitle": false,
     "tableResultSettingsMap": {},
     "title": ""
    }
   },
   "source": [
    "## Pruning Accuracies"
   ]
  },
  {
   "cell_type": "markdown",
   "metadata": {
    "application/vnd.databricks.v1+cell": {
     "cellMetadata": {
      "byteLimit": 2048000,
      "rowLimit": 10000
     },
     "inputWidgets": {},
     "nuid": "8d58a036-4334-44c0-823e-031ae7e08669",
     "showTitle": false,
     "tableResultSettingsMap": {},
     "title": ""
    }
   },
   "source": [
    "### Magnitude Prune"
   ]
  },
  {
   "cell_type": "code",
   "execution_count": 17,
   "metadata": {
    "application/vnd.databricks.v1+cell": {
     "cellMetadata": {
      "byteLimit": 2048000,
      "rowLimit": 10000
     },
     "inputWidgets": {},
     "nuid": "d98519d4-561a-4ecd-9fc3-9c5394efc5e1",
     "showTitle": false,
     "tableResultSettingsMap": {},
     "title": ""
    }
   },
   "outputs": [
    {
     "name": "stderr",
     "output_type": "stream",
     "text": [
      "Some weights of RobertaForSequenceClassification were not initialized from the model checkpoint at roberta-base and are newly initialized: ['classifier.dense.bias', 'classifier.dense.weight', 'classifier.out_proj.bias', 'classifier.out_proj.weight']\n",
      "You should probably TRAIN this model on a down-stream task to be able to use it for predictions and inference.\n"
     ]
    },
    {
     "name": "stdout",
     "output_type": "stream",
     "text": [
      "[TRAINER] Image size: None\n",
      "[TRAINER] Initialized models\n",
      "[TRAINER] Loading weights: ./research/roberta-base/sst2/roberta-base_sst2_baseline.pt\n",
      "[TRAINER] Weights loaded\n",
      "[TRAINER] Optimizer type w/ learning rate: (adamw, 5e-05)\n",
      "[DATALOADERS] ['train', 'validation', 'test']\n",
      "[TRAINER] Data Initialized for model task: sst2\n",
      "[TRAINER] Batch size: 64\n",
      "[TRAINER] Number of dataloders: 2\n",
      "[TRAINER] No scheduler initialized\n",
      "[TRAINER] Pruning initialized\n",
      "[TRAINER] Pruning type: magnitude_pruning\n",
      "[TRAINER] Target sparsity: 0.95\n",
      "[TRAINER] Sparsity scheduler: cubic\n",
      "[TRAINER] Pruning epochs: 5\n",
      "[TRAINER] Current sparsity: 0.0000\n",
      "[TRAINER] Saving model to: ./research/roberta-base/sst2/roberta-base_sst2_magnitude_pruning_0.95_pruning.pt\n",
      "[TRAINER] Loading weights: ./research/roberta-base/sst2/roberta-base_sst2_magnitude_pruning_0.95_pruning.pt\n",
      "[ERROR] Could not load weights. Path does not exist: ./research/roberta-base/sst2/roberta-base_sst2_magnitude_pruning_0.95_pruning.pt\n"
     ]
    },
    {
     "ename": "Exception",
     "evalue": "Error loading weights: {path}",
     "output_type": "error",
     "traceback": [
      "\u001b[0;31m---------------------------------------------------------------------------\u001b[0m",
      "\u001b[0;31mException\u001b[0m                                 Traceback (most recent call last)",
      "Cell \u001b[0;32mIn[17], line 19\u001b[0m\n\u001b[1;32m     16\u001b[0m \u001b[38;5;28;01mif\u001b[39;00m TRAIN:\n\u001b[1;32m     17\u001b[0m     trainer\u001b[38;5;241m.\u001b[39mtrain()\n\u001b[0;32m---> 19\u001b[0m metrics \u001b[38;5;241m=\u001b[39m \u001b[43mtrainer\u001b[49m\u001b[38;5;241;43m.\u001b[39;49m\u001b[43mevaluate\u001b[49m\u001b[43m(\u001b[49m\u001b[43m)\u001b[49m\n\u001b[1;32m     20\u001b[0m print_statistics(metrics, trainer)\n",
      "File \u001b[0;32m~/BaCP/project/trainer.py:389\u001b[0m, in \u001b[0;36mTrainer.evaluate\u001b[0;34m(self, load)\u001b[0m\n\u001b[1;32m    387\u001b[0m \u001b[38;5;28;01mif\u001b[39;00m load:\n\u001b[1;32m    388\u001b[0m     \u001b[38;5;28mprint\u001b[39m(\u001b[38;5;124mf\u001b[39m\u001b[38;5;124m\"\u001b[39m\u001b[38;5;124m[TRAINER] Loading weights: \u001b[39m\u001b[38;5;132;01m{\u001b[39;00m\u001b[38;5;28mself\u001b[39m\u001b[38;5;241m.\u001b[39msave_path\u001b[38;5;132;01m}\u001b[39;00m\u001b[38;5;124m\"\u001b[39m)\n\u001b[0;32m--> 389\u001b[0m     \u001b[38;5;28;01mif\u001b[39;00m \u001b[38;5;28mself\u001b[39m\u001b[38;5;241m.\u001b[39msave_path \u001b[38;5;129;01mand\u001b[39;00m \u001b[43mload_weights\u001b[49m\u001b[43m(\u001b[49m\u001b[38;5;28;43mself\u001b[39;49m\u001b[38;5;241;43m.\u001b[39;49m\u001b[43mmodel\u001b[49m\u001b[43m,\u001b[49m\u001b[43m \u001b[49m\u001b[38;5;28;43mself\u001b[39;49m\u001b[38;5;241;43m.\u001b[39;49m\u001b[43msave_path\u001b[49m\u001b[43m)\u001b[49m:\n\u001b[1;32m    390\u001b[0m         \u001b[38;5;28mprint\u001b[39m(\u001b[38;5;124m\"\u001b[39m\u001b[38;5;124m[TRAINER] Weights loaded successfully\u001b[39m\u001b[38;5;124m\"\u001b[39m)\n\u001b[1;32m    391\u001b[0m     \u001b[38;5;28;01melse\u001b[39;00m:\n",
      "File \u001b[0;32m~/BaCP/project/utils.py:36\u001b[0m, in \u001b[0;36mload_weights\u001b[0;34m(model, path)\u001b[0m\n\u001b[1;32m     34\u001b[0m \u001b[38;5;28;01mif\u001b[39;00m \u001b[38;5;129;01mnot\u001b[39;00m os\u001b[38;5;241m.\u001b[39mpath\u001b[38;5;241m.\u001b[39mexists(path):\n\u001b[1;32m     35\u001b[0m     \u001b[38;5;28mprint\u001b[39m(\u001b[38;5;124mf\u001b[39m\u001b[38;5;124m\"\u001b[39m\u001b[38;5;124m[ERROR] Could not load weights. Path does not exist: \u001b[39m\u001b[38;5;132;01m{\u001b[39;00mpath\u001b[38;5;132;01m}\u001b[39;00m\u001b[38;5;124m\"\u001b[39m)\n\u001b[0;32m---> 36\u001b[0m     \u001b[38;5;28;01mraise\u001b[39;00m \u001b[38;5;167;01mException\u001b[39;00m(\u001b[38;5;124m\"\u001b[39m\u001b[38;5;124mError loading weights: \u001b[39m\u001b[38;5;132;01m{path}\u001b[39;00m\u001b[38;5;124m\"\u001b[39m)\n\u001b[1;32m     37\u001b[0m \u001b[38;5;28;01mtry\u001b[39;00m:\n\u001b[1;32m     38\u001b[0m     state_dict \u001b[38;5;241m=\u001b[39m torch\u001b[38;5;241m.\u001b[39mload(path, map_location\u001b[38;5;241m=\u001b[39mget_device())\n",
      "\u001b[0;31mException\u001b[0m: Error loading weights: {path}"
     ]
    }
   ],
   "source": [
    "# Initializing finetuned weights path\n",
    "finetuned_weights = f\"./research/{MODEL_NAME}/{MODEL_TASK}/{MODEL_NAME}_{MODEL_TASK}_baseline.pt\"\n",
    "training_args = TrainingArguments(\n",
    "    model_name=MODEL_NAME,\n",
    "    model_task=MODEL_TASK,\n",
    "    batch_size=BATCH_SIZE_LLM,\n",
    "    optimizer_type_and_lr=('adamw', 5e-5),\n",
    "    pruning_type=\"magnitude_pruning\",\n",
    "    target_sparsity=TARGET_SPARSITY_LOW,\n",
    "    sparsity_scheduler='cubic',\n",
    "    finetuned_weights=finetuned_weights,\n",
    "    learning_type=\"pruning\",\n",
    "    db=False,\n",
    ")\n",
    "trainer = Trainer(training_args)\n",
    "if TRAIN:\n",
    "    trainer.train()\n",
    "\n",
    "metrics = trainer.evaluate()\n",
    "print_statistics(metrics, trainer)"
   ]
  },
  {
   "cell_type": "code",
   "execution_count": null,
   "metadata": {
    "application/vnd.databricks.v1+cell": {
     "cellMetadata": {
      "byteLimit": 2048000,
      "rowLimit": 10000
     },
     "inputWidgets": {},
     "nuid": "defe99f3-fbdb-4502-b1a1-d11ce121da08",
     "showTitle": false,
     "tableResultSettingsMap": {},
     "title": ""
    }
   },
   "outputs": [],
   "source": [
    "# Initializing finetuned weights path\n",
    "finetuned_weights = f\"./research/{MODEL_NAME}/{MODEL_TASK}/{MODEL_NAME}_{MODEL_TASK}_baseline.pt\"\n",
    "training_args = TrainingArguments(\n",
    "    model_name=MODEL_NAME,\n",
    "    model_task=MODEL_TASK,\n",
    "    batch_size=BATCH_SIZE_LLM,\n",
    "    optimizer_type_and_lr=('adamw', 5e-5),\n",
    "    pruning_type=\"magnitude_pruning\",\n",
    "    target_sparsity=TARGET_SPARSITY_MID,\n",
    "    sparsity_scheduler='cubic',\n",
    "    finetuned_weights=finetuned_weights,\n",
    "    learning_type=\"pruning\",\n",
    "    db=False,\n",
    ")\n",
    "trainer = Trainer(training_args)\n",
    "if False:\n",
    "    trainer.train()\n",
    "\n",
    "metrics = trainer.evaluate()\n",
    "print_statistics(metrics, trainer)"
   ]
  },
  {
   "cell_type": "code",
   "execution_count": null,
   "metadata": {
    "application/vnd.databricks.v1+cell": {
     "cellMetadata": {
      "byteLimit": 2048000,
      "rowLimit": 10000
     },
     "inputWidgets": {},
     "nuid": "97ba3b50-f1da-447b-9cb2-909914a423a6",
     "showTitle": false,
     "tableResultSettingsMap": {},
     "title": ""
    }
   },
   "outputs": [],
   "source": [
    "# Initializing finetuned weights path\n",
    "finetuned_weights = f\"./research/{MODEL_NAME}/{MODEL_TASK}/{MODEL_NAME}_{MODEL_TASK}_baseline.pt\"\n",
    "training_args = TrainingArguments(\n",
    "    model_name=MODEL_NAME,\n",
    "    model_task=MODEL_TASK,\n",
    "    batch_size=BATCH_SIZE_LLM,\n",
    "    optimizer_type_and_lr=('adamw', 5e-5),\n",
    "    pruning_type=\"magnitude_pruning\",\n",
    "    target_sparsity=TARGET_SPARSITY_HIGH,\n",
    "    sparsity_scheduler='cubic',\n",
    "    finetuned_weights=finetuned_weights,\n",
    "    learning_type=\"pruning\",\n",
    "    db=False,\n",
    ")\n",
    "trainer = Trainer(training_args)\n",
    "if False:\n",
    "    trainer.train()\n",
    "\n",
    "metrics = trainer.evaluate()\n",
    "print_statistics(metrics, trainer)"
   ]
  },
  {
   "cell_type": "markdown",
   "metadata": {
    "application/vnd.databricks.v1+cell": {
     "cellMetadata": {
      "byteLimit": 2048000,
      "rowLimit": 10000
     },
     "inputWidgets": {},
     "nuid": "f4d1270a-6f28-4e85-8416-c473016644cf",
     "showTitle": false,
     "tableResultSettingsMap": {},
     "title": ""
    }
   },
   "source": [
    "### SNIP-it Prune"
   ]
  },
  {
   "cell_type": "code",
   "execution_count": null,
   "metadata": {
    "application/vnd.databricks.v1+cell": {
     "cellMetadata": {
      "byteLimit": 2048000,
      "rowLimit": 10000
     },
     "inputWidgets": {},
     "nuid": "ab38d80e-18d7-4212-a829-d6d300d611cd",
     "showTitle": false,
     "tableResultSettingsMap": {},
     "title": ""
    }
   },
   "outputs": [],
   "source": [
    "# Initializing finetuned weights path\n",
    "finetuned_weights = f\"./research/{MODEL_NAME}/{MODEL_TASK}/{MODEL_NAME}_{MODEL_TASK}_baseline.pt\"\n",
    "training_args = TrainingArguments(\n",
    "    model_name=MODEL_NAME,\n",
    "    model_task=MODEL_TASK,\n",
    "    batch_size=BATCH_SIZE_LLM,\n",
    "    optimizer_type_and_lr=('adamw', 5e-5),\n",
    "    pruning_type=\"snip_pruning\",\n",
    "    target_sparsity=TARGET_SPARSITY_LOW,\n",
    "    sparsity_scheduler='cubic',\n",
    "    finetuned_weights=finetuned_weights,\n",
    "    learning_type=\"pruning\",\n",
    "    db=False,\n",
    ")\n",
    "trainer = Trainer(training_args)\n",
    "if False:\n",
    "    trainer.train()\n",
    "\n",
    "metrics = trainer.evaluate()\n",
    "print_statistics(metrics, trainer)"
   ]
  },
  {
   "cell_type": "code",
   "execution_count": null,
   "metadata": {
    "application/vnd.databricks.v1+cell": {
     "cellMetadata": {
      "byteLimit": 2048000,
      "rowLimit": 10000
     },
     "inputWidgets": {},
     "nuid": "d511df92-bbae-4f32-88be-368dab9b0d5c",
     "showTitle": false,
     "tableResultSettingsMap": {},
     "title": ""
    }
   },
   "outputs": [],
   "source": [
    "# Initializing finetuned weights path\n",
    "finetuned_weights = f\"./research/{MODEL_NAME}/{MODEL_TASK}/{MODEL_NAME}_{MODEL_TASK}_baseline.pt\"\n",
    "training_args = TrainingArguments(\n",
    "    model_name=MODEL_NAME,\n",
    "    model_task=MODEL_TASK,\n",
    "    batch_size=BATCH_SIZE_LLM,\n",
    "    optimizer_type_and_lr=('adamw', 5e-5),\n",
    "    pruning_type=\"snip_pruning\",\n",
    "    target_sparsity=TARGET_SPARSITY_MID,\n",
    "    sparsity_scheduler='cubic',\n",
    "    finetuned_weights=finetuned_weights,\n",
    "    learning_type=\"pruning\",\n",
    "    db=False,\n",
    ")\n",
    "trainer = Trainer(training_args)\n",
    "if False:\n",
    "    trainer.train()\n",
    "\n",
    "metrics = trainer.evaluate()\n",
    "print_statistics(metrics, trainer)"
   ]
  },
  {
   "cell_type": "code",
   "execution_count": null,
   "metadata": {
    "application/vnd.databricks.v1+cell": {
     "cellMetadata": {
      "byteLimit": 2048000,
      "rowLimit": 10000
     },
     "inputWidgets": {},
     "nuid": "44235e91-261e-4573-ba7a-e422171d8e37",
     "showTitle": false,
     "tableResultSettingsMap": {},
     "title": ""
    }
   },
   "outputs": [],
   "source": [
    "# Initializing finetuned weights path\n",
    "finetuned_weights = f\"./research/{MODEL_NAME}/{MODEL_TASK}/{MODEL_NAME}_{MODEL_TASK}_baseline.pt\"\n",
    "training_args = TrainingArguments(\n",
    "    model_name=MODEL_NAME,\n",
    "    model_task=MODEL_TASK,\n",
    "    batch_size=BATCH_SIZE_LLM,\n",
    "    optimizer_type_and_lr=('adamw', 5e-5),\n",
    "    pruning_type=\"snip_pruning\",\n",
    "    target_sparsity=TARGET_SPARSITY_HIGH,\n",
    "    sparsity_scheduler='cubic',\n",
    "    finetuned_weights=finetuned_weights,\n",
    "    learning_type=\"pruning\",\n",
    "    db=False,\n",
    ")\n",
    "trainer = Trainer(training_args)\n",
    "if False:\n",
    "    trainer.train()\n",
    "\n",
    "metrics = trainer.evaluate()\n",
    "print_statistics(metrics, trainer)"
   ]
  },
  {
   "cell_type": "markdown",
   "metadata": {
    "application/vnd.databricks.v1+cell": {
     "cellMetadata": {
      "byteLimit": 2048000,
      "rowLimit": 10000
     },
     "inputWidgets": {},
     "nuid": "0b8b53cd-9626-4b42-8655-6cfe9cf07194",
     "showTitle": false,
     "tableResultSettingsMap": {},
     "title": ""
    }
   },
   "source": [
    "### WandA Prune"
   ]
  },
  {
   "cell_type": "code",
   "execution_count": 0,
   "metadata": {
    "application/vnd.databricks.v1+cell": {
     "cellMetadata": {
      "byteLimit": 2048000,
      "rowLimit": 10000
     },
     "inputWidgets": {},
     "nuid": "6f4ffcd4-02dd-41d9-9870-36e12b20926f",
     "showTitle": false,
     "tableResultSettingsMap": {},
     "title": ""
    }
   },
   "outputs": [],
   "source": [
    "# Initializing finetuned weights path\n",
    "finetuned_weights = f\"./research/{MODEL_NAME}/{MODEL_TASK}/{MODEL_NAME}_{MODEL_TASK}_baseline.pt\"\n",
    "training_args = TrainingArguments(\n",
    "    model_name=MODEL_NAME,\n",
    "    model_task=MODEL_TASK,\n",
    "    batch_size=BATCH_SIZE_LLM,\n",
    "    optimizer_type_and_lr=('adamw', 5e-5),\n",
    "    pruning_type=\"wanda_pruning\",\n",
    "    target_sparsity=TARGET_SPARSITY_LOW,\n",
    "    sparsity_scheduler='cubic',\n",
    "    finetuned_weights=finetuned_weights,\n",
    "    learning_type=\"pruning\",\n",
    "    db=False,\n",
    ")\n",
    "trainer = Trainer(training_args)\n",
    "if TRAIN:\n",
    "    trainer.train()\n",
    "\n",
    "metrics = trainer.evaluate()\n",
    "print_statistics(metrics, trainer)"
   ]
  },
  {
   "cell_type": "code",
   "execution_count": 0,
   "metadata": {
    "application/vnd.databricks.v1+cell": {
     "cellMetadata": {
      "byteLimit": 2048000,
      "rowLimit": 10000
     },
     "inputWidgets": {},
     "nuid": "79cfef5e-ce9c-40e6-873f-05e90d5c2ee5",
     "showTitle": false,
     "tableResultSettingsMap": {},
     "title": ""
    }
   },
   "outputs": [],
   "source": [
    "# Initializing finetuned weights path\n",
    "finetuned_weights = f\"./research/{MODEL_NAME}/{MODEL_TASK}/{MODEL_NAME}_{MODEL_TASK}_baseline.pt\"\n",
    "training_args = TrainingArguments(\n",
    "    model_name=MODEL_NAME,\n",
    "    model_task=MODEL_TASK,\n",
    "    batch_size=BATCH_SIZE_LLM,\n",
    "    optimizer_type_and_lr=('adamw', 5e-5),\n",
    "    pruning_type=\"wanda_pruning\",\n",
    "    target_sparsity=TARGET_SPARSITY_MID,\n",
    "    sparsity_scheduler='cubic',\n",
    "    finetuned_weights=finetuned_weights,\n",
    "    learning_type=\"pruning\",\n",
    "    db=False,\n",
    ")\n",
    "trainer = Trainer(training_args)\n",
    "if TRAIN:\n",
    "    trainer.train()\n",
    "\n",
    "metrics = trainer.evaluate()\n",
    "print_statistics(metrics, trainer)"
   ]
  },
  {
   "cell_type": "code",
   "execution_count": null,
   "metadata": {
    "application/vnd.databricks.v1+cell": {
     "cellMetadata": {
      "byteLimit": 2048000,
      "rowLimit": 10000
     },
     "inputWidgets": {},
     "nuid": "66a21b89-e8aa-4377-a402-7e1cd7f66155",
     "showTitle": false,
     "tableResultSettingsMap": {},
     "title": ""
    }
   },
   "outputs": [],
   "source": [
    "# Initializing finetuned weights path\n",
    "finetuned_weights = f\"./research/{MODEL_NAME}/{MODEL_TASK}/{MODEL_NAME}_{MODEL_TASK}_baseline.pt\"\n",
    "training_args = TrainingArguments(\n",
    "    model_name=MODEL_NAME,\n",
    "    model_task=MODEL_TASK,\n",
    "    batch_size=BATCH_SIZE_LLM,\n",
    "    optimizer_type_and_lr=('adamw', 5e-5),\n",
    "    pruning_type=\"wanda_pruning\",\n",
    "    target_sparsity=TARGET_SPARSITY_HIGH,\n",
    "    sparsity_scheduler='cubic',\n",
    "    finetuned_weights=finetuned_weights,\n",
    "    learning_type=\"pruning\",\n",
    "    db=False,\n",
    ")\n",
    "trainer = Trainer(training_args)\n",
    "if TRAIN:\n",
    "    trainer.train()\n",
    "\n",
    "metrics = trainer.evaluate()\n",
    "print_statistics(metrics, trainer)"
   ]
  },
  {
   "cell_type": "markdown",
   "metadata": {
    "application/vnd.databricks.v1+cell": {
     "cellMetadata": {
      "byteLimit": 2048000,
      "rowLimit": 10000
     },
     "inputWidgets": {},
     "nuid": "8747bf0e-75c0-4843-8ad7-071bbba5a572",
     "showTitle": false,
     "tableResultSettingsMap": {},
     "title": ""
    }
   },
   "source": [
    "## BaCP Accuracies"
   ]
  },
  {
   "cell_type": "markdown",
   "metadata": {
    "application/vnd.databricks.v1+cell": {
     "cellMetadata": {
      "byteLimit": 2048000,
      "rowLimit": 10000
     },
     "inputWidgets": {},
     "nuid": "1377dc7a-a6aa-4c85-8f45-936363972746",
     "showTitle": false,
     "tableResultSettingsMap": {},
     "title": ""
    }
   },
   "source": [
    "### Magnitude Pruning"
   ]
  },
  {
   "cell_type": "code",
   "execution_count": 18,
   "metadata": {
    "application/vnd.databricks.v1+cell": {
     "cellMetadata": {
      "byteLimit": 2048000,
      "rowLimit": 10000
     },
     "inputWidgets": {},
     "nuid": "aff970cc-9d97-4f8a-badb-d07656bc8ade",
     "showTitle": false,
     "tableResultSettingsMap": {},
     "title": ""
    }
   },
   "outputs": [
    {
     "name": "stderr",
     "output_type": "stream",
     "text": [
      "Some weights of RobertaForSequenceClassification were not initialized from the model checkpoint at roberta-base and are newly initialized: ['classifier.dense.bias', 'classifier.dense.weight', 'classifier.out_proj.bias', 'classifier.out_proj.weight']\n",
      "You should probably TRAIN this model on a down-stream task to be able to use it for predictions and inference.\n"
     ]
    },
    {
     "name": "stdout",
     "output_type": "stream",
     "text": [
      "[TRAINER] Image size: None\n",
      "[TRAINER] Weights loaded successfully\n",
      "[TRAINER] Initialized BaCP models\n",
      "[TRAINER] Optimizer type w/ learning rate: (adamw, 1e-05)\n",
      "[TRAINER] No scheduler initialized\n",
      "[DATALOADERS] ['train', 'validation', 'test']\n",
      "[TRAINER] Data Initialized for model task: sst2\n",
      "[TRAINER] Batch size: 64\n",
      "[TRAINER] Number of dataloders: 2\n",
      "[TRAINER] Pruning initialized\n",
      "[TRAINER] Pruning type: magnitude_pruning\n",
      "[TRAINER] Target sparsity: 0.95\n",
      "[TRAINER] Sparsity scheduler: cubic\n",
      "[TRAINER] Pruning epochs: 5\n",
      "[TRAINER] Current sparsity: 0.0000\n",
      "[TRAINER] Saving model to: ./research/roberta-base/sst2/roberta-base_sst2_magnitude_pruning_0.95_bacp_pruning.pt\n",
      "[BaCP TRAINER] Mask generated from current model.\n"
     ]
    },
    {
     "name": "stderr",
     "output_type": "stream",
     "text": [
      "Some weights of RobertaForSequenceClassification were not initialized from the model checkpoint at roberta-base and are newly initialized: ['classifier.dense.bias', 'classifier.dense.weight', 'classifier.out_proj.bias', 'classifier.out_proj.weight']\n",
      "You should probably TRAIN this model on a down-stream task to be able to use it for predictions and inference.\n"
     ]
    },
    {
     "name": "stdout",
     "output_type": "stream",
     "text": [
      "[TRAINER] Image size: None\n",
      "[TRAINER] Initialized models\n",
      "[TRAINER] Loading weights: ./research/roberta-base/sst2/roberta-base_sst2_magnitude_pruning_0.95_bacp_pruning.pt\n",
      "[TRAINER] Weights loaded\n",
      "[TRAINER] Optimizer type w/ learning rate: (adamw, 2e-05)\n",
      "[DATALOADERS] ['train', 'validation', 'test']\n",
      "[TRAINER] Data Initialized for model task: sst2\n",
      "[TRAINER] Batch size: 64\n",
      "[TRAINER] Number of dataloders: 2\n",
      "[TRAINER] No scheduler initialized\n",
      "[TRAINER] Finetuning initialized\n",
      "[TRAINER] Pruning type: magnitude_pruning\n",
      "[TRAINER] Current sparsity: 0.9500\n",
      "[TRAINER] Saving model to: ./research/roberta-base/sst2/roberta-base_sst2_magnitude_pruning_0.95_bacp_finetune.pt\n",
      "[TRAINER] Loading weights: ./research/roberta-base/sst2/roberta-base_sst2_magnitude_pruning_0.95_bacp_finetune.pt\n",
      "[TRAINER] Weights loaded successfully\n",
      "[TRAINER] Model Sparsity: 0.95\n"
     ]
    },
    {
     "name": "stderr",
     "output_type": "stream",
     "text": [
      "Evaluating:   0%|          | 0/13 [00:00<?, ?it/s]/usr/local/lib/python3.10/dist-packages/torch/nn/modules/module.py:1784: FutureWarning: `encoder_attention_mask` is deprecated and will be removed in version 4.55.0 for `RobertaSdpaSelfAttention.forward`.\n",
      "  return forward_call(*args, **kwargs)\n",
      "                                                           "
     ]
    },
    {
     "name": "stdout",
     "output_type": "stream",
     "text": [
      "\n",
      "============================================================\n",
      "TRAINING STATISTICS SUMMARY\n",
      "============================================================\n",
      "\n",
      "Performance Metrics:\n",
      "------------------------------\n",
      "  Accuracy:     83.41%\n",
      "\n",
      "Model Information:\n",
      "------------------------------\n",
      "  Total Parameters:     124,647,170\n",
      "  Trainable Parameters: 124,647,170\n",
      "  Model Sparsity:       0.9500 (95.00%)\n",
      "\n",
      "Training Configuration:\n",
      "------------------------------\n",
      "  Model:                roberta-base\n",
      "  Task:                 sst2\n",
      "  Learning Type:        bacp_finetune\n",
      "  Batch Size:           64\n",
      "  Learning Rate:        2e-05\n",
      "  Optimizer:            adamw\n",
      "  Epochs:               10\n",
      "\n",
      "System Information:\n",
      "------------------------------\n",
      "  Device:               cuda\n",
      "  Mixed Precision:      True\n",
      "  Workers:              24\n",
      "\n",
      "============================================================\n"
     ]
    },
    {
     "name": "stderr",
     "output_type": "stream",
     "text": [
      "\r"
     ]
    }
   ],
   "source": [
    "finetuned_weights = f\"./research/{MODEL_NAME}/{MODEL_TASK}/{MODEL_NAME}_{MODEL_TASK}_baseline.pt\"\n",
    "\n",
    "bacp_training_args = BaCPTrainingArguments(\n",
    "    model_name=MODEL_NAME,\n",
    "    model_task=MODEL_TASK,\n",
    "    batch_size=BATCH_SIZE_LLM,\n",
    "    optimizer_type_and_lr=('adamw', 1e-5),\n",
    "    pruning_type=\"magnitude_pruning\",\n",
    "    target_sparsity=TARGET_SPARSITY_LOW,\n",
    "    sparsity_scheduler='cubic',\n",
    "    finetuned_weights=finetuned_weights,\n",
    "    learning_type='bacp_pruning',\n",
    "    db=False,\n",
    "    )\n",
    "bacp_trainer = BaCPTrainer(bacp_training_args)\n",
    "if TRAIN:\n",
    "    bacp_trainer.train()\n",
    "\n",
    "# Finetuning Phase\n",
    "bacp_trainer.generate_mask_from_model()\n",
    "training_args = TrainingArguments(\n",
    "    model_name=bacp_trainer.model_name,\n",
    "    model_task=bacp_trainer.model_task,\n",
    "    batch_size=bacp_trainer.batch_size,\n",
    "    optimizer_type_and_lr=('adamw', 2e-5),\n",
    "    pruner=bacp_trainer.get_pruner(),\n",
    "    pruning_type=bacp_trainer.pruning_type,\n",
    "    target_sparsity=bacp_trainer.target_sparsity,\n",
    "    finetuned_weights=bacp_trainer.save_path,\n",
    "    finetune=True,\n",
    "    learning_type=\"bacp_finetune\",\n",
    "    epochs=10,\n",
    "    db=False,\n",
    ")\n",
    "trainer = Trainer(training_args)\n",
    "if TRAIN:\n",
    "    trainer.train()\n",
    "\n",
    "metrics = trainer.evaluate()\n",
    "print_statistics(metrics, trainer)\n"
   ]
  },
  {
   "cell_type": "code",
   "execution_count": 19,
   "metadata": {
    "application/vnd.databricks.v1+cell": {
     "cellMetadata": {
      "byteLimit": 2048000,
      "rowLimit": 10000
     },
     "inputWidgets": {},
     "nuid": "e47be290-7787-4221-9b97-b4aeef5734f6",
     "showTitle": false,
     "tableResultSettingsMap": {},
     "title": ""
    }
   },
   "outputs": [
    {
     "name": "stderr",
     "output_type": "stream",
     "text": [
      "Some weights of RobertaForSequenceClassification were not initialized from the model checkpoint at roberta-base and are newly initialized: ['classifier.dense.bias', 'classifier.dense.weight', 'classifier.out_proj.bias', 'classifier.out_proj.weight']\n",
      "You should probably TRAIN this model on a down-stream task to be able to use it for predictions and inference.\n"
     ]
    },
    {
     "name": "stdout",
     "output_type": "stream",
     "text": [
      "[TRAINER] Image size: None\n",
      "[TRAINER] Weights loaded successfully\n",
      "[TRAINER] Initialized BaCP models\n",
      "[TRAINER] Optimizer type w/ learning rate: (adamw, 1e-05)\n",
      "[TRAINER] No scheduler initialized\n",
      "[DATALOADERS] ['train', 'validation', 'test']\n",
      "[TRAINER] Data Initialized for model task: sst2\n",
      "[TRAINER] Batch size: 64\n",
      "[TRAINER] Number of dataloders: 2\n",
      "[TRAINER] Pruning initialized\n",
      "[TRAINER] Pruning type: magnitude_pruning\n",
      "[TRAINER] Target sparsity: 0.97\n",
      "[TRAINER] Sparsity scheduler: cubic\n",
      "[TRAINER] Pruning epochs: 5\n",
      "[TRAINER] Current sparsity: 0.0000\n",
      "[TRAINER] Saving model to: ./research/roberta-base/sst2/roberta-base_sst2_magnitude_pruning_0.97_bacp_pruning.pt\n",
      "[BaCP TRAINER] Mask generated from current model.\n"
     ]
    },
    {
     "name": "stderr",
     "output_type": "stream",
     "text": [
      "Some weights of RobertaForSequenceClassification were not initialized from the model checkpoint at roberta-base and are newly initialized: ['classifier.dense.bias', 'classifier.dense.weight', 'classifier.out_proj.bias', 'classifier.out_proj.weight']\n",
      "You should probably TRAIN this model on a down-stream task to be able to use it for predictions and inference.\n"
     ]
    },
    {
     "name": "stdout",
     "output_type": "stream",
     "text": [
      "[TRAINER] Image size: None\n",
      "[TRAINER] Initialized models\n",
      "[TRAINER] Loading weights: ./research/roberta-base/sst2/roberta-base_sst2_magnitude_pruning_0.97_bacp_pruning.pt\n",
      "[TRAINER] Weights loaded\n",
      "[TRAINER] Optimizer type w/ learning rate: (adamw, 2e-05)\n",
      "[DATALOADERS] ['train', 'validation', 'test']\n",
      "[TRAINER] Data Initialized for model task: sst2\n",
      "[TRAINER] Batch size: 64\n",
      "[TRAINER] Number of dataloders: 2\n",
      "[TRAINER] No scheduler initialized\n",
      "[TRAINER] Finetuning initialized\n",
      "[TRAINER] Pruning type: magnitude_pruning\n",
      "[TRAINER] Current sparsity: 0.9700\n",
      "[TRAINER] Saving model to: ./research/roberta-base/sst2/roberta-base_sst2_magnitude_pruning_0.97_bacp_finetune.pt\n",
      "[TRAINER] Loading weights: ./research/roberta-base/sst2/roberta-base_sst2_magnitude_pruning_0.97_bacp_finetune.pt\n",
      "[TRAINER] Weights loaded successfully\n",
      "[TRAINER] Model Sparsity: 0.97\n"
     ]
    },
    {
     "name": "stderr",
     "output_type": "stream",
     "text": [
      "                                                           "
     ]
    },
    {
     "name": "stdout",
     "output_type": "stream",
     "text": [
      "\n",
      "============================================================\n",
      "TRAINING STATISTICS SUMMARY\n",
      "============================================================\n",
      "\n",
      "Performance Metrics:\n",
      "------------------------------\n",
      "  Accuracy:     83.17%\n",
      "\n",
      "Model Information:\n",
      "------------------------------\n",
      "  Total Parameters:     124,647,170\n",
      "  Trainable Parameters: 124,647,170\n",
      "  Model Sparsity:       0.9700 (97.00%)\n",
      "\n",
      "Training Configuration:\n",
      "------------------------------\n",
      "  Model:                roberta-base\n",
      "  Task:                 sst2\n",
      "  Learning Type:        bacp_finetune\n",
      "  Batch Size:           64\n",
      "  Learning Rate:        2e-05\n",
      "  Optimizer:            adamw\n",
      "  Epochs:               10\n",
      "\n",
      "System Information:\n",
      "------------------------------\n",
      "  Device:               cuda\n",
      "  Mixed Precision:      True\n",
      "  Workers:              24\n",
      "\n",
      "============================================================\n"
     ]
    },
    {
     "name": "stderr",
     "output_type": "stream",
     "text": [
      "\r"
     ]
    }
   ],
   "source": [
    "finetuned_weights = f\"./research/{MODEL_NAME}/{MODEL_TASK}/{MODEL_NAME}_{MODEL_TASK}_baseline.pt\"\n",
    "\n",
    "bacp_training_args = BaCPTrainingArguments(\n",
    "    model_name=MODEL_NAME,\n",
    "    model_task=MODEL_TASK,\n",
    "    batch_size=BATCH_SIZE_LLM,\n",
    "    optimizer_type_and_lr=('adamw', 1e-5),\n",
    "    pruning_type=\"magnitude_pruning\",\n",
    "    target_sparsity=TARGET_SPARSITY_MID,\n",
    "    sparsity_scheduler='cubic',\n",
    "    finetuned_weights=finetuned_weights,\n",
    "    learning_type='bacp_pruning',\n",
    "    db=False,\n",
    "    )\n",
    "bacp_trainer = BaCPTrainer(bacp_training_args)\n",
    "if TRAIN:\n",
    "    bacp_trainer.train()\n",
    "\n",
    "# Finetuning Phase\n",
    "bacp_trainer.generate_mask_from_model()\n",
    "training_args = TrainingArguments(\n",
    "    model_name=bacp_trainer.model_name,\n",
    "    model_task=bacp_trainer.model_task,\n",
    "    batch_size=bacp_trainer.batch_size,\n",
    "    optimizer_type_and_lr=('adamw', 2e-5),\n",
    "    pruner=bacp_trainer.get_pruner(),\n",
    "    pruning_type=bacp_trainer.pruning_type,\n",
    "    target_sparsity=bacp_trainer.target_sparsity,\n",
    "    finetuned_weights=bacp_trainer.save_path,\n",
    "    finetune=True,\n",
    "    learning_type=\"bacp_finetune\",\n",
    "    epochs=10,\n",
    "    db=False,\n",
    ")\n",
    "trainer = Trainer(training_args)\n",
    "if TRAIN:\n",
    "    trainer.train()\n",
    "\n",
    "metrics = trainer.evaluate()\n",
    "print_statistics(metrics, trainer)\n"
   ]
  },
  {
   "cell_type": "code",
   "execution_count": null,
   "metadata": {
    "application/vnd.databricks.v1+cell": {
     "cellMetadata": {
      "byteLimit": 2048000,
      "rowLimit": 10000
     },
     "inputWidgets": {},
     "nuid": "b962ef97-9de7-41ca-96f7-9ec3f76bf65a",
     "showTitle": false,
     "tableResultSettingsMap": {},
     "title": ""
    }
   },
   "outputs": [
    {
     "name": "stderr",
     "output_type": "stream",
     "text": [
      "Some weights of RobertaForSequenceClassification were not initialized from the model checkpoint at roberta-base and are newly initialized: ['classifier.dense.bias', 'classifier.dense.weight', 'classifier.out_proj.bias', 'classifier.out_proj.weight']\n",
      "You should probably TRAIN this model on a down-stream task to be able to use it for predictions and inference.\n"
     ]
    },
    {
     "name": "stdout",
     "output_type": "stream",
     "text": [
      "[TRAINER] Image size: None\n",
      "[TRAINER] Weights loaded successfully\n",
      "[TRAINER] Initialized BaCP models\n",
      "[TRAINER] Optimizer type w/ learning rate: (adamw, 1e-05)\n",
      "[TRAINER] No scheduler initialized\n",
      "[DATALOADERS] ['train', 'validation', 'test']\n",
      "[TRAINER] Data Initialized for model task: sst2\n",
      "[TRAINER] Batch size: 64\n",
      "[TRAINER] Number of dataloders: 2\n",
      "[TRAINER] Pruning initialized\n",
      "[TRAINER] Pruning type: magnitude_pruning\n",
      "[TRAINER] Target sparsity: 0.99\n",
      "[TRAINER] Sparsity scheduler: cubic\n",
      "[TRAINER] Pruning epochs: 5\n",
      "[TRAINER] Current sparsity: 0.0000\n",
      "[TRAINER] Saving model to: ./research/roberta-base/sst2/roberta-base_sst2_magnitude_pruning_0.99_bacp_pruning.pt\n",
      "[LOGGER] Log file created at location: ./log_records/roberta-base/sst2/bacp_pruning/magnitude_pruning/0.99/run_2.log\n"
     ]
    },
    {
     "name": "stderr",
     "output_type": "stream",
     "text": [
      "Training Epoch [1/5]:   0%|          | 0/1052 [00:00<?, ?it/s]/usr/local/lib/python3.10/dist-packages/torch/nn/modules/module.py:1784: FutureWarning: `encoder_attention_mask` is deprecated and will be removed in version 4.55.0 for `RobertaSdpaSelfAttention.forward`.\n",
      "  return forward_call(*args, **kwargs)\n"
     ]
    },
    {
     "name": "stdout",
     "output_type": "stream",
     "text": [
      "\n",
      "[Pruner] Cubic Sparsity ratio increased to 0.483.\n",
      "\n"
     ]
    },
    {
     "name": "stderr",
     "output_type": "stream",
     "text": [
      "                                                                                                                                                \r"
     ]
    },
    {
     "name": "stdout",
     "output_type": "stream",
     "text": [
      "Epoch [1/5]: Avg Total Loss: 5.1706 | Avg PrC Loss: 2.5881 | Avg SnC Loss: 0.0000 | Avg FiC Loss: 2.4826 | Avg CE Loss: 0.0998 | Model Sparsity: 0.4832\n",
      "\n",
      "[BaCP] weights saved!\n"
     ]
    },
    {
     "name": "stderr",
     "output_type": "stream",
     "text": [
      "                                                                                                                                                   \r"
     ]
    },
    {
     "name": "stdout",
     "output_type": "stream",
     "text": [
      "Retraining Epoch [1/10]: Avg Total Loss: 4.9427 | Avg PrC Loss: 2.6034 | Avg SnC Loss: 0.0000 | Avg FiC Loss: 2.2736 | Avg CE Loss: 0.0657 | Model Sparsity: 0.4832\n",
      "\n"
     ]
    },
    {
     "name": "stderr",
     "output_type": "stream",
     "text": [
      "                                                                                                                                                   \r"
     ]
    },
    {
     "name": "stdout",
     "output_type": "stream",
     "text": [
      "Retraining Epoch [2/10]: Avg Total Loss: 4.8798 | Avg PrC Loss: 2.6084 | Avg SnC Loss: 0.0000 | Avg FiC Loss: 2.2154 | Avg CE Loss: 0.0560 | Model Sparsity: 0.4832\n",
      "\n"
     ]
    },
    {
     "name": "stderr",
     "output_type": "stream",
     "text": [
      "                                                                                                                                                   \r"
     ]
    },
    {
     "name": "stdout",
     "output_type": "stream",
     "text": [
      "Retraining Epoch [3/10]: Avg Total Loss: 4.8414 | Avg PrC Loss: 2.6110 | Avg SnC Loss: 0.0000 | Avg FiC Loss: 2.1810 | Avg CE Loss: 0.0495 | Model Sparsity: 0.4832\n",
      "\n"
     ]
    },
    {
     "name": "stderr",
     "output_type": "stream",
     "text": [
      "                                                                                                                                                   \r"
     ]
    },
    {
     "name": "stdout",
     "output_type": "stream",
     "text": [
      "Retraining Epoch [4/10]: Avg Total Loss: 4.8160 | Avg PrC Loss: 2.6125 | Avg SnC Loss: 0.0000 | Avg FiC Loss: 2.1581 | Avg CE Loss: 0.0454 | Model Sparsity: 0.4832\n",
      "\n"
     ]
    },
    {
     "name": "stderr",
     "output_type": "stream",
     "text": [
      "                                                                                                                                                   \r"
     ]
    },
    {
     "name": "stdout",
     "output_type": "stream",
     "text": [
      "Retraining Epoch [5/10]: Avg Total Loss: 4.7984 | Avg PrC Loss: 2.6136 | Avg SnC Loss: 0.0000 | Avg FiC Loss: 2.1425 | Avg CE Loss: 0.0422 | Model Sparsity: 0.4832\n",
      "\n"
     ]
    },
    {
     "name": "stderr",
     "output_type": "stream",
     "text": [
      "                                                                                                                                                   \r"
     ]
    },
    {
     "name": "stdout",
     "output_type": "stream",
     "text": [
      "Retraining Epoch [6/10]: Avg Total Loss: 4.7825 | Avg PrC Loss: 2.6143 | Avg SnC Loss: 0.0000 | Avg FiC Loss: 2.1290 | Avg CE Loss: 0.0393 | Model Sparsity: 0.4832\n",
      "\n"
     ]
    },
    {
     "name": "stderr",
     "output_type": "stream",
     "text": [
      "                                                                                                                                                   \r"
     ]
    },
    {
     "name": "stdout",
     "output_type": "stream",
     "text": [
      "Retraining Epoch [7/10]: Avg Total Loss: 4.7705 | Avg PrC Loss: 2.6149 | Avg SnC Loss: 0.0000 | Avg FiC Loss: 2.1187 | Avg CE Loss: 0.0368 | Model Sparsity: 0.4832\n",
      "\n"
     ]
    },
    {
     "name": "stderr",
     "output_type": "stream",
     "text": [
      "                                                                                                                                                   \r"
     ]
    },
    {
     "name": "stdout",
     "output_type": "stream",
     "text": [
      "Retraining Epoch [8/10]: Avg Total Loss: 4.7615 | Avg PrC Loss: 2.6154 | Avg SnC Loss: 0.0000 | Avg FiC Loss: 2.1110 | Avg CE Loss: 0.0351 | Model Sparsity: 0.4832\n",
      "\n"
     ]
    },
    {
     "name": "stderr",
     "output_type": "stream",
     "text": [
      "                                                                                                                                                   \r"
     ]
    },
    {
     "name": "stdout",
     "output_type": "stream",
     "text": [
      "Retraining Epoch [9/10]: Avg Total Loss: 4.7531 | Avg PrC Loss: 2.6157 | Avg SnC Loss: 0.0000 | Avg FiC Loss: 2.1041 | Avg CE Loss: 0.0332 | Model Sparsity: 0.4832\n",
      "\n"
     ]
    },
    {
     "name": "stderr",
     "output_type": "stream",
     "text": [
      "                                                                                                                                                    \r"
     ]
    },
    {
     "name": "stdout",
     "output_type": "stream",
     "text": [
      "Retraining Epoch [10/10]: Avg Total Loss: 4.7457 | Avg PrC Loss: 2.6158 | Avg SnC Loss: 0.0000 | Avg FiC Loss: 2.0980 | Avg CE Loss: 0.0318 | Model Sparsity: 0.4832\n",
      "\n"
     ]
    },
    {
     "name": "stderr",
     "output_type": "stream",
     "text": [
      "Training Epoch [2/5]:   0%|          | 0/1052 [00:00<?, ?it/s]"
     ]
    },
    {
     "name": "stdout",
     "output_type": "stream",
     "text": [
      "\n",
      "[Pruner] Cubic Sparsity ratio increased to 0.776.\n",
      "\n"
     ]
    },
    {
     "name": "stderr",
     "output_type": "stream",
     "text": [
      "                                                                                                                                                   \r"
     ]
    },
    {
     "name": "stdout",
     "output_type": "stream",
     "text": [
      "Epoch [2/5]: Avg Total Loss: 7.3457 | Avg PrC Loss: 2.6043 | Avg SnC Loss: 2.1973 | Avg FiC Loss: 2.4510 | Avg CE Loss: 0.0932 | Model Sparsity: 0.7762\n",
      "\n",
      "[BaCP] weights saved!\n"
     ]
    },
    {
     "name": "stderr",
     "output_type": "stream",
     "text": [
      "                                                                                                                                                      \r"
     ]
    },
    {
     "name": "stdout",
     "output_type": "stream",
     "text": [
      "Retraining Epoch [1/10]: Avg Total Loss: 7.0924 | Avg PrC Loss: 2.6218 | Avg SnC Loss: 2.0879 | Avg FiC Loss: 2.3121 | Avg CE Loss: 0.0705 | Model Sparsity: 0.7762\n",
      "\n"
     ]
    },
    {
     "name": "stderr",
     "output_type": "stream",
     "text": [
      "                                                                                                                                                      \r"
     ]
    },
    {
     "name": "stdout",
     "output_type": "stream",
     "text": [
      "Retraining Epoch [2/10]: Avg Total Loss: 7.0119 | Avg PrC Loss: 2.6267 | Avg SnC Loss: 2.0496 | Avg FiC Loss: 2.2731 | Avg CE Loss: 0.0625 | Model Sparsity: 0.7762\n",
      "\n"
     ]
    },
    {
     "name": "stderr",
     "output_type": "stream",
     "text": [
      "                                                                                                                                                      \r"
     ]
    },
    {
     "name": "stdout",
     "output_type": "stream",
     "text": [
      "Retraining Epoch [3/10]: Avg Total Loss: 6.9561 | Avg PrC Loss: 2.6304 | Avg SnC Loss: 2.0227 | Avg FiC Loss: 2.2463 | Avg CE Loss: 0.0568 | Model Sparsity: 0.7762\n",
      "\n"
     ]
    },
    {
     "name": "stderr",
     "output_type": "stream",
     "text": [
      "                                                                                                                                                      \r"
     ]
    },
    {
     "name": "stdout",
     "output_type": "stream",
     "text": [
      "Retraining Epoch [4/10]: Avg Total Loss: 6.9158 | Avg PrC Loss: 2.6328 | Avg SnC Loss: 2.0024 | Avg FiC Loss: 2.2273 | Avg CE Loss: 0.0532 | Model Sparsity: 0.7762\n",
      "\n"
     ]
    },
    {
     "name": "stderr",
     "output_type": "stream",
     "text": [
      "                                                                                                                                                      \r"
     ]
    },
    {
     "name": "stdout",
     "output_type": "stream",
     "text": [
      "Retraining Epoch [5/10]: Avg Total Loss: 6.8841 | Avg PrC Loss: 2.6352 | Avg SnC Loss: 1.9866 | Avg FiC Loss: 2.2124 | Avg CE Loss: 0.0499 | Model Sparsity: 0.7762\n",
      "\n"
     ]
    },
    {
     "name": "stderr",
     "output_type": "stream",
     "text": [
      "                                                                                                                                                      \r"
     ]
    },
    {
     "name": "stdout",
     "output_type": "stream",
     "text": [
      "Retraining Epoch [6/10]: Avg Total Loss: 6.8578 | Avg PrC Loss: 2.6370 | Avg SnC Loss: 1.9730 | Avg FiC Loss: 2.2003 | Avg CE Loss: 0.0474 | Model Sparsity: 0.7762\n",
      "\n"
     ]
    },
    {
     "name": "stderr",
     "output_type": "stream",
     "text": [
      "                                                                                                                                                      \r"
     ]
    },
    {
     "name": "stdout",
     "output_type": "stream",
     "text": [
      "Retraining Epoch [7/10]: Avg Total Loss: 6.8325 | Avg PrC Loss: 2.6384 | Avg SnC Loss: 1.9605 | Avg FiC Loss: 2.1884 | Avg CE Loss: 0.0452 | Model Sparsity: 0.7762\n",
      "\n"
     ]
    },
    {
     "name": "stderr",
     "output_type": "stream",
     "text": [
      "                                                                                                                                                      \r"
     ]
    },
    {
     "name": "stdout",
     "output_type": "stream",
     "text": [
      "Retraining Epoch [8/10]: Avg Total Loss: 6.8126 | Avg PrC Loss: 2.6396 | Avg SnC Loss: 1.9502 | Avg FiC Loss: 2.1797 | Avg CE Loss: 0.0431 | Model Sparsity: 0.7762\n",
      "\n"
     ]
    },
    {
     "name": "stderr",
     "output_type": "stream",
     "text": [
      "                                                                                                                                                      \r"
     ]
    },
    {
     "name": "stdout",
     "output_type": "stream",
     "text": [
      "Retraining Epoch [9/10]: Avg Total Loss: 6.7953 | Avg PrC Loss: 2.6408 | Avg SnC Loss: 1.9412 | Avg FiC Loss: 2.1717 | Avg CE Loss: 0.0416 | Model Sparsity: 0.7762\n",
      "\n"
     ]
    },
    {
     "name": "stderr",
     "output_type": "stream",
     "text": [
      "                                                                                                                                                       \r"
     ]
    },
    {
     "name": "stdout",
     "output_type": "stream",
     "text": [
      "Retraining Epoch [10/10]: Avg Total Loss: 6.7803 | Avg PrC Loss: 2.6417 | Avg SnC Loss: 1.9334 | Avg FiC Loss: 2.1649 | Avg CE Loss: 0.0402 | Model Sparsity: 0.7762\n",
      "\n"
     ]
    },
    {
     "name": "stderr",
     "output_type": "stream",
     "text": [
      "Training Epoch [3/5]:   0%|          | 0/1052 [00:00<?, ?it/s]"
     ]
    },
    {
     "name": "stdout",
     "output_type": "stream",
     "text": [
      "\n",
      "[Pruner] Cubic Sparsity ratio increased to 0.927.\n",
      "\n"
     ]
    },
    {
     "name": "stderr",
     "output_type": "stream",
     "text": [
      "                                                                                                                                                 \r"
     ]
    },
    {
     "name": "stdout",
     "output_type": "stream",
     "text": [
      "Epoch [3/5]: Avg Total Loss: 10.8468 | Avg PrC Loss: 2.5084 | Avg SnC Loss: 5.1309 | Avg FiC Loss: 3.0322 | Avg CE Loss: 0.1753 | Model Sparsity: 0.9266\n",
      "\n",
      "[BaCP] weights saved!\n"
     ]
    },
    {
     "name": "stderr",
     "output_type": "stream",
     "text": [
      "                                                                                                                                                    \r"
     ]
    },
    {
     "name": "stdout",
     "output_type": "stream",
     "text": [
      "Retraining Epoch [1/10]: Avg Total Loss: 10.3944 | Avg PrC Loss: 2.5856 | Avg SnC Loss: 4.8543 | Avg FiC Loss: 2.7998 | Avg CE Loss: 0.1547 | Model Sparsity: 0.9266\n",
      "\n"
     ]
    },
    {
     "name": "stderr",
     "output_type": "stream",
     "text": [
      "                                                                                                                                                      \r"
     ]
    },
    {
     "name": "stdout",
     "output_type": "stream",
     "text": [
      "Retraining Epoch [2/10]: Avg Total Loss: 10.0861 | Avg PrC Loss: 2.6090 | Avg SnC Loss: 4.6751 | Avg FiC Loss: 2.6738 | Avg CE Loss: 0.1282 | Model Sparsity: 0.9266\n",
      "\n"
     ]
    },
    {
     "name": "stderr",
     "output_type": "stream",
     "text": [
      "                                                                                                                                                      \r"
     ]
    },
    {
     "name": "stdout",
     "output_type": "stream",
     "text": [
      "Retraining Epoch [3/10]: Avg Total Loss: 9.7695 | Avg PrC Loss: 2.6208 | Avg SnC Loss: 4.5053 | Avg FiC Loss: 2.5415 | Avg CE Loss: 0.1018 | Model Sparsity: 0.9266\n",
      "\n"
     ]
    },
    {
     "name": "stderr",
     "output_type": "stream",
     "text": [
      "                                                                                                                                                      \r"
     ]
    },
    {
     "name": "stdout",
     "output_type": "stream",
     "text": [
      "Retraining Epoch [4/10]: Avg Total Loss: 9.5376 | Avg PrC Loss: 2.6261 | Avg SnC Loss: 4.3881 | Avg FiC Loss: 2.4394 | Avg CE Loss: 0.0840 | Model Sparsity: 0.9266\n",
      "\n"
     ]
    },
    {
     "name": "stderr",
     "output_type": "stream",
     "text": [
      "                                                                                                                                                      \r"
     ]
    },
    {
     "name": "stdout",
     "output_type": "stream",
     "text": [
      "Retraining Epoch [5/10]: Avg Total Loss: 9.4257 | Avg PrC Loss: 2.6263 | Avg SnC Loss: 4.3280 | Avg FiC Loss: 2.3949 | Avg CE Loss: 0.0765 | Model Sparsity: 0.9266\n",
      "\n"
     ]
    },
    {
     "name": "stderr",
     "output_type": "stream",
     "text": [
      "                                                                                                                                                      \r"
     ]
    },
    {
     "name": "stdout",
     "output_type": "stream",
     "text": [
      "Retraining Epoch [6/10]: Avg Total Loss: 9.3555 | Avg PrC Loss: 2.6279 | Avg SnC Loss: 4.2873 | Avg FiC Loss: 2.3683 | Avg CE Loss: 0.0720 | Model Sparsity: 0.9266\n",
      "\n"
     ]
    },
    {
     "name": "stderr",
     "output_type": "stream",
     "text": [
      "                                                                                                                                                      \r"
     ]
    },
    {
     "name": "stdout",
     "output_type": "stream",
     "text": [
      "Retraining Epoch [7/10]: Avg Total Loss: 9.3049 | Avg PrC Loss: 2.6302 | Avg SnC Loss: 4.2560 | Avg FiC Loss: 2.3501 | Avg CE Loss: 0.0686 | Model Sparsity: 0.9266\n",
      "\n"
     ]
    },
    {
     "name": "stderr",
     "output_type": "stream",
     "text": [
      "                                                                                                                                                      \r"
     ]
    },
    {
     "name": "stdout",
     "output_type": "stream",
     "text": [
      "Retraining Epoch [8/10]: Avg Total Loss: 9.2587 | Avg PrC Loss: 2.6324 | Avg SnC Loss: 4.2272 | Avg FiC Loss: 2.3337 | Avg CE Loss: 0.0653 | Model Sparsity: 0.9266\n",
      "\n"
     ]
    },
    {
     "name": "stderr",
     "output_type": "stream",
     "text": [
      "                                                                                                                                                      \r"
     ]
    },
    {
     "name": "stdout",
     "output_type": "stream",
     "text": [
      "Retraining Epoch [9/10]: Avg Total Loss: 9.2206 | Avg PrC Loss: 2.6345 | Avg SnC Loss: 4.2023 | Avg FiC Loss: 2.3208 | Avg CE Loss: 0.0630 | Model Sparsity: 0.9266\n",
      "\n"
     ]
    },
    {
     "name": "stderr",
     "output_type": "stream",
     "text": [
      "                                                                                                                                                       \r"
     ]
    },
    {
     "name": "stdout",
     "output_type": "stream",
     "text": [
      "Retraining Epoch [10/10]: Avg Total Loss: 9.1884 | Avg PrC Loss: 2.6366 | Avg SnC Loss: 4.1801 | Avg FiC Loss: 2.3108 | Avg CE Loss: 0.0610 | Model Sparsity: 0.9266\n",
      "\n"
     ]
    },
    {
     "name": "stderr",
     "output_type": "stream",
     "text": [
      "Training Epoch [4/5]:   0%|          | 0/1052 [00:00<?, ?it/s]"
     ]
    },
    {
     "name": "stdout",
     "output_type": "stream",
     "text": [
      "\n",
      "[Pruner] Cubic Sparsity ratio increased to 0.982.\n",
      "\n"
     ]
    },
    {
     "name": "stderr",
     "output_type": "stream",
     "text": [
      "                                                                                                                                                 \r"
     ]
    },
    {
     "name": "stdout",
     "output_type": "stream",
     "text": [
      "Epoch [4/5]: Avg Total Loss: 13.2896 | Avg PrC Loss: 2.4870 | Avg SnC Loss: 7.6135 | Avg FiC Loss: 3.0260 | Avg CE Loss: 0.1631 | Model Sparsity: 0.9821\n",
      "\n",
      "[BaCP] weights saved!\n"
     ]
    },
    {
     "name": "stderr",
     "output_type": "stream",
     "text": [
      "                                                                                                                                                    \r"
     ]
    },
    {
     "name": "stdout",
     "output_type": "stream",
     "text": [
      "Retraining Epoch [1/10]: Avg Total Loss: 12.6000 | Avg PrC Loss: 2.5630 | Avg SnC Loss: 7.1451 | Avg FiC Loss: 2.7552 | Avg CE Loss: 0.1366 | Model Sparsity: 0.9821\n",
      "\n"
     ]
    },
    {
     "name": "stderr",
     "output_type": "stream",
     "text": [
      "                                                                                                                                                      \r"
     ]
    },
    {
     "name": "stdout",
     "output_type": "stream",
     "text": [
      "Retraining Epoch [2/10]: Avg Total Loss: 12.2479 | Avg PrC Loss: 2.6013 | Avg SnC Loss: 6.8976 | Avg FiC Loss: 2.6297 | Avg CE Loss: 0.1192 | Model Sparsity: 0.9821\n",
      "\n"
     ]
    },
    {
     "name": "stderr",
     "output_type": "stream",
     "text": [
      "                                                                                                                                                      \r"
     ]
    },
    {
     "name": "stdout",
     "output_type": "stream",
     "text": [
      "Retraining Epoch [3/10]: Avg Total Loss: 12.0731 | Avg PrC Loss: 2.6151 | Avg SnC Loss: 6.7783 | Avg FiC Loss: 2.5720 | Avg CE Loss: 0.1077 | Model Sparsity: 0.9821\n",
      "\n"
     ]
    },
    {
     "name": "stderr",
     "output_type": "stream",
     "text": [
      "                                                                                                                                                      \r"
     ]
    },
    {
     "name": "stdout",
     "output_type": "stream",
     "text": [
      "Retraining Epoch [4/10]: Avg Total Loss: 11.9463 | Avg PrC Loss: 2.6229 | Avg SnC Loss: 6.6944 | Avg FiC Loss: 2.5302 | Avg CE Loss: 0.0988 | Model Sparsity: 0.9821\n",
      "\n"
     ]
    },
    {
     "name": "stderr",
     "output_type": "stream",
     "text": [
      "                                                                                                                                                      \r"
     ]
    },
    {
     "name": "stdout",
     "output_type": "stream",
     "text": [
      "Retraining Epoch [5/10]: Avg Total Loss: 11.8531 | Avg PrC Loss: 2.6277 | Avg SnC Loss: 6.6332 | Avg FiC Loss: 2.4995 | Avg CE Loss: 0.0927 | Model Sparsity: 0.9821\n",
      "\n"
     ]
    },
    {
     "name": "stderr",
     "output_type": "stream",
     "text": [
      "                                                                                                                                                      \r"
     ]
    },
    {
     "name": "stdout",
     "output_type": "stream",
     "text": [
      "Retraining Epoch [6/10]: Avg Total Loss: 11.7772 | Avg PrC Loss: 2.6316 | Avg SnC Loss: 6.5835 | Avg FiC Loss: 2.4742 | Avg CE Loss: 0.0878 | Model Sparsity: 0.9821\n",
      "\n"
     ]
    },
    {
     "name": "stderr",
     "output_type": "stream",
     "text": [
      "                                                                                                                                                      \r"
     ]
    },
    {
     "name": "stdout",
     "output_type": "stream",
     "text": [
      "Retraining Epoch [7/10]: Avg Total Loss: 11.7132 | Avg PrC Loss: 2.6344 | Avg SnC Loss: 6.5418 | Avg FiC Loss: 2.4531 | Avg CE Loss: 0.0840 | Model Sparsity: 0.9821\n",
      "\n"
     ]
    },
    {
     "name": "stderr",
     "output_type": "stream",
     "text": [
      "                                                                                                                                                      \r"
     ]
    },
    {
     "name": "stdout",
     "output_type": "stream",
     "text": [
      "Retraining Epoch [8/10]: Avg Total Loss: 11.6575 | Avg PrC Loss: 2.6368 | Avg SnC Loss: 6.5055 | Avg FiC Loss: 2.4346 | Avg CE Loss: 0.0806 | Model Sparsity: 0.9821\n",
      "\n"
     ]
    },
    {
     "name": "stderr",
     "output_type": "stream",
     "text": [
      "                                                                                                                                                      \r"
     ]
    },
    {
     "name": "stdout",
     "output_type": "stream",
     "text": [
      "Retraining Epoch [9/10]: Avg Total Loss: 11.6089 | Avg PrC Loss: 2.6392 | Avg SnC Loss: 6.4737 | Avg FiC Loss: 2.4183 | Avg CE Loss: 0.0777 | Model Sparsity: 0.9821\n",
      "\n"
     ]
    },
    {
     "name": "stderr",
     "output_type": "stream",
     "text": [
      "                                                                                                                                                       \r"
     ]
    },
    {
     "name": "stdout",
     "output_type": "stream",
     "text": [
      "Retraining Epoch [10/10]: Avg Total Loss: 11.5621 | Avg PrC Loss: 2.6411 | Avg SnC Loss: 6.4430 | Avg FiC Loss: 2.4027 | Avg CE Loss: 0.0752 | Model Sparsity: 0.9821\n",
      "\n"
     ]
    },
    {
     "name": "stderr",
     "output_type": "stream",
     "text": [
      "Training Epoch [5/5]:   0%|          | 0/1052 [00:00<?, ?it/s]"
     ]
    },
    {
     "name": "stdout",
     "output_type": "stream",
     "text": [
      "\n",
      "[Pruner] Cubic Sparsity ratio increased to 0.990.\n",
      "\n"
     ]
    },
    {
     "name": "stderr",
     "output_type": "stream",
     "text": [
      "                                                                                                                                                   \r"
     ]
    },
    {
     "name": "stdout",
     "output_type": "stream",
     "text": [
      "Epoch [5/5]: Avg Total Loss: 13.6351 | Avg PrC Loss: 2.6590 | Avg SnC Loss: 8.4997 | Avg FiC Loss: 2.4032 | Avg CE Loss: 0.0732 | Model Sparsity: 0.99\n",
      "\n",
      "[BaCP] weights saved!\n"
     ]
    },
    {
     "name": "stderr",
     "output_type": "stream",
     "text": [
      "                                                                                                                                                      \r"
     ]
    },
    {
     "name": "stdout",
     "output_type": "stream",
     "text": [
      "Retraining Epoch [1/10]: Avg Total Loss: 13.5228 | Avg PrC Loss: 2.6550 | Avg SnC Loss: 8.4170 | Avg FiC Loss: 2.3801 | Avg CE Loss: 0.0706 | Model Sparsity: 0.99\n",
      "\n"
     ]
    },
    {
     "name": "stderr",
     "output_type": "stream",
     "text": [
      "                                                                                                                                                      \r"
     ]
    },
    {
     "name": "stdout",
     "output_type": "stream",
     "text": [
      "Retraining Epoch [2/10]: Avg Total Loss: 13.4768 | Avg PrC Loss: 2.6561 | Avg SnC Loss: 8.3814 | Avg FiC Loss: 2.3703 | Avg CE Loss: 0.0690 | Model Sparsity: 0.99\n",
      "\n"
     ]
    },
    {
     "name": "stderr",
     "output_type": "stream",
     "text": [
      "                                                                                                                                                      \r"
     ]
    },
    {
     "name": "stdout",
     "output_type": "stream",
     "text": [
      "Retraining Epoch [3/10]: Avg Total Loss: 13.4451 | Avg PrC Loss: 2.6575 | Avg SnC Loss: 8.3573 | Avg FiC Loss: 2.3625 | Avg CE Loss: 0.0678 | Model Sparsity: 0.99\n",
      "\n"
     ]
    },
    {
     "name": "stderr",
     "output_type": "stream",
     "text": [
      "                                                                                                                                                      \r"
     ]
    },
    {
     "name": "stdout",
     "output_type": "stream",
     "text": [
      "Retraining Epoch [4/10]: Avg Total Loss: 13.4177 | Avg PrC Loss: 2.6590 | Avg SnC Loss: 8.3366 | Avg FiC Loss: 2.3553 | Avg CE Loss: 0.0667 | Model Sparsity: 0.99\n",
      "\n"
     ]
    },
    {
     "name": "stderr",
     "output_type": "stream",
     "text": [
      "                                                                                                                                                      \r"
     ]
    },
    {
     "name": "stdout",
     "output_type": "stream",
     "text": [
      "Retraining Epoch [5/10]: Avg Total Loss: 13.3942 | Avg PrC Loss: 2.6596 | Avg SnC Loss: 8.3190 | Avg FiC Loss: 2.3497 | Avg CE Loss: 0.0659 | Model Sparsity: 0.99\n",
      "\n"
     ]
    },
    {
     "name": "stderr",
     "output_type": "stream",
     "text": [
      "                                                                                                                                                      \r"
     ]
    },
    {
     "name": "stdout",
     "output_type": "stream",
     "text": [
      "Retraining Epoch [6/10]: Avg Total Loss: 13.3716 | Avg PrC Loss: 2.6601 | Avg SnC Loss: 8.3030 | Avg FiC Loss: 2.3438 | Avg CE Loss: 0.0648 | Model Sparsity: 0.99\n",
      "\n"
     ]
    },
    {
     "name": "stderr",
     "output_type": "stream",
     "text": [
      "                                                                                                                                                      \r"
     ]
    },
    {
     "name": "stdout",
     "output_type": "stream",
     "text": [
      "Retraining Epoch [7/10]: Avg Total Loss: 13.3495 | Avg PrC Loss: 2.6610 | Avg SnC Loss: 8.2868 | Avg FiC Loss: 2.3381 | Avg CE Loss: 0.0635 | Model Sparsity: 0.99\n",
      "\n"
     ]
    },
    {
     "name": "stderr",
     "output_type": "stream",
     "text": [
      "                                                                                                                                                      \r"
     ]
    },
    {
     "name": "stdout",
     "output_type": "stream",
     "text": [
      "Retraining Epoch [8/10]: Avg Total Loss: 13.3336 | Avg PrC Loss: 2.6614 | Avg SnC Loss: 8.2755 | Avg FiC Loss: 2.3340 | Avg CE Loss: 0.0627 | Model Sparsity: 0.99\n",
      "\n"
     ]
    },
    {
     "name": "stderr",
     "output_type": "stream",
     "text": [
      "                                                                                                                                                      \r"
     ]
    },
    {
     "name": "stdout",
     "output_type": "stream",
     "text": [
      "Retraining Epoch [9/10]: Avg Total Loss: 13.3168 | Avg PrC Loss: 2.6619 | Avg SnC Loss: 8.2638 | Avg FiC Loss: 2.3294 | Avg CE Loss: 0.0618 | Model Sparsity: 0.99\n",
      "\n"
     ]
    },
    {
     "name": "stderr",
     "output_type": "stream",
     "text": [
      "                                                                                                                                                       \r"
     ]
    },
    {
     "name": "stdout",
     "output_type": "stream",
     "text": [
      "Retraining Epoch [10/10]: Avg Total Loss: 13.3009 | Avg PrC Loss: 2.6628 | Avg SnC Loss: 8.2518 | Avg FiC Loss: 2.3252 | Avg CE Loss: 0.0611 | Model Sparsity: 0.99\n",
      "\n",
      "[BaCP TRAINER] Mask generated from current model.\n"
     ]
    },
    {
     "name": "stderr",
     "output_type": "stream",
     "text": [
      "Some weights of RobertaForSequenceClassification were not initialized from the model checkpoint at roberta-base and are newly initialized: ['classifier.dense.bias', 'classifier.dense.weight', 'classifier.out_proj.bias', 'classifier.out_proj.weight']\n",
      "You should probably TRAIN this model on a down-stream task to be able to use it for predictions and inference.\n"
     ]
    },
    {
     "name": "stdout",
     "output_type": "stream",
     "text": [
      "[TRAINER] Image size: None\n",
      "[TRAINER] Initialized models\n",
      "[TRAINER] Loading weights: ./research/roberta-base/sst2/roberta-base_sst2_magnitude_pruning_0.99_bacp_pruning.pt\n",
      "[TRAINER] Weights loaded\n",
      "[TRAINER] Optimizer type w/ learning rate: (adamw, 2e-05)\n",
      "[DATALOADERS] ['train', 'validation', 'test']\n",
      "[TRAINER] Data Initialized for model task: sst2\n",
      "[TRAINER] Batch size: 64\n",
      "[TRAINER] Number of dataloders: 2\n",
      "[TRAINER] No scheduler initialized\n",
      "[TRAINER] Finetuning initialized\n",
      "[TRAINER] Pruning type: magnitude_pruning\n",
      "[TRAINER] Current sparsity: 0.9900\n",
      "[TRAINER] Saving model to: ./research/roberta-base/sst2/roberta-base_sst2_magnitude_pruning_0.99_bacp_finetune.pt\n",
      "[LOGGER] Log file created at location: ./log_records/roberta-base/sst2/bacp_finetune/magnitude_pruning/0.99/run_2.log\n",
      "[TRAINER] Training with mixed precision enabled\n",
      "[TRAINER] Initial model sparsity: 0.99\n"
     ]
    },
    {
     "name": "stderr",
     "output_type": "stream",
     "text": [
      "                                                                                                      \r"
     ]
    },
    {
     "name": "stdout",
     "output_type": "stream",
     "text": [
      "Training epoch [1/10]: Avg Loss: 0.2564 | Avg Accuracy: 82.33 | Model Sparsity: 0.99\n",
      "\n",
      "[TRAINER] weights saved!\n"
     ]
    },
    {
     "name": "stderr",
     "output_type": "stream",
     "text": [
      "                                                                                                      \r"
     ]
    },
    {
     "name": "stdout",
     "output_type": "stream",
     "text": [
      "Training epoch [2/10]: Avg Loss: 0.2363 | Avg Accuracy: 82.21 | Model Sparsity: 0.99\n",
      "\n"
     ]
    },
    {
     "name": "stderr",
     "output_type": "stream",
     "text": [
      "                                                                                                      \r"
     ]
    },
    {
     "name": "stdout",
     "output_type": "stream",
     "text": [
      "Training epoch [3/10]: Avg Loss: 0.2253 | Avg Accuracy: 81.85 | Model Sparsity: 0.99\n",
      "\n"
     ]
    },
    {
     "name": "stderr",
     "output_type": "stream",
     "text": [
      "                                                                                                      \r"
     ]
    },
    {
     "name": "stdout",
     "output_type": "stream",
     "text": [
      "Training epoch [4/10]: Avg Loss: 0.2158 | Avg Accuracy: 82.57 | Model Sparsity: 0.99\n",
      "\n",
      "[TRAINER] weights saved!\n"
     ]
    },
    {
     "name": "stderr",
     "output_type": "stream",
     "text": [
      "Training Epoch [5/10]:  81%|████████▏ | 857/1052 [01:14<00:17, 11.46it/s, Loss=0.2051, Sparsity=0.99]"
     ]
    }
   ],
   "source": [
    "finetuned_weights = f\"./research/{MODEL_NAME}/{MODEL_TASK}/{MODEL_NAME}_{MODEL_TASK}_baseline.pt\"\n",
    "\n",
    "bacp_training_args = BaCPTrainingArguments(\n",
    "    model_name=MODEL_NAME,\n",
    "    model_task=MODEL_TASK,\n",
    "    batch_size=BATCH_SIZE_LLM,\n",
    "    optimizer_type_and_lr=('adamw', 1e-5),\n",
    "    pruning_type=\"magnitude_pruning\",\n",
    "    target_sparsity=TARGET_SPARSITY_HIGH,\n",
    "    sparsity_scheduler='cubic',\n",
    "    finetuned_weights=finetuned_weights,\n",
    "    learning_type='bacp_pruning',\n",
    "    db=False,\n",
    "    )\n",
    "bacp_trainer = BaCPTrainer(bacp_training_args)\n",
    "if TRAIN:\n",
    "    bacp_trainer.train()\n",
    "\n",
    "# Finetuning Phase\n",
    "bacp_trainer.generate_mask_from_model()\n",
    "training_args = TrainingArguments(\n",
    "    model_name=bacp_trainer.model_name,\n",
    "    model_task=bacp_trainer.model_task,\n",
    "    batch_size=bacp_trainer.batch_size,\n",
    "    optimizer_type_and_lr=('adamw', 2e-5),\n",
    "    pruner=bacp_trainer.get_pruner(),\n",
    "    pruning_type=bacp_trainer.pruning_type,\n",
    "    target_sparsity=bacp_trainer.target_sparsity,\n",
    "    finetuned_weights=bacp_trainer.save_path,\n",
    "    finetune=True,\n",
    "    learning_type=\"bacp_finetune\",\n",
    "    epochs=10,\n",
    "    db=False,\n",
    ")\n",
    "trainer = Trainer(training_args)\n",
    "if TRAIN:\n",
    "    trainer.train()\n",
    "\n",
    "metrics = trainer.evaluate()\n",
    "print_statistics(metrics, trainer)\n"
   ]
  },
  {
   "cell_type": "markdown",
   "metadata": {
    "application/vnd.databricks.v1+cell": {
     "cellMetadata": {
      "byteLimit": 2048000,
      "rowLimit": 10000
     },
     "inputWidgets": {},
     "nuid": "d2de2502-7ee6-4605-8863-dd0a372deb79",
     "showTitle": false,
     "tableResultSettingsMap": {},
     "title": ""
    }
   },
   "source": [
    "### SNIP-it Pruning"
   ]
  },
  {
   "cell_type": "code",
   "execution_count": null,
   "metadata": {
    "application/vnd.databricks.v1+cell": {
     "cellMetadata": {
      "byteLimit": 2048000,
      "rowLimit": 10000
     },
     "inputWidgets": {},
     "nuid": "a26f4511-494a-4791-a159-de2542f7a834",
     "showTitle": false,
     "tableResultSettingsMap": {},
     "title": ""
    }
   },
   "outputs": [
    {
     "name": "stderr",
     "output_type": "stream",
     "text": [
      "Some weights of RobertaForSequenceClassification were not initialized from the model checkpoint at roberta-base and are newly initialized: ['classifier.dense.bias', 'classifier.dense.weight', 'classifier.out_proj.bias', 'classifier.out_proj.weight']\n",
      "You should probably TRAIN this model on a down-stream task to be able to use it for predictions and inference.\n"
     ]
    },
    {
     "name": "stdout",
     "output_type": "stream",
     "text": [
      "[TRAINER] Image size: None\n",
      "[TRAINER] Weights loaded successfully\n",
      "[TRAINER] Initialized BaCP models\n",
      "[TRAINER] Optimizer type w/ learning rate: (adamw, 1e-05)\n",
      "[TRAINER] No scheduler initialized\n",
      "[DATALOADERS] ['train', 'validation', 'test']\n",
      "[TRAINER] Data Initialized for model task: sst2\n",
      "[TRAINER] Batch size: 64\n",
      "[TRAINER] Number of dataloders: 2\n",
      "[TRAINER] Pruning initialized\n",
      "[TRAINER] Pruning type: snip_pruning\n",
      "[TRAINER] Target sparsity: 0.95\n",
      "[TRAINER] Sparsity scheduler: cubic\n",
      "[TRAINER] Pruning epochs: 5\n",
      "[TRAINER] Current sparsity: 0.0000\n",
      "[TRAINER] Saving model to: ./research/roberta-base/sst2/roberta-base_sst2_snip_pruning_0.95_bacp_pruning.pt\n",
      "[ERROR] Could not load weights. Path does not exist: ./research/roberta-base/sst2/roberta-base_sst2_snip_pruning_0.95_bacp_pruning.pt\n"
     ]
    },
    {
     "ename": "Exception",
     "evalue": "Error loading weights: {path}",
     "output_type": "error",
     "traceback": [
      "\u001b[0;31m---------------------------------------------------------------------------\u001b[0m",
      "\u001b[0;31mException\u001b[0m                                 Traceback (most recent call last)",
      "Cell \u001b[0;32mIn[20], line 20\u001b[0m\n\u001b[1;32m     17\u001b[0m     bacp_trainer\u001b[38;5;241m.\u001b[39mtrain()\n\u001b[1;32m     19\u001b[0m \u001b[38;5;66;03m# Finetuning Phase\u001b[39;00m\n\u001b[0;32m---> 20\u001b[0m \u001b[43mbacp_trainer\u001b[49m\u001b[38;5;241;43m.\u001b[39;49m\u001b[43mgenerate_mask_from_model\u001b[49m\u001b[43m(\u001b[49m\u001b[43m)\u001b[49m\n\u001b[1;32m     21\u001b[0m training_args \u001b[38;5;241m=\u001b[39m TrainingArguments(\n\u001b[1;32m     22\u001b[0m     model_name\u001b[38;5;241m=\u001b[39mbacp_trainer\u001b[38;5;241m.\u001b[39mmodel_name,\n\u001b[1;32m     23\u001b[0m     model_task\u001b[38;5;241m=\u001b[39mbacp_trainer\u001b[38;5;241m.\u001b[39mmodel_task,\n\u001b[0;32m   (...)\u001b[0m\n\u001b[1;32m     33\u001b[0m     db\u001b[38;5;241m=\u001b[39m\u001b[38;5;28;01mFalse\u001b[39;00m,\n\u001b[1;32m     34\u001b[0m )\n\u001b[1;32m     35\u001b[0m trainer \u001b[38;5;241m=\u001b[39m Trainer(training_args)\n",
      "File \u001b[0;32m~/BaCP/project/bacp.py:514\u001b[0m, in \u001b[0;36mBaCPTrainer.generate_mask_from_model\u001b[0;34m(self)\u001b[0m\n\u001b[1;32m    513\u001b[0m \u001b[38;5;28;01mdef\u001b[39;00m\u001b[38;5;250m \u001b[39m\u001b[38;5;21mgenerate_mask_from_model\u001b[39m(\u001b[38;5;28mself\u001b[39m):\n\u001b[0;32m--> 514\u001b[0m     \u001b[43mload_weights\u001b[49m\u001b[43m(\u001b[49m\u001b[38;5;28;43mself\u001b[39;49m\u001b[38;5;241;43m.\u001b[39;49m\u001b[43mmodel\u001b[49m\u001b[43m,\u001b[49m\u001b[43m \u001b[49m\u001b[38;5;28;43mself\u001b[39;49m\u001b[38;5;241;43m.\u001b[39;49m\u001b[43msave_path\u001b[49m\u001b[43m)\u001b[49m\n\u001b[1;32m    515\u001b[0m     zero_masks \u001b[38;5;241m=\u001b[39m {}\n\u001b[1;32m    516\u001b[0m     \u001b[38;5;28;01mfor\u001b[39;00m name, param \u001b[38;5;129;01min\u001b[39;00m \u001b[38;5;28mself\u001b[39m\u001b[38;5;241m.\u001b[39mmodel\u001b[38;5;241m.\u001b[39mnamed_parameters():\n",
      "File \u001b[0;32m~/BaCP/project/utils.py:36\u001b[0m, in \u001b[0;36mload_weights\u001b[0;34m(model, path)\u001b[0m\n\u001b[1;32m     34\u001b[0m \u001b[38;5;28;01mif\u001b[39;00m \u001b[38;5;129;01mnot\u001b[39;00m os\u001b[38;5;241m.\u001b[39mpath\u001b[38;5;241m.\u001b[39mexists(path):\n\u001b[1;32m     35\u001b[0m     \u001b[38;5;28mprint\u001b[39m(\u001b[38;5;124mf\u001b[39m\u001b[38;5;124m\"\u001b[39m\u001b[38;5;124m[ERROR] Could not load weights. Path does not exist: \u001b[39m\u001b[38;5;132;01m{\u001b[39;00mpath\u001b[38;5;132;01m}\u001b[39;00m\u001b[38;5;124m\"\u001b[39m)\n\u001b[0;32m---> 36\u001b[0m     \u001b[38;5;28;01mraise\u001b[39;00m \u001b[38;5;167;01mException\u001b[39;00m(\u001b[38;5;124m\"\u001b[39m\u001b[38;5;124mError loading weights: \u001b[39m\u001b[38;5;132;01m{path}\u001b[39;00m\u001b[38;5;124m\"\u001b[39m)\n\u001b[1;32m     37\u001b[0m \u001b[38;5;28;01mtry\u001b[39;00m:\n\u001b[1;32m     38\u001b[0m     state_dict \u001b[38;5;241m=\u001b[39m torch\u001b[38;5;241m.\u001b[39mload(path, map_location\u001b[38;5;241m=\u001b[39mget_device())\n",
      "\u001b[0;31mException\u001b[0m: Error loading weights: {path}"
     ]
    }
   ],
   "source": [
    "finetuned_weights = f\"./research/{MODEL_NAME}/{MODEL_TASK}/{MODEL_NAME}_{MODEL_TASK}_baseline.pt\"\n",
    "\n",
    "bacp_training_args = BaCPTrainingArguments(\n",
    "    model_name=MODEL_NAME,\n",
    "    model_task=MODEL_TASK,\n",
    "    batch_size=BATCH_SIZE_LLM,\n",
    "    optimizer_type_and_lr=('adamw', 1e-5),\n",
    "    pruning_type=\"snip_pruning\",\n",
    "    target_sparsity=TARGET_SPARSITY_LOW,\n",
    "    sparsity_scheduler='cubic',\n",
    "    finetuned_weights=finetuned_weights,\n",
    "    learning_type='bacp_pruning',\n",
    "    db=False,\n",
    "    )\n",
    "bacp_trainer = BaCPTrainer(bacp_training_args)\n",
    "if TRAIN:\n",
    "    bacp_trainer.train()\n",
    "\n",
    "# Finetuning Phase\n",
    "bacp_trainer.generate_mask_from_model()\n",
    "training_args = TrainingArguments(\n",
    "    model_name=bacp_trainer.model_name,\n",
    "    model_task=bacp_trainer.model_task,\n",
    "    batch_size=bacp_trainer.batch_size,\n",
    "    optimizer_type_and_lr=('adamw', 2e-5),\n",
    "    pruner=bacp_trainer.get_pruner(),\n",
    "    pruning_type=bacp_trainer.pruning_type,\n",
    "    target_sparsity=bacp_trainer.target_sparsity,\n",
    "    finetuned_weights=bacp_trainer.save_path,\n",
    "    finetune=True,\n",
    "    learning_type=\"bacp_finetune\",\n",
    "    epochs=10,\n",
    "    db=False,\n",
    ")\n",
    "trainer = Trainer(training_args)\n",
    "if TRAIN:\n",
    "    trainer.train()\n",
    "\n",
    "metrics = trainer.evaluate()\n",
    "print_statistics(metrics, trainer)\n"
   ]
  },
  {
   "cell_type": "code",
   "execution_count": null,
   "metadata": {
    "application/vnd.databricks.v1+cell": {
     "cellMetadata": {
      "byteLimit": 2048000,
      "rowLimit": 10000
     },
     "inputWidgets": {},
     "nuid": "f389e8a0-1966-4175-bb47-0e9d5dcb8bf9",
     "showTitle": false,
     "tableResultSettingsMap": {},
     "title": ""
    }
   },
   "outputs": [
    {
     "name": "stderr",
     "output_type": "stream",
     "text": [
      "Some weights of RobertaForSequenceClassification were not initialized from the model checkpoint at roberta-base and are newly initialized: ['classifier.dense.bias', 'classifier.dense.weight', 'classifier.out_proj.bias', 'classifier.out_proj.weight']\n",
      "You should probably TRAIN this model on a down-stream task to be able to use it for predictions and inference.\n"
     ]
    },
    {
     "name": "stdout",
     "output_type": "stream",
     "text": [
      "[TRAINER] Image size: None\n",
      "[TRAINER] Weights loaded successfully\n",
      "[TRAINER] Initialized BaCP models\n",
      "[TRAINER] Optimizer type w/ learning rate: (adamw, 1e-05)\n",
      "[TRAINER] No scheduler initialized\n",
      "[DATALOADERS] ['train', 'validation', 'test']\n",
      "[TRAINER] Data Initialized for model task: sst2\n",
      "[TRAINER] Batch size: 64\n",
      "[TRAINER] Number of dataloders: 2\n",
      "[TRAINER] Pruning initialized\n",
      "[TRAINER] Pruning type: snip_pruning\n",
      "[TRAINER] Target sparsity: 0.97\n",
      "[TRAINER] Sparsity scheduler: cubic\n",
      "[TRAINER] Pruning epochs: 5\n",
      "[TRAINER] Current sparsity: 0.0000\n",
      "[TRAINER] Saving model to: ./research/roberta-base/sst2/roberta-base_sst2_snip_pruning_0.97_bacp_pruning.pt\n",
      "[ERROR] Could not load weights. Path does not exist: ./research/roberta-base/sst2/roberta-base_sst2_snip_pruning_0.97_bacp_pruning.pt\n"
     ]
    },
    {
     "ename": "Exception",
     "evalue": "Error loading weights: {path}",
     "output_type": "error",
     "traceback": [
      "\u001b[0;31m---------------------------------------------------------------------------\u001b[0m",
      "\u001b[0;31mException\u001b[0m                                 Traceback (most recent call last)",
      "Cell \u001b[0;32mIn[21], line 20\u001b[0m\n\u001b[1;32m     17\u001b[0m     bacp_trainer\u001b[38;5;241m.\u001b[39mtrain()\n\u001b[1;32m     19\u001b[0m \u001b[38;5;66;03m# Finetuning Phase\u001b[39;00m\n\u001b[0;32m---> 20\u001b[0m \u001b[43mbacp_trainer\u001b[49m\u001b[38;5;241;43m.\u001b[39;49m\u001b[43mgenerate_mask_from_model\u001b[49m\u001b[43m(\u001b[49m\u001b[43m)\u001b[49m\n\u001b[1;32m     21\u001b[0m training_args \u001b[38;5;241m=\u001b[39m TrainingArguments(\n\u001b[1;32m     22\u001b[0m     model_name\u001b[38;5;241m=\u001b[39mbacp_trainer\u001b[38;5;241m.\u001b[39mmodel_name,\n\u001b[1;32m     23\u001b[0m     model_task\u001b[38;5;241m=\u001b[39mbacp_trainer\u001b[38;5;241m.\u001b[39mmodel_task,\n\u001b[0;32m   (...)\u001b[0m\n\u001b[1;32m     33\u001b[0m     db\u001b[38;5;241m=\u001b[39m\u001b[38;5;28;01mFalse\u001b[39;00m,\n\u001b[1;32m     34\u001b[0m )\n\u001b[1;32m     35\u001b[0m trainer \u001b[38;5;241m=\u001b[39m Trainer(training_args)\n",
      "File \u001b[0;32m~/BaCP/project/bacp.py:514\u001b[0m, in \u001b[0;36mBaCPTrainer.generate_mask_from_model\u001b[0;34m(self)\u001b[0m\n\u001b[1;32m    513\u001b[0m \u001b[38;5;28;01mdef\u001b[39;00m\u001b[38;5;250m \u001b[39m\u001b[38;5;21mgenerate_mask_from_model\u001b[39m(\u001b[38;5;28mself\u001b[39m):\n\u001b[0;32m--> 514\u001b[0m     \u001b[43mload_weights\u001b[49m\u001b[43m(\u001b[49m\u001b[38;5;28;43mself\u001b[39;49m\u001b[38;5;241;43m.\u001b[39;49m\u001b[43mmodel\u001b[49m\u001b[43m,\u001b[49m\u001b[43m \u001b[49m\u001b[38;5;28;43mself\u001b[39;49m\u001b[38;5;241;43m.\u001b[39;49m\u001b[43msave_path\u001b[49m\u001b[43m)\u001b[49m\n\u001b[1;32m    515\u001b[0m     zero_masks \u001b[38;5;241m=\u001b[39m {}\n\u001b[1;32m    516\u001b[0m     \u001b[38;5;28;01mfor\u001b[39;00m name, param \u001b[38;5;129;01min\u001b[39;00m \u001b[38;5;28mself\u001b[39m\u001b[38;5;241m.\u001b[39mmodel\u001b[38;5;241m.\u001b[39mnamed_parameters():\n",
      "File \u001b[0;32m~/BaCP/project/utils.py:36\u001b[0m, in \u001b[0;36mload_weights\u001b[0;34m(model, path)\u001b[0m\n\u001b[1;32m     34\u001b[0m \u001b[38;5;28;01mif\u001b[39;00m \u001b[38;5;129;01mnot\u001b[39;00m os\u001b[38;5;241m.\u001b[39mpath\u001b[38;5;241m.\u001b[39mexists(path):\n\u001b[1;32m     35\u001b[0m     \u001b[38;5;28mprint\u001b[39m(\u001b[38;5;124mf\u001b[39m\u001b[38;5;124m\"\u001b[39m\u001b[38;5;124m[ERROR] Could not load weights. Path does not exist: \u001b[39m\u001b[38;5;132;01m{\u001b[39;00mpath\u001b[38;5;132;01m}\u001b[39;00m\u001b[38;5;124m\"\u001b[39m)\n\u001b[0;32m---> 36\u001b[0m     \u001b[38;5;28;01mraise\u001b[39;00m \u001b[38;5;167;01mException\u001b[39;00m(\u001b[38;5;124m\"\u001b[39m\u001b[38;5;124mError loading weights: \u001b[39m\u001b[38;5;132;01m{path}\u001b[39;00m\u001b[38;5;124m\"\u001b[39m)\n\u001b[1;32m     37\u001b[0m \u001b[38;5;28;01mtry\u001b[39;00m:\n\u001b[1;32m     38\u001b[0m     state_dict \u001b[38;5;241m=\u001b[39m torch\u001b[38;5;241m.\u001b[39mload(path, map_location\u001b[38;5;241m=\u001b[39mget_device())\n",
      "\u001b[0;31mException\u001b[0m: Error loading weights: {path}"
     ]
    }
   ],
   "source": [
    "finetuned_weights = f\"./research/{MODEL_NAME}/{MODEL_TASK}/{MODEL_NAME}_{MODEL_TASK}_baseline.pt\"\n",
    "\n",
    "bacp_training_args = BaCPTrainingArguments(\n",
    "    model_name=MODEL_NAME,\n",
    "    model_task=MODEL_TASK,\n",
    "    batch_size=BATCH_SIZE_LLM,\n",
    "    optimizer_type_and_lr=('adamw', 1e-5),\n",
    "    pruning_type=\"snip_pruning\",\n",
    "    target_sparsity=TARGET_SPARSITY_MID,\n",
    "    sparsity_scheduler='cubic',\n",
    "    finetuned_weights=finetuned_weights,\n",
    "    learning_type='bacp_pruning',\n",
    "    db=False,\n",
    "    )\n",
    "bacp_trainer = BaCPTrainer(bacp_training_args)\n",
    "if TRAIN:\n",
    "    bacp_trainer.train()\n",
    "\n",
    "# Finetuning Phase\n",
    "bacp_trainer.generate_mask_from_model()\n",
    "training_args = TrainingArguments(\n",
    "    model_name=bacp_trainer.model_name,\n",
    "    model_task=bacp_trainer.model_task,\n",
    "    batch_size=bacp_trainer.batch_size,\n",
    "    optimizer_type_and_lr=('adamw', 2e-5),\n",
    "    pruner=bacp_trainer.get_pruner(),\n",
    "    pruning_type=bacp_trainer.pruning_type,\n",
    "    target_sparsity=bacp_trainer.target_sparsity,\n",
    "    finetuned_weights=bacp_trainer.save_path,\n",
    "    finetune=True,\n",
    "    learning_type=\"bacp_finetune\",\n",
    "    epochs=10,\n",
    "    db=False,\n",
    ")\n",
    "trainer = Trainer(training_args)\n",
    "if TRAIN:\n",
    "    trainer.train()\n",
    "\n",
    "metrics = trainer.evaluate()\n",
    "print_statistics(metrics, trainer)\n"
   ]
  },
  {
   "cell_type": "code",
   "execution_count": 0,
   "metadata": {
    "application/vnd.databricks.v1+cell": {
     "cellMetadata": {
      "byteLimit": 2048000,
      "rowLimit": 10000
     },
     "inputWidgets": {},
     "nuid": "bc41943d-e37c-411b-93fe-51837de16f71",
     "showTitle": false,
     "tableResultSettingsMap": {},
     "title": ""
    }
   },
   "outputs": [],
   "source": [
    "finetuned_weights = f\"./research/{MODEL_NAME}/{MODEL_TASK}/{MODEL_NAME}_{MODEL_TASK}_baseline.pt\"\n",
    "\n",
    "bacp_training_args = BaCPTrainingArguments(\n",
    "    model_name=MODEL_NAME,\n",
    "    model_task=MODEL_TASK,\n",
    "    batch_size=BATCH_SIZE_LLM,\n",
    "    optimizer_type_and_lr=('adamw', 1e-5),\n",
    "    pruning_type=\"snip_pruning\",\n",
    "    target_sparsity=TARGET_SPARSITY_HIGH,\n",
    "    sparsity_scheduler='cubic',\n",
    "    finetuned_weights=finetuned_weights,\n",
    "    learning_type='bacp_pruning',\n",
    "    db=False,\n",
    "    )\n",
    "bacp_trainer = BaCPTrainer(bacp_training_args)\n",
    "if TRAIN:\n",
    "    bacp_trainer.train()\n",
    "\n",
    "# Finetuning Phase\n",
    "bacp_trainer.generate_mask_from_model()\n",
    "training_args = TrainingArguments(\n",
    "    model_name=bacp_trainer.model_name,\n",
    "    model_task=bacp_trainer.model_task,\n",
    "    batch_size=bacp_trainer.batch_size,\n",
    "    optimizer_type_and_lr=('adamw', 2e-5),\n",
    "    pruner=bacp_trainer.get_pruner(),\n",
    "    pruning_type=bacp_trainer.pruning_type,\n",
    "    target_sparsity=bacp_trainer.target_sparsity,\n",
    "    finetuned_weights=bacp_trainer.save_path,\n",
    "    finetune=True,\n",
    "    learning_type=\"bacp_finetune\",\n",
    "    epochs=10,\n",
    "    db=False,\n",
    ")\n",
    "trainer = Trainer(training_args)\n",
    "if TRAIN:\n",
    "    trainer.train()\n",
    "\n",
    "metrics = trainer.evaluate()\n",
    "print_statistics(metrics, trainer)\n"
   ]
  },
  {
   "cell_type": "markdown",
   "metadata": {
    "application/vnd.databricks.v1+cell": {
     "cellMetadata": {
      "byteLimit": 2048000,
      "rowLimit": 10000
     },
     "inputWidgets": {},
     "nuid": "0ed47df3-7300-495c-aa53-db45eae151d1",
     "showTitle": false,
     "tableResultSettingsMap": {},
     "title": ""
    }
   },
   "source": [
    "### Wanda Pruning"
   ]
  },
  {
   "cell_type": "code",
   "execution_count": 0,
   "metadata": {
    "application/vnd.databricks.v1+cell": {
     "cellMetadata": {
      "byteLimit": 2048000,
      "rowLimit": 10000
     },
     "inputWidgets": {},
     "nuid": "0d5b9914-fb71-4e73-a33b-dea46e2f3b57",
     "showTitle": false,
     "tableResultSettingsMap": {},
     "title": ""
    }
   },
   "outputs": [],
   "source": [
    "finetuned_weights = f\"./research/{MODEL_NAME}/{MODEL_TASK}/{MODEL_NAME}_{MODEL_TASK}_baseline.pt\"\n",
    "\n",
    "bacp_training_args = BaCPTrainingArguments(\n",
    "    model_name=MODEL_NAME,\n",
    "    model_task=MODEL_TASK,\n",
    "    batch_size=BATCH_SIZE_LLM,\n",
    "    optimizer_type_and_lr=('adamw', 1e-5),\n",
    "    pruning_type=\"wanda_pruning\",\n",
    "    target_sparsity=TARGET_SPARSITY_LOW,\n",
    "    sparsity_scheduler='cubic',\n",
    "    finetuned_weights=finetuned_weights,\n",
    "    learning_type='bacp_pruning',\n",
    "    db=False,\n",
    "    )\n",
    "bacp_trainer = BaCPTrainer(bacp_training_args)\n",
    "if TRAIN:\n",
    "    bacp_trainer.train()\n",
    "\n",
    "# Finetuning Phase\n",
    "bacp_trainer.generate_mask_from_model()\n",
    "training_args = TrainingArguments(\n",
    "    model_name=bacp_trainer.model_name,\n",
    "    model_task=bacp_trainer.model_task,\n",
    "    batch_size=bacp_trainer.batch_size,\n",
    "    optimizer_type_and_lr=('adamw', 2e-5),\n",
    "    pruner=bacp_trainer.get_pruner(),\n",
    "    pruning_type=bacp_trainer.pruning_type,\n",
    "    target_sparsity=bacp_trainer.target_sparsity,\n",
    "    finetuned_weights=bacp_trainer.save_path,\n",
    "    finetune=True,\n",
    "    learning_type=\"bacp_finetune\",\n",
    "    epochs=10,\n",
    "    db=False,\n",
    ")\n",
    "trainer = Trainer(training_args)\n",
    "if TRAIN:\n",
    "    trainer.train()\n",
    "\n",
    "metrics = trainer.evaluate()\n",
    "print_statistics(metrics, trainer)\n"
   ]
  },
  {
   "cell_type": "code",
   "execution_count": 0,
   "metadata": {
    "application/vnd.databricks.v1+cell": {
     "cellMetadata": {
      "byteLimit": 2048000,
      "rowLimit": 10000
     },
     "inputWidgets": {},
     "nuid": "e3ffae43-49c6-4f13-b214-7683aa9437e3",
     "showTitle": false,
     "tableResultSettingsMap": {},
     "title": ""
    }
   },
   "outputs": [],
   "source": [
    "finetuned_weights = f\"./research/{MODEL_NAME}/{MODEL_TASK}/{MODEL_NAME}_{MODEL_TASK}_baseline.pt\"\n",
    "\n",
    "bacp_training_args = BaCPTrainingArguments(\n",
    "    model_name=MODEL_NAME,\n",
    "    model_task=MODEL_TASK,\n",
    "    batch_size=BATCH_SIZE_LLM,\n",
    "    optimizer_type_and_lr=('adamw', 1e-5),\n",
    "    pruning_type=\"wanda_pruning\",\n",
    "    target_sparsity=TARGET_SPARSITY_MID,\n",
    "    sparsity_scheduler='cubic',\n",
    "    finetuned_weights=finetuned_weights,\n",
    "    learning_type='bacp_pruning',\n",
    "    db=False,\n",
    "    )\n",
    "bacp_trainer = BaCPTrainer(bacp_training_args)\n",
    "if TRAIN:\n",
    "    bacp_trainer.train()\n",
    "\n",
    "# Finetuning Phase\n",
    "bacp_trainer.generate_mask_from_model()\n",
    "training_args = TrainingArguments(\n",
    "    model_name=bacp_trainer.model_name,\n",
    "    model_task=bacp_trainer.model_task,\n",
    "    batch_size=bacp_trainer.batch_size,\n",
    "    optimizer_type_and_lr=('adamw', 2e-5),\n",
    "    pruner=bacp_trainer.get_pruner(),\n",
    "    pruning_type=bacp_trainer.pruning_type,\n",
    "    target_sparsity=bacp_trainer.target_sparsity,\n",
    "    finetuned_weights=bacp_trainer.save_path,\n",
    "    finetune=True,\n",
    "    learning_type=\"bacp_finetune\",\n",
    "    epochs=10,\n",
    "    db=False,\n",
    ")\n",
    "trainer = Trainer(training_args)\n",
    "if TRAIN:\n",
    "    trainer.train()\n",
    "\n",
    "metrics = trainer.evaluate()\n",
    "print_statistics(metrics, trainer)\n"
   ]
  },
  {
   "cell_type": "code",
   "execution_count": null,
   "metadata": {
    "application/vnd.databricks.v1+cell": {
     "cellMetadata": {
      "byteLimit": 2048000,
      "rowLimit": 10000
     },
     "inputWidgets": {},
     "nuid": "f5c888ec-97f9-4943-9474-4ef2abfcb87e",
     "showTitle": false,
     "tableResultSettingsMap": {},
     "title": ""
    }
   },
   "outputs": [],
   "source": [
    "finetuned_weights = f\"./research/{MODEL_NAME}/{MODEL_TASK}/{MODEL_NAME}_{MODEL_TASK}_baseline.pt\"\n",
    "\n",
    "bacp_training_args = BaCPTrainingArguments(\n",
    "    model_name=MODEL_NAME,\n",
    "    model_task=MODEL_TASK,\n",
    "    batch_size=BATCH_SIZE_LLM,\n",
    "    optimizer_type_and_lr=('adamw', 1e-5),\n",
    "    pruning_type=\"wanda_pruning\",\n",
    "    target_sparsity=TARGET_SPARSITY_HIGH,\n",
    "    sparsity_scheduler='cubic',\n",
    "    finetuned_weights=finetuned_weights,\n",
    "    learning_type='bacp_pruning',\n",
    "    db=False,\n",
    "    )\n",
    "bacp_trainer = BaCPTrainer(bacp_training_args)\n",
    "if TRAIN:\n",
    "    bacp_trainer.train()\n",
    "\n",
    "# Finetuning Phase\n",
    "bacp_trainer.generate_mask_from_model()\n",
    "training_args = TrainingArguments(\n",
    "    model_name=bacp_trainer.model_name,\n",
    "    model_task=bacp_trainer.model_task,\n",
    "    batch_size=bacp_trainer.batch_size,\n",
    "    optimizer_type_and_lr=('adamw', 2e-5),\n",
    "    pruner=bacp_trainer.get_pruner(),\n",
    "    pruning_type=bacp_trainer.pruning_type,\n",
    "    target_sparsity=bacp_trainer.target_sparsity,\n",
    "    finetuned_weights=bacp_trainer.save_path,\n",
    "    finetune=True,\n",
    "    learning_type=\"bacp_finetune\",\n",
    "    epochs=10,\n",
    "    db=False,\n",
    ")\n",
    "trainer = Trainer(training_args)\n",
    "if TRAIN:\n",
    "    trainer.train()\n",
    "\n",
    "metrics = trainer.evaluate()\n",
    "print_statistics(metrics, trainer)\n"
   ]
  }
 ],
 "metadata": {
  "application/vnd.databricks.v1+notebook": {
   "computePreferences": null,
   "dashboards": [],
   "environmentMetadata": {
    "base_environment": "",
    "environment_version": "2"
   },
   "inputWidgetPreferences": null,
   "language": "python",
   "notebookMetadata": {
    "mostRecentlyExecutedCommandWithImplicitDF": {
     "commandId": 6215900699327025,
     "dataframes": [
      "_sqldf"
     ]
    },
    "pythonIndentUnit": 4
   },
   "notebookName": "RoBERTa_sst2",
   "widgets": {}
  },
  "kernelspec": {
   "display_name": "Python 3",
   "language": "python",
   "name": "python3"
  },
  "language_info": {
   "codemirror_mode": {
    "name": "ipython",
    "version": 3
   },
   "file_extension": ".py",
   "mimetype": "text/x-python",
   "name": "python",
   "nbconvert_exporter": "python",
   "pygments_lexer": "ipython3",
   "version": "3.10.12"
  }
 },
 "nbformat": 4,
 "nbformat_minor": 0
}
